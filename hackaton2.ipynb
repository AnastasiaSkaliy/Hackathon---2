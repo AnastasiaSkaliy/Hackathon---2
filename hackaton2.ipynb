{
  "nbformat": 4,
  "nbformat_minor": 0,
  "metadata": {
    "colab": {
      "provenance": []
    },
    "kernelspec": {
      "name": "python3",
      "display_name": "Python 3"
    },
    "language_info": {
      "name": "python"
    }
  },
  "cells": [
    {
      "cell_type": "markdown",
      "source": [
        "Data Loading and Cleaning:"
      ],
      "metadata": {
        "id": "pj3OiPl6bAQx"
      }
    },
    {
      "cell_type": "markdown",
      "source": [
        "1. Colors"
      ],
      "metadata": {
        "id": "upu4RNPKbG-B"
      }
    },
    {
      "cell_type": "code",
      "execution_count": 96,
      "metadata": {
        "id": "BK0nSMMs_L-M"
      },
      "outputs": [],
      "source": [
        "import pandas as pd"
      ]
    },
    {
      "cell_type": "code",
      "source": [
        "colors_new_data = pd.read_json(r'/colors_new.json')\n",
        "colors_new_data.head()"
      ],
      "metadata": {
        "colab": {
          "base_uri": "https://localhost:8080/",
          "height": 660
        },
        "id": "g6SFWigt_PFc",
        "outputId": "20795c82-10da-4d4d-daa9-c403c0d86a9b"
      },
      "execution_count": 97,
      "outputs": [
        {
          "output_type": "execute_result",
          "data": {
            "text/plain": [
              "         id   title    userName  numViews  numVotes  numComments  numHearts  \\\n",
              "0  10265450   Beyza  MistyAamen         6         0            0          0   \n",
              "1  10265449    Adem  MistyAamen         7         0            0          0   \n",
              "2  10265448   Defne  MistyAamen         7         0            0          0   \n",
              "3  10265447   Milvi  MistyAamen         7         0            0          0   \n",
              "4  10265446  Caarla  MistyAamen         6         0            0          0   \n",
              "\n",
              "   rank          dateCreated     hex                                      rgb  \\\n",
              "0     0  2023-12-28 00:40:45  074871     {'red': 7, 'green': 72, 'blue': 113}   \n",
              "1     0  2023-12-28 00:40:44  36C0BF   {'red': 54, 'green': 192, 'blue': 191}   \n",
              "2     0  2023-12-28 00:40:43  39BFBC   {'red': 57, 'green': 191, 'blue': 188}   \n",
              "3     0  2023-12-28 00:39:34  CD8691  {'red': 205, 'green': 134, 'blue': 145}   \n",
              "4     0  2023-12-28 00:39:32  D08590  {'red': 208, 'green': 133, 'blue': 144}   \n",
              "\n",
              "                                           hsv description  \\\n",
              "0  {'hue': 203, 'saturation': 94, 'value': 44}               \n",
              "1  {'hue': 180, 'saturation': 72, 'value': 75}               \n",
              "2  {'hue': 179, 'saturation': 70, 'value': 75}               \n",
              "3  {'hue': 351, 'saturation': 35, 'value': 80}               \n",
              "4  {'hue': 351, 'saturation': 36, 'value': 82}               \n",
              "\n",
              "                                               url  \\\n",
              "0   http://www.colourlovers.com/color/074871/Beyza   \n",
              "1    http://www.colourlovers.com/color/36C0BF/Adem   \n",
              "2   http://www.colourlovers.com/color/39BFBC/Defne   \n",
              "3   http://www.colourlovers.com/color/CD8691/Milvi   \n",
              "4  http://www.colourlovers.com/color/D08590/Caarla   \n",
              "\n",
              "                                            imageUrl  \\\n",
              "0  http://www.colourlovers.com/img/074871/100/100...   \n",
              "1  http://www.colourlovers.com/img/36C0BF/100/100...   \n",
              "2  http://www.colourlovers.com/img/39BFBC/100/100...   \n",
              "3  http://www.colourlovers.com/img/CD8691/100/100...   \n",
              "4  http://www.colourlovers.com/img/D08590/100/100...   \n",
              "\n",
              "                                            badgeUrl  \\\n",
              "0  http://www.colourlovers.com/images/badges/c/10...   \n",
              "1  http://www.colourlovers.com/images/badges/c/10...   \n",
              "2  http://www.colourlovers.com/images/badges/c/10...   \n",
              "3  http://www.colourlovers.com/images/badges/c/10...   \n",
              "4  http://www.colourlovers.com/images/badges/c/10...   \n",
              "\n",
              "                                         apiUrl  \n",
              "0  http://www.colourlovers.com/api/color/074871  \n",
              "1  http://www.colourlovers.com/api/color/36C0BF  \n",
              "2  http://www.colourlovers.com/api/color/39BFBC  \n",
              "3  http://www.colourlovers.com/api/color/CD8691  \n",
              "4  http://www.colourlovers.com/api/color/D08590  "
            ],
            "text/html": [
              "\n",
              "  <div id=\"df-64b4e3aa-d06d-441b-a194-f0f927fb303a\" class=\"colab-df-container\">\n",
              "    <div>\n",
              "<style scoped>\n",
              "    .dataframe tbody tr th:only-of-type {\n",
              "        vertical-align: middle;\n",
              "    }\n",
              "\n",
              "    .dataframe tbody tr th {\n",
              "        vertical-align: top;\n",
              "    }\n",
              "\n",
              "    .dataframe thead th {\n",
              "        text-align: right;\n",
              "    }\n",
              "</style>\n",
              "<table border=\"1\" class=\"dataframe\">\n",
              "  <thead>\n",
              "    <tr style=\"text-align: right;\">\n",
              "      <th></th>\n",
              "      <th>id</th>\n",
              "      <th>title</th>\n",
              "      <th>userName</th>\n",
              "      <th>numViews</th>\n",
              "      <th>numVotes</th>\n",
              "      <th>numComments</th>\n",
              "      <th>numHearts</th>\n",
              "      <th>rank</th>\n",
              "      <th>dateCreated</th>\n",
              "      <th>hex</th>\n",
              "      <th>rgb</th>\n",
              "      <th>hsv</th>\n",
              "      <th>description</th>\n",
              "      <th>url</th>\n",
              "      <th>imageUrl</th>\n",
              "      <th>badgeUrl</th>\n",
              "      <th>apiUrl</th>\n",
              "    </tr>\n",
              "  </thead>\n",
              "  <tbody>\n",
              "    <tr>\n",
              "      <th>0</th>\n",
              "      <td>10265450</td>\n",
              "      <td>Beyza</td>\n",
              "      <td>MistyAamen</td>\n",
              "      <td>6</td>\n",
              "      <td>0</td>\n",
              "      <td>0</td>\n",
              "      <td>0</td>\n",
              "      <td>0</td>\n",
              "      <td>2023-12-28 00:40:45</td>\n",
              "      <td>074871</td>\n",
              "      <td>{'red': 7, 'green': 72, 'blue': 113}</td>\n",
              "      <td>{'hue': 203, 'saturation': 94, 'value': 44}</td>\n",
              "      <td></td>\n",
              "      <td>http://www.colourlovers.com/color/074871/Beyza</td>\n",
              "      <td>http://www.colourlovers.com/img/074871/100/100...</td>\n",
              "      <td>http://www.colourlovers.com/images/badges/c/10...</td>\n",
              "      <td>http://www.colourlovers.com/api/color/074871</td>\n",
              "    </tr>\n",
              "    <tr>\n",
              "      <th>1</th>\n",
              "      <td>10265449</td>\n",
              "      <td>Adem</td>\n",
              "      <td>MistyAamen</td>\n",
              "      <td>7</td>\n",
              "      <td>0</td>\n",
              "      <td>0</td>\n",
              "      <td>0</td>\n",
              "      <td>0</td>\n",
              "      <td>2023-12-28 00:40:44</td>\n",
              "      <td>36C0BF</td>\n",
              "      <td>{'red': 54, 'green': 192, 'blue': 191}</td>\n",
              "      <td>{'hue': 180, 'saturation': 72, 'value': 75}</td>\n",
              "      <td></td>\n",
              "      <td>http://www.colourlovers.com/color/36C0BF/Adem</td>\n",
              "      <td>http://www.colourlovers.com/img/36C0BF/100/100...</td>\n",
              "      <td>http://www.colourlovers.com/images/badges/c/10...</td>\n",
              "      <td>http://www.colourlovers.com/api/color/36C0BF</td>\n",
              "    </tr>\n",
              "    <tr>\n",
              "      <th>2</th>\n",
              "      <td>10265448</td>\n",
              "      <td>Defne</td>\n",
              "      <td>MistyAamen</td>\n",
              "      <td>7</td>\n",
              "      <td>0</td>\n",
              "      <td>0</td>\n",
              "      <td>0</td>\n",
              "      <td>0</td>\n",
              "      <td>2023-12-28 00:40:43</td>\n",
              "      <td>39BFBC</td>\n",
              "      <td>{'red': 57, 'green': 191, 'blue': 188}</td>\n",
              "      <td>{'hue': 179, 'saturation': 70, 'value': 75}</td>\n",
              "      <td></td>\n",
              "      <td>http://www.colourlovers.com/color/39BFBC/Defne</td>\n",
              "      <td>http://www.colourlovers.com/img/39BFBC/100/100...</td>\n",
              "      <td>http://www.colourlovers.com/images/badges/c/10...</td>\n",
              "      <td>http://www.colourlovers.com/api/color/39BFBC</td>\n",
              "    </tr>\n",
              "    <tr>\n",
              "      <th>3</th>\n",
              "      <td>10265447</td>\n",
              "      <td>Milvi</td>\n",
              "      <td>MistyAamen</td>\n",
              "      <td>7</td>\n",
              "      <td>0</td>\n",
              "      <td>0</td>\n",
              "      <td>0</td>\n",
              "      <td>0</td>\n",
              "      <td>2023-12-28 00:39:34</td>\n",
              "      <td>CD8691</td>\n",
              "      <td>{'red': 205, 'green': 134, 'blue': 145}</td>\n",
              "      <td>{'hue': 351, 'saturation': 35, 'value': 80}</td>\n",
              "      <td></td>\n",
              "      <td>http://www.colourlovers.com/color/CD8691/Milvi</td>\n",
              "      <td>http://www.colourlovers.com/img/CD8691/100/100...</td>\n",
              "      <td>http://www.colourlovers.com/images/badges/c/10...</td>\n",
              "      <td>http://www.colourlovers.com/api/color/CD8691</td>\n",
              "    </tr>\n",
              "    <tr>\n",
              "      <th>4</th>\n",
              "      <td>10265446</td>\n",
              "      <td>Caarla</td>\n",
              "      <td>MistyAamen</td>\n",
              "      <td>6</td>\n",
              "      <td>0</td>\n",
              "      <td>0</td>\n",
              "      <td>0</td>\n",
              "      <td>0</td>\n",
              "      <td>2023-12-28 00:39:32</td>\n",
              "      <td>D08590</td>\n",
              "      <td>{'red': 208, 'green': 133, 'blue': 144}</td>\n",
              "      <td>{'hue': 351, 'saturation': 36, 'value': 82}</td>\n",
              "      <td></td>\n",
              "      <td>http://www.colourlovers.com/color/D08590/Caarla</td>\n",
              "      <td>http://www.colourlovers.com/img/D08590/100/100...</td>\n",
              "      <td>http://www.colourlovers.com/images/badges/c/10...</td>\n",
              "      <td>http://www.colourlovers.com/api/color/D08590</td>\n",
              "    </tr>\n",
              "  </tbody>\n",
              "</table>\n",
              "</div>\n",
              "    <div class=\"colab-df-buttons\">\n",
              "\n",
              "  <div class=\"colab-df-container\">\n",
              "    <button class=\"colab-df-convert\" onclick=\"convertToInteractive('df-64b4e3aa-d06d-441b-a194-f0f927fb303a')\"\n",
              "            title=\"Convert this dataframe to an interactive table.\"\n",
              "            style=\"display:none;\">\n",
              "\n",
              "  <svg xmlns=\"http://www.w3.org/2000/svg\" height=\"24px\" viewBox=\"0 -960 960 960\">\n",
              "    <path d=\"M120-120v-720h720v720H120Zm60-500h600v-160H180v160Zm220 220h160v-160H400v160Zm0 220h160v-160H400v160ZM180-400h160v-160H180v160Zm440 0h160v-160H620v160ZM180-180h160v-160H180v160Zm440 0h160v-160H620v160Z\"/>\n",
              "  </svg>\n",
              "    </button>\n",
              "\n",
              "  <style>\n",
              "    .colab-df-container {\n",
              "      display:flex;\n",
              "      gap: 12px;\n",
              "    }\n",
              "\n",
              "    .colab-df-convert {\n",
              "      background-color: #E8F0FE;\n",
              "      border: none;\n",
              "      border-radius: 50%;\n",
              "      cursor: pointer;\n",
              "      display: none;\n",
              "      fill: #1967D2;\n",
              "      height: 32px;\n",
              "      padding: 0 0 0 0;\n",
              "      width: 32px;\n",
              "    }\n",
              "\n",
              "    .colab-df-convert:hover {\n",
              "      background-color: #E2EBFA;\n",
              "      box-shadow: 0px 1px 2px rgba(60, 64, 67, 0.3), 0px 1px 3px 1px rgba(60, 64, 67, 0.15);\n",
              "      fill: #174EA6;\n",
              "    }\n",
              "\n",
              "    .colab-df-buttons div {\n",
              "      margin-bottom: 4px;\n",
              "    }\n",
              "\n",
              "    [theme=dark] .colab-df-convert {\n",
              "      background-color: #3B4455;\n",
              "      fill: #D2E3FC;\n",
              "    }\n",
              "\n",
              "    [theme=dark] .colab-df-convert:hover {\n",
              "      background-color: #434B5C;\n",
              "      box-shadow: 0px 1px 3px 1px rgba(0, 0, 0, 0.15);\n",
              "      filter: drop-shadow(0px 1px 2px rgba(0, 0, 0, 0.3));\n",
              "      fill: #FFFFFF;\n",
              "    }\n",
              "  </style>\n",
              "\n",
              "    <script>\n",
              "      const buttonEl =\n",
              "        document.querySelector('#df-64b4e3aa-d06d-441b-a194-f0f927fb303a button.colab-df-convert');\n",
              "      buttonEl.style.display =\n",
              "        google.colab.kernel.accessAllowed ? 'block' : 'none';\n",
              "\n",
              "      async function convertToInteractive(key) {\n",
              "        const element = document.querySelector('#df-64b4e3aa-d06d-441b-a194-f0f927fb303a');\n",
              "        const dataTable =\n",
              "          await google.colab.kernel.invokeFunction('convertToInteractive',\n",
              "                                                    [key], {});\n",
              "        if (!dataTable) return;\n",
              "\n",
              "        const docLinkHtml = 'Like what you see? Visit the ' +\n",
              "          '<a target=\"_blank\" href=https://colab.research.google.com/notebooks/data_table.ipynb>data table notebook</a>'\n",
              "          + ' to learn more about interactive tables.';\n",
              "        element.innerHTML = '';\n",
              "        dataTable['output_type'] = 'display_data';\n",
              "        await google.colab.output.renderOutput(dataTable, element);\n",
              "        const docLink = document.createElement('div');\n",
              "        docLink.innerHTML = docLinkHtml;\n",
              "        element.appendChild(docLink);\n",
              "      }\n",
              "    </script>\n",
              "  </div>\n",
              "\n",
              "\n",
              "<div id=\"df-9489f064-5f0c-4428-8e5d-66cd87f116f2\">\n",
              "  <button class=\"colab-df-quickchart\" onclick=\"quickchart('df-9489f064-5f0c-4428-8e5d-66cd87f116f2')\"\n",
              "            title=\"Suggest charts\"\n",
              "            style=\"display:none;\">\n",
              "\n",
              "<svg xmlns=\"http://www.w3.org/2000/svg\" height=\"24px\"viewBox=\"0 0 24 24\"\n",
              "     width=\"24px\">\n",
              "    <g>\n",
              "        <path d=\"M19 3H5c-1.1 0-2 .9-2 2v14c0 1.1.9 2 2 2h14c1.1 0 2-.9 2-2V5c0-1.1-.9-2-2-2zM9 17H7v-7h2v7zm4 0h-2V7h2v10zm4 0h-2v-4h2v4z\"/>\n",
              "    </g>\n",
              "</svg>\n",
              "  </button>\n",
              "\n",
              "<style>\n",
              "  .colab-df-quickchart {\n",
              "      --bg-color: #E8F0FE;\n",
              "      --fill-color: #1967D2;\n",
              "      --hover-bg-color: #E2EBFA;\n",
              "      --hover-fill-color: #174EA6;\n",
              "      --disabled-fill-color: #AAA;\n",
              "      --disabled-bg-color: #DDD;\n",
              "  }\n",
              "\n",
              "  [theme=dark] .colab-df-quickchart {\n",
              "      --bg-color: #3B4455;\n",
              "      --fill-color: #D2E3FC;\n",
              "      --hover-bg-color: #434B5C;\n",
              "      --hover-fill-color: #FFFFFF;\n",
              "      --disabled-bg-color: #3B4455;\n",
              "      --disabled-fill-color: #666;\n",
              "  }\n",
              "\n",
              "  .colab-df-quickchart {\n",
              "    background-color: var(--bg-color);\n",
              "    border: none;\n",
              "    border-radius: 50%;\n",
              "    cursor: pointer;\n",
              "    display: none;\n",
              "    fill: var(--fill-color);\n",
              "    height: 32px;\n",
              "    padding: 0;\n",
              "    width: 32px;\n",
              "  }\n",
              "\n",
              "  .colab-df-quickchart:hover {\n",
              "    background-color: var(--hover-bg-color);\n",
              "    box-shadow: 0 1px 2px rgba(60, 64, 67, 0.3), 0 1px 3px 1px rgba(60, 64, 67, 0.15);\n",
              "    fill: var(--button-hover-fill-color);\n",
              "  }\n",
              "\n",
              "  .colab-df-quickchart-complete:disabled,\n",
              "  .colab-df-quickchart-complete:disabled:hover {\n",
              "    background-color: var(--disabled-bg-color);\n",
              "    fill: var(--disabled-fill-color);\n",
              "    box-shadow: none;\n",
              "  }\n",
              "\n",
              "  .colab-df-spinner {\n",
              "    border: 2px solid var(--fill-color);\n",
              "    border-color: transparent;\n",
              "    border-bottom-color: var(--fill-color);\n",
              "    animation:\n",
              "      spin 1s steps(1) infinite;\n",
              "  }\n",
              "\n",
              "  @keyframes spin {\n",
              "    0% {\n",
              "      border-color: transparent;\n",
              "      border-bottom-color: var(--fill-color);\n",
              "      border-left-color: var(--fill-color);\n",
              "    }\n",
              "    20% {\n",
              "      border-color: transparent;\n",
              "      border-left-color: var(--fill-color);\n",
              "      border-top-color: var(--fill-color);\n",
              "    }\n",
              "    30% {\n",
              "      border-color: transparent;\n",
              "      border-left-color: var(--fill-color);\n",
              "      border-top-color: var(--fill-color);\n",
              "      border-right-color: var(--fill-color);\n",
              "    }\n",
              "    40% {\n",
              "      border-color: transparent;\n",
              "      border-right-color: var(--fill-color);\n",
              "      border-top-color: var(--fill-color);\n",
              "    }\n",
              "    60% {\n",
              "      border-color: transparent;\n",
              "      border-right-color: var(--fill-color);\n",
              "    }\n",
              "    80% {\n",
              "      border-color: transparent;\n",
              "      border-right-color: var(--fill-color);\n",
              "      border-bottom-color: var(--fill-color);\n",
              "    }\n",
              "    90% {\n",
              "      border-color: transparent;\n",
              "      border-bottom-color: var(--fill-color);\n",
              "    }\n",
              "  }\n",
              "</style>\n",
              "\n",
              "  <script>\n",
              "    async function quickchart(key) {\n",
              "      const quickchartButtonEl =\n",
              "        document.querySelector('#' + key + ' button');\n",
              "      quickchartButtonEl.disabled = true;  // To prevent multiple clicks.\n",
              "      quickchartButtonEl.classList.add('colab-df-spinner');\n",
              "      try {\n",
              "        const charts = await google.colab.kernel.invokeFunction(\n",
              "            'suggestCharts', [key], {});\n",
              "      } catch (error) {\n",
              "        console.error('Error during call to suggestCharts:', error);\n",
              "      }\n",
              "      quickchartButtonEl.classList.remove('colab-df-spinner');\n",
              "      quickchartButtonEl.classList.add('colab-df-quickchart-complete');\n",
              "    }\n",
              "    (() => {\n",
              "      let quickchartButtonEl =\n",
              "        document.querySelector('#df-9489f064-5f0c-4428-8e5d-66cd87f116f2 button');\n",
              "      quickchartButtonEl.style.display =\n",
              "        google.colab.kernel.accessAllowed ? 'block' : 'none';\n",
              "    })();\n",
              "  </script>\n",
              "</div>\n",
              "\n",
              "    </div>\n",
              "  </div>\n"
            ]
          },
          "metadata": {},
          "execution_count": 97
        }
      ]
    },
    {
      "cell_type": "code",
      "source": [
        "colors_new_data.info()"
      ],
      "metadata": {
        "colab": {
          "base_uri": "https://localhost:8080/"
        },
        "id": "K1n38zoibxPh",
        "outputId": "2cbab5ab-55bf-40d5-8b26-069169b0f24c"
      },
      "execution_count": 98,
      "outputs": [
        {
          "output_type": "stream",
          "name": "stdout",
          "text": [
            "<class 'pandas.core.frame.DataFrame'>\n",
            "RangeIndex: 5900 entries, 0 to 5899\n",
            "Data columns (total 17 columns):\n",
            " #   Column       Non-Null Count  Dtype \n",
            "---  ------       --------------  ----- \n",
            " 0   id           5900 non-null   int64 \n",
            " 1   title        5900 non-null   object\n",
            " 2   userName     5900 non-null   object\n",
            " 3   numViews     5900 non-null   int64 \n",
            " 4   numVotes     5900 non-null   int64 \n",
            " 5   numComments  5900 non-null   int64 \n",
            " 6   numHearts    5900 non-null   int64 \n",
            " 7   rank         5900 non-null   int64 \n",
            " 8   dateCreated  5900 non-null   object\n",
            " 9   hex          5900 non-null   object\n",
            " 10  rgb          5900 non-null   object\n",
            " 11  hsv          5900 non-null   object\n",
            " 12  description  5900 non-null   object\n",
            " 13  url          5900 non-null   object\n",
            " 14  imageUrl     5900 non-null   object\n",
            " 15  badgeUrl     5900 non-null   object\n",
            " 16  apiUrl       5900 non-null   object\n",
            "dtypes: int64(6), object(11)\n",
            "memory usage: 783.7+ KB\n"
          ]
        }
      ]
    },
    {
      "cell_type": "markdown",
      "source": [
        "We can observe 5900 newly added colors, no missing data detected."
      ],
      "metadata": {
        "id": "UwSiDPs0fMxA"
      }
    },
    {
      "cell_type": "code",
      "source": [
        "colors_new_data.columns"
      ],
      "metadata": {
        "colab": {
          "base_uri": "https://localhost:8080/"
        },
        "id": "TbQ_fiZBfeHs",
        "outputId": "501ac784-cf79-4465-ce75-17963f2eb265"
      },
      "execution_count": 99,
      "outputs": [
        {
          "output_type": "execute_result",
          "data": {
            "text/plain": [
              "Index(['id', 'title', 'userName', 'numViews', 'numVotes', 'numComments',\n",
              "       'numHearts', 'rank', 'dateCreated', 'hex', 'rgb', 'hsv', 'description',\n",
              "       'url', 'imageUrl', 'badgeUrl', 'apiUrl'],\n",
              "      dtype='object')"
            ]
          },
          "metadata": {},
          "execution_count": 99
        }
      ]
    },
    {
      "cell_type": "markdown",
      "source": [
        "What data do we have about each color:\n",
        "id\t- Unique id for this Color\n",
        "title\t- Title / Name of the Color CDATA\n",
        "userName -\tUsername of the Color's creator CDATA\n",
        "numViews -\tNumber of views this Color has received\n",
        "numVotes -\tNumber of votes this Color has received\n",
        "numComments\t- Number of comments this Color has received\n",
        "numHearts -\tNumber of hearts this Color has\n",
        "rank- This Color's rank on COLOURlovers.com\n",
        "dateCreated -\tDate this Color was created\n",
        "\n",
        "hex\t- This Color's hex value\n",
        "(Color-hex gives information about colors including color models (RGB,HSL,HSV and CMYK), Triadic colors, monochromatic colors and analogous colors calculated in color page. Color-hex.com also generates a simple css code for the selected color. Html element samples are also shown below the color detail page. Simply type the 6 digit color code in the box above and hit enter.)\n",
        "\n",
        "rgb\t- RGB breakdown of this Color\n",
        "     red\tRed value\n",
        "     green\tGreen value\n",
        "     blue\tBlue value\n",
        "(The RGB color model is an additive color model in which the red, green and blue primary colors of light are added together in various ways to reproduce a broad array of colors.)\n",
        "\n",
        "hsv\tHSV breakdown of this color\n",
        "     hue\tHue value\n",
        "     saturation\tSaturation value\n",
        "     value\tValue / Balance value\n",
        "\n",
        "(HSV Color Model\n",
        "Hue is the color portion of the model, expressed as a number from 0 to 360 degrees:\n",
        "\n",
        "Red falls between 0 and 60 degrees.\n",
        "Yellow falls between 61 and 120 degrees.\n",
        "Green falls between 121 and 180 degrees.\n",
        "Cyan falls between 181 and 240 degrees.\n",
        "Blue falls between 241 and 300 degrees.\n",
        "Magenta falls between 301 and 360 degrees.\n",
        "\n",
        "\n",
        "Saturation describes the amount of gray in a particular color, from 0 to 100 percent\n",
        "\n",
        "Value (or Brightness) - from 0 to 100 percent, where 0 is completely black, and 100 is the brightest and reveals the most color.)\n",
        "\n",
        "description\t- This Color's description CDATA\n",
        "url\t- This Color's COLOURlovers.com URL CDATA\n",
        "imageUrl- Link to a png version of this Color CDATA\n",
        "badgeUrl\t- Link to a COLOURlovers.com badge for this Color CDATA\n",
        "apiUrl -\tThis Color's COLOURlovers.com API URL CDATA\n"
      ],
      "metadata": {
        "id": "KhVt-O5PgUKA"
      }
    },
    {
      "cell_type": "code",
      "source": [
        "#Check what column types we have\n",
        "colors_new_data.dtypes"
      ],
      "metadata": {
        "colab": {
          "base_uri": "https://localhost:8080/"
        },
        "id": "h2aw1ge4gGWg",
        "outputId": "d89eb7a4-6ad9-4e5b-b79e-3235b1444cb6"
      },
      "execution_count": 100,
      "outputs": [
        {
          "output_type": "execute_result",
          "data": {
            "text/plain": [
              "id              int64\n",
              "title          object\n",
              "userName       object\n",
              "numViews        int64\n",
              "numVotes        int64\n",
              "numComments     int64\n",
              "numHearts       int64\n",
              "rank            int64\n",
              "dateCreated    object\n",
              "hex            object\n",
              "rgb            object\n",
              "hsv            object\n",
              "description    object\n",
              "url            object\n",
              "imageUrl       object\n",
              "badgeUrl       object\n",
              "apiUrl         object\n",
              "dtype: object"
            ]
          },
          "metadata": {},
          "execution_count": 100
        }
      ]
    },
    {
      "cell_type": "markdown",
      "source": [
        "Convert the date format."
      ],
      "metadata": {
        "id": "KMbIDa9YkaX3"
      }
    },
    {
      "cell_type": "code",
      "source": [
        "colors_new_data['dateCreated'] = pd.to_datetime(colors_new_data['dateCreated'], errors='coerce')\n",
        "colors_new_data['dateCreated'] = colors_new_data['dateCreated'].dt.strftime('%Y-%m-%d')\n"
      ],
      "metadata": {
        "id": "cUfHU29Qn7DD"
      },
      "execution_count": 101,
      "outputs": []
    },
    {
      "cell_type": "code",
      "source": [
        "colors_new_data.dtypes"
      ],
      "metadata": {
        "colab": {
          "base_uri": "https://localhost:8080/"
        },
        "id": "BUxLXzEhoOC8",
        "outputId": "ae5608dd-9f56-4382-e4e9-fab2622f9a0f"
      },
      "execution_count": 102,
      "outputs": [
        {
          "output_type": "execute_result",
          "data": {
            "text/plain": [
              "id              int64\n",
              "title          object\n",
              "userName       object\n",
              "numViews        int64\n",
              "numVotes        int64\n",
              "numComments     int64\n",
              "numHearts       int64\n",
              "rank            int64\n",
              "dateCreated    object\n",
              "hex            object\n",
              "rgb            object\n",
              "hsv            object\n",
              "description    object\n",
              "url            object\n",
              "imageUrl       object\n",
              "badgeUrl       object\n",
              "apiUrl         object\n",
              "dtype: object"
            ]
          },
          "metadata": {},
          "execution_count": 102
        }
      ]
    },
    {
      "cell_type": "code",
      "source": [
        "colors_new_data['dateCreated'] = pd.to_datetime(colors_new_data['dateCreated'], errors='coerce')\n",
        "\n",
        "# Check for rows where conversion failed\n",
        "failed_conversion = colors_new_data['dateCreated'][colors_new_data['dateCreated'].isnull()]\n",
        "failed_conversion"
      ],
      "metadata": {
        "colab": {
          "base_uri": "https://localhost:8080/"
        },
        "id": "lF3RwzmnoWV4",
        "outputId": "ce3d2a41-427f-407c-e98b-baad5baeb072"
      },
      "execution_count": 103,
      "outputs": [
        {
          "output_type": "execute_result",
          "data": {
            "text/plain": [
              "Series([], Name: dateCreated, dtype: datetime64[ns])"
            ]
          },
          "metadata": {},
          "execution_count": 103
        }
      ]
    },
    {
      "cell_type": "code",
      "source": [
        "colors_new_data.dtypes # Check"
      ],
      "metadata": {
        "colab": {
          "base_uri": "https://localhost:8080/"
        },
        "id": "E-Nrt8lFoYfb",
        "outputId": "6bf00031-12cd-46e9-a247-9a20783498ff"
      },
      "execution_count": 104,
      "outputs": [
        {
          "output_type": "execute_result",
          "data": {
            "text/plain": [
              "id                      int64\n",
              "title                  object\n",
              "userName               object\n",
              "numViews                int64\n",
              "numVotes                int64\n",
              "numComments             int64\n",
              "numHearts               int64\n",
              "rank                    int64\n",
              "dateCreated    datetime64[ns]\n",
              "hex                    object\n",
              "rgb                    object\n",
              "hsv                    object\n",
              "description            object\n",
              "url                    object\n",
              "imageUrl               object\n",
              "badgeUrl               object\n",
              "apiUrl                 object\n",
              "dtype: object"
            ]
          },
          "metadata": {},
          "execution_count": 104
        }
      ]
    },
    {
      "cell_type": "markdown",
      "source": [
        "Now let's drop duplicates and check for missing data."
      ],
      "metadata": {
        "id": "LZ9nEINdondf"
      }
    },
    {
      "cell_type": "code",
      "source": [
        "colors_new_data.drop_duplicates(subset=['userName'], keep='first', inplace=True) #drop duplicates"
      ],
      "metadata": {
        "id": "ItrJ4AnziH1E"
      },
      "execution_count": 105,
      "outputs": []
    },
    {
      "cell_type": "code",
      "source": [
        "colors_new_data.isnull().sum() #missing data check"
      ],
      "metadata": {
        "colab": {
          "base_uri": "https://localhost:8080/"
        },
        "id": "_0AwlluwrB4L",
        "outputId": "f0a2d6aa-40db-47db-f484-66e30209570a"
      },
      "execution_count": 106,
      "outputs": [
        {
          "output_type": "execute_result",
          "data": {
            "text/plain": [
              "id             0\n",
              "title          0\n",
              "userName       0\n",
              "numViews       0\n",
              "numVotes       0\n",
              "numComments    0\n",
              "numHearts      0\n",
              "rank           0\n",
              "dateCreated    0\n",
              "hex            0\n",
              "rgb            0\n",
              "hsv            0\n",
              "description    0\n",
              "url            0\n",
              "imageUrl       0\n",
              "badgeUrl       0\n",
              "apiUrl         0\n",
              "dtype: int64"
            ]
          },
          "metadata": {},
          "execution_count": 106
        }
      ]
    },
    {
      "cell_type": "markdown",
      "source": [
        "No missind data detected"
      ],
      "metadata": {
        "id": "ofpv1IoyrSQg"
      }
    },
    {
      "cell_type": "markdown",
      "source": [
        "Exploratory Data Analysis (EDA):"
      ],
      "metadata": {
        "id": "iqx0_OurrbF3"
      }
    },
    {
      "cell_type": "code",
      "source": [
        "colors_new_data.describe()"
      ],
      "metadata": {
        "colab": {
          "base_uri": "https://localhost:8080/",
          "height": 300
        },
        "id": "7MskscCprdY_",
        "outputId": "9f5e15db-c917-4a44-f5df-694c8f89f51b"
      },
      "execution_count": 107,
      "outputs": [
        {
          "output_type": "execute_result",
          "data": {
            "text/plain": [
              "                 id    numViews    numVotes  numComments  numHearts   rank\n",
              "count  2.260000e+02  226.000000  226.000000        226.0      226.0  226.0\n",
              "mean   1.024613e+07   12.070796    0.106195          0.0        0.0    0.0\n",
              "std    2.513005e+05    9.272868    0.349293          0.0        0.0    0.0\n",
              "min    6.485059e+06    0.000000    0.000000          0.0        0.0    0.0\n",
              "25%    1.026138e+07    6.000000    0.000000          0.0        0.0    0.0\n",
              "50%    1.026287e+07   10.000000    0.000000          0.0        0.0    0.0\n",
              "75%    1.026445e+07   15.000000    0.000000          0.0        0.0    0.0\n",
              "max    1.026545e+07   70.000000    2.000000          0.0        0.0    0.0"
            ],
            "text/html": [
              "\n",
              "  <div id=\"df-9e0ee950-20f8-40ee-8e37-609ed5495cf1\" class=\"colab-df-container\">\n",
              "    <div>\n",
              "<style scoped>\n",
              "    .dataframe tbody tr th:only-of-type {\n",
              "        vertical-align: middle;\n",
              "    }\n",
              "\n",
              "    .dataframe tbody tr th {\n",
              "        vertical-align: top;\n",
              "    }\n",
              "\n",
              "    .dataframe thead th {\n",
              "        text-align: right;\n",
              "    }\n",
              "</style>\n",
              "<table border=\"1\" class=\"dataframe\">\n",
              "  <thead>\n",
              "    <tr style=\"text-align: right;\">\n",
              "      <th></th>\n",
              "      <th>id</th>\n",
              "      <th>numViews</th>\n",
              "      <th>numVotes</th>\n",
              "      <th>numComments</th>\n",
              "      <th>numHearts</th>\n",
              "      <th>rank</th>\n",
              "    </tr>\n",
              "  </thead>\n",
              "  <tbody>\n",
              "    <tr>\n",
              "      <th>count</th>\n",
              "      <td>2.260000e+02</td>\n",
              "      <td>226.000000</td>\n",
              "      <td>226.000000</td>\n",
              "      <td>226.0</td>\n",
              "      <td>226.0</td>\n",
              "      <td>226.0</td>\n",
              "    </tr>\n",
              "    <tr>\n",
              "      <th>mean</th>\n",
              "      <td>1.024613e+07</td>\n",
              "      <td>12.070796</td>\n",
              "      <td>0.106195</td>\n",
              "      <td>0.0</td>\n",
              "      <td>0.0</td>\n",
              "      <td>0.0</td>\n",
              "    </tr>\n",
              "    <tr>\n",
              "      <th>std</th>\n",
              "      <td>2.513005e+05</td>\n",
              "      <td>9.272868</td>\n",
              "      <td>0.349293</td>\n",
              "      <td>0.0</td>\n",
              "      <td>0.0</td>\n",
              "      <td>0.0</td>\n",
              "    </tr>\n",
              "    <tr>\n",
              "      <th>min</th>\n",
              "      <td>6.485059e+06</td>\n",
              "      <td>0.000000</td>\n",
              "      <td>0.000000</td>\n",
              "      <td>0.0</td>\n",
              "      <td>0.0</td>\n",
              "      <td>0.0</td>\n",
              "    </tr>\n",
              "    <tr>\n",
              "      <th>25%</th>\n",
              "      <td>1.026138e+07</td>\n",
              "      <td>6.000000</td>\n",
              "      <td>0.000000</td>\n",
              "      <td>0.0</td>\n",
              "      <td>0.0</td>\n",
              "      <td>0.0</td>\n",
              "    </tr>\n",
              "    <tr>\n",
              "      <th>50%</th>\n",
              "      <td>1.026287e+07</td>\n",
              "      <td>10.000000</td>\n",
              "      <td>0.000000</td>\n",
              "      <td>0.0</td>\n",
              "      <td>0.0</td>\n",
              "      <td>0.0</td>\n",
              "    </tr>\n",
              "    <tr>\n",
              "      <th>75%</th>\n",
              "      <td>1.026445e+07</td>\n",
              "      <td>15.000000</td>\n",
              "      <td>0.000000</td>\n",
              "      <td>0.0</td>\n",
              "      <td>0.0</td>\n",
              "      <td>0.0</td>\n",
              "    </tr>\n",
              "    <tr>\n",
              "      <th>max</th>\n",
              "      <td>1.026545e+07</td>\n",
              "      <td>70.000000</td>\n",
              "      <td>2.000000</td>\n",
              "      <td>0.0</td>\n",
              "      <td>0.0</td>\n",
              "      <td>0.0</td>\n",
              "    </tr>\n",
              "  </tbody>\n",
              "</table>\n",
              "</div>\n",
              "    <div class=\"colab-df-buttons\">\n",
              "\n",
              "  <div class=\"colab-df-container\">\n",
              "    <button class=\"colab-df-convert\" onclick=\"convertToInteractive('df-9e0ee950-20f8-40ee-8e37-609ed5495cf1')\"\n",
              "            title=\"Convert this dataframe to an interactive table.\"\n",
              "            style=\"display:none;\">\n",
              "\n",
              "  <svg xmlns=\"http://www.w3.org/2000/svg\" height=\"24px\" viewBox=\"0 -960 960 960\">\n",
              "    <path d=\"M120-120v-720h720v720H120Zm60-500h600v-160H180v160Zm220 220h160v-160H400v160Zm0 220h160v-160H400v160ZM180-400h160v-160H180v160Zm440 0h160v-160H620v160ZM180-180h160v-160H180v160Zm440 0h160v-160H620v160Z\"/>\n",
              "  </svg>\n",
              "    </button>\n",
              "\n",
              "  <style>\n",
              "    .colab-df-container {\n",
              "      display:flex;\n",
              "      gap: 12px;\n",
              "    }\n",
              "\n",
              "    .colab-df-convert {\n",
              "      background-color: #E8F0FE;\n",
              "      border: none;\n",
              "      border-radius: 50%;\n",
              "      cursor: pointer;\n",
              "      display: none;\n",
              "      fill: #1967D2;\n",
              "      height: 32px;\n",
              "      padding: 0 0 0 0;\n",
              "      width: 32px;\n",
              "    }\n",
              "\n",
              "    .colab-df-convert:hover {\n",
              "      background-color: #E2EBFA;\n",
              "      box-shadow: 0px 1px 2px rgba(60, 64, 67, 0.3), 0px 1px 3px 1px rgba(60, 64, 67, 0.15);\n",
              "      fill: #174EA6;\n",
              "    }\n",
              "\n",
              "    .colab-df-buttons div {\n",
              "      margin-bottom: 4px;\n",
              "    }\n",
              "\n",
              "    [theme=dark] .colab-df-convert {\n",
              "      background-color: #3B4455;\n",
              "      fill: #D2E3FC;\n",
              "    }\n",
              "\n",
              "    [theme=dark] .colab-df-convert:hover {\n",
              "      background-color: #434B5C;\n",
              "      box-shadow: 0px 1px 3px 1px rgba(0, 0, 0, 0.15);\n",
              "      filter: drop-shadow(0px 1px 2px rgba(0, 0, 0, 0.3));\n",
              "      fill: #FFFFFF;\n",
              "    }\n",
              "  </style>\n",
              "\n",
              "    <script>\n",
              "      const buttonEl =\n",
              "        document.querySelector('#df-9e0ee950-20f8-40ee-8e37-609ed5495cf1 button.colab-df-convert');\n",
              "      buttonEl.style.display =\n",
              "        google.colab.kernel.accessAllowed ? 'block' : 'none';\n",
              "\n",
              "      async function convertToInteractive(key) {\n",
              "        const element = document.querySelector('#df-9e0ee950-20f8-40ee-8e37-609ed5495cf1');\n",
              "        const dataTable =\n",
              "          await google.colab.kernel.invokeFunction('convertToInteractive',\n",
              "                                                    [key], {});\n",
              "        if (!dataTable) return;\n",
              "\n",
              "        const docLinkHtml = 'Like what you see? Visit the ' +\n",
              "          '<a target=\"_blank\" href=https://colab.research.google.com/notebooks/data_table.ipynb>data table notebook</a>'\n",
              "          + ' to learn more about interactive tables.';\n",
              "        element.innerHTML = '';\n",
              "        dataTable['output_type'] = 'display_data';\n",
              "        await google.colab.output.renderOutput(dataTable, element);\n",
              "        const docLink = document.createElement('div');\n",
              "        docLink.innerHTML = docLinkHtml;\n",
              "        element.appendChild(docLink);\n",
              "      }\n",
              "    </script>\n",
              "  </div>\n",
              "\n",
              "\n",
              "<div id=\"df-7cd859e2-d72c-4a25-8662-c8be9ab113cb\">\n",
              "  <button class=\"colab-df-quickchart\" onclick=\"quickchart('df-7cd859e2-d72c-4a25-8662-c8be9ab113cb')\"\n",
              "            title=\"Suggest charts\"\n",
              "            style=\"display:none;\">\n",
              "\n",
              "<svg xmlns=\"http://www.w3.org/2000/svg\" height=\"24px\"viewBox=\"0 0 24 24\"\n",
              "     width=\"24px\">\n",
              "    <g>\n",
              "        <path d=\"M19 3H5c-1.1 0-2 .9-2 2v14c0 1.1.9 2 2 2h14c1.1 0 2-.9 2-2V5c0-1.1-.9-2-2-2zM9 17H7v-7h2v7zm4 0h-2V7h2v10zm4 0h-2v-4h2v4z\"/>\n",
              "    </g>\n",
              "</svg>\n",
              "  </button>\n",
              "\n",
              "<style>\n",
              "  .colab-df-quickchart {\n",
              "      --bg-color: #E8F0FE;\n",
              "      --fill-color: #1967D2;\n",
              "      --hover-bg-color: #E2EBFA;\n",
              "      --hover-fill-color: #174EA6;\n",
              "      --disabled-fill-color: #AAA;\n",
              "      --disabled-bg-color: #DDD;\n",
              "  }\n",
              "\n",
              "  [theme=dark] .colab-df-quickchart {\n",
              "      --bg-color: #3B4455;\n",
              "      --fill-color: #D2E3FC;\n",
              "      --hover-bg-color: #434B5C;\n",
              "      --hover-fill-color: #FFFFFF;\n",
              "      --disabled-bg-color: #3B4455;\n",
              "      --disabled-fill-color: #666;\n",
              "  }\n",
              "\n",
              "  .colab-df-quickchart {\n",
              "    background-color: var(--bg-color);\n",
              "    border: none;\n",
              "    border-radius: 50%;\n",
              "    cursor: pointer;\n",
              "    display: none;\n",
              "    fill: var(--fill-color);\n",
              "    height: 32px;\n",
              "    padding: 0;\n",
              "    width: 32px;\n",
              "  }\n",
              "\n",
              "  .colab-df-quickchart:hover {\n",
              "    background-color: var(--hover-bg-color);\n",
              "    box-shadow: 0 1px 2px rgba(60, 64, 67, 0.3), 0 1px 3px 1px rgba(60, 64, 67, 0.15);\n",
              "    fill: var(--button-hover-fill-color);\n",
              "  }\n",
              "\n",
              "  .colab-df-quickchart-complete:disabled,\n",
              "  .colab-df-quickchart-complete:disabled:hover {\n",
              "    background-color: var(--disabled-bg-color);\n",
              "    fill: var(--disabled-fill-color);\n",
              "    box-shadow: none;\n",
              "  }\n",
              "\n",
              "  .colab-df-spinner {\n",
              "    border: 2px solid var(--fill-color);\n",
              "    border-color: transparent;\n",
              "    border-bottom-color: var(--fill-color);\n",
              "    animation:\n",
              "      spin 1s steps(1) infinite;\n",
              "  }\n",
              "\n",
              "  @keyframes spin {\n",
              "    0% {\n",
              "      border-color: transparent;\n",
              "      border-bottom-color: var(--fill-color);\n",
              "      border-left-color: var(--fill-color);\n",
              "    }\n",
              "    20% {\n",
              "      border-color: transparent;\n",
              "      border-left-color: var(--fill-color);\n",
              "      border-top-color: var(--fill-color);\n",
              "    }\n",
              "    30% {\n",
              "      border-color: transparent;\n",
              "      border-left-color: var(--fill-color);\n",
              "      border-top-color: var(--fill-color);\n",
              "      border-right-color: var(--fill-color);\n",
              "    }\n",
              "    40% {\n",
              "      border-color: transparent;\n",
              "      border-right-color: var(--fill-color);\n",
              "      border-top-color: var(--fill-color);\n",
              "    }\n",
              "    60% {\n",
              "      border-color: transparent;\n",
              "      border-right-color: var(--fill-color);\n",
              "    }\n",
              "    80% {\n",
              "      border-color: transparent;\n",
              "      border-right-color: var(--fill-color);\n",
              "      border-bottom-color: var(--fill-color);\n",
              "    }\n",
              "    90% {\n",
              "      border-color: transparent;\n",
              "      border-bottom-color: var(--fill-color);\n",
              "    }\n",
              "  }\n",
              "</style>\n",
              "\n",
              "  <script>\n",
              "    async function quickchart(key) {\n",
              "      const quickchartButtonEl =\n",
              "        document.querySelector('#' + key + ' button');\n",
              "      quickchartButtonEl.disabled = true;  // To prevent multiple clicks.\n",
              "      quickchartButtonEl.classList.add('colab-df-spinner');\n",
              "      try {\n",
              "        const charts = await google.colab.kernel.invokeFunction(\n",
              "            'suggestCharts', [key], {});\n",
              "      } catch (error) {\n",
              "        console.error('Error during call to suggestCharts:', error);\n",
              "      }\n",
              "      quickchartButtonEl.classList.remove('colab-df-spinner');\n",
              "      quickchartButtonEl.classList.add('colab-df-quickchart-complete');\n",
              "    }\n",
              "    (() => {\n",
              "      let quickchartButtonEl =\n",
              "        document.querySelector('#df-7cd859e2-d72c-4a25-8662-c8be9ab113cb button');\n",
              "      quickchartButtonEl.style.display =\n",
              "        google.colab.kernel.accessAllowed ? 'block' : 'none';\n",
              "    })();\n",
              "  </script>\n",
              "</div>\n",
              "\n",
              "    </div>\n",
              "  </div>\n"
            ]
          },
          "metadata": {},
          "execution_count": 107
        }
      ]
    },
    {
      "cell_type": "markdown",
      "source": [
        "Let's explore newly added colors."
      ],
      "metadata": {
        "id": "v1Gzf-irsU9r"
      }
    },
    {
      "cell_type": "markdown",
      "source": [
        "Let's explore how much colors people add in average every month. I'll check how much colors were added in December. (because i have only one full month and from November 10th)"
      ],
      "metadata": {
        "id": "ZK_xyabY4S8Q"
      }
    },
    {
      "cell_type": "code",
      "source": [
        "december_data = colors_new_data[(colors_new_data['dateCreated'].dt.month == 12)]\n",
        "\n",
        "# Get the count of colors added in December\n",
        "colors_added_december = december_data.shape[0]\n",
        "\n",
        "print(f\"Number of new colors added in December: {colors_added_december}\")"
      ],
      "metadata": {
        "colab": {
          "base_uri": "https://localhost:8080/"
        },
        "id": "apJvBYeM4wOd",
        "outputId": "367bec8d-9598-41fc-f8b7-613cd745ccf4"
      },
      "execution_count": 108,
      "outputs": [
        {
          "output_type": "stream",
          "name": "stdout",
          "text": [
            "Number of new colors added in December: 124\n"
          ]
        }
      ]
    },
    {
      "cell_type": "markdown",
      "source": [
        "Let's explore how much colors people added in a specific date (today) on 27/12/2023"
      ],
      "metadata": {
        "id": "4N2nPWRR6C3u"
      }
    },
    {
      "cell_type": "code",
      "source": [
        "date_data = colors_new_data[colors_new_data['dateCreated'].dt.date == pd.to_datetime('2023-12-27').date()]\n",
        "\n",
        "# Get the count of colors added on December 27, 2023\n",
        "colors_added = date_data.shape[0]\n",
        "\n",
        "print(f\"Number of new colors added on 27/12/2023: {colors_added}\")"
      ],
      "metadata": {
        "colab": {
          "base_uri": "https://localhost:8080/"
        },
        "id": "W2KxrEEa5zvM",
        "outputId": "1321f793-711f-4915-ff14-ab481b814bc0"
      },
      "execution_count": 109,
      "outputs": [
        {
          "output_type": "stream",
          "name": "stdout",
          "text": [
            "Number of new colors added on 27/12/2023: 12\n"
          ]
        }
      ]
    },
    {
      "cell_type": "markdown",
      "source": [
        "Display colors added on 27/12/2023"
      ],
      "metadata": {
        "id": "XycRzPdH7BfJ"
      }
    },
    {
      "cell_type": "code",
      "source": [
        "from IPython.display import Image, display\n",
        "\n",
        "# Filter data for December 27, 2023\n",
        "date_data = colors_new_data[colors_new_data['dateCreated'].dt.date == pd.to_datetime('2023-12-27').date()]\n",
        "\n",
        "\n",
        "# Display images for the colors added on December 27, 2023\n",
        "for url in date_data['imageUrl']:\n",
        "    display(Image(url=url))\n",
        "\n"
      ],
      "metadata": {
        "colab": {
          "base_uri": "https://localhost:8080/",
          "height": 1000
        },
        "id": "q4jmd4556zUg",
        "outputId": "894f5f21-0266-4a2d-b012-21b3e620eabe"
      },
      "execution_count": 110,
      "outputs": [
        {
          "output_type": "display_data",
          "data": {
            "text/html": [
              "<img src=\"http://www.colourlovers.com/img/79D3BB/100/100/♥_Green_Parakeet_♥.png\"/>"
            ],
            "text/plain": [
              "<IPython.core.display.Image object>"
            ]
          },
          "metadata": {}
        },
        {
          "output_type": "display_data",
          "data": {
            "text/html": [
              "<img src=\"http://www.colourlovers.com/img/0A9248/100/100/Enchantment.png\"/>"
            ],
            "text/plain": [
              "<IPython.core.display.Image object>"
            ]
          },
          "metadata": {}
        },
        {
          "output_type": "display_data",
          "data": {
            "text/html": [
              "<img src=\"http://www.colourlovers.com/img/932D19/100/100/OrangeBrownMeow.png\"/>"
            ],
            "text/plain": [
              "<IPython.core.display.Image object>"
            ]
          },
          "metadata": {}
        },
        {
          "output_type": "display_data",
          "data": {
            "text/html": [
              "<img src=\"http://www.colourlovers.com/img/89DCF4/100/100/*.png\"/>"
            ],
            "text/plain": [
              "<IPython.core.display.Image object>"
            ]
          },
          "metadata": {}
        },
        {
          "output_type": "display_data",
          "data": {
            "text/html": [
              "<img src=\"http://www.colourlovers.com/img/AF427C/100/100/new_chapter.png\"/>"
            ],
            "text/plain": [
              "<IPython.core.display.Image object>"
            ]
          },
          "metadata": {}
        },
        {
          "output_type": "display_data",
          "data": {
            "text/html": [
              "<img src=\"http://www.colourlovers.com/img/DA3B17/100/100/yes_please.png\"/>"
            ],
            "text/plain": [
              "<IPython.core.display.Image object>"
            ]
          },
          "metadata": {}
        },
        {
          "output_type": "display_data",
          "data": {
            "text/html": [
              "<img src=\"http://www.colourlovers.com/img/3A2C65/100/100/CCCXXII-M.png\"/>"
            ],
            "text/plain": [
              "<IPython.core.display.Image object>"
            ]
          },
          "metadata": {}
        },
        {
          "output_type": "display_data",
          "data": {
            "text/html": [
              "<img src=\"http://www.colourlovers.com/img/17694A/100/100/Forests.png\"/>"
            ],
            "text/plain": [
              "<IPython.core.display.Image object>"
            ]
          },
          "metadata": {}
        },
        {
          "output_type": "display_data",
          "data": {
            "text/html": [
              "<img src=\"http://www.colourlovers.com/img/56935E/100/100/Christmas_Mint.png\"/>"
            ],
            "text/plain": [
              "<IPython.core.display.Image object>"
            ]
          },
          "metadata": {}
        },
        {
          "output_type": "display_data",
          "data": {
            "text/html": [
              "<img src=\"http://www.colourlovers.com/img/8BAA89/100/100/Nurturing.png\"/>"
            ],
            "text/plain": [
              "<IPython.core.display.Image object>"
            ]
          },
          "metadata": {}
        },
        {
          "output_type": "display_data",
          "data": {
            "text/html": [
              "<img src=\"http://www.colourlovers.com/img/9CAF35/100/100/MRDONALD2012.png\"/>"
            ],
            "text/plain": [
              "<IPython.core.display.Image object>"
            ]
          },
          "metadata": {}
        },
        {
          "output_type": "display_data",
          "data": {
            "text/html": [
              "<img src=\"http://www.colourlovers.com/img/376CB8/100/100/galaxis_lila.png\"/>"
            ],
            "text/plain": [
              "<IPython.core.display.Image object>"
            ]
          },
          "metadata": {}
        }
      ]
    },
    {
      "cell_type": "markdown",
      "source": [
        "Let's explore the trands of colors."
      ],
      "metadata": {
        "id": "cxe0kV4s_BZU"
      }
    },
    {
      "cell_type": "code",
      "source": [
        "colors_top_data = pd.read_json(r'/colors_top.json')\n",
        "colors_top_data.head()"
      ],
      "metadata": {
        "colab": {
          "base_uri": "https://localhost:8080/",
          "height": 660
        },
        "id": "5gSXes7WAgpL",
        "outputId": "979ff8f3-1029-4b2a-afb9-cf289858c237"
      },
      "execution_count": 111,
      "outputs": [
        {
          "output_type": "execute_result",
          "data": {
            "text/plain": [
              "        id              title     userName  numViews  numVotes  numComments  \\\n",
              "0  1086335         dutch teal    Skyblue2u     64798      1148           49   \n",
              "1       16              white  COLOURlover    200095      1121         1138   \n",
              "2  1084036      heart of gold    Skyblue2u     49104       784           43   \n",
              "3  1312551  serenity is . . .    Skyblue2u     31484       773           29   \n",
              "4       18           hot pink       b.rich     47759       704           41   \n",
              "\n",
              "   numHearts  rank          dateCreated     hex  \\\n",
              "0        0.0     3  2008-05-19 17:31:06  1693A5   \n",
              "1        4.5     2  2004-12-17 09:09:46  FFFFFF   \n",
              "2        5.0     6  2008-05-18 21:06:23  FBB829   \n",
              "3        5.0     5  2008-08-04 19:46:46  ADD8C7   \n",
              "4        5.0     4  2004-12-17 11:36:03  FF0066   \n",
              "\n",
              "                                       rgb  \\\n",
              "0   {'red': 22, 'green': 147, 'blue': 165}   \n",
              "1  {'red': 255, 'green': 255, 'blue': 255}   \n",
              "2   {'red': 251, 'green': 184, 'blue': 41}   \n",
              "3  {'red': 173, 'green': 216, 'blue': 199}   \n",
              "4    {'red': 255, 'green': 0, 'blue': 102}   \n",
              "\n",
              "                                             hsv  \\\n",
              "0    {'hue': 188, 'saturation': 87, 'value': 65}   \n",
              "1      {'hue': 0, 'saturation': 0, 'value': 100}   \n",
              "2     {'hue': 41, 'saturation': 84, 'value': 98}   \n",
              "3    {'hue': 156, 'saturation': 20, 'value': 85}   \n",
              "4  {'hue': 336, 'saturation': 100, 'value': 100}   \n",
              "\n",
              "                                         description  \\\n",
              "0  <a href=\"http://www.colourlovers.com/color/696...   \n",
              "1  <a href=\"http://www.colourlovers.com/color/696...   \n",
              "2  <a href=\"http://www.colourlovers.com/color/696...   \n",
              "3  <a href=\"http://www.colourlovers.com/color/696...   \n",
              "4  <a href=\"http://www.colourlovers.com/color/696...   \n",
              "\n",
              "                                                 url  \\\n",
              "0  http://www.colourlovers.com/color/1693A5/dutch...   \n",
              "1     http://www.colourlovers.com/color/FFFFFF/white   \n",
              "2  http://www.colourlovers.com/color/FBB829/heart...   \n",
              "3  http://www.colourlovers.com/color/ADD8C7/seren...   \n",
              "4  http://www.colourlovers.com/color/FF0066/hot_pink   \n",
              "\n",
              "                                            imageUrl  \\\n",
              "0  http://www.colourlovers.com/img/1693A5/100/100...   \n",
              "1  http://www.colourlovers.com/img/FFFFFF/100/100...   \n",
              "2  http://www.colourlovers.com/img/FBB829/100/100...   \n",
              "3  http://www.colourlovers.com/img/ADD8C7/100/100...   \n",
              "4  http://www.colourlovers.com/img/FF0066/100/100...   \n",
              "\n",
              "                                            badgeUrl  \\\n",
              "0  http://www.colourlovers.com/images/badges/c/10...   \n",
              "1  http://www.colourlovers.com/images/badges/c/0/...   \n",
              "2  http://www.colourlovers.com/images/badges/c/10...   \n",
              "3  http://www.colourlovers.com/images/badges/c/13...   \n",
              "4  http://www.colourlovers.com/images/badges/c/0/...   \n",
              "\n",
              "                                         apiUrl  \n",
              "0  http://www.colourlovers.com/api/color/1693A5  \n",
              "1  http://www.colourlovers.com/api/color/FFFFFF  \n",
              "2  http://www.colourlovers.com/api/color/FBB829  \n",
              "3  http://www.colourlovers.com/api/color/ADD8C7  \n",
              "4  http://www.colourlovers.com/api/color/FF0066  "
            ],
            "text/html": [
              "\n",
              "  <div id=\"df-7afc8dcb-b0ce-4ba2-8280-74757347e9ff\" class=\"colab-df-container\">\n",
              "    <div>\n",
              "<style scoped>\n",
              "    .dataframe tbody tr th:only-of-type {\n",
              "        vertical-align: middle;\n",
              "    }\n",
              "\n",
              "    .dataframe tbody tr th {\n",
              "        vertical-align: top;\n",
              "    }\n",
              "\n",
              "    .dataframe thead th {\n",
              "        text-align: right;\n",
              "    }\n",
              "</style>\n",
              "<table border=\"1\" class=\"dataframe\">\n",
              "  <thead>\n",
              "    <tr style=\"text-align: right;\">\n",
              "      <th></th>\n",
              "      <th>id</th>\n",
              "      <th>title</th>\n",
              "      <th>userName</th>\n",
              "      <th>numViews</th>\n",
              "      <th>numVotes</th>\n",
              "      <th>numComments</th>\n",
              "      <th>numHearts</th>\n",
              "      <th>rank</th>\n",
              "      <th>dateCreated</th>\n",
              "      <th>hex</th>\n",
              "      <th>rgb</th>\n",
              "      <th>hsv</th>\n",
              "      <th>description</th>\n",
              "      <th>url</th>\n",
              "      <th>imageUrl</th>\n",
              "      <th>badgeUrl</th>\n",
              "      <th>apiUrl</th>\n",
              "    </tr>\n",
              "  </thead>\n",
              "  <tbody>\n",
              "    <tr>\n",
              "      <th>0</th>\n",
              "      <td>1086335</td>\n",
              "      <td>dutch teal</td>\n",
              "      <td>Skyblue2u</td>\n",
              "      <td>64798</td>\n",
              "      <td>1148</td>\n",
              "      <td>49</td>\n",
              "      <td>0.0</td>\n",
              "      <td>3</td>\n",
              "      <td>2008-05-19 17:31:06</td>\n",
              "      <td>1693A5</td>\n",
              "      <td>{'red': 22, 'green': 147, 'blue': 165}</td>\n",
              "      <td>{'hue': 188, 'saturation': 87, 'value': 65}</td>\n",
              "      <td>&lt;a href=\"http://www.colourlovers.com/color/696...</td>\n",
              "      <td>http://www.colourlovers.com/color/1693A5/dutch...</td>\n",
              "      <td>http://www.colourlovers.com/img/1693A5/100/100...</td>\n",
              "      <td>http://www.colourlovers.com/images/badges/c/10...</td>\n",
              "      <td>http://www.colourlovers.com/api/color/1693A5</td>\n",
              "    </tr>\n",
              "    <tr>\n",
              "      <th>1</th>\n",
              "      <td>16</td>\n",
              "      <td>white</td>\n",
              "      <td>COLOURlover</td>\n",
              "      <td>200095</td>\n",
              "      <td>1121</td>\n",
              "      <td>1138</td>\n",
              "      <td>4.5</td>\n",
              "      <td>2</td>\n",
              "      <td>2004-12-17 09:09:46</td>\n",
              "      <td>FFFFFF</td>\n",
              "      <td>{'red': 255, 'green': 255, 'blue': 255}</td>\n",
              "      <td>{'hue': 0, 'saturation': 0, 'value': 100}</td>\n",
              "      <td>&lt;a href=\"http://www.colourlovers.com/color/696...</td>\n",
              "      <td>http://www.colourlovers.com/color/FFFFFF/white</td>\n",
              "      <td>http://www.colourlovers.com/img/FFFFFF/100/100...</td>\n",
              "      <td>http://www.colourlovers.com/images/badges/c/0/...</td>\n",
              "      <td>http://www.colourlovers.com/api/color/FFFFFF</td>\n",
              "    </tr>\n",
              "    <tr>\n",
              "      <th>2</th>\n",
              "      <td>1084036</td>\n",
              "      <td>heart of gold</td>\n",
              "      <td>Skyblue2u</td>\n",
              "      <td>49104</td>\n",
              "      <td>784</td>\n",
              "      <td>43</td>\n",
              "      <td>5.0</td>\n",
              "      <td>6</td>\n",
              "      <td>2008-05-18 21:06:23</td>\n",
              "      <td>FBB829</td>\n",
              "      <td>{'red': 251, 'green': 184, 'blue': 41}</td>\n",
              "      <td>{'hue': 41, 'saturation': 84, 'value': 98}</td>\n",
              "      <td>&lt;a href=\"http://www.colourlovers.com/color/696...</td>\n",
              "      <td>http://www.colourlovers.com/color/FBB829/heart...</td>\n",
              "      <td>http://www.colourlovers.com/img/FBB829/100/100...</td>\n",
              "      <td>http://www.colourlovers.com/images/badges/c/10...</td>\n",
              "      <td>http://www.colourlovers.com/api/color/FBB829</td>\n",
              "    </tr>\n",
              "    <tr>\n",
              "      <th>3</th>\n",
              "      <td>1312551</td>\n",
              "      <td>serenity is . . .</td>\n",
              "      <td>Skyblue2u</td>\n",
              "      <td>31484</td>\n",
              "      <td>773</td>\n",
              "      <td>29</td>\n",
              "      <td>5.0</td>\n",
              "      <td>5</td>\n",
              "      <td>2008-08-04 19:46:46</td>\n",
              "      <td>ADD8C7</td>\n",
              "      <td>{'red': 173, 'green': 216, 'blue': 199}</td>\n",
              "      <td>{'hue': 156, 'saturation': 20, 'value': 85}</td>\n",
              "      <td>&lt;a href=\"http://www.colourlovers.com/color/696...</td>\n",
              "      <td>http://www.colourlovers.com/color/ADD8C7/seren...</td>\n",
              "      <td>http://www.colourlovers.com/img/ADD8C7/100/100...</td>\n",
              "      <td>http://www.colourlovers.com/images/badges/c/13...</td>\n",
              "      <td>http://www.colourlovers.com/api/color/ADD8C7</td>\n",
              "    </tr>\n",
              "    <tr>\n",
              "      <th>4</th>\n",
              "      <td>18</td>\n",
              "      <td>hot pink</td>\n",
              "      <td>b.rich</td>\n",
              "      <td>47759</td>\n",
              "      <td>704</td>\n",
              "      <td>41</td>\n",
              "      <td>5.0</td>\n",
              "      <td>4</td>\n",
              "      <td>2004-12-17 11:36:03</td>\n",
              "      <td>FF0066</td>\n",
              "      <td>{'red': 255, 'green': 0, 'blue': 102}</td>\n",
              "      <td>{'hue': 336, 'saturation': 100, 'value': 100}</td>\n",
              "      <td>&lt;a href=\"http://www.colourlovers.com/color/696...</td>\n",
              "      <td>http://www.colourlovers.com/color/FF0066/hot_pink</td>\n",
              "      <td>http://www.colourlovers.com/img/FF0066/100/100...</td>\n",
              "      <td>http://www.colourlovers.com/images/badges/c/0/...</td>\n",
              "      <td>http://www.colourlovers.com/api/color/FF0066</td>\n",
              "    </tr>\n",
              "  </tbody>\n",
              "</table>\n",
              "</div>\n",
              "    <div class=\"colab-df-buttons\">\n",
              "\n",
              "  <div class=\"colab-df-container\">\n",
              "    <button class=\"colab-df-convert\" onclick=\"convertToInteractive('df-7afc8dcb-b0ce-4ba2-8280-74757347e9ff')\"\n",
              "            title=\"Convert this dataframe to an interactive table.\"\n",
              "            style=\"display:none;\">\n",
              "\n",
              "  <svg xmlns=\"http://www.w3.org/2000/svg\" height=\"24px\" viewBox=\"0 -960 960 960\">\n",
              "    <path d=\"M120-120v-720h720v720H120Zm60-500h600v-160H180v160Zm220 220h160v-160H400v160Zm0 220h160v-160H400v160ZM180-400h160v-160H180v160Zm440 0h160v-160H620v160ZM180-180h160v-160H180v160Zm440 0h160v-160H620v160Z\"/>\n",
              "  </svg>\n",
              "    </button>\n",
              "\n",
              "  <style>\n",
              "    .colab-df-container {\n",
              "      display:flex;\n",
              "      gap: 12px;\n",
              "    }\n",
              "\n",
              "    .colab-df-convert {\n",
              "      background-color: #E8F0FE;\n",
              "      border: none;\n",
              "      border-radius: 50%;\n",
              "      cursor: pointer;\n",
              "      display: none;\n",
              "      fill: #1967D2;\n",
              "      height: 32px;\n",
              "      padding: 0 0 0 0;\n",
              "      width: 32px;\n",
              "    }\n",
              "\n",
              "    .colab-df-convert:hover {\n",
              "      background-color: #E2EBFA;\n",
              "      box-shadow: 0px 1px 2px rgba(60, 64, 67, 0.3), 0px 1px 3px 1px rgba(60, 64, 67, 0.15);\n",
              "      fill: #174EA6;\n",
              "    }\n",
              "\n",
              "    .colab-df-buttons div {\n",
              "      margin-bottom: 4px;\n",
              "    }\n",
              "\n",
              "    [theme=dark] .colab-df-convert {\n",
              "      background-color: #3B4455;\n",
              "      fill: #D2E3FC;\n",
              "    }\n",
              "\n",
              "    [theme=dark] .colab-df-convert:hover {\n",
              "      background-color: #434B5C;\n",
              "      box-shadow: 0px 1px 3px 1px rgba(0, 0, 0, 0.15);\n",
              "      filter: drop-shadow(0px 1px 2px rgba(0, 0, 0, 0.3));\n",
              "      fill: #FFFFFF;\n",
              "    }\n",
              "  </style>\n",
              "\n",
              "    <script>\n",
              "      const buttonEl =\n",
              "        document.querySelector('#df-7afc8dcb-b0ce-4ba2-8280-74757347e9ff button.colab-df-convert');\n",
              "      buttonEl.style.display =\n",
              "        google.colab.kernel.accessAllowed ? 'block' : 'none';\n",
              "\n",
              "      async function convertToInteractive(key) {\n",
              "        const element = document.querySelector('#df-7afc8dcb-b0ce-4ba2-8280-74757347e9ff');\n",
              "        const dataTable =\n",
              "          await google.colab.kernel.invokeFunction('convertToInteractive',\n",
              "                                                    [key], {});\n",
              "        if (!dataTable) return;\n",
              "\n",
              "        const docLinkHtml = 'Like what you see? Visit the ' +\n",
              "          '<a target=\"_blank\" href=https://colab.research.google.com/notebooks/data_table.ipynb>data table notebook</a>'\n",
              "          + ' to learn more about interactive tables.';\n",
              "        element.innerHTML = '';\n",
              "        dataTable['output_type'] = 'display_data';\n",
              "        await google.colab.output.renderOutput(dataTable, element);\n",
              "        const docLink = document.createElement('div');\n",
              "        docLink.innerHTML = docLinkHtml;\n",
              "        element.appendChild(docLink);\n",
              "      }\n",
              "    </script>\n",
              "  </div>\n",
              "\n",
              "\n",
              "<div id=\"df-ed8a1547-31b2-4c1b-93a3-0c82bdd3a6d9\">\n",
              "  <button class=\"colab-df-quickchart\" onclick=\"quickchart('df-ed8a1547-31b2-4c1b-93a3-0c82bdd3a6d9')\"\n",
              "            title=\"Suggest charts\"\n",
              "            style=\"display:none;\">\n",
              "\n",
              "<svg xmlns=\"http://www.w3.org/2000/svg\" height=\"24px\"viewBox=\"0 0 24 24\"\n",
              "     width=\"24px\">\n",
              "    <g>\n",
              "        <path d=\"M19 3H5c-1.1 0-2 .9-2 2v14c0 1.1.9 2 2 2h14c1.1 0 2-.9 2-2V5c0-1.1-.9-2-2-2zM9 17H7v-7h2v7zm4 0h-2V7h2v10zm4 0h-2v-4h2v4z\"/>\n",
              "    </g>\n",
              "</svg>\n",
              "  </button>\n",
              "\n",
              "<style>\n",
              "  .colab-df-quickchart {\n",
              "      --bg-color: #E8F0FE;\n",
              "      --fill-color: #1967D2;\n",
              "      --hover-bg-color: #E2EBFA;\n",
              "      --hover-fill-color: #174EA6;\n",
              "      --disabled-fill-color: #AAA;\n",
              "      --disabled-bg-color: #DDD;\n",
              "  }\n",
              "\n",
              "  [theme=dark] .colab-df-quickchart {\n",
              "      --bg-color: #3B4455;\n",
              "      --fill-color: #D2E3FC;\n",
              "      --hover-bg-color: #434B5C;\n",
              "      --hover-fill-color: #FFFFFF;\n",
              "      --disabled-bg-color: #3B4455;\n",
              "      --disabled-fill-color: #666;\n",
              "  }\n",
              "\n",
              "  .colab-df-quickchart {\n",
              "    background-color: var(--bg-color);\n",
              "    border: none;\n",
              "    border-radius: 50%;\n",
              "    cursor: pointer;\n",
              "    display: none;\n",
              "    fill: var(--fill-color);\n",
              "    height: 32px;\n",
              "    padding: 0;\n",
              "    width: 32px;\n",
              "  }\n",
              "\n",
              "  .colab-df-quickchart:hover {\n",
              "    background-color: var(--hover-bg-color);\n",
              "    box-shadow: 0 1px 2px rgba(60, 64, 67, 0.3), 0 1px 3px 1px rgba(60, 64, 67, 0.15);\n",
              "    fill: var(--button-hover-fill-color);\n",
              "  }\n",
              "\n",
              "  .colab-df-quickchart-complete:disabled,\n",
              "  .colab-df-quickchart-complete:disabled:hover {\n",
              "    background-color: var(--disabled-bg-color);\n",
              "    fill: var(--disabled-fill-color);\n",
              "    box-shadow: none;\n",
              "  }\n",
              "\n",
              "  .colab-df-spinner {\n",
              "    border: 2px solid var(--fill-color);\n",
              "    border-color: transparent;\n",
              "    border-bottom-color: var(--fill-color);\n",
              "    animation:\n",
              "      spin 1s steps(1) infinite;\n",
              "  }\n",
              "\n",
              "  @keyframes spin {\n",
              "    0% {\n",
              "      border-color: transparent;\n",
              "      border-bottom-color: var(--fill-color);\n",
              "      border-left-color: var(--fill-color);\n",
              "    }\n",
              "    20% {\n",
              "      border-color: transparent;\n",
              "      border-left-color: var(--fill-color);\n",
              "      border-top-color: var(--fill-color);\n",
              "    }\n",
              "    30% {\n",
              "      border-color: transparent;\n",
              "      border-left-color: var(--fill-color);\n",
              "      border-top-color: var(--fill-color);\n",
              "      border-right-color: var(--fill-color);\n",
              "    }\n",
              "    40% {\n",
              "      border-color: transparent;\n",
              "      border-right-color: var(--fill-color);\n",
              "      border-top-color: var(--fill-color);\n",
              "    }\n",
              "    60% {\n",
              "      border-color: transparent;\n",
              "      border-right-color: var(--fill-color);\n",
              "    }\n",
              "    80% {\n",
              "      border-color: transparent;\n",
              "      border-right-color: var(--fill-color);\n",
              "      border-bottom-color: var(--fill-color);\n",
              "    }\n",
              "    90% {\n",
              "      border-color: transparent;\n",
              "      border-bottom-color: var(--fill-color);\n",
              "    }\n",
              "  }\n",
              "</style>\n",
              "\n",
              "  <script>\n",
              "    async function quickchart(key) {\n",
              "      const quickchartButtonEl =\n",
              "        document.querySelector('#' + key + ' button');\n",
              "      quickchartButtonEl.disabled = true;  // To prevent multiple clicks.\n",
              "      quickchartButtonEl.classList.add('colab-df-spinner');\n",
              "      try {\n",
              "        const charts = await google.colab.kernel.invokeFunction(\n",
              "            'suggestCharts', [key], {});\n",
              "      } catch (error) {\n",
              "        console.error('Error during call to suggestCharts:', error);\n",
              "      }\n",
              "      quickchartButtonEl.classList.remove('colab-df-spinner');\n",
              "      quickchartButtonEl.classList.add('colab-df-quickchart-complete');\n",
              "    }\n",
              "    (() => {\n",
              "      let quickchartButtonEl =\n",
              "        document.querySelector('#df-ed8a1547-31b2-4c1b-93a3-0c82bdd3a6d9 button');\n",
              "      quickchartButtonEl.style.display =\n",
              "        google.colab.kernel.accessAllowed ? 'block' : 'none';\n",
              "    })();\n",
              "  </script>\n",
              "</div>\n",
              "\n",
              "    </div>\n",
              "  </div>\n"
            ]
          },
          "metadata": {},
          "execution_count": 111
        }
      ]
    },
    {
      "cell_type": "code",
      "source": [
        "colors_top_data.info()"
      ],
      "metadata": {
        "colab": {
          "base_uri": "https://localhost:8080/"
        },
        "id": "gwFg2n2qBoLI",
        "outputId": "813de769-305a-47a6-be47-6c905a21fefd"
      },
      "execution_count": 112,
      "outputs": [
        {
          "output_type": "stream",
          "name": "stdout",
          "text": [
            "<class 'pandas.core.frame.DataFrame'>\n",
            "RangeIndex: 9900 entries, 0 to 9899\n",
            "Data columns (total 17 columns):\n",
            " #   Column       Non-Null Count  Dtype  \n",
            "---  ------       --------------  -----  \n",
            " 0   id           9900 non-null   int64  \n",
            " 1   title        9900 non-null   object \n",
            " 2   userName     9900 non-null   object \n",
            " 3   numViews     9900 non-null   int64  \n",
            " 4   numVotes     9900 non-null   int64  \n",
            " 5   numComments  9900 non-null   int64  \n",
            " 6   numHearts    9900 non-null   float64\n",
            " 7   rank         9900 non-null   int64  \n",
            " 8   dateCreated  9900 non-null   object \n",
            " 9   hex          9900 non-null   object \n",
            " 10  rgb          9900 non-null   object \n",
            " 11  hsv          9900 non-null   object \n",
            " 12  description  9900 non-null   object \n",
            " 13  url          9900 non-null   object \n",
            " 14  imageUrl     9900 non-null   object \n",
            " 15  badgeUrl     9900 non-null   object \n",
            " 16  apiUrl       9900 non-null   object \n",
            "dtypes: float64(1), int64(5), object(11)\n",
            "memory usage: 1.3+ MB\n"
          ]
        }
      ]
    },
    {
      "cell_type": "markdown",
      "source": [
        "We can observe 9900 trand colors, no missing data detected."
      ],
      "metadata": {
        "id": "lcjkeyW-Bt2K"
      }
    },
    {
      "cell_type": "code",
      "source": [
        "colors_top_data.dtypes"
      ],
      "metadata": {
        "colab": {
          "base_uri": "https://localhost:8080/"
        },
        "id": "5J4j4bMtByHI",
        "outputId": "d5cb5ae1-8e87-46e6-ed6e-15ad8db16a23"
      },
      "execution_count": 113,
      "outputs": [
        {
          "output_type": "execute_result",
          "data": {
            "text/plain": [
              "id               int64\n",
              "title           object\n",
              "userName        object\n",
              "numViews         int64\n",
              "numVotes         int64\n",
              "numComments      int64\n",
              "numHearts      float64\n",
              "rank             int64\n",
              "dateCreated     object\n",
              "hex             object\n",
              "rgb             object\n",
              "hsv             object\n",
              "description     object\n",
              "url             object\n",
              "imageUrl        object\n",
              "badgeUrl        object\n",
              "apiUrl          object\n",
              "dtype: object"
            ]
          },
          "metadata": {},
          "execution_count": 113
        }
      ]
    },
    {
      "cell_type": "markdown",
      "source": [
        "Converting dateCreated to date type."
      ],
      "metadata": {
        "id": "NMBBPeqwCMz1"
      }
    },
    {
      "cell_type": "code",
      "source": [
        "colors_top_data['dateCreated'] = pd.to_datetime(colors_top_data['dateCreated'], errors='coerce')\n",
        "colors_top_data['dateCreated'] = colors_top_data['dateCreated'].dt.strftime('%Y-%m-%d')"
      ],
      "metadata": {
        "id": "cSYShfDDCTHm"
      },
      "execution_count": 114,
      "outputs": []
    },
    {
      "cell_type": "code",
      "source": [
        "colors_top_data['dateCreated'] = pd.to_datetime(colors_top_data['dateCreated'], errors='coerce')\n",
        "\n",
        "# Check for rows where conversion failed\n",
        "failed_conversion = colors_top_data['dateCreated'][colors_top_data['dateCreated'].isnull()]\n",
        "failed_conversion"
      ],
      "metadata": {
        "colab": {
          "base_uri": "https://localhost:8080/"
        },
        "id": "DEDVtfA5Cb9R",
        "outputId": "5a720eb3-1aeb-4fdf-8b96-0a9692f32216"
      },
      "execution_count": 115,
      "outputs": [
        {
          "output_type": "execute_result",
          "data": {
            "text/plain": [
              "Series([], Name: dateCreated, dtype: datetime64[ns])"
            ]
          },
          "metadata": {},
          "execution_count": 115
        }
      ]
    },
    {
      "cell_type": "code",
      "source": [
        "colors_top_data.dtypes #Check"
      ],
      "metadata": {
        "colab": {
          "base_uri": "https://localhost:8080/"
        },
        "id": "di8kWIzXChqJ",
        "outputId": "797311c2-bd6e-4efb-f564-40311e08cc21"
      },
      "execution_count": 116,
      "outputs": [
        {
          "output_type": "execute_result",
          "data": {
            "text/plain": [
              "id                      int64\n",
              "title                  object\n",
              "userName               object\n",
              "numViews                int64\n",
              "numVotes                int64\n",
              "numComments             int64\n",
              "numHearts             float64\n",
              "rank                    int64\n",
              "dateCreated    datetime64[ns]\n",
              "hex                    object\n",
              "rgb                    object\n",
              "hsv                    object\n",
              "description            object\n",
              "url                    object\n",
              "imageUrl               object\n",
              "badgeUrl               object\n",
              "apiUrl                 object\n",
              "dtype: object"
            ]
          },
          "metadata": {},
          "execution_count": 116
        }
      ]
    },
    {
      "cell_type": "markdown",
      "source": [
        "Data cleaning:"
      ],
      "metadata": {
        "id": "wzrb8oHGCsJH"
      }
    },
    {
      "cell_type": "code",
      "source": [
        "colors_top_data.drop_duplicates(subset=['userName'], keep='first', inplace=True) #drop duplicates"
      ],
      "metadata": {
        "id": "s_EAxQ2iCubt"
      },
      "execution_count": 117,
      "outputs": []
    },
    {
      "cell_type": "code",
      "source": [
        "colors_top_data.isnull().sum() #missing data check"
      ],
      "metadata": {
        "colab": {
          "base_uri": "https://localhost:8080/"
        },
        "id": "F5UETDrkEVz4",
        "outputId": "f7dae9d7-59e5-49a5-fd15-c7b983ed384f"
      },
      "execution_count": 118,
      "outputs": [
        {
          "output_type": "execute_result",
          "data": {
            "text/plain": [
              "id             0\n",
              "title          0\n",
              "userName       0\n",
              "numViews       0\n",
              "numVotes       0\n",
              "numComments    0\n",
              "numHearts      0\n",
              "rank           0\n",
              "dateCreated    0\n",
              "hex            0\n",
              "rgb            0\n",
              "hsv            0\n",
              "description    0\n",
              "url            0\n",
              "imageUrl       0\n",
              "badgeUrl       0\n",
              "apiUrl         0\n",
              "dtype: int64"
            ]
          },
          "metadata": {},
          "execution_count": 118
        }
      ]
    },
    {
      "cell_type": "markdown",
      "source": [
        "No missind data detected"
      ],
      "metadata": {
        "id": "abnFnAkrEbYm"
      }
    },
    {
      "cell_type": "code",
      "source": [
        "colors_top_data.describe()"
      ],
      "metadata": {
        "colab": {
          "base_uri": "https://localhost:8080/",
          "height": 300
        },
        "id": "vqvE4pvtEcQm",
        "outputId": "da542d7d-108a-438a-f72e-38595315a511"
      },
      "execution_count": 119,
      "outputs": [
        {
          "output_type": "execute_result",
          "data": {
            "text/plain": [
              "                 id       numViews     numVotes  numComments    numHearts  \\\n",
              "count  2.020000e+03    2020.000000  2020.000000  2020.000000  2020.000000   \n",
              "mean   2.429356e+06    2877.740594    36.634158     4.453960     0.331188   \n",
              "std    2.594049e+06   11338.176226    62.206930    26.847142     1.239305   \n",
              "min    9.000000e+00      21.000000    12.000000     0.000000     0.000000   \n",
              "25%    1.145988e+05     291.000000    15.000000     0.000000     0.000000   \n",
              "50%    1.389356e+06     658.000000    21.000000     1.000000     0.000000   \n",
              "75%    4.196635e+06    1583.500000    34.000000     4.000000     0.000000   \n",
              "max    9.925996e+06  200095.000000  1148.000000  1138.000000     5.000000   \n",
              "\n",
              "               rank  \n",
              "count   2020.000000  \n",
              "mean    3868.979208  \n",
              "std     3962.080850  \n",
              "min        0.000000  \n",
              "25%      850.750000  \n",
              "50%     2791.000000  \n",
              "75%     5654.750000  \n",
              "max    22274.000000  "
            ],
            "text/html": [
              "\n",
              "  <div id=\"df-4bc9b2ca-4bf5-42f4-8530-d2c65d0bb60a\" class=\"colab-df-container\">\n",
              "    <div>\n",
              "<style scoped>\n",
              "    .dataframe tbody tr th:only-of-type {\n",
              "        vertical-align: middle;\n",
              "    }\n",
              "\n",
              "    .dataframe tbody tr th {\n",
              "        vertical-align: top;\n",
              "    }\n",
              "\n",
              "    .dataframe thead th {\n",
              "        text-align: right;\n",
              "    }\n",
              "</style>\n",
              "<table border=\"1\" class=\"dataframe\">\n",
              "  <thead>\n",
              "    <tr style=\"text-align: right;\">\n",
              "      <th></th>\n",
              "      <th>id</th>\n",
              "      <th>numViews</th>\n",
              "      <th>numVotes</th>\n",
              "      <th>numComments</th>\n",
              "      <th>numHearts</th>\n",
              "      <th>rank</th>\n",
              "    </tr>\n",
              "  </thead>\n",
              "  <tbody>\n",
              "    <tr>\n",
              "      <th>count</th>\n",
              "      <td>2.020000e+03</td>\n",
              "      <td>2020.000000</td>\n",
              "      <td>2020.000000</td>\n",
              "      <td>2020.000000</td>\n",
              "      <td>2020.000000</td>\n",
              "      <td>2020.000000</td>\n",
              "    </tr>\n",
              "    <tr>\n",
              "      <th>mean</th>\n",
              "      <td>2.429356e+06</td>\n",
              "      <td>2877.740594</td>\n",
              "      <td>36.634158</td>\n",
              "      <td>4.453960</td>\n",
              "      <td>0.331188</td>\n",
              "      <td>3868.979208</td>\n",
              "    </tr>\n",
              "    <tr>\n",
              "      <th>std</th>\n",
              "      <td>2.594049e+06</td>\n",
              "      <td>11338.176226</td>\n",
              "      <td>62.206930</td>\n",
              "      <td>26.847142</td>\n",
              "      <td>1.239305</td>\n",
              "      <td>3962.080850</td>\n",
              "    </tr>\n",
              "    <tr>\n",
              "      <th>min</th>\n",
              "      <td>9.000000e+00</td>\n",
              "      <td>21.000000</td>\n",
              "      <td>12.000000</td>\n",
              "      <td>0.000000</td>\n",
              "      <td>0.000000</td>\n",
              "      <td>0.000000</td>\n",
              "    </tr>\n",
              "    <tr>\n",
              "      <th>25%</th>\n",
              "      <td>1.145988e+05</td>\n",
              "      <td>291.000000</td>\n",
              "      <td>15.000000</td>\n",
              "      <td>0.000000</td>\n",
              "      <td>0.000000</td>\n",
              "      <td>850.750000</td>\n",
              "    </tr>\n",
              "    <tr>\n",
              "      <th>50%</th>\n",
              "      <td>1.389356e+06</td>\n",
              "      <td>658.000000</td>\n",
              "      <td>21.000000</td>\n",
              "      <td>1.000000</td>\n",
              "      <td>0.000000</td>\n",
              "      <td>2791.000000</td>\n",
              "    </tr>\n",
              "    <tr>\n",
              "      <th>75%</th>\n",
              "      <td>4.196635e+06</td>\n",
              "      <td>1583.500000</td>\n",
              "      <td>34.000000</td>\n",
              "      <td>4.000000</td>\n",
              "      <td>0.000000</td>\n",
              "      <td>5654.750000</td>\n",
              "    </tr>\n",
              "    <tr>\n",
              "      <th>max</th>\n",
              "      <td>9.925996e+06</td>\n",
              "      <td>200095.000000</td>\n",
              "      <td>1148.000000</td>\n",
              "      <td>1138.000000</td>\n",
              "      <td>5.000000</td>\n",
              "      <td>22274.000000</td>\n",
              "    </tr>\n",
              "  </tbody>\n",
              "</table>\n",
              "</div>\n",
              "    <div class=\"colab-df-buttons\">\n",
              "\n",
              "  <div class=\"colab-df-container\">\n",
              "    <button class=\"colab-df-convert\" onclick=\"convertToInteractive('df-4bc9b2ca-4bf5-42f4-8530-d2c65d0bb60a')\"\n",
              "            title=\"Convert this dataframe to an interactive table.\"\n",
              "            style=\"display:none;\">\n",
              "\n",
              "  <svg xmlns=\"http://www.w3.org/2000/svg\" height=\"24px\" viewBox=\"0 -960 960 960\">\n",
              "    <path d=\"M120-120v-720h720v720H120Zm60-500h600v-160H180v160Zm220 220h160v-160H400v160Zm0 220h160v-160H400v160ZM180-400h160v-160H180v160Zm440 0h160v-160H620v160ZM180-180h160v-160H180v160Zm440 0h160v-160H620v160Z\"/>\n",
              "  </svg>\n",
              "    </button>\n",
              "\n",
              "  <style>\n",
              "    .colab-df-container {\n",
              "      display:flex;\n",
              "      gap: 12px;\n",
              "    }\n",
              "\n",
              "    .colab-df-convert {\n",
              "      background-color: #E8F0FE;\n",
              "      border: none;\n",
              "      border-radius: 50%;\n",
              "      cursor: pointer;\n",
              "      display: none;\n",
              "      fill: #1967D2;\n",
              "      height: 32px;\n",
              "      padding: 0 0 0 0;\n",
              "      width: 32px;\n",
              "    }\n",
              "\n",
              "    .colab-df-convert:hover {\n",
              "      background-color: #E2EBFA;\n",
              "      box-shadow: 0px 1px 2px rgba(60, 64, 67, 0.3), 0px 1px 3px 1px rgba(60, 64, 67, 0.15);\n",
              "      fill: #174EA6;\n",
              "    }\n",
              "\n",
              "    .colab-df-buttons div {\n",
              "      margin-bottom: 4px;\n",
              "    }\n",
              "\n",
              "    [theme=dark] .colab-df-convert {\n",
              "      background-color: #3B4455;\n",
              "      fill: #D2E3FC;\n",
              "    }\n",
              "\n",
              "    [theme=dark] .colab-df-convert:hover {\n",
              "      background-color: #434B5C;\n",
              "      box-shadow: 0px 1px 3px 1px rgba(0, 0, 0, 0.15);\n",
              "      filter: drop-shadow(0px 1px 2px rgba(0, 0, 0, 0.3));\n",
              "      fill: #FFFFFF;\n",
              "    }\n",
              "  </style>\n",
              "\n",
              "    <script>\n",
              "      const buttonEl =\n",
              "        document.querySelector('#df-4bc9b2ca-4bf5-42f4-8530-d2c65d0bb60a button.colab-df-convert');\n",
              "      buttonEl.style.display =\n",
              "        google.colab.kernel.accessAllowed ? 'block' : 'none';\n",
              "\n",
              "      async function convertToInteractive(key) {\n",
              "        const element = document.querySelector('#df-4bc9b2ca-4bf5-42f4-8530-d2c65d0bb60a');\n",
              "        const dataTable =\n",
              "          await google.colab.kernel.invokeFunction('convertToInteractive',\n",
              "                                                    [key], {});\n",
              "        if (!dataTable) return;\n",
              "\n",
              "        const docLinkHtml = 'Like what you see? Visit the ' +\n",
              "          '<a target=\"_blank\" href=https://colab.research.google.com/notebooks/data_table.ipynb>data table notebook</a>'\n",
              "          + ' to learn more about interactive tables.';\n",
              "        element.innerHTML = '';\n",
              "        dataTable['output_type'] = 'display_data';\n",
              "        await google.colab.output.renderOutput(dataTable, element);\n",
              "        const docLink = document.createElement('div');\n",
              "        docLink.innerHTML = docLinkHtml;\n",
              "        element.appendChild(docLink);\n",
              "      }\n",
              "    </script>\n",
              "  </div>\n",
              "\n",
              "\n",
              "<div id=\"df-eef9f154-68d5-4db2-935b-e568107831f7\">\n",
              "  <button class=\"colab-df-quickchart\" onclick=\"quickchart('df-eef9f154-68d5-4db2-935b-e568107831f7')\"\n",
              "            title=\"Suggest charts\"\n",
              "            style=\"display:none;\">\n",
              "\n",
              "<svg xmlns=\"http://www.w3.org/2000/svg\" height=\"24px\"viewBox=\"0 0 24 24\"\n",
              "     width=\"24px\">\n",
              "    <g>\n",
              "        <path d=\"M19 3H5c-1.1 0-2 .9-2 2v14c0 1.1.9 2 2 2h14c1.1 0 2-.9 2-2V5c0-1.1-.9-2-2-2zM9 17H7v-7h2v7zm4 0h-2V7h2v10zm4 0h-2v-4h2v4z\"/>\n",
              "    </g>\n",
              "</svg>\n",
              "  </button>\n",
              "\n",
              "<style>\n",
              "  .colab-df-quickchart {\n",
              "      --bg-color: #E8F0FE;\n",
              "      --fill-color: #1967D2;\n",
              "      --hover-bg-color: #E2EBFA;\n",
              "      --hover-fill-color: #174EA6;\n",
              "      --disabled-fill-color: #AAA;\n",
              "      --disabled-bg-color: #DDD;\n",
              "  }\n",
              "\n",
              "  [theme=dark] .colab-df-quickchart {\n",
              "      --bg-color: #3B4455;\n",
              "      --fill-color: #D2E3FC;\n",
              "      --hover-bg-color: #434B5C;\n",
              "      --hover-fill-color: #FFFFFF;\n",
              "      --disabled-bg-color: #3B4455;\n",
              "      --disabled-fill-color: #666;\n",
              "  }\n",
              "\n",
              "  .colab-df-quickchart {\n",
              "    background-color: var(--bg-color);\n",
              "    border: none;\n",
              "    border-radius: 50%;\n",
              "    cursor: pointer;\n",
              "    display: none;\n",
              "    fill: var(--fill-color);\n",
              "    height: 32px;\n",
              "    padding: 0;\n",
              "    width: 32px;\n",
              "  }\n",
              "\n",
              "  .colab-df-quickchart:hover {\n",
              "    background-color: var(--hover-bg-color);\n",
              "    box-shadow: 0 1px 2px rgba(60, 64, 67, 0.3), 0 1px 3px 1px rgba(60, 64, 67, 0.15);\n",
              "    fill: var(--button-hover-fill-color);\n",
              "  }\n",
              "\n",
              "  .colab-df-quickchart-complete:disabled,\n",
              "  .colab-df-quickchart-complete:disabled:hover {\n",
              "    background-color: var(--disabled-bg-color);\n",
              "    fill: var(--disabled-fill-color);\n",
              "    box-shadow: none;\n",
              "  }\n",
              "\n",
              "  .colab-df-spinner {\n",
              "    border: 2px solid var(--fill-color);\n",
              "    border-color: transparent;\n",
              "    border-bottom-color: var(--fill-color);\n",
              "    animation:\n",
              "      spin 1s steps(1) infinite;\n",
              "  }\n",
              "\n",
              "  @keyframes spin {\n",
              "    0% {\n",
              "      border-color: transparent;\n",
              "      border-bottom-color: var(--fill-color);\n",
              "      border-left-color: var(--fill-color);\n",
              "    }\n",
              "    20% {\n",
              "      border-color: transparent;\n",
              "      border-left-color: var(--fill-color);\n",
              "      border-top-color: var(--fill-color);\n",
              "    }\n",
              "    30% {\n",
              "      border-color: transparent;\n",
              "      border-left-color: var(--fill-color);\n",
              "      border-top-color: var(--fill-color);\n",
              "      border-right-color: var(--fill-color);\n",
              "    }\n",
              "    40% {\n",
              "      border-color: transparent;\n",
              "      border-right-color: var(--fill-color);\n",
              "      border-top-color: var(--fill-color);\n",
              "    }\n",
              "    60% {\n",
              "      border-color: transparent;\n",
              "      border-right-color: var(--fill-color);\n",
              "    }\n",
              "    80% {\n",
              "      border-color: transparent;\n",
              "      border-right-color: var(--fill-color);\n",
              "      border-bottom-color: var(--fill-color);\n",
              "    }\n",
              "    90% {\n",
              "      border-color: transparent;\n",
              "      border-bottom-color: var(--fill-color);\n",
              "    }\n",
              "  }\n",
              "</style>\n",
              "\n",
              "  <script>\n",
              "    async function quickchart(key) {\n",
              "      const quickchartButtonEl =\n",
              "        document.querySelector('#' + key + ' button');\n",
              "      quickchartButtonEl.disabled = true;  // To prevent multiple clicks.\n",
              "      quickchartButtonEl.classList.add('colab-df-spinner');\n",
              "      try {\n",
              "        const charts = await google.colab.kernel.invokeFunction(\n",
              "            'suggestCharts', [key], {});\n",
              "      } catch (error) {\n",
              "        console.error('Error during call to suggestCharts:', error);\n",
              "      }\n",
              "      quickchartButtonEl.classList.remove('colab-df-spinner');\n",
              "      quickchartButtonEl.classList.add('colab-df-quickchart-complete');\n",
              "    }\n",
              "    (() => {\n",
              "      let quickchartButtonEl =\n",
              "        document.querySelector('#df-eef9f154-68d5-4db2-935b-e568107831f7 button');\n",
              "      quickchartButtonEl.style.display =\n",
              "        google.colab.kernel.accessAllowed ? 'block' : 'none';\n",
              "    })();\n",
              "  </script>\n",
              "</div>\n",
              "\n",
              "    </div>\n",
              "  </div>\n"
            ]
          },
          "metadata": {},
          "execution_count": 119
        }
      ]
    },
    {
      "cell_type": "code",
      "source": [
        "colors_top_data['dateCreated'].unique"
      ],
      "metadata": {
        "colab": {
          "base_uri": "https://localhost:8080/"
        },
        "id": "y4wyjc6XFVOe",
        "outputId": "12b795ae-ff3e-40c8-e986-9adbdb65c068"
      },
      "execution_count": 120,
      "outputs": [
        {
          "output_type": "execute_result",
          "data": {
            "text/plain": [
              "<bound method Series.unique of 0      2008-05-19\n",
              "1      2004-12-17\n",
              "4      2004-12-17\n",
              "5      2005-08-09\n",
              "6      2006-02-04\n",
              "          ...    \n",
              "9875   2009-03-19\n",
              "9878   2009-03-17\n",
              "9895   2008-12-20\n",
              "9898   2008-12-17\n",
              "9899   2008-12-16\n",
              "Name: dateCreated, Length: 2020, dtype: datetime64[ns]>"
            ]
          },
          "metadata": {},
          "execution_count": 120
        }
      ]
    },
    {
      "cell_type": "code",
      "source": [
        "top_15_colors = colors_top_data.nlargest(15, 'rank')\n",
        "print(top_15_colors[['title', 'rank','hex','dateCreated']])"
      ],
      "metadata": {
        "colab": {
          "base_uri": "https://localhost:8080/"
        },
        "id": "NyTetGsoJoM5",
        "outputId": "eac70ee2-ce42-4ddb-8c8c-d52943a86777"
      },
      "execution_count": 121,
      "outputs": [
        {
          "output_type": "stream",
          "name": "stdout",
          "text": [
            "                     title   rank     hex dateCreated\n",
            "7643         bright lights  22274  FFF1CC  2007-01-29\n",
            "7603       dove on the air  22028  E0F4FF  2007-04-28\n",
            "6663             Lemonmilk  21947  FFF199  2007-05-21\n",
            "8689                   tea  21827  FFEBB9  2007-06-29\n",
            "5903             Neon Pink  21633  FF1168  2007-08-25\n",
            "8645               Ponyboy  21534  FFB870  2007-10-17\n",
            "7535     Soft Pastel Paper  21529  FFF0D4  2007-10-24\n",
            "7534           Golden Glow  21525  FFDF9E  2007-10-25\n",
            "7524        Dancing On Air  21487  493736  2007-12-03\n",
            "8623    Last Lady on Earth  21428  FFAEA3  2007-12-18\n",
            "7511                 sweet  21393  C60052  2008-01-07\n",
            "7499         rosa infantil  21309  FCCACA  2008-02-08\n",
            "4215             Patterson  21260  ACCEC0  2008-03-15\n",
            "7479               Flannel  21187  929487  2008-04-28\n",
            "2117  poetry of white lies  21122  FFE3AF  2008-06-05\n"
          ]
        }
      ]
    },
    {
      "cell_type": "code",
      "source": [
        "from IPython.display import Image, display\n",
        "\n",
        "# Assuming 'colors_data' is your DataFrame and 'imageUrl' is the column with image URLs\n",
        "# Filter data for top 15 colors\n",
        "top_15_colors = colors_top_data.nlargest(15, 'rank')\n",
        "\n",
        "\n",
        "# Display images for the colors added on December 27, 2023\n",
        "for url in top_15_colors['imageUrl']:\n",
        "    display(Image(url=url))"
      ],
      "metadata": {
        "colab": {
          "base_uri": "https://localhost:8080/",
          "height": 1000
        },
        "id": "P5FtUprcKe09",
        "outputId": "04bdbd63-315d-46b8-aa54-9dfefab41c5c"
      },
      "execution_count": 122,
      "outputs": [
        {
          "output_type": "display_data",
          "data": {
            "text/html": [
              "<img src=\"http://www.colourlovers.com/img/FFF1CC/100/100/bright_lights.png\"/>"
            ],
            "text/plain": [
              "<IPython.core.display.Image object>"
            ]
          },
          "metadata": {}
        },
        {
          "output_type": "display_data",
          "data": {
            "text/html": [
              "<img src=\"http://www.colourlovers.com/img/E0F4FF/100/100/dove_on_the_air.png\"/>"
            ],
            "text/plain": [
              "<IPython.core.display.Image object>"
            ]
          },
          "metadata": {}
        },
        {
          "output_type": "display_data",
          "data": {
            "text/html": [
              "<img src=\"http://www.colourlovers.com/img/FFF199/100/100/Lemonmilk.png\"/>"
            ],
            "text/plain": [
              "<IPython.core.display.Image object>"
            ]
          },
          "metadata": {}
        },
        {
          "output_type": "display_data",
          "data": {
            "text/html": [
              "<img src=\"http://www.colourlovers.com/img/FFEBB9/100/100/tea.png\"/>"
            ],
            "text/plain": [
              "<IPython.core.display.Image object>"
            ]
          },
          "metadata": {}
        },
        {
          "output_type": "display_data",
          "data": {
            "text/html": [
              "<img src=\"http://www.colourlovers.com/img/FF1168/100/100/Neon_Pink.png\"/>"
            ],
            "text/plain": [
              "<IPython.core.display.Image object>"
            ]
          },
          "metadata": {}
        },
        {
          "output_type": "display_data",
          "data": {
            "text/html": [
              "<img src=\"http://www.colourlovers.com/img/FFB870/100/100/Ponyboy.png\"/>"
            ],
            "text/plain": [
              "<IPython.core.display.Image object>"
            ]
          },
          "metadata": {}
        },
        {
          "output_type": "display_data",
          "data": {
            "text/html": [
              "<img src=\"http://www.colourlovers.com/img/FFF0D4/100/100/Soft_Pastel_Paper.png\"/>"
            ],
            "text/plain": [
              "<IPython.core.display.Image object>"
            ]
          },
          "metadata": {}
        },
        {
          "output_type": "display_data",
          "data": {
            "text/html": [
              "<img src=\"http://www.colourlovers.com/img/FFDF9E/100/100/Golden_Glow.png\"/>"
            ],
            "text/plain": [
              "<IPython.core.display.Image object>"
            ]
          },
          "metadata": {}
        },
        {
          "output_type": "display_data",
          "data": {
            "text/html": [
              "<img src=\"http://www.colourlovers.com/img/493736/100/100/Dancing_On_Air.png\"/>"
            ],
            "text/plain": [
              "<IPython.core.display.Image object>"
            ]
          },
          "metadata": {}
        },
        {
          "output_type": "display_data",
          "data": {
            "text/html": [
              "<img src=\"http://www.colourlovers.com/img/FFAEA3/100/100/Last_Lady_on_Earth.png\"/>"
            ],
            "text/plain": [
              "<IPython.core.display.Image object>"
            ]
          },
          "metadata": {}
        },
        {
          "output_type": "display_data",
          "data": {
            "text/html": [
              "<img src=\"http://www.colourlovers.com/img/C60052/100/100/sweet.png\"/>"
            ],
            "text/plain": [
              "<IPython.core.display.Image object>"
            ]
          },
          "metadata": {}
        },
        {
          "output_type": "display_data",
          "data": {
            "text/html": [
              "<img src=\"http://www.colourlovers.com/img/FCCACA/100/100/rosa_infantil.png\"/>"
            ],
            "text/plain": [
              "<IPython.core.display.Image object>"
            ]
          },
          "metadata": {}
        },
        {
          "output_type": "display_data",
          "data": {
            "text/html": [
              "<img src=\"http://www.colourlovers.com/img/ACCEC0/100/100/Patterson.png\"/>"
            ],
            "text/plain": [
              "<IPython.core.display.Image object>"
            ]
          },
          "metadata": {}
        },
        {
          "output_type": "display_data",
          "data": {
            "text/html": [
              "<img src=\"http://www.colourlovers.com/img/929487/100/100/Flannel.png\"/>"
            ],
            "text/plain": [
              "<IPython.core.display.Image object>"
            ]
          },
          "metadata": {}
        },
        {
          "output_type": "display_data",
          "data": {
            "text/html": [
              "<img src=\"http://www.colourlovers.com/img/FFE3AF/100/100/poetry_of_white_lies.png\"/>"
            ],
            "text/plain": [
              "<IPython.core.display.Image object>"
            ]
          },
          "metadata": {}
        }
      ]
    },
    {
      "cell_type": "markdown",
      "source": [
        "Let's explore the relatioship between the created date and rank, using the highest ranked color for plot."
      ],
      "metadata": {
        "id": "8Myc8r4EzjjI"
      }
    },
    {
      "cell_type": "code",
      "source": [
        "import plotly.express as px\n",
        "\n",
        "#I desided to chose the color with highest rank from colors_top_data\n",
        "highest_rank_row = colors_top_data.loc[colors_top_data['rank'].idxmax()]\n",
        "highest_rank_hex = highest_rank_row['hex']\n",
        "highest_rank_rgb = tuple(int(highest_rank_hex[i:i+2], 16) for i in (0, 2, 4))\n",
        "highest_rank_color = f'rgb{highest_rank_rgb}'\n",
        "\n",
        "fig = px.scatter(colors_top_data, x='dateCreated', y='rank',\n",
        "                 title='Relationship between Created Date and Rank')\n",
        "\n",
        "fig.update_xaxes(title='Date Created')\n",
        "fig.update_yaxes(title='Rank')\n",
        "fig.update_layout(\n",
        "    plot_bgcolor='#929487',  #color for the background\n",
        "    paper_bgcolor='#ACCEC0'  #color for the area around the plot\n",
        ")\n",
        "\n",
        "fig.update_traces(marker=dict(color=highest_rank_color))\n",
        "fig.show()"
      ],
      "metadata": {
        "colab": {
          "base_uri": "https://localhost:8080/",
          "height": 542
        },
        "id": "CUloXJPenPaq",
        "outputId": "f58a2ad2-5dae-4a6f-a023-34d543356f3f"
      },
      "execution_count": 123,
      "outputs": [
        {
          "output_type": "display_data",
          "data": {
            "text/html": [
              "<html>\n",
              "<head><meta charset=\"utf-8\" /></head>\n",
              "<body>\n",
              "    <div>            <script src=\"https://cdnjs.cloudflare.com/ajax/libs/mathjax/2.7.5/MathJax.js?config=TeX-AMS-MML_SVG\"></script><script type=\"text/javascript\">if (window.MathJax && window.MathJax.Hub && window.MathJax.Hub.Config) {window.MathJax.Hub.Config({SVG: {font: \"STIX-Web\"}});}</script>                <script type=\"text/javascript\">window.PlotlyConfig = {MathJaxConfig: 'local'};</script>\n",
              "        <script charset=\"utf-8\" src=\"https://cdn.plot.ly/plotly-2.24.1.min.js\"></script>                <div id=\"c3f2301b-505b-453b-857e-0ff8d680ab62\" class=\"plotly-graph-div\" style=\"height:525px; width:100%;\"></div>            <script type=\"text/javascript\">                                    window.PLOTLYENV=window.PLOTLYENV || {};                                    if (document.getElementById(\"c3f2301b-505b-453b-857e-0ff8d680ab62\")) {                    Plotly.newPlot(                        \"c3f2301b-505b-453b-857e-0ff8d680ab62\",                        [{\"hovertemplate\":\"dateCreated=%{x}\\u003cbr\\u003erank=%{y}\\u003cextra\\u003e\\u003c\\u002fextra\\u003e\",\"legendgroup\":\"\",\"marker\":{\"color\":\"rgb(255, 241, 204)\",\"symbol\":\"circle\"},\"mode\":\"markers\",\"name\":\"\",\"showlegend\":false,\"x\":[\"2008-05-19T00:00:00\",\"2004-12-17T00:00:00\",\"2004-12-17T00:00:00\",\"2005-08-09T00:00:00\",\"2006-02-04T00:00:00\",\"2005-01-07T00:00:00\",\"2004-12-19T00:00:00\",\"2008-12-02T00:00:00\",\"2004-12-16T00:00:00\",\"2012-05-16T00:00:00\",\"2010-08-09T00:00:00\",\"2008-05-13T00:00:00\",\"2005-07-01T00:00:00\",\"2007-02-20T00:00:00\",\"2005-06-04T00:00:00\",\"2007-11-06T00:00:00\",\"2005-07-03T00:00:00\",\"2004-12-18T00:00:00\",\"2010-07-05T00:00:00\",\"2007-06-16T00:00:00\",\"2007-04-22T00:00:00\",\"2008-07-01T00:00:00\",\"2006-01-07T00:00:00\",\"2007-04-02T00:00:00\",\"2007-07-03T00:00:00\",\"2005-01-01T00:00:00\",\"2005-08-20T00:00:00\",\"2008-05-24T00:00:00\",\"2005-02-23T00:00:00\",\"2005-06-11T00:00:00\",\"2005-09-17T00:00:00\",\"2009-10-25T00:00:00\",\"2007-07-02T00:00:00\",\"2005-07-20T00:00:00\",\"2008-06-19T00:00:00\",\"2007-01-17T00:00:00\",\"2005-06-23T00:00:00\",\"2005-05-25T00:00:00\",\"2008-01-04T00:00:00\",\"2009-01-04T00:00:00\",\"2008-05-04T00:00:00\",\"2005-01-01T00:00:00\",\"2011-04-28T00:00:00\",\"2007-04-05T00:00:00\",\"2005-11-14T00:00:00\",\"2008-05-31T00:00:00\",\"2007-06-01T00:00:00\",\"2005-09-27T00:00:00\",\"2007-11-06T00:00:00\",\"2012-04-13T00:00:00\",\"2010-12-08T00:00:00\",\"2005-01-10T00:00:00\",\"2004-12-18T00:00:00\",\"2008-12-30T00:00:00\",\"2007-04-02T00:00:00\",\"2007-08-12T00:00:00\",\"2005-09-08T00:00:00\",\"2011-05-14T00:00:00\",\"2005-07-16T00:00:00\",\"2007-04-04T00:00:00\",\"2007-07-28T00:00:00\",\"2007-02-04T00:00:00\",\"2012-02-17T00:00:00\",\"2005-07-23T00:00:00\",\"2005-08-29T00:00:00\",\"2011-01-29T00:00:00\",\"2009-08-25T00:00:00\",\"2005-06-20T00:00:00\",\"2005-08-07T00:00:00\",\"2012-01-27T00:00:00\",\"2011-04-20T00:00:00\",\"2005-09-10T00:00:00\",\"2010-11-03T00:00:00\",\"2011-03-22T00:00:00\",\"2005-09-07T00:00:00\",\"2005-06-03T00:00:00\",\"2011-04-27T00:00:00\",\"2005-07-21T00:00:00\",\"2008-05-28T00:00:00\",\"2008-06-03T00:00:00\",\"2009-09-22T00:00:00\",\"2008-04-20T00:00:00\",\"2008-10-26T00:00:00\",\"2008-04-26T00:00:00\",\"2005-10-11T00:00:00\",\"2011-04-17T00:00:00\",\"2009-10-04T00:00:00\",\"2007-01-14T00:00:00\",\"2007-08-10T00:00:00\",\"2006-12-23T00:00:00\",\"2005-08-23T00:00:00\",\"2013-12-30T00:00:00\",\"2011-08-17T00:00:00\",\"2010-11-19T00:00:00\",\"2007-07-20T00:00:00\",\"2005-05-24T00:00:00\",\"2007-06-23T00:00:00\",\"2005-06-21T00:00:00\",\"2005-12-16T00:00:00\",\"2005-10-13T00:00:00\",\"2010-04-01T00:00:00\",\"2005-07-31T00:00:00\",\"2005-09-12T00:00:00\",\"2010-06-05T00:00:00\",\"2010-02-04T00:00:00\",\"2007-08-15T00:00:00\",\"2012-04-03T00:00:00\",\"2011-01-21T00:00:00\",\"2005-07-30T00:00:00\",\"2007-04-03T00:00:00\",\"2009-12-10T00:00:00\",\"2007-10-20T00:00:00\",\"2005-12-07T00:00:00\",\"2007-04-02T00:00:00\",\"2005-07-07T00:00:00\",\"2007-10-08T00:00:00\",\"2007-02-01T00:00:00\",\"2006-07-31T00:00:00\",\"2007-06-06T00:00:00\",\"2011-06-12T00:00:00\",\"2005-08-22T00:00:00\",\"2007-08-06T00:00:00\",\"2011-01-16T00:00:00\",\"2008-08-22T00:00:00\",\"2004-12-17T00:00:00\",\"2011-01-19T00:00:00\",\"2010-11-29T00:00:00\",\"2008-10-15T00:00:00\",\"2007-07-16T00:00:00\",\"2008-09-04T00:00:00\",\"2006-06-27T00:00:00\",\"2005-10-10T00:00:00\",\"2005-10-06T00:00:00\",\"2011-03-27T00:00:00\",\"2011-01-26T00:00:00\",\"2007-10-14T00:00:00\",\"2006-10-13T00:00:00\",\"2006-09-20T00:00:00\",\"2005-12-08T00:00:00\",\"2005-07-31T00:00:00\",\"2011-06-04T00:00:00\",\"2005-06-02T00:00:00\",\"2004-12-17T00:00:00\",\"2011-05-22T00:00:00\",\"2011-03-11T00:00:00\",\"2010-11-21T00:00:00\",\"2010-09-07T00:00:00\",\"2008-05-13T00:00:00\",\"2007-04-12T00:00:00\",\"2005-08-29T00:00:00\",\"2005-07-02T00:00:00\",\"2004-12-19T00:00:00\",\"2011-11-07T00:00:00\",\"2011-03-10T00:00:00\",\"2009-02-01T00:00:00\",\"2008-03-29T00:00:00\",\"2005-07-21T00:00:00\",\"2012-03-28T00:00:00\",\"2009-06-10T00:00:00\",\"2008-07-06T00:00:00\",\"2007-01-15T00:00:00\",\"2005-10-03T00:00:00\",\"2005-08-03T00:00:00\",\"2004-12-28T00:00:00\",\"2012-03-27T00:00:00\",\"2011-05-05T00:00:00\",\"2007-07-07T00:00:00\",\"2007-04-03T00:00:00\",\"2005-11-23T00:00:00\",\"2008-12-29T00:00:00\",\"2008-01-09T00:00:00\",\"2007-03-24T00:00:00\",\"2007-02-22T00:00:00\",\"2006-08-04T00:00:00\",\"2005-02-24T00:00:00\",\"2005-07-18T00:00:00\",\"2015-07-27T00:00:00\",\"2011-02-27T00:00:00\",\"2007-02-15T00:00:00\",\"2007-01-13T00:00:00\",\"2012-01-12T00:00:00\",\"2010-03-14T00:00:00\",\"2007-04-02T00:00:00\",\"2005-01-01T00:00:00\",\"2012-11-19T00:00:00\",\"2010-12-31T00:00:00\",\"2010-06-04T00:00:00\",\"2009-06-21T00:00:00\",\"2006-05-17T00:00:00\",\"2011-11-11T00:00:00\",\"2011-02-13T00:00:00\",\"2006-12-16T00:00:00\",\"2005-09-24T00:00:00\",\"2011-10-07T00:00:00\",\"2011-08-27T00:00:00\",\"2005-10-11T00:00:00\",\"2005-08-28T00:00:00\",\"2011-02-28T00:00:00\",\"2011-02-20T00:00:00\",\"2007-07-27T00:00:00\",\"2005-10-28T00:00:00\",\"2013-03-18T00:00:00\",\"2011-07-29T00:00:00\",\"2011-07-08T00:00:00\",\"2010-09-15T00:00:00\",\"2006-09-14T00:00:00\",\"2005-08-28T00:00:00\",\"2011-08-27T00:00:00\",\"2009-06-22T00:00:00\",\"2008-06-01T00:00:00\",\"2007-06-01T00:00:00\",\"2007-04-13T00:00:00\",\"2006-09-07T00:00:00\",\"2005-10-16T00:00:00\",\"2005-08-28T00:00:00\",\"2005-06-21T00:00:00\",\"2011-02-28T00:00:00\",\"2008-04-25T00:00:00\",\"2007-07-31T00:00:00\",\"2007-04-16T00:00:00\",\"2007-04-03T00:00:00\",\"2005-08-31T00:00:00\",\"2005-07-19T00:00:00\",\"2004-12-19T00:00:00\",\"2013-11-21T00:00:00\",\"2011-05-25T00:00:00\",\"2010-10-16T00:00:00\",\"2010-02-28T00:00:00\",\"2009-04-04T00:00:00\",\"2008-10-14T00:00:00\",\"2008-06-16T00:00:00\",\"2005-11-17T00:00:00\",\"2005-07-23T00:00:00\",\"2015-10-06T00:00:00\",\"2011-03-19T00:00:00\",\"2010-09-15T00:00:00\",\"2008-05-13T00:00:00\",\"2005-09-28T00:00:00\",\"2005-09-22T00:00:00\",\"2005-06-15T00:00:00\",\"2014-12-14T00:00:00\",\"2011-06-01T00:00:00\",\"2006-12-07T00:00:00\",\"2006-06-27T00:00:00\",\"2005-08-22T00:00:00\",\"2005-08-08T00:00:00\",\"2005-07-23T00:00:00\",\"2014-05-30T00:00:00\",\"2013-02-19T00:00:00\",\"2013-01-02T00:00:00\",\"2012-02-03T00:00:00\",\"2012-01-11T00:00:00\",\"2011-08-04T00:00:00\",\"2008-02-08T00:00:00\",\"2005-09-17T00:00:00\",\"2005-06-13T00:00:00\",\"2014-06-13T00:00:00\",\"2014-03-03T00:00:00\",\"2014-01-08T00:00:00\",\"2013-06-05T00:00:00\",\"2012-03-23T00:00:00\",\"2010-07-21T00:00:00\",\"2008-03-09T00:00:00\",\"2005-11-24T00:00:00\",\"2005-11-16T00:00:00\",\"2005-09-11T00:00:00\",\"2005-08-22T00:00:00\",\"2005-08-15T00:00:00\",\"2005-06-26T00:00:00\",\"2005-06-05T00:00:00\",\"2004-12-18T00:00:00\",\"2004-12-17T00:00:00\",\"2012-03-11T00:00:00\",\"2011-07-06T00:00:00\",\"2005-10-07T00:00:00\",\"2012-12-03T00:00:00\",\"2012-06-11T00:00:00\",\"2012-03-15T00:00:00\",\"2011-05-01T00:00:00\",\"2009-11-22T00:00:00\",\"2007-11-12T00:00:00\",\"2005-09-09T00:00:00\",\"2011-08-21T00:00:00\",\"2011-06-08T00:00:00\",\"2011-05-09T00:00:00\",\"2011-01-12T00:00:00\",\"2008-04-19T00:00:00\",\"2007-05-29T00:00:00\",\"2007-04-15T00:00:00\",\"2007-03-15T00:00:00\",\"2006-08-12T00:00:00\",\"2006-07-10T00:00:00\",\"2005-09-13T00:00:00\",\"2005-08-30T00:00:00\",\"2005-08-23T00:00:00\",\"2012-01-09T00:00:00\",\"2011-07-10T00:00:00\",\"2011-04-30T00:00:00\",\"2010-07-09T00:00:00\",\"2005-07-15T00:00:00\",\"2014-04-18T00:00:00\",\"2011-06-02T00:00:00\",\"2011-05-04T00:00:00\",\"2010-10-15T00:00:00\",\"2010-03-07T00:00:00\",\"2009-09-11T00:00:00\",\"2007-05-13T00:00:00\",\"2007-04-16T00:00:00\",\"2007-01-18T00:00:00\",\"2006-05-20T00:00:00\",\"2005-08-03T00:00:00\",\"2005-06-08T00:00:00\",\"2015-04-14T00:00:00\",\"2013-03-05T00:00:00\",\"2012-04-13T00:00:00\",\"2011-04-11T00:00:00\",\"2009-11-16T00:00:00\",\"2005-08-05T00:00:00\",\"2004-12-27T00:00:00\",\"2015-08-08T00:00:00\",\"2015-04-30T00:00:00\",\"2015-03-18T00:00:00\",\"2014-09-14T00:00:00\",\"2008-08-25T00:00:00\",\"2008-03-08T00:00:00\",\"2005-08-26T00:00:00\",\"2005-07-29T00:00:00\",\"2015-09-11T00:00:00\",\"2015-01-01T00:00:00\",\"2012-04-25T00:00:00\",\"2011-09-13T00:00:00\",\"2011-03-09T00:00:00\",\"2011-02-17T00:00:00\",\"2010-12-12T00:00:00\",\"2010-05-30T00:00:00\",\"2010-04-06T00:00:00\",\"2007-07-18T00:00:00\",\"2005-08-26T00:00:00\",\"2005-06-26T00:00:00\",\"2012-07-16T00:00:00\",\"2011-08-01T00:00:00\",\"2011-01-30T00:00:00\",\"2010-11-04T00:00:00\",\"2010-01-02T00:00:00\",\"2008-04-03T00:00:00\",\"2007-12-12T00:00:00\",\"2007-12-09T00:00:00\",\"2006-12-15T00:00:00\",\"2005-08-26T00:00:00\",\"2013-12-06T00:00:00\",\"2012-01-11T00:00:00\",\"2011-01-13T00:00:00\",\"2007-10-14T00:00:00\",\"2007-02-15T00:00:00\",\"2005-10-04T00:00:00\",\"2004-12-17T00:00:00\",\"2014-12-05T00:00:00\",\"2012-04-24T00:00:00\",\"2011-11-02T00:00:00\",\"2011-03-11T00:00:00\",\"2010-11-09T00:00:00\",\"2010-03-22T00:00:00\",\"2010-02-23T00:00:00\",\"2009-08-06T00:00:00\",\"2008-10-21T00:00:00\",\"2008-02-19T00:00:00\",\"2007-07-25T00:00:00\",\"2007-06-01T00:00:00\",\"2006-12-14T00:00:00\",\"2005-09-09T00:00:00\",\"2005-08-17T00:00:00\",\"2005-07-25T00:00:00\",\"2013-02-04T00:00:00\",\"2012-12-03T00:00:00\",\"2012-02-27T00:00:00\",\"2011-05-27T00:00:00\",\"2007-04-04T00:00:00\",\"2006-03-04T00:00:00\",\"2005-12-31T00:00:00\",\"2005-08-21T00:00:00\",\"2005-07-09T00:00:00\",\"2005-06-28T00:00:00\",\"2012-08-05T00:00:00\",\"2012-07-05T00:00:00\",\"2011-11-16T00:00:00\",\"2011-02-03T00:00:00\",\"2010-06-22T00:00:00\",\"2009-02-03T00:00:00\",\"2008-05-17T00:00:00\",\"2008-04-12T00:00:00\",\"2007-09-04T00:00:00\",\"2006-08-17T00:00:00\",\"2006-06-06T00:00:00\",\"2005-11-05T00:00:00\",\"2005-09-01T00:00:00\",\"2005-07-29T00:00:00\",\"2005-07-26T00:00:00\",\"2005-06-27T00:00:00\",\"2005-06-08T00:00:00\",\"2005-06-04T00:00:00\",\"2004-12-21T00:00:00\",\"2015-01-08T00:00:00\",\"2014-03-29T00:00:00\",\"2014-01-02T00:00:00\",\"2013-02-26T00:00:00\",\"2012-09-24T00:00:00\",\"2011-10-11T00:00:00\",\"2011-05-23T00:00:00\",\"2010-08-07T00:00:00\",\"2009-08-03T00:00:00\",\"2008-07-12T00:00:00\",\"2007-05-23T00:00:00\",\"2007-02-22T00:00:00\",\"2005-08-02T00:00:00\",\"2005-07-22T00:00:00\",\"2005-05-24T00:00:00\",\"2004-12-17T00:00:00\",\"2016-08-09T00:00:00\",\"2012-07-02T00:00:00\",\"2011-09-27T00:00:00\",\"2011-06-23T00:00:00\",\"2011-04-18T00:00:00\",\"2011-04-10T00:00:00\",\"2011-03-27T00:00:00\",\"2010-12-28T00:00:00\",\"2010-12-22T00:00:00\",\"2010-07-15T00:00:00\",\"2009-01-28T00:00:00\",\"2008-12-18T00:00:00\",\"2008-08-11T00:00:00\",\"2008-06-17T00:00:00\",\"2007-12-11T00:00:00\",\"2007-04-26T00:00:00\",\"2007-04-04T00:00:00\",\"2007-01-22T00:00:00\",\"2005-08-28T00:00:00\",\"2005-06-29T00:00:00\",\"2015-09-03T00:00:00\",\"2011-11-05T00:00:00\",\"2011-03-04T00:00:00\",\"2011-01-07T00:00:00\",\"2010-03-06T00:00:00\",\"2010-02-24T00:00:00\",\"2010-02-19T00:00:00\",\"2008-07-13T00:00:00\",\"2008-05-09T00:00:00\",\"2007-12-31T00:00:00\",\"2007-12-13T00:00:00\",\"2007-09-11T00:00:00\",\"2007-08-01T00:00:00\",\"2007-04-27T00:00:00\",\"2007-04-05T00:00:00\",\"2005-11-13T00:00:00\",\"2005-09-23T00:00:00\",\"2005-08-20T00:00:00\",\"2005-06-12T00:00:00\",\"2015-11-26T00:00:00\",\"2015-05-23T00:00:00\",\"2015-02-06T00:00:00\",\"2015-01-02T00:00:00\",\"2014-04-30T00:00:00\",\"2013-05-16T00:00:00\",\"2010-06-29T00:00:00\",\"2010-02-02T00:00:00\",\"2009-12-08T00:00:00\",\"2008-07-31T00:00:00\",\"2007-12-20T00:00:00\",\"2007-09-08T00:00:00\",\"2007-04-04T00:00:00\",\"2007-02-28T00:00:00\",\"2006-09-24T00:00:00\",\"2006-09-14T00:00:00\",\"2006-01-07T00:00:00\",\"2005-09-15T00:00:00\",\"2004-12-28T00:00:00\",\"2004-12-20T00:00:00\",\"2004-12-17T00:00:00\",\"2015-08-18T00:00:00\",\"2015-04-16T00:00:00\",\"2012-11-07T00:00:00\",\"2012-09-05T00:00:00\",\"2012-07-04T00:00:00\",\"2012-06-04T00:00:00\",\"2012-03-15T00:00:00\",\"2012-02-22T00:00:00\",\"2011-06-06T00:00:00\",\"2011-02-02T00:00:00\",\"2011-01-08T00:00:00\",\"2010-07-28T00:00:00\",\"2010-02-04T00:00:00\",\"2009-06-25T00:00:00\",\"2008-12-12T00:00:00\",\"2008-05-25T00:00:00\",\"2008-01-09T00:00:00\",\"2007-07-10T00:00:00\",\"2007-06-14T00:00:00\",\"2006-11-27T00:00:00\",\"2005-08-27T00:00:00\",\"2005-08-04T00:00:00\",\"2005-07-27T00:00:00\",\"2005-01-04T00:00:00\",\"2015-03-15T00:00:00\",\"2014-10-25T00:00:00\",\"2014-03-29T00:00:00\",\"2014-01-05T00:00:00\",\"2013-08-05T00:00:00\",\"2012-08-21T00:00:00\",\"2012-02-08T00:00:00\",\"2011-08-20T00:00:00\",\"2011-05-30T00:00:00\",\"2011-03-16T00:00:00\",\"2011-01-11T00:00:00\",\"2010-12-15T00:00:00\",\"2010-08-12T00:00:00\",\"2010-06-23T00:00:00\",\"2009-12-24T00:00:00\",\"2008-09-03T00:00:00\",\"2008-07-25T00:00:00\",\"2008-04-26T00:00:00\",\"2007-09-03T00:00:00\",\"2007-07-30T00:00:00\",\"2007-06-19T00:00:00\",\"2007-05-22T00:00:00\",\"2007-04-03T00:00:00\",\"2007-01-09T00:00:00\",\"2006-10-28T00:00:00\",\"2005-10-12T00:00:00\",\"2005-09-11T00:00:00\",\"2005-09-10T00:00:00\",\"2005-09-05T00:00:00\",\"2005-08-02T00:00:00\",\"2005-07-30T00:00:00\",\"2005-07-22T00:00:00\",\"2005-06-09T00:00:00\",\"2014-11-02T00:00:00\",\"2013-09-17T00:00:00\",\"2014-06-24T00:00:00\",\"2012-06-22T00:00:00\",\"2012-02-17T00:00:00\",\"2011-10-15T00:00:00\",\"2011-08-23T00:00:00\",\"2011-08-13T00:00:00\",\"2011-05-11T00:00:00\",\"2011-01-29T00:00:00\",\"2010-07-27T00:00:00\",\"2010-02-13T00:00:00\",\"2009-12-04T00:00:00\",\"2009-08-13T00:00:00\",\"2009-06-21T00:00:00\",\"2009-06-09T00:00:00\",\"2009-06-03T00:00:00\",\"2008-03-23T00:00:00\",\"2008-01-30T00:00:00\",\"2008-01-08T00:00:00\",\"2007-11-04T00:00:00\",\"2007-10-31T00:00:00\",\"2007-08-07T00:00:00\",\"2007-06-28T00:00:00\",\"2007-04-29T00:00:00\",\"2007-03-01T00:00:00\",\"2007-01-04T00:00:00\",\"2006-12-11T00:00:00\",\"2006-10-05T00:00:00\",\"2005-06-02T00:00:00\",\"2005-03-09T00:00:00\",\"2015-03-08T00:00:00\",\"2014-08-26T00:00:00\",\"2014-07-08T00:00:00\",\"2013-05-13T00:00:00\",\"2013-05-13T00:00:00\",\"2012-06-18T00:00:00\",\"2011-12-17T00:00:00\",\"2011-08-28T00:00:00\",\"2011-06-01T00:00:00\",\"2011-05-15T00:00:00\",\"2011-04-03T00:00:00\",\"2011-02-03T00:00:00\",\"2010-10-23T00:00:00\",\"2010-04-25T00:00:00\",\"2009-01-12T00:00:00\",\"2008-12-22T00:00:00\",\"2008-10-23T00:00:00\",\"2008-09-29T00:00:00\",\"2008-06-21T00:00:00\",\"2008-05-05T00:00:00\",\"2007-10-24T00:00:00\",\"2007-10-18T00:00:00\",\"2007-04-24T00:00:00\",\"2007-03-31T00:00:00\",\"2007-02-18T00:00:00\",\"2006-12-21T00:00:00\",\"2005-11-18T00:00:00\",\"2005-10-06T00:00:00\",\"2005-07-22T00:00:00\",\"2005-07-18T00:00:00\",\"2005-06-22T00:00:00\",\"2005-06-10T00:00:00\",\"2005-02-16T00:00:00\",\"2014-03-10T00:00:00\",\"2014-02-22T00:00:00\",\"2013-12-22T00:00:00\",\"2011-10-12T00:00:00\",\"2011-08-18T00:00:00\",\"2011-07-24T00:00:00\",\"2011-04-30T00:00:00\",\"2011-04-02T00:00:00\",\"2011-01-15T00:00:00\",\"2010-12-27T00:00:00\",\"2009-12-21T00:00:00\",\"2008-10-16T00:00:00\",\"2008-06-02T00:00:00\",\"2008-04-04T00:00:00\",\"2007-10-29T00:00:00\",\"2007-10-22T00:00:00\",\"2007-08-03T00:00:00\",\"2007-06-07T00:00:00\",\"2007-03-18T00:00:00\",\"2007-01-27T00:00:00\",\"2006-08-09T00:00:00\",\"2006-06-14T00:00:00\",\"2006-05-14T00:00:00\",\"2005-10-21T00:00:00\",\"2005-10-13T00:00:00\",\"2005-09-16T00:00:00\",\"2005-08-16T00:00:00\",\"2005-06-25T00:00:00\",\"2015-04-03T00:00:00\",\"2013-06-26T00:00:00\",\"2013-04-27T00:00:00\",\"2013-02-10T00:00:00\",\"2012-07-19T00:00:00\",\"2012-07-02T00:00:00\",\"2011-07-08T00:00:00\",\"2011-02-24T00:00:00\",\"2010-09-18T00:00:00\",\"2010-05-27T00:00:00\",\"2010-01-25T00:00:00\",\"2009-08-16T00:00:00\",\"2009-04-11T00:00:00\",\"2008-04-04T00:00:00\",\"2008-03-11T00:00:00\",\"2008-02-16T00:00:00\",\"2007-11-30T00:00:00\",\"2007-11-30T00:00:00\",\"2007-11-28T00:00:00\",\"2007-06-29T00:00:00\",\"2007-06-09T00:00:00\",\"2006-11-25T00:00:00\",\"2006-06-15T00:00:00\",\"2006-01-16T00:00:00\",\"2012-02-17T00:00:00\",\"2005-11-24T00:00:00\",\"2005-09-30T00:00:00\",\"2005-08-26T00:00:00\",\"2005-08-03T00:00:00\",\"2004-12-18T00:00:00\",\"2015-06-27T00:00:00\",\"2015-03-06T00:00:00\",\"2014-02-08T00:00:00\",\"2014-01-06T00:00:00\",\"2012-06-17T00:00:00\",\"2012-04-05T00:00:00\",\"2012-02-27T00:00:00\",\"2011-08-08T00:00:00\",\"2011-03-13T00:00:00\",\"2011-02-13T00:00:00\",\"2010-08-26T00:00:00\",\"2010-06-21T00:00:00\",\"2009-06-03T00:00:00\",\"2009-02-08T00:00:00\",\"2008-07-22T00:00:00\",\"2007-10-12T00:00:00\",\"2007-08-10T00:00:00\",\"2007-06-26T00:00:00\",\"2007-04-06T00:00:00\",\"2007-01-18T00:00:00\",\"2005-10-17T00:00:00\",\"2005-10-14T00:00:00\",\"2005-09-05T00:00:00\",\"2005-07-10T00:00:00\",\"2005-07-02T00:00:00\",\"2005-03-07T00:00:00\",\"2015-02-12T00:00:00\",\"2014-12-21T00:00:00\",\"2014-04-02T00:00:00\",\"2012-09-28T00:00:00\",\"2012-06-10T00:00:00\",\"2011-12-29T00:00:00\",\"2011-12-14T00:00:00\",\"2011-08-31T00:00:00\",\"2011-08-23T00:00:00\",\"2011-05-01T00:00:00\",\"2011-01-29T00:00:00\",\"2010-09-26T00:00:00\",\"2015-07-24T00:00:00\",\"2009-08-29T00:00:00\",\"2009-06-20T00:00:00\",\"2009-03-27T00:00:00\",\"2008-10-05T00:00:00\",\"2008-10-01T00:00:00\",\"2008-09-28T00:00:00\",\"2008-06-05T00:00:00\",\"2008-04-30T00:00:00\",\"2008-04-11T00:00:00\",\"2008-03-03T00:00:00\",\"2008-01-07T00:00:00\",\"2007-10-24T00:00:00\",\"2007-10-12T00:00:00\",\"2007-08-10T00:00:00\",\"2007-08-09T00:00:00\",\"2007-07-07T00:00:00\",\"2007-04-04T00:00:00\",\"2007-03-18T00:00:00\",\"2007-02-14T00:00:00\",\"2007-01-02T00:00:00\",\"2005-08-30T00:00:00\",\"2005-06-30T00:00:00\",\"2005-01-04T00:00:00\",\"2014-10-03T00:00:00\",\"2013-11-20T00:00:00\",\"2013-07-14T00:00:00\",\"2012-12-23T00:00:00\",\"2012-09-13T00:00:00\",\"2012-09-05T00:00:00\",\"2012-08-22T00:00:00\",\"2012-07-06T00:00:00\",\"2012-06-10T00:00:00\",\"2012-01-09T00:00:00\",\"2011-10-24T00:00:00\",\"2011-02-06T00:00:00\",\"2010-10-25T00:00:00\",\"2010-08-14T00:00:00\",\"2010-07-31T00:00:00\",\"2009-10-24T00:00:00\",\"2009-09-11T00:00:00\",\"2009-03-13T00:00:00\",\"2009-01-28T00:00:00\",\"2009-01-21T00:00:00\",\"2008-08-29T00:00:00\",\"2008-06-27T00:00:00\",\"2008-04-27T00:00:00\",\"2008-03-29T00:00:00\",\"2007-11-25T00:00:00\",\"2007-11-18T00:00:00\",\"2007-11-13T00:00:00\",\"2007-11-03T00:00:00\",\"2007-11-02T00:00:00\",\"2007-10-06T00:00:00\",\"2007-09-09T00:00:00\",\"2007-08-12T00:00:00\",\"2007-06-29T00:00:00\",\"2007-05-12T00:00:00\",\"2007-04-18T00:00:00\",\"2007-04-12T00:00:00\",\"2007-02-02T00:00:00\",\"2006-04-16T00:00:00\",\"2005-09-11T00:00:00\",\"2004-12-22T00:00:00\",\"2016-12-02T00:00:00\",\"2016-08-10T00:00:00\",\"2016-03-10T00:00:00\",\"2015-10-30T00:00:00\",\"2015-08-20T00:00:00\",\"2015-06-05T00:00:00\",\"2015-03-18T00:00:00\",\"2014-12-22T00:00:00\",\"2013-01-12T00:00:00\",\"2012-02-18T00:00:00\",\"2011-12-03T00:00:00\",\"2010-09-25T00:00:00\",\"2008-06-30T00:00:00\",\"2008-04-01T00:00:00\",\"2008-03-30T00:00:00\",\"2007-12-10T00:00:00\",\"2007-09-07T00:00:00\",\"2005-09-10T00:00:00\",\"2005-08-15T00:00:00\",\"2016-02-20T00:00:00\",\"2015-07-01T00:00:00\",\"2014-01-10T00:00:00\",\"2013-08-08T00:00:00\",\"2013-05-11T00:00:00\",\"2013-02-03T00:00:00\",\"2012-12-28T00:00:00\",\"2012-12-06T00:00:00\",\"2012-09-25T00:00:00\",\"2012-09-16T00:00:00\",\"2012-08-05T00:00:00\",\"2012-07-27T00:00:00\",\"2012-01-30T00:00:00\",\"2011-11-26T00:00:00\",\"2011-11-02T00:00:00\",\"2011-12-09T00:00:00\",\"2011-10-11T00:00:00\",\"2011-09-07T00:00:00\",\"2011-07-09T00:00:00\",\"2011-06-26T00:00:00\",\"2011-04-11T00:00:00\",\"2011-03-26T00:00:00\",\"2010-09-19T00:00:00\",\"2010-04-21T00:00:00\",\"2010-03-03T00:00:00\",\"2009-11-16T00:00:00\",\"2009-06-19T00:00:00\",\"2008-05-13T00:00:00\",\"2008-02-23T00:00:00\",\"2008-01-05T00:00:00\",\"2008-01-03T00:00:00\",\"2007-09-19T00:00:00\",\"2007-09-03T00:00:00\",\"2007-08-25T00:00:00\",\"2007-02-09T00:00:00\",\"2007-01-13T00:00:00\",\"2006-02-18T00:00:00\",\"2006-01-10T00:00:00\",\"2005-07-26T00:00:00\",\"2005-06-20T00:00:00\",\"2005-06-02T00:00:00\",\"2015-03-08T00:00:00\",\"2014-08-07T00:00:00\",\"2013-09-19T00:00:00\",\"2012-12-12T00:00:00\",\"2012-09-03T00:00:00\",\"2012-08-07T00:00:00\",\"2012-01-29T00:00:00\",\"2012-01-01T00:00:00\",\"2011-10-22T00:00:00\",\"2011-10-01T00:00:00\",\"2011-07-10T00:00:00\",\"2011-05-13T00:00:00\",\"2011-05-04T00:00:00\",\"2011-02-02T00:00:00\",\"2011-01-26T00:00:00\",\"2010-11-03T00:00:00\",\"2010-05-14T00:00:00\",\"2009-06-24T00:00:00\",\"2008-02-14T00:00:00\",\"2008-02-06T00:00:00\",\"2008-01-15T00:00:00\",\"2008-01-11T00:00:00\",\"2008-01-02T00:00:00\",\"2007-12-08T00:00:00\",\"2007-07-23T00:00:00\",\"2007-06-19T00:00:00\",\"2007-04-29T00:00:00\",\"2007-02-21T00:00:00\",\"2007-02-21T00:00:00\",\"2006-09-10T00:00:00\",\"2006-06-01T00:00:00\",\"2005-12-03T00:00:00\",\"2005-08-28T00:00:00\",\"2005-06-05T00:00:00\",\"2004-12-29T00:00:00\",\"2004-12-19T00:00:00\",\"2016-01-03T00:00:00\",\"2015-03-23T00:00:00\",\"2015-03-14T00:00:00\",\"2015-02-15T00:00:00\",\"2013-03-20T00:00:00\",\"2012-06-09T00:00:00\",\"2011-10-01T00:00:00\",\"2011-09-21T00:00:00\",\"2011-09-17T00:00:00\",\"2011-09-14T00:00:00\",\"2011-07-03T00:00:00\",\"2011-03-11T00:00:00\",\"2011-02-12T00:00:00\",\"2011-01-30T00:00:00\",\"2010-07-15T00:00:00\",\"2010-03-11T00:00:00\",\"2009-08-19T00:00:00\",\"2009-07-02T00:00:00\",\"2009-02-21T00:00:00\",\"2009-01-09T00:00:00\",\"2008-10-21T00:00:00\",\"2008-10-03T00:00:00\",\"2008-09-06T00:00:00\",\"2008-09-01T00:00:00\",\"2008-07-10T00:00:00\",\"2008-06-03T00:00:00\",\"2008-04-27T00:00:00\",\"2008-03-24T00:00:00\",\"2008-03-07T00:00:00\",\"2008-01-22T00:00:00\",\"2007-12-26T00:00:00\",\"2007-12-13T00:00:00\",\"2007-10-31T00:00:00\",\"2007-10-23T00:00:00\",\"2007-10-09T00:00:00\",\"2007-08-24T00:00:00\",\"2007-08-22T00:00:00\",\"2007-06-23T00:00:00\",\"2006-11-30T00:00:00\",\"2006-08-07T00:00:00\",\"2006-03-10T00:00:00\",\"2006-01-13T00:00:00\",\"2005-11-12T00:00:00\",\"2005-10-11T00:00:00\",\"2005-10-02T00:00:00\",\"2005-09-03T00:00:00\",\"2005-08-24T00:00:00\",\"2005-08-23T00:00:00\",\"2005-08-17T00:00:00\",\"2005-08-08T00:00:00\",\"2005-07-28T00:00:00\",\"2005-07-20T00:00:00\",\"2005-07-18T00:00:00\",\"2005-07-12T00:00:00\",\"2005-06-13T00:00:00\",\"2005-06-09T00:00:00\",\"2005-05-05T00:00:00\",\"2004-12-18T00:00:00\",\"2015-12-08T00:00:00\",\"2015-10-24T00:00:00\",\"2014-09-08T00:00:00\",\"2014-07-24T00:00:00\",\"2014-01-30T00:00:00\",\"2013-12-13T00:00:00\",\"2013-07-26T00:00:00\",\"2013-05-13T00:00:00\",\"2013-04-13T00:00:00\",\"2012-12-02T00:00:00\",\"2012-09-07T00:00:00\",\"2012-04-05T00:00:00\",\"2012-01-14T00:00:00\",\"2011-09-01T00:00:00\",\"2011-08-03T00:00:00\",\"2011-06-29T00:00:00\",\"2011-04-17T00:00:00\",\"2011-03-07T00:00:00\",\"2011-03-06T00:00:00\",\"2010-11-28T00:00:00\",\"2010-11-15T00:00:00\",\"2010-02-06T00:00:00\",\"2009-08-12T00:00:00\",\"2008-08-02T00:00:00\",\"2008-08-01T00:00:00\",\"2008-06-05T00:00:00\",\"2008-05-06T00:00:00\",\"2008-04-30T00:00:00\",\"2008-04-01T00:00:00\",\"2008-03-13T00:00:00\",\"2008-02-16T00:00:00\",\"2008-01-28T00:00:00\",\"2007-12-19T00:00:00\",\"2007-12-13T00:00:00\",\"2007-12-10T00:00:00\",\"2007-11-08T00:00:00\",\"2007-09-06T00:00:00\",\"2007-08-20T00:00:00\",\"2007-08-20T00:00:00\",\"2007-08-13T00:00:00\",\"2007-08-12T00:00:00\",\"2007-05-05T00:00:00\",\"2007-04-06T00:00:00\",\"2006-12-12T00:00:00\",\"2006-12-06T00:00:00\",\"2006-09-20T00:00:00\",\"2006-09-13T00:00:00\",\"2006-07-12T00:00:00\",\"2006-03-05T00:00:00\",\"2006-01-11T00:00:00\",\"2005-11-23T00:00:00\",\"2005-11-21T00:00:00\",\"2005-10-10T00:00:00\",\"2005-10-07T00:00:00\",\"2005-09-13T00:00:00\",\"2005-08-20T00:00:00\",\"2005-08-19T00:00:00\",\"2005-07-27T00:00:00\",\"2005-07-16T00:00:00\",\"2015-08-30T00:00:00\",\"2015-06-19T00:00:00\",\"2014-10-17T00:00:00\",\"2014-08-30T00:00:00\",\"2014-08-02T00:00:00\",\"2013-11-24T00:00:00\",\"2013-09-04T00:00:00\",\"2013-07-16T00:00:00\",\"2013-06-24T00:00:00\",\"2012-10-20T00:00:00\",\"2012-07-12T00:00:00\",\"2012-06-25T00:00:00\",\"2012-03-14T00:00:00\",\"2012-02-21T00:00:00\",\"2011-12-15T00:00:00\",\"2011-09-20T00:00:00\",\"2011-06-14T00:00:00\",\"2011-05-28T00:00:00\",\"2011-03-26T00:00:00\",\"2010-12-27T00:00:00\",\"2010-11-28T00:00:00\",\"2010-03-26T00:00:00\",\"2010-02-26T00:00:00\",\"2009-07-28T00:00:00\",\"2009-07-06T00:00:00\",\"2009-05-07T00:00:00\",\"2008-11-04T00:00:00\",\"2008-10-16T00:00:00\",\"2008-10-13T00:00:00\",\"2008-06-29T00:00:00\",\"2008-05-18T00:00:00\",\"2008-04-20T00:00:00\",\"2007-12-08T00:00:00\",\"2007-09-15T00:00:00\",\"2007-04-21T00:00:00\",\"2007-04-20T00:00:00\",\"2007-04-06T00:00:00\",\"2007-04-05T00:00:00\",\"2007-04-03T00:00:00\",\"2007-03-28T00:00:00\",\"2007-03-18T00:00:00\",\"2006-12-13T00:00:00\",\"2006-12-08T00:00:00\",\"2006-10-23T00:00:00\",\"2006-01-22T00:00:00\",\"2005-11-02T00:00:00\",\"2005-10-31T00:00:00\",\"2005-10-26T00:00:00\",\"2005-10-22T00:00:00\",\"2005-09-13T00:00:00\",\"2005-09-07T00:00:00\",\"2005-08-28T00:00:00\",\"2005-08-08T00:00:00\",\"2005-07-25T00:00:00\",\"2004-12-17T00:00:00\",\"2017-01-06T00:00:00\",\"2016-03-16T00:00:00\",\"2015-06-25T00:00:00\",\"2015-01-14T00:00:00\",\"2014-08-03T00:00:00\",\"2014-07-16T00:00:00\",\"2013-12-22T00:00:00\",\"2013-08-24T00:00:00\",\"2013-08-16T00:00:00\",\"2013-07-08T00:00:00\",\"2012-10-15T00:00:00\",\"2012-09-08T00:00:00\",\"2012-08-17T00:00:00\",\"2012-07-28T00:00:00\",\"2012-07-09T00:00:00\",\"2012-06-13T00:00:00\",\"2012-05-06T00:00:00\",\"2012-04-11T00:00:00\",\"2012-03-11T00:00:00\",\"2011-11-01T00:00:00\",\"2011-10-21T00:00:00\",\"2011-10-12T00:00:00\",\"2011-09-28T00:00:00\",\"2011-07-16T00:00:00\",\"2011-02-03T00:00:00\",\"2011-01-27T00:00:00\",\"2011-01-16T00:00:00\",\"2011-01-09T00:00:00\",\"2010-12-30T00:00:00\",\"2010-09-15T00:00:00\",\"2010-07-28T00:00:00\",\"2010-07-01T00:00:00\",\"2010-06-15T00:00:00\",\"2010-04-18T00:00:00\",\"2010-03-22T00:00:00\",\"2010-02-07T00:00:00\",\"2009-08-26T00:00:00\",\"2009-08-01T00:00:00\",\"2009-06-01T00:00:00\",\"2009-04-10T00:00:00\",\"2008-10-09T00:00:00\",\"2008-09-14T00:00:00\",\"2008-09-01T00:00:00\",\"2008-08-18T00:00:00\",\"2008-06-30T00:00:00\",\"2008-06-29T00:00:00\",\"2008-06-17T00:00:00\",\"2008-05-20T00:00:00\",\"2008-05-17T00:00:00\",\"2008-04-21T00:00:00\",\"2008-04-04T00:00:00\",\"2008-01-21T00:00:00\",\"2008-01-12T00:00:00\",\"2007-12-17T00:00:00\",\"2007-12-13T00:00:00\",\"2007-10-19T00:00:00\",\"2007-10-18T00:00:00\",\"2007-09-22T00:00:00\",\"2007-09-06T00:00:00\",\"2007-09-04T00:00:00\",\"2007-06-06T00:00:00\",\"2007-06-01T00:00:00\",\"2007-04-17T00:00:00\",\"2007-04-17T00:00:00\",\"2007-03-31T00:00:00\",\"2007-03-30T00:00:00\",\"2007-03-03T00:00:00\",\"2006-12-12T00:00:00\",\"2006-12-08T00:00:00\",\"2006-12-05T00:00:00\",\"2006-11-28T00:00:00\",\"2006-10-29T00:00:00\",\"2006-09-30T00:00:00\",\"2006-09-27T00:00:00\",\"2006-08-26T00:00:00\",\"2006-08-03T00:00:00\",\"2006-06-12T00:00:00\",\"2005-11-22T00:00:00\",\"2005-11-20T00:00:00\",\"2005-09-27T00:00:00\",\"2005-08-23T00:00:00\",\"2005-08-21T00:00:00\",\"2005-08-08T00:00:00\",\"2005-08-04T00:00:00\",\"2005-08-03T00:00:00\",\"2005-07-20T00:00:00\",\"2005-06-20T00:00:00\",\"2005-06-13T00:00:00\",\"2005-06-10T00:00:00\",\"2005-05-18T00:00:00\",\"2004-12-25T00:00:00\",\"2016-10-13T00:00:00\",\"2016-02-05T00:00:00\",\"2015-12-15T00:00:00\",\"2014-11-13T00:00:00\",\"2014-10-02T00:00:00\",\"2014-03-26T00:00:00\",\"2014-01-31T00:00:00\",\"2013-11-25T00:00:00\",\"2013-03-11T00:00:00\",\"2013-03-09T00:00:00\",\"2013-11-04T00:00:00\",\"2012-07-07T00:00:00\",\"2012-06-20T00:00:00\",\"2012-06-08T00:00:00\",\"2012-06-02T00:00:00\",\"2012-05-29T00:00:00\",\"2012-05-27T00:00:00\",\"2012-05-24T00:00:00\",\"2012-05-04T00:00:00\",\"2012-05-02T00:00:00\",\"2012-04-28T00:00:00\",\"2012-01-11T00:00:00\",\"2011-11-06T00:00:00\",\"2011-06-14T00:00:00\",\"2011-06-12T00:00:00\",\"2011-05-18T00:00:00\",\"2011-04-15T00:00:00\",\"2011-02-11T00:00:00\",\"2011-02-01T00:00:00\",\"2010-09-05T00:00:00\",\"2010-03-04T00:00:00\",\"2009-12-12T00:00:00\",\"2009-10-09T00:00:00\",\"2009-08-15T00:00:00\",\"2009-08-08T00:00:00\",\"2009-07-25T00:00:00\",\"2009-07-02T00:00:00\",\"2009-06-04T00:00:00\",\"2009-02-03T00:00:00\",\"2009-01-01T00:00:00\",\"2008-12-21T00:00:00\",\"2008-11-07T00:00:00\",\"2008-10-17T00:00:00\",\"2008-08-31T00:00:00\",\"2008-07-23T00:00:00\",\"2008-06-15T00:00:00\",\"2008-05-17T00:00:00\",\"2008-03-15T00:00:00\",\"2008-03-06T00:00:00\",\"2008-03-04T00:00:00\",\"2008-02-13T00:00:00\",\"2008-01-27T00:00:00\",\"2008-01-06T00:00:00\",\"2007-12-23T00:00:00\",\"2007-12-09T00:00:00\",\"2007-12-08T00:00:00\",\"2007-12-05T00:00:00\",\"2007-11-27T00:00:00\",\"2007-08-26T00:00:00\",\"2007-08-14T00:00:00\",\"2007-05-27T00:00:00\",\"2007-04-14T00:00:00\",\"2007-02-14T00:00:00\",\"2007-01-28T00:00:00\",\"2007-01-01T00:00:00\",\"2006-12-22T00:00:00\",\"2006-02-14T00:00:00\",\"2006-01-31T00:00:00\",\"2005-10-24T00:00:00\",\"2005-10-09T00:00:00\",\"2005-09-01T00:00:00\",\"2005-08-30T00:00:00\",\"2005-08-16T00:00:00\",\"2005-08-15T00:00:00\",\"2005-08-10T00:00:00\",\"2005-07-28T00:00:00\",\"2005-07-26T00:00:00\",\"2005-06-08T00:00:00\",\"2005-06-02T00:00:00\",\"2005-03-08T00:00:00\",\"2017-03-13T00:00:00\",\"2016-07-26T00:00:00\",\"2015-01-15T00:00:00\",\"2014-05-04T00:00:00\",\"2014-04-30T00:00:00\",\"2014-04-29T00:00:00\",\"2014-03-11T00:00:00\",\"2014-01-20T00:00:00\",\"2013-10-18T00:00:00\",\"2013-09-10T00:00:00\",\"2013-06-17T00:00:00\",\"2013-06-01T00:00:00\",\"2013-04-01T00:00:00\",\"2012-10-24T00:00:00\",\"2012-09-02T00:00:00\",\"2012-08-05T00:00:00\",\"2012-07-11T00:00:00\",\"2012-07-01T00:00:00\",\"2012-06-24T00:00:00\",\"2012-06-11T00:00:00\",\"2012-06-04T00:00:00\",\"2012-04-17T00:00:00\",\"2012-02-28T00:00:00\",\"2012-01-06T00:00:00\",\"2011-11-22T00:00:00\",\"2011-11-21T00:00:00\",\"2011-08-23T00:00:00\",\"2011-08-23T00:00:00\",\"2011-08-21T00:00:00\",\"2011-08-03T00:00:00\",\"2011-03-28T00:00:00\",\"2011-02-17T00:00:00\",\"2010-10-26T00:00:00\",\"2010-09-22T00:00:00\",\"2010-08-30T00:00:00\",\"2010-07-28T00:00:00\",\"2010-05-26T00:00:00\",\"2010-05-10T00:00:00\",\"2010-04-04T00:00:00\",\"2010-03-22T00:00:00\",\"2009-10-01T00:00:00\",\"2009-09-11T00:00:00\",\"2009-08-09T00:00:00\",\"2009-07-24T00:00:00\",\"2009-04-13T00:00:00\",\"2009-03-01T00:00:00\",\"2009-01-07T00:00:00\",\"2008-11-15T00:00:00\",\"2008-09-02T00:00:00\",\"2008-07-03T00:00:00\",\"2008-04-19T00:00:00\",\"2007-12-24T00:00:00\",\"2007-12-14T00:00:00\",\"2007-12-13T00:00:00\",\"2007-12-11T00:00:00\",\"2007-12-10T00:00:00\",\"2007-12-10T00:00:00\",\"2007-12-09T00:00:00\",\"2007-12-09T00:00:00\",\"2007-11-20T00:00:00\",\"2007-10-27T00:00:00\",\"2007-10-23T00:00:00\",\"2007-10-05T00:00:00\",\"2007-09-11T00:00:00\",\"2007-08-23T00:00:00\",\"2007-08-03T00:00:00\",\"2007-06-28T00:00:00\",\"2007-06-28T00:00:00\",\"2007-06-08T00:00:00\",\"2007-04-17T00:00:00\",\"2007-04-09T00:00:00\",\"2007-03-19T00:00:00\",\"2007-03-01T00:00:00\",\"2007-02-03T00:00:00\",\"2006-12-19T00:00:00\",\"2006-11-28T00:00:00\",\"2006-10-30T00:00:00\",\"2006-07-18T00:00:00\",\"2005-11-09T00:00:00\",\"2005-11-02T00:00:00\",\"2005-08-17T00:00:00\",\"2005-08-11T00:00:00\",\"2005-07-29T00:00:00\",\"2005-06-24T00:00:00\",\"2005-06-22T00:00:00\",\"2005-06-19T00:00:00\",\"2005-06-02T00:00:00\",\"2004-12-31T00:00:00\",\"2015-10-02T00:00:00\",\"2015-06-22T00:00:00\",\"2014-07-08T00:00:00\",\"2014-04-22T00:00:00\",\"2014-02-28T00:00:00\",\"2013-12-08T00:00:00\",\"2013-08-27T00:00:00\",\"2013-06-15T00:00:00\",\"2013-01-18T00:00:00\",\"2012-09-21T00:00:00\",\"2012-08-11T00:00:00\",\"2012-08-05T00:00:00\",\"2012-05-31T00:00:00\",\"2012-05-22T00:00:00\",\"2012-03-16T00:00:00\",\"2012-03-12T00:00:00\",\"2012-01-10T00:00:00\",\"2011-11-15T00:00:00\",\"2011-11-06T00:00:00\",\"2011-10-17T00:00:00\",\"2011-09-26T00:00:00\",\"2011-09-12T00:00:00\",\"2011-08-07T00:00:00\",\"2011-07-25T00:00:00\",\"2011-06-29T00:00:00\",\"2011-06-28T00:00:00\",\"2011-05-18T00:00:00\",\"2011-04-24T00:00:00\",\"2011-01-29T00:00:00\",\"2011-01-06T00:00:00\",\"2010-11-19T00:00:00\",\"2010-06-30T00:00:00\",\"2010-06-18T00:00:00\",\"2010-05-01T00:00:00\",\"2010-03-23T00:00:00\",\"2010-03-14T00:00:00\",\"2010-02-23T00:00:00\",\"2010-01-29T00:00:00\",\"2009-10-04T00:00:00\",\"2009-08-24T00:00:00\",\"2009-07-24T00:00:00\",\"2009-01-28T00:00:00\",\"2009-01-04T00:00:00\",\"2008-12-02T00:00:00\",\"2008-11-11T00:00:00\",\"2008-11-01T00:00:00\",\"2008-08-22T00:00:00\",\"2008-06-18T00:00:00\",\"2008-06-01T00:00:00\",\"2008-05-10T00:00:00\",\"2008-05-08T00:00:00\",\"2008-03-11T00:00:00\",\"2008-02-07T00:00:00\",\"2008-01-28T00:00:00\",\"2008-01-23T00:00:00\",\"2008-01-03T00:00:00\",\"2007-12-20T00:00:00\",\"2007-12-11T00:00:00\",\"2007-12-10T00:00:00\",\"2007-12-04T00:00:00\",\"2007-11-28T00:00:00\",\"2007-11-07T00:00:00\",\"2007-09-18T00:00:00\",\"2007-09-15T00:00:00\",\"2007-09-12T00:00:00\",\"2007-09-04T00:00:00\",\"2007-08-23T00:00:00\",\"2007-07-28T00:00:00\",\"2007-07-14T00:00:00\",\"2007-07-10T00:00:00\",\"2007-06-03T00:00:00\",\"2007-05-18T00:00:00\",\"2007-05-13T00:00:00\",\"2007-05-03T00:00:00\",\"2007-04-24T00:00:00\",\"2007-04-16T00:00:00\",\"2007-04-16T00:00:00\",\"2007-03-21T00:00:00\",\"2007-02-10T00:00:00\",\"2006-12-24T00:00:00\",\"2006-12-23T00:00:00\",\"2006-12-16T00:00:00\",\"2006-12-02T00:00:00\",\"2006-07-27T00:00:00\",\"2006-06-08T00:00:00\",\"2006-02-15T00:00:00\",\"2006-01-10T00:00:00\",\"2005-11-24T00:00:00\",\"2005-11-12T00:00:00\",\"2005-10-02T00:00:00\",\"2005-09-30T00:00:00\",\"2005-09-12T00:00:00\",\"2005-09-10T00:00:00\",\"2005-09-01T00:00:00\",\"2005-08-26T00:00:00\",\"2005-08-24T00:00:00\",\"2005-08-24T00:00:00\",\"2005-08-22T00:00:00\",\"2005-08-21T00:00:00\",\"2005-08-10T00:00:00\",\"2005-08-10T00:00:00\",\"2005-07-28T00:00:00\",\"2005-07-20T00:00:00\",\"2005-06-30T00:00:00\",\"2005-06-25T00:00:00\",\"2005-06-15T00:00:00\",\"2005-06-03T00:00:00\",\"2005-05-24T00:00:00\",\"2018-06-24T00:00:00\",\"2017-02-23T00:00:00\",\"2017-02-08T00:00:00\",\"2016-10-21T00:00:00\",\"2016-08-19T00:00:00\",\"2015-01-27T00:00:00\",\"2014-12-01T00:00:00\",\"2014-09-16T00:00:00\",\"2014-07-23T00:00:00\",\"2014-05-06T00:00:00\",\"2014-04-03T00:00:00\",\"2014-03-05T00:00:00\",\"2014-01-26T00:00:00\",\"2013-12-13T00:00:00\",\"2013-04-22T00:00:00\",\"2013-03-16T00:00:00\",\"2012-12-13T00:00:00\",\"2012-10-16T00:00:00\",\"2012-07-11T00:00:00\",\"2012-06-24T00:00:00\",\"2012-05-13T00:00:00\",\"2012-04-26T00:00:00\",\"2012-04-22T00:00:00\",\"2012-03-07T00:00:00\",\"2012-02-13T00:00:00\",\"2012-01-12T00:00:00\",\"2011-12-09T00:00:00\",\"2011-12-04T00:00:00\",\"2011-10-08T00:00:00\",\"2011-09-23T00:00:00\",\"2011-08-31T00:00:00\",\"2011-08-08T00:00:00\",\"2011-05-14T00:00:00\",\"2011-04-16T00:00:00\",\"2011-02-21T00:00:00\",\"2011-02-17T00:00:00\",\"2011-01-18T00:00:00\",\"2010-12-01T00:00:00\",\"2010-08-26T00:00:00\",\"2010-07-27T00:00:00\",\"2010-07-17T00:00:00\",\"2010-06-11T00:00:00\",\"2010-06-08T00:00:00\",\"2010-02-23T00:00:00\",\"2010-01-31T00:00:00\",\"2009-09-27T00:00:00\",\"2009-08-17T00:00:00\",\"2009-07-03T00:00:00\",\"2009-04-25T00:00:00\",\"2009-03-05T00:00:00\",\"2009-02-10T00:00:00\",\"2008-12-30T00:00:00\",\"2008-12-24T00:00:00\",\"2008-11-19T00:00:00\",\"2008-11-17T00:00:00\",\"2008-11-16T00:00:00\",\"2008-10-28T00:00:00\",\"2008-10-14T00:00:00\",\"2008-10-06T00:00:00\",\"2008-07-04T00:00:00\",\"2008-06-19T00:00:00\",\"2008-06-14T00:00:00\",\"2008-06-10T00:00:00\",\"2008-06-07T00:00:00\",\"2008-06-02T00:00:00\",\"2008-04-20T00:00:00\",\"2008-03-23T00:00:00\",\"2008-03-11T00:00:00\",\"2008-02-07T00:00:00\",\"2008-02-02T00:00:00\",\"2008-01-10T00:00:00\",\"2008-01-06T00:00:00\",\"2007-12-27T00:00:00\",\"2007-12-08T00:00:00\",\"2007-10-21T00:00:00\",\"2007-09-03T00:00:00\",\"2007-09-01T00:00:00\",\"2007-08-31T00:00:00\",\"2007-08-25T00:00:00\",\"2007-08-15T00:00:00\",\"2007-08-14T00:00:00\",\"2007-08-06T00:00:00\",\"2007-08-03T00:00:00\",\"2007-07-25T00:00:00\",\"2007-07-04T00:00:00\",\"2007-06-25T00:00:00\",\"2007-06-25T00:00:00\",\"2007-06-08T00:00:00\",\"2007-05-01T00:00:00\",\"2007-02-22T00:00:00\",\"2007-02-15T00:00:00\",\"2006-12-02T00:00:00\",\"2006-10-25T00:00:00\",\"2006-10-21T00:00:00\",\"2006-08-19T00:00:00\",\"2006-08-17T00:00:00\",\"2006-08-07T00:00:00\",\"2006-07-13T00:00:00\",\"2006-06-23T00:00:00\",\"2006-05-11T00:00:00\",\"2006-02-23T00:00:00\",\"2006-02-04T00:00:00\",\"2012-07-29T00:00:00\",\"2005-11-22T00:00:00\",\"2005-10-14T00:00:00\",\"2005-10-07T00:00:00\",\"2005-09-29T00:00:00\",\"2005-09-08T00:00:00\",\"2005-09-05T00:00:00\",\"2005-09-02T00:00:00\",\"2005-08-30T00:00:00\",\"2005-08-13T00:00:00\",\"2005-07-25T00:00:00\",\"2005-07-21T00:00:00\",\"2005-07-15T00:00:00\",\"2005-07-15T00:00:00\",\"2005-07-06T00:00:00\",\"2005-06-25T00:00:00\",\"2005-06-10T00:00:00\",\"2004-12-19T00:00:00\",\"2016-10-21T00:00:00\",\"2015-12-06T00:00:00\",\"2014-09-08T00:00:00\",\"2014-04-23T00:00:00\",\"2013-11-19T00:00:00\",\"2013-10-29T00:00:00\",\"2013-09-25T00:00:00\",\"2013-03-18T00:00:00\",\"2013-03-17T00:00:00\",\"2015-07-29T00:00:00\",\"2013-02-23T00:00:00\",\"2013-02-16T00:00:00\",\"2013-01-19T00:00:00\",\"2013-01-08T00:00:00\",\"2012-12-15T00:00:00\",\"2012-11-24T00:00:00\",\"2012-11-19T00:00:00\",\"2012-10-12T00:00:00\",\"2012-08-23T00:00:00\",\"2012-08-11T00:00:00\",\"2012-07-13T00:00:00\",\"2012-06-27T00:00:00\",\"2012-06-08T00:00:00\",\"2012-04-14T00:00:00\",\"2012-03-09T00:00:00\",\"2012-02-17T00:00:00\",\"2011-10-11T00:00:00\",\"2011-09-12T00:00:00\",\"2011-08-29T00:00:00\",\"2011-06-29T00:00:00\",\"2011-05-25T00:00:00\",\"2011-04-18T00:00:00\",\"2011-03-05T00:00:00\",\"2011-02-25T00:00:00\",\"2011-02-14T00:00:00\",\"2011-01-08T00:00:00\",\"2011-01-07T00:00:00\",\"2011-01-03T00:00:00\",\"2010-12-06T00:00:00\",\"2010-07-31T00:00:00\",\"2010-07-12T00:00:00\",\"2010-06-30T00:00:00\",\"2010-06-29T00:00:00\",\"2010-03-09T00:00:00\",\"2010-02-27T00:00:00\",\"2009-12-24T00:00:00\",\"2009-12-22T00:00:00\",\"2009-09-20T00:00:00\",\"2009-06-03T00:00:00\",\"2009-06-02T00:00:00\",\"2009-04-25T00:00:00\",\"2009-02-18T00:00:00\",\"2009-02-13T00:00:00\",\"2008-08-22T00:00:00\",\"2008-08-05T00:00:00\",\"2008-07-23T00:00:00\",\"2008-07-23T00:00:00\",\"2008-05-14T00:00:00\",\"2008-04-05T00:00:00\",\"2008-02-19T00:00:00\",\"2008-01-24T00:00:00\",\"2008-01-21T00:00:00\",\"2008-01-11T00:00:00\",\"2008-01-11T00:00:00\",\"2007-12-23T00:00:00\",\"2007-12-17T00:00:00\",\"2007-12-06T00:00:00\",\"2007-11-29T00:00:00\",\"2007-11-25T00:00:00\",\"2007-11-16T00:00:00\",\"2007-11-12T00:00:00\",\"2007-10-01T00:00:00\",\"2007-09-04T00:00:00\",\"2007-08-04T00:00:00\",\"2007-07-08T00:00:00\",\"2007-05-21T00:00:00\",\"2007-05-17T00:00:00\",\"2007-05-16T00:00:00\",\"2007-05-15T00:00:00\",\"2007-04-19T00:00:00\",\"2007-04-18T00:00:00\",\"2007-02-27T00:00:00\",\"2007-02-20T00:00:00\",\"2007-02-12T00:00:00\",\"2007-02-04T00:00:00\",\"2007-01-27T00:00:00\",\"2007-01-23T00:00:00\",\"2007-01-08T00:00:00\",\"2007-01-08T00:00:00\",\"2006-12-10T00:00:00\",\"2006-08-08T00:00:00\",\"2006-07-12T00:00:00\",\"2006-04-24T00:00:00\",\"2005-11-09T00:00:00\",\"2005-10-21T00:00:00\",\"2005-10-18T00:00:00\",\"2005-10-12T00:00:00\",\"2005-09-30T00:00:00\",\"2005-09-18T00:00:00\",\"2005-09-18T00:00:00\",\"2005-09-10T00:00:00\",\"2005-08-28T00:00:00\",\"2005-08-26T00:00:00\",\"2005-08-24T00:00:00\",\"2005-08-19T00:00:00\",\"2005-08-09T00:00:00\",\"2005-08-05T00:00:00\",\"2005-08-02T00:00:00\",\"2005-07-18T00:00:00\",\"2005-07-15T00:00:00\",\"2005-07-12T00:00:00\",\"2005-05-29T00:00:00\",\"2005-03-04T00:00:00\",\"2005-02-21T00:00:00\",\"2017-01-09T00:00:00\",\"2016-08-14T00:00:00\",\"2015-11-26T00:00:00\",\"2015-11-17T00:00:00\",\"2015-10-19T00:00:00\",\"2015-07-28T00:00:00\",\"2014-08-18T00:00:00\",\"2014-06-11T00:00:00\",\"2014-05-02T00:00:00\",\"2014-01-06T00:00:00\",\"2013-12-07T00:00:00\",\"2013-09-30T00:00:00\",\"2013-08-10T00:00:00\",\"2013-08-04T00:00:00\",\"2013-06-01T00:00:00\",\"2013-03-08T00:00:00\",\"2013-02-16T00:00:00\",\"2013-01-19T00:00:00\",\"2012-12-27T00:00:00\",\"2012-12-19T00:00:00\",\"2012-12-07T00:00:00\",\"2012-09-26T00:00:00\",\"2012-09-23T00:00:00\",\"2012-09-17T00:00:00\",\"2012-08-28T00:00:00\",\"2012-08-24T00:00:00\",\"2012-07-08T00:00:00\",\"2012-06-14T00:00:00\",\"2012-05-01T00:00:00\",\"2012-04-26T00:00:00\",\"2012-03-31T00:00:00\",\"2012-03-13T00:00:00\",\"2012-02-21T00:00:00\",\"2012-01-10T00:00:00\",\"2011-11-14T00:00:00\",\"2011-10-17T00:00:00\",\"2011-10-14T00:00:00\",\"2011-09-29T00:00:00\",\"2011-07-25T00:00:00\",\"2011-07-08T00:00:00\",\"2011-07-01T00:00:00\",\"2011-05-24T00:00:00\",\"2011-05-15T00:00:00\",\"2011-05-09T00:00:00\",\"2011-05-07T00:00:00\",\"2011-04-28T00:00:00\",\"2011-04-19T00:00:00\",\"2011-04-14T00:00:00\",\"2011-02-25T00:00:00\",\"2011-02-20T00:00:00\",\"2011-01-05T00:00:00\",\"2010-10-20T00:00:00\",\"2010-09-21T00:00:00\",\"2010-07-06T00:00:00\",\"2010-06-13T00:00:00\",\"2010-06-12T00:00:00\",\"2010-02-25T00:00:00\",\"2010-01-21T00:00:00\",\"2009-12-15T00:00:00\",\"2009-12-03T00:00:00\",\"2009-10-20T00:00:00\",\"2009-09-22T00:00:00\",\"2009-08-15T00:00:00\",\"2009-05-31T00:00:00\",\"2009-03-18T00:00:00\",\"2009-02-16T00:00:00\",\"2009-02-14T00:00:00\",\"2009-01-12T00:00:00\",\"2008-11-28T00:00:00\",\"2008-11-23T00:00:00\",\"2008-10-17T00:00:00\",\"2008-09-01T00:00:00\",\"2008-08-17T00:00:00\",\"2008-08-08T00:00:00\",\"2008-06-24T00:00:00\",\"2008-06-18T00:00:00\",\"2008-05-15T00:00:00\",\"2008-04-28T00:00:00\",\"2008-04-28T00:00:00\",\"2008-04-07T00:00:00\",\"2008-03-31T00:00:00\",\"2008-03-25T00:00:00\",\"2008-02-28T00:00:00\",\"2008-02-08T00:00:00\",\"2008-02-06T00:00:00\",\"2008-01-26T00:00:00\",\"2008-01-15T00:00:00\",\"2008-01-10T00:00:00\",\"2008-01-07T00:00:00\",\"2007-12-28T00:00:00\",\"2007-12-25T00:00:00\",\"2007-12-11T00:00:00\",\"2007-12-11T00:00:00\",\"2007-12-03T00:00:00\",\"2007-12-01T00:00:00\",\"2007-11-10T00:00:00\",\"2007-11-07T00:00:00\",\"2007-10-25T00:00:00\",\"2007-10-24T00:00:00\",\"2007-10-15T00:00:00\",\"2007-09-18T00:00:00\",\"2007-09-10T00:00:00\",\"2007-08-27T00:00:00\",\"2007-08-24T00:00:00\",\"2007-08-13T00:00:00\",\"2007-08-02T00:00:00\",\"2007-08-02T00:00:00\",\"2007-07-15T00:00:00\",\"2007-06-16T00:00:00\",\"2007-06-07T00:00:00\",\"2007-05-18T00:00:00\",\"2007-05-02T00:00:00\",\"2007-04-28T00:00:00\",\"2007-04-27T00:00:00\",\"2007-04-15T00:00:00\",\"2007-04-11T00:00:00\",\"2007-03-22T00:00:00\",\"2007-03-12T00:00:00\",\"2007-01-29T00:00:00\",\"2007-01-16T00:00:00\",\"2006-12-07T00:00:00\",\"2006-12-04T00:00:00\",\"2006-11-28T00:00:00\",\"2006-11-19T00:00:00\",\"2006-05-29T00:00:00\",\"2006-05-27T00:00:00\",\"2006-05-23T00:00:00\",\"2006-05-12T00:00:00\",\"2006-02-21T00:00:00\",\"2005-11-24T00:00:00\",\"2005-09-09T00:00:00\",\"2005-08-28T00:00:00\",\"2005-08-26T00:00:00\",\"2005-08-21T00:00:00\",\"2005-08-08T00:00:00\",\"2005-08-07T00:00:00\",\"2005-07-29T00:00:00\",\"2005-07-27T00:00:00\",\"2005-07-26T00:00:00\",\"2005-07-22T00:00:00\",\"2005-07-20T00:00:00\",\"2005-07-20T00:00:00\",\"2005-07-11T00:00:00\",\"2005-07-10T00:00:00\",\"2005-07-08T00:00:00\",\"2005-05-23T00:00:00\",\"2005-05-22T00:00:00\",\"2005-05-20T00:00:00\",\"2017-05-02T00:00:00\",\"2017-01-19T00:00:00\",\"2016-01-29T00:00:00\",\"2015-10-07T00:00:00\",\"2015-06-05T00:00:00\",\"2015-01-11T00:00:00\",\"2014-11-21T00:00:00\",\"2014-09-17T00:00:00\",\"2014-09-05T00:00:00\",\"2014-06-16T00:00:00\",\"2014-06-08T00:00:00\",\"2014-03-24T00:00:00\",\"2013-08-31T00:00:00\",\"2013-06-28T00:00:00\",\"2013-06-25T00:00:00\",\"2013-05-14T00:00:00\",\"2013-02-24T00:00:00\",\"2012-11-17T00:00:00\",\"2012-11-06T00:00:00\",\"2012-08-13T00:00:00\",\"2012-08-09T00:00:00\",\"2012-07-28T00:00:00\",\"2012-07-16T00:00:00\",\"2012-04-25T00:00:00\",\"2012-04-04T00:00:00\",\"2012-04-01T00:00:00\",\"2012-04-01T00:00:00\",\"2012-02-23T00:00:00\",\"2012-01-24T00:00:00\",\"2012-01-17T00:00:00\",\"2011-10-22T00:00:00\",\"2011-10-16T00:00:00\",\"2011-10-12T00:00:00\",\"2011-10-02T00:00:00\",\"2011-08-12T00:00:00\",\"2011-08-08T00:00:00\",\"2011-06-13T00:00:00\",\"2011-06-13T00:00:00\",\"2011-06-02T00:00:00\",\"2011-05-21T00:00:00\",\"2011-05-18T00:00:00\",\"2011-04-06T00:00:00\",\"2011-03-26T00:00:00\",\"2011-03-04T00:00:00\",\"2011-02-20T00:00:00\",\"2011-02-15T00:00:00\",\"2011-01-30T00:00:00\",\"2011-01-26T00:00:00\",\"2011-01-09T00:00:00\",\"2010-12-13T00:00:00\",\"2010-12-07T00:00:00\",\"2010-07-19T00:00:00\",\"2010-07-15T00:00:00\",\"2010-06-05T00:00:00\",\"2010-04-30T00:00:00\",\"2010-03-11T00:00:00\",\"2010-03-05T00:00:00\",\"2010-03-03T00:00:00\",\"2010-03-01T00:00:00\",\"2010-02-09T00:00:00\",\"2009-12-28T00:00:00\",\"2009-11-05T00:00:00\",\"2009-10-12T00:00:00\",\"2009-09-05T00:00:00\",\"2009-08-29T00:00:00\",\"2009-06-17T00:00:00\",\"2009-04-15T00:00:00\",\"2009-04-03T00:00:00\",\"2009-04-03T00:00:00\",\"2009-03-31T00:00:00\",\"2009-03-26T00:00:00\",\"2009-03-24T00:00:00\",\"2009-03-21T00:00:00\",\"2009-03-03T00:00:00\",\"2009-02-22T00:00:00\",\"2009-02-21T00:00:00\",\"2009-02-09T00:00:00\",\"2009-02-05T00:00:00\",\"2009-01-23T00:00:00\",\"2008-11-17T00:00:00\",\"2008-10-07T00:00:00\",\"2008-07-28T00:00:00\",\"2008-07-09T00:00:00\",\"2008-07-04T00:00:00\",\"2008-06-26T00:00:00\",\"2008-06-18T00:00:00\",\"2013-01-21T00:00:00\",\"2008-05-28T00:00:00\",\"2008-05-23T00:00:00\",\"2008-05-19T00:00:00\",\"2008-05-13T00:00:00\",\"2008-03-18T00:00:00\",\"2008-02-17T00:00:00\",\"2008-01-18T00:00:00\",\"2008-01-18T00:00:00\",\"2008-01-17T00:00:00\",\"2007-12-26T00:00:00\",\"2007-12-19T00:00:00\",\"2007-12-18T00:00:00\",\"2007-12-11T00:00:00\",\"2007-12-09T00:00:00\",\"2007-12-08T00:00:00\",\"2007-11-16T00:00:00\",\"2007-10-17T00:00:00\",\"2007-10-02T00:00:00\",\"2007-08-27T00:00:00\",\"2007-08-09T00:00:00\",\"2007-08-05T00:00:00\",\"2007-07-25T00:00:00\",\"2007-07-21T00:00:00\",\"2007-07-15T00:00:00\",\"2007-07-03T00:00:00\",\"2007-06-29T00:00:00\",\"2007-06-10T00:00:00\",\"2007-06-06T00:00:00\",\"2007-06-02T00:00:00\",\"2007-05-30T00:00:00\",\"2007-05-28T00:00:00\",\"2007-05-19T00:00:00\",\"2007-04-02T00:00:00\",\"2007-02-25T00:00:00\",\"2007-02-24T00:00:00\",\"2007-02-08T00:00:00\",\"2007-01-05T00:00:00\",\"2006-12-16T00:00:00\",\"2006-12-06T00:00:00\",\"2006-11-25T00:00:00\",\"2006-11-21T00:00:00\",\"2006-05-02T00:00:00\",\"2006-04-30T00:00:00\",\"2006-01-14T00:00:00\",\"2005-12-02T00:00:00\",\"2005-11-24T00:00:00\",\"2005-10-31T00:00:00\",\"2005-10-02T00:00:00\",\"2005-09-17T00:00:00\",\"2005-09-14T00:00:00\",\"2005-09-06T00:00:00\",\"2005-09-03T00:00:00\",\"2005-08-22T00:00:00\",\"2005-08-19T00:00:00\",\"2005-08-09T00:00:00\",\"2005-08-04T00:00:00\",\"2005-08-01T00:00:00\",\"2005-07-29T00:00:00\",\"2005-07-27T00:00:00\",\"2005-07-20T00:00:00\",\"2005-07-15T00:00:00\",\"2005-07-13T00:00:00\",\"2005-07-02T00:00:00\",\"2005-06-07T00:00:00\",\"2005-05-28T00:00:00\",\"2005-05-26T00:00:00\",\"2017-04-21T00:00:00\",\"2015-12-13T00:00:00\",\"2015-10-08T00:00:00\",\"2015-02-13T00:00:00\",\"2015-01-11T00:00:00\",\"2014-08-09T00:00:00\",\"2014-07-29T00:00:00\",\"2014-07-25T00:00:00\",\"2014-07-07T00:00:00\",\"2014-06-26T00:00:00\",\"2014-03-14T00:00:00\",\"2014-01-19T00:00:00\",\"2013-12-15T00:00:00\",\"2013-11-13T00:00:00\",\"2013-11-06T00:00:00\",\"2013-11-04T00:00:00\",\"2013-10-18T00:00:00\",\"2013-10-10T00:00:00\",\"2013-09-27T00:00:00\",\"2013-06-09T00:00:00\",\"2013-05-24T00:00:00\",\"2013-05-03T00:00:00\",\"2013-05-03T00:00:00\",\"2013-04-03T00:00:00\",\"2013-03-30T00:00:00\",\"2013-03-14T00:00:00\",\"2013-01-20T00:00:00\",\"2012-12-15T00:00:00\",\"2012-12-05T00:00:00\",\"2012-10-27T00:00:00\",\"2012-09-24T00:00:00\",\"2012-09-15T00:00:00\",\"2012-08-19T00:00:00\",\"2012-06-09T00:00:00\",\"2012-06-02T00:00:00\",\"2012-05-25T00:00:00\",\"2012-05-09T00:00:00\",\"2012-05-08T00:00:00\",\"2012-04-11T00:00:00\",\"2012-02-27T00:00:00\",\"2012-02-25T00:00:00\",\"2012-02-12T00:00:00\",\"2012-02-11T00:00:00\",\"2012-02-04T00:00:00\",\"2012-02-04T00:00:00\",\"2012-01-29T00:00:00\",\"2012-01-19T00:00:00\",\"2011-12-18T00:00:00\",\"2011-12-17T00:00:00\",\"2011-12-10T00:00:00\",\"2011-11-09T00:00:00\",\"2011-11-07T00:00:00\",\"2011-11-01T00:00:00\",\"2011-10-26T00:00:00\",\"2011-10-19T00:00:00\",\"2011-08-21T00:00:00\",\"2011-07-31T00:00:00\",\"2011-06-21T00:00:00\",\"2011-06-06T00:00:00\",\"2011-05-14T00:00:00\",\"2011-05-03T00:00:00\",\"2011-04-29T00:00:00\",\"2011-04-17T00:00:00\",\"2011-03-29T00:00:00\",\"2011-03-02T00:00:00\",\"2011-02-22T00:00:00\",\"2011-02-11T00:00:00\",\"2011-01-31T00:00:00\",\"2011-01-01T00:00:00\",\"2010-08-22T00:00:00\",\"2010-08-11T00:00:00\",\"2010-07-23T00:00:00\",\"2010-07-08T00:00:00\",\"2010-05-26T00:00:00\",\"2010-03-21T00:00:00\",\"2010-02-24T00:00:00\",\"2010-01-14T00:00:00\",\"2010-01-05T00:00:00\",\"2009-12-11T00:00:00\",\"2009-11-27T00:00:00\",\"2009-11-13T00:00:00\",\"2009-06-06T00:00:00\",\"2009-06-02T00:00:00\",\"2009-05-24T00:00:00\",\"2009-05-20T00:00:00\",\"2009-05-14T00:00:00\",\"2009-03-27T00:00:00\",\"2009-03-19T00:00:00\",\"2009-03-17T00:00:00\",\"2008-12-20T00:00:00\",\"2008-12-17T00:00:00\",\"2008-12-16T00:00:00\"],\"xaxis\":\"x\",\"y\":[3,2,4,7,8,11,12,16,14,13,19,15,27,17,20,18,22,25,50,32,42,30,44,31,53,37,40,41,49,47,45,39,60,58,68,54,55,48,51,61,80,66,72,83,69,65,57,91,101,108,113,74,76,85,98,107,81,121,99,102,88,75,129,103,120,97,130,106,89,132,150,119,122,177,138,140,156,169,179,143,151,117,145,144,157,127,158,183,142,165,184,248,176,163,186,161,197,202,193,253,207,246,217,263,353,244,208,194,307,198,222,224,299,317,291,314,230,267,348,238,306,356,311,287,232,270,228,234,304,322,276,268,326,256,408,325,266,275,278,318,375,370,259,261,359,377,312,290,257,457,300,330,283,284,271,450,367,281,331,334,383,424,401,371,372,293,305,336,386,378,606,337,357,349,320,342,0,415,484,454,404,434,400,343,390,433,409,1003,469,391,432,455,519,526,321,412,427,360,361,452,608,870,405,407,602,384,471,444,626,436,500,399,796,537,565,593,574,604,451,631,501,589,458,506,728,493,529,603,628,515,531,518,611,0,550,417,447,488,538,473,0,492,560,561,699,765,438,1792,808,441,1127,677,527,1021,587,1049,1657,523,1118,703,645,497,691,762,487,668,670,1255,807,614,616,474,15243,545,667,1121,489,987,528,889,499,539,570,572,547,884,629,793,583,694,718,1246,588,609,590,871,679,680,651,640,1922,619,777,998,1477,708,794,533,1032,1034,700,675,0,1797,2542,548,785,766,769,0,0,0,1540,749,717,912,592,0,0,5075,874,778,621,939,684,1476,897,638,806,1448,647,937,827,652,1311,1242,896,851,970,1267,990,996,2214,1097,799,676,0,730,733,681,826,886,888,653,1221,1313,756,792,695,908,913,971,1053,1551,773,737,693,1035,1036,1107,917,1178,922,729,810,823,1211,1072,1156,1240,1405,1100,1033,2244,911,1043,1777,1046,865,1180,980,0,0,1355,869,1188,991,1369,830,1839,1489,900,850,1256,804,977,1052,0,923,1809,877,932,1064,933,1585,783,1382,947,1150,1010,1229,1859,1618,847,1099,1106,1260,0,873,1204,1290,1213,887,943,1012,1604,1085,957,1023,1087,1026,959,967,1168,1108,975,0,0,0,0,1353,1929,1474,1145,1297,950,1160,1316,1243,1095,1325,1413,2239,1170,1051,1440,919,0,0,1271,1360,1449,986,1274,1563,1197,1582,1137,1000,1480,2610,1303,1081,2014,1407,1744,1625,1639,1174,1340,1351,0,1653,7934,1545,1662,1122,988,1131,1577,1465,1136,1140,1209,1210,2173,1222,1999,1238,1406,2219,1408,1409,1092,1515,1752,1878,1101,1102,1526,2060,1042,1642,1347,1790,2520,1668,1056,1808,1944,1130,2329,1578,1068,1831,1479,1146,1481,2611,1215,1071,1611,2013,1314,1161,1860,2218,2220,1317,1751,1324,2231,1753,1435,1263,0,0,0,0,1268,1671,1674,1193,1461,1279,1201,1581,2360,1293,1302,1716,1075,2385,1228,2006,1738,2017,1746,1750,1622,1411,2041,1332,1641,1431,1910,1534,1264,0,2764,1661,1364,1680,2331,1687,1282,1135,1700,1837,1848,1724,2919,1404,1739,1507,2937,1866,1623,4185,1627,2965,2245,1331,2047,1895,1782,0,1926,2299,1549,1447,1558,1682,1286,2364,2876,0,1710,1482,1610,1500,2204,1502,1503,2414,4697,1864,2446,2237,4202,4779,2242,1333,1767,2059,1789,0,0,1794,1924,1450,1362,2545,1812,1371,1373,2156,2368,1841,1393,2191,0,1505,2652,1621,1624,2466,1634,2255,1433,1908,1785,0,0,3401,1553,1935,2123,1675,0,0,1957,1696,1967,0,2176,1840,2179,1717,1992,2903,21122,1728,1734,2012,2927,2418,1612,2019,0,1863,1748,2438,2951,2033,1889,2733,1536,0,2088,2092,0,2305,19567,1802,2109,1554,2121,1677,1823,1704,2157,1587,2174,1591,2614,2379,2380,2188,1853,1730,2408,1736,1737,2416,2016,4678,2644,2018,2217,2934,3662,2024,2942,2032,2966,2995,1650,0,0,0,0,0,0,0,0,1550,1672,2124,2363,1720,5345,2407,2640,4147,2252,2711,0,0,0,2091,2096,1930,2301,3072,2103,1800,2778,1803,2799,3939,2551,2127,1945,2816,2561,2335,2142,3129,3156,2163,0,3175,2890,2913,0,5356,2208,2419,0,2420,2442,3679,2969,1870,2064,1911,3043,0,2761,3060,1931,2105,11986,1939,3472,2552,2325,1954,2136,1819,2849,2146,3535,3166,2888,4131,2412,2207,2925,3644,2210,3656,6204,3665,2440,3676,4183,8870,4786,2257,2078,2505,2753,0,0,0,0,2526,2537,2809,2812,2326,1948,1955,2842,2347,2350,2590,2599,2177,1981,3191,1984,2901,0,1993,2389,2909,5324,3633,2410,0,2206,2015,3647,4679,3651,2643,10440,5384,10489,3259,2450,2454,4203,2686,2986,2692,4258,2053,3320,2262,2716,2062,2490,2491,2730,2284,2285,2080,2507,0,0,14683,3398,2765,3411,2296,4389,2770,2773,2306,0,2548,0,2131,2824,2341,2843,2346,2859,5190,2602,2608,2626,3611,0,4650,2632,4128,2920,2411,2413,8618,2929,4141,0,3653,4686,2421,4691,2422,2940,2947,2665,4744,3262,2668,4190,4195,7482,2977,3286,2987,3295,3306,2709,2480,2269,2492,0,0,0,2510,4969,4382,0,2768,3417,3880,2309,0,2317,2319,3103,3950,2829,2564,3128,3143,3147,5224,8365,3184,2609,2892,6066,7129,2384,4638,0,3223,6170,0,3667,2941,2946,5421,10577,7356,0,3682,6267,2961,2677,2982,3292,2688,3738,4244,4256,3761,3010,3786,2756,0,0,0,0,7918,5714,3409,7954,3061,3063,3882,2530,3083,2779,2781,3904,4427,2795,4433,3110,2806,2808,3483,2822,5164,3519,5170,0,3527,3540,3547,2592,3552,3168,3169,4030,4575,4041,2612,4588,3204,2905,4622,3608,2628,2629,3213,5327,3625,4121,4126,3641,0,3230,5362,4146,5373,2645,4148,2932,6210,4704,7332,3238,4728,4729,4731,10631,2958,5440,4747,3260,5445,4181,4757,2670,4192,2978,0,3299,2707,5572,2715,3340,3013,3794,3817,2739,2740,2743,2751,0,0,0,0,3845,19113,5728,4989,0,3873,9645,0,3901,3906,3090,2789,3091,3092,4428,2790,2792,0,4445,5125,2830,3123,5920,2847,3987,3541,3557,6024,3177,2887,3183,5243,0,8416,4602,4063,3585,3200,6073,4080,4086,4100,4112,21260,7210,5349,0,6159,12846,8615,5366,4672,3648,6173,4685,4690,5401,7335,7373,0,7383,6262,3702,3703,7551,7561,4845,2998,4278,3005,3332,3344,5607,4345,3383,3045,0,0,0,5721,3848,0,3852,3407,3057,9581,7966,3864,4393,3075,3888,3438,3440,3442,5810,3905,3446,3457,5089,5856,3105,3477,5884,3954,5116,3488,3510,3514,4005,3155,4011,5989,0,4550,3554,6015,6028,3569,3570,3571,3187,4058,0,3588,3604,12713,3224,16318,6167,5360,4139,5365,16361,4669,4142,4143,3649,0,4683,5380,12946,12981,3235,7298,4700,4160,4163,3673,7367,4735,7387,3685,4180,3692,3724,3731,4276,3330,4292,3367,3369,4335,3382,3389,0,0,5716,0,6700,5731,5743,3860,3877,3884,3892,3893,3910,4425,5083,3923,3470,5098,3942,5106,3948,9842,3956,6908,3490,3964,3968,3973,5166,3526,4000,4018,3551,5219,5225,4027,4560,6020,5237,0,10116,4062,3583,7111,3589,6068,0,6114,5326,4648,6135,4661,4134,4135,5353,7235,12853,5363,5364,5367,4674,8637,5377,5378,6184,8659,7273,3655,3657,16578,4156,5402,4707,5406,5408,13117,4715,7363,4175,6261,4739,7389,7393,4188,4767,7467,3706,4791,3723,5525,5528,5545,4835,11238,4861,4863,5564,4271,4867,4877,6496,4293,7780,3810,3811,4339,3831,3832,0,0,0,0,0,0,0,0,0,4974,5724,4981,6706,4381,4390,7983,5028,5035,3898,5809,15173,5829,5077,3926,5092,5852,4442,4443,9831,4454,3952,5117,3969,3974,5942,5156,6971,3998,7002,4532,0,5213,0,4559,5228,5239,5242,10118,5255,10155,4601,5272,0,10190,6064,4607,4611,6074,8484,4637,0,0,4102,7174,12739,5339,10318,6153,6157,0,7233,7234,10367,6169,4145,7270,4684,10433,21633,4688,4689,10459,4151,4694,10480,10488,5394,4701,4709,5429,10602,16900,6273,6274,7421,8818,4186,7441,6313,4193,4196,8903,17444,4794,11044,5519,4819,4252,4843,6443,4851,5581,4894,4297,5634,4309,4324,5666,4342,4367,0,0,19017,6693,5732,6721,6729,5008,5009,0,4396,0,11881,5770,5027,5031,5032,4406,5043,6797,6807,0,5815,6833,6845,5090,4450,6897,9845,0,6928,12265,5151,5937,4493,5173,5175,5176,5186,5205,0,7021,4537,6016,10068,4563,8381,15870,6038,5250,0,6050,5268,5296,4627,5304,6098,8549,7206,7217,7224,6160,8609,0,5357,6166,0,4673,10392,0,7251,0,12936,8674,7295,21947,10519,7314,6213,4714,7331,7368,7370,4734,5432,6254,4737,16861,8768,6265,7422,7442,10809,9010,11025,11034,5514,9081,6422,13974,4837,4853,5559,5563,5576,4878,11414,5595,5629,4909,5644,7894,4955,4958,0,0,0,0,0,0,6685,14708,6692,14755,4986,4994,6734,6737,5003,6763,5015,5018,5024,8002,5774,5036,5786,0,5042,6790,6808,9735,5824,8083,5835,5086,0,8124,5099,12146,5107,6890,6909,6914,5894,6929,0,15506,5136,0,5919,5142,5938,6961,5951,8304,5971,7017,0,7028,15806,10076,6023,8384,7070,5241,7077,5251,7096,5267,10164,6057,5277,5279,8479,10223,6089,5300,21086,5321,5328,21187,8557,12784,12787,10317,8589,21309,5351,8599,12832,10355,21393,7236,10369,7245,0,21487,6171,10398,8635,21525,21529,16418,12920,7268,0,6191,6192,16532,5388,16565,6206,4702,7313,0,22028,8716,10552,6223,7361,16784,22274,10618,0,13236,0,10652,6319,6321,13466,5465,7466,17624,14040,6448,7665,7682,6501,6505,5598,5605,6538,5619,6559,7779,5646,5648,5651,5698,6666,6667,0,0,0,0,0,0,0,0,7916,7923,9521,14728,14803,5747,6744,6749,9643,5778,0,9701,9706,6803,0,19749,8093,6836,8094,8111,6861,6862,0,5870,8154,8157,8170,5888,8187,5901,9896,5905,5906,0,0,5933,6960,5944,5945,5947,0,6985,0,5991,5993,8353,8360,12483,10067,0,12488,7049,12514,7065,7071,0,7076,8414,15950,8428,10136,6044,6045,10143,10148,12607,10160,10161,10167,10170,20867,7114,6075,12702,10253,7163,12717,10265,16149,10277,16168,12747,12752,8580,8592,8606,8607,10348,0,8617,21428,12871,16365,8628,0,21534,12914,0,10452,16526,10469,16555,8684,10481,21827,7304,6209,16641,13057,0,7312,7354,16807,10595,7375,10625,10629,13233,10650,8782,8882,7455,8916,8948,6358,6383,9078,7605,14014,7635,7638,6464,7685,6499,6508,11437,6525,6534,11518,6576,7806,6606,7884,6657,6659,0,0,0,0,0,11713,6686,11717,11721,19056,19119,6708,7946,6717,6719,6720,6724,14783,0,9603,9611,0,7972,6759,9633,11858,14922,8003,14964,9668,6782,8024,15064,6818,6819,0,8075,8076,8089,12083,6849,6854,6855,6856,6857,0,9798,9808,6871,8136,9821,6880,6881,8149,6883,9848,6906,6917,20134,12245,6937,6939,12266,0,6955,8243,8255,12329,6981,15691,8325,8331,0,10057,0,7047,8376,10080,7058,8389,7062,10125,15925,8418,0,8421,7094,12604,0,8454,10183,7110],\"yaxis\":\"y\",\"type\":\"scattergl\"}],                        {\"template\":{\"data\":{\"histogram2dcontour\":[{\"type\":\"histogram2dcontour\",\"colorbar\":{\"outlinewidth\":0,\"ticks\":\"\"},\"colorscale\":[[0.0,\"#0d0887\"],[0.1111111111111111,\"#46039f\"],[0.2222222222222222,\"#7201a8\"],[0.3333333333333333,\"#9c179e\"],[0.4444444444444444,\"#bd3786\"],[0.5555555555555556,\"#d8576b\"],[0.6666666666666666,\"#ed7953\"],[0.7777777777777778,\"#fb9f3a\"],[0.8888888888888888,\"#fdca26\"],[1.0,\"#f0f921\"]]}],\"choropleth\":[{\"type\":\"choropleth\",\"colorbar\":{\"outlinewidth\":0,\"ticks\":\"\"}}],\"histogram2d\":[{\"type\":\"histogram2d\",\"colorbar\":{\"outlinewidth\":0,\"ticks\":\"\"},\"colorscale\":[[0.0,\"#0d0887\"],[0.1111111111111111,\"#46039f\"],[0.2222222222222222,\"#7201a8\"],[0.3333333333333333,\"#9c179e\"],[0.4444444444444444,\"#bd3786\"],[0.5555555555555556,\"#d8576b\"],[0.6666666666666666,\"#ed7953\"],[0.7777777777777778,\"#fb9f3a\"],[0.8888888888888888,\"#fdca26\"],[1.0,\"#f0f921\"]]}],\"heatmap\":[{\"type\":\"heatmap\",\"colorbar\":{\"outlinewidth\":0,\"ticks\":\"\"},\"colorscale\":[[0.0,\"#0d0887\"],[0.1111111111111111,\"#46039f\"],[0.2222222222222222,\"#7201a8\"],[0.3333333333333333,\"#9c179e\"],[0.4444444444444444,\"#bd3786\"],[0.5555555555555556,\"#d8576b\"],[0.6666666666666666,\"#ed7953\"],[0.7777777777777778,\"#fb9f3a\"],[0.8888888888888888,\"#fdca26\"],[1.0,\"#f0f921\"]]}],\"heatmapgl\":[{\"type\":\"heatmapgl\",\"colorbar\":{\"outlinewidth\":0,\"ticks\":\"\"},\"colorscale\":[[0.0,\"#0d0887\"],[0.1111111111111111,\"#46039f\"],[0.2222222222222222,\"#7201a8\"],[0.3333333333333333,\"#9c179e\"],[0.4444444444444444,\"#bd3786\"],[0.5555555555555556,\"#d8576b\"],[0.6666666666666666,\"#ed7953\"],[0.7777777777777778,\"#fb9f3a\"],[0.8888888888888888,\"#fdca26\"],[1.0,\"#f0f921\"]]}],\"contourcarpet\":[{\"type\":\"contourcarpet\",\"colorbar\":{\"outlinewidth\":0,\"ticks\":\"\"}}],\"contour\":[{\"type\":\"contour\",\"colorbar\":{\"outlinewidth\":0,\"ticks\":\"\"},\"colorscale\":[[0.0,\"#0d0887\"],[0.1111111111111111,\"#46039f\"],[0.2222222222222222,\"#7201a8\"],[0.3333333333333333,\"#9c179e\"],[0.4444444444444444,\"#bd3786\"],[0.5555555555555556,\"#d8576b\"],[0.6666666666666666,\"#ed7953\"],[0.7777777777777778,\"#fb9f3a\"],[0.8888888888888888,\"#fdca26\"],[1.0,\"#f0f921\"]]}],\"surface\":[{\"type\":\"surface\",\"colorbar\":{\"outlinewidth\":0,\"ticks\":\"\"},\"colorscale\":[[0.0,\"#0d0887\"],[0.1111111111111111,\"#46039f\"],[0.2222222222222222,\"#7201a8\"],[0.3333333333333333,\"#9c179e\"],[0.4444444444444444,\"#bd3786\"],[0.5555555555555556,\"#d8576b\"],[0.6666666666666666,\"#ed7953\"],[0.7777777777777778,\"#fb9f3a\"],[0.8888888888888888,\"#fdca26\"],[1.0,\"#f0f921\"]]}],\"mesh3d\":[{\"type\":\"mesh3d\",\"colorbar\":{\"outlinewidth\":0,\"ticks\":\"\"}}],\"scatter\":[{\"fillpattern\":{\"fillmode\":\"overlay\",\"size\":10,\"solidity\":0.2},\"type\":\"scatter\"}],\"parcoords\":[{\"type\":\"parcoords\",\"line\":{\"colorbar\":{\"outlinewidth\":0,\"ticks\":\"\"}}}],\"scatterpolargl\":[{\"type\":\"scatterpolargl\",\"marker\":{\"colorbar\":{\"outlinewidth\":0,\"ticks\":\"\"}}}],\"bar\":[{\"error_x\":{\"color\":\"#2a3f5f\"},\"error_y\":{\"color\":\"#2a3f5f\"},\"marker\":{\"line\":{\"color\":\"#E5ECF6\",\"width\":0.5},\"pattern\":{\"fillmode\":\"overlay\",\"size\":10,\"solidity\":0.2}},\"type\":\"bar\"}],\"scattergeo\":[{\"type\":\"scattergeo\",\"marker\":{\"colorbar\":{\"outlinewidth\":0,\"ticks\":\"\"}}}],\"scatterpolar\":[{\"type\":\"scatterpolar\",\"marker\":{\"colorbar\":{\"outlinewidth\":0,\"ticks\":\"\"}}}],\"histogram\":[{\"marker\":{\"pattern\":{\"fillmode\":\"overlay\",\"size\":10,\"solidity\":0.2}},\"type\":\"histogram\"}],\"scattergl\":[{\"type\":\"scattergl\",\"marker\":{\"colorbar\":{\"outlinewidth\":0,\"ticks\":\"\"}}}],\"scatter3d\":[{\"type\":\"scatter3d\",\"line\":{\"colorbar\":{\"outlinewidth\":0,\"ticks\":\"\"}},\"marker\":{\"colorbar\":{\"outlinewidth\":0,\"ticks\":\"\"}}}],\"scattermapbox\":[{\"type\":\"scattermapbox\",\"marker\":{\"colorbar\":{\"outlinewidth\":0,\"ticks\":\"\"}}}],\"scatterternary\":[{\"type\":\"scatterternary\",\"marker\":{\"colorbar\":{\"outlinewidth\":0,\"ticks\":\"\"}}}],\"scattercarpet\":[{\"type\":\"scattercarpet\",\"marker\":{\"colorbar\":{\"outlinewidth\":0,\"ticks\":\"\"}}}],\"carpet\":[{\"aaxis\":{\"endlinecolor\":\"#2a3f5f\",\"gridcolor\":\"white\",\"linecolor\":\"white\",\"minorgridcolor\":\"white\",\"startlinecolor\":\"#2a3f5f\"},\"baxis\":{\"endlinecolor\":\"#2a3f5f\",\"gridcolor\":\"white\",\"linecolor\":\"white\",\"minorgridcolor\":\"white\",\"startlinecolor\":\"#2a3f5f\"},\"type\":\"carpet\"}],\"table\":[{\"cells\":{\"fill\":{\"color\":\"#EBF0F8\"},\"line\":{\"color\":\"white\"}},\"header\":{\"fill\":{\"color\":\"#C8D4E3\"},\"line\":{\"color\":\"white\"}},\"type\":\"table\"}],\"barpolar\":[{\"marker\":{\"line\":{\"color\":\"#E5ECF6\",\"width\":0.5},\"pattern\":{\"fillmode\":\"overlay\",\"size\":10,\"solidity\":0.2}},\"type\":\"barpolar\"}],\"pie\":[{\"automargin\":true,\"type\":\"pie\"}]},\"layout\":{\"autotypenumbers\":\"strict\",\"colorway\":[\"#636efa\",\"#EF553B\",\"#00cc96\",\"#ab63fa\",\"#FFA15A\",\"#19d3f3\",\"#FF6692\",\"#B6E880\",\"#FF97FF\",\"#FECB52\"],\"font\":{\"color\":\"#2a3f5f\"},\"hovermode\":\"closest\",\"hoverlabel\":{\"align\":\"left\"},\"paper_bgcolor\":\"white\",\"plot_bgcolor\":\"#E5ECF6\",\"polar\":{\"bgcolor\":\"#E5ECF6\",\"angularaxis\":{\"gridcolor\":\"white\",\"linecolor\":\"white\",\"ticks\":\"\"},\"radialaxis\":{\"gridcolor\":\"white\",\"linecolor\":\"white\",\"ticks\":\"\"}},\"ternary\":{\"bgcolor\":\"#E5ECF6\",\"aaxis\":{\"gridcolor\":\"white\",\"linecolor\":\"white\",\"ticks\":\"\"},\"baxis\":{\"gridcolor\":\"white\",\"linecolor\":\"white\",\"ticks\":\"\"},\"caxis\":{\"gridcolor\":\"white\",\"linecolor\":\"white\",\"ticks\":\"\"}},\"coloraxis\":{\"colorbar\":{\"outlinewidth\":0,\"ticks\":\"\"}},\"colorscale\":{\"sequential\":[[0.0,\"#0d0887\"],[0.1111111111111111,\"#46039f\"],[0.2222222222222222,\"#7201a8\"],[0.3333333333333333,\"#9c179e\"],[0.4444444444444444,\"#bd3786\"],[0.5555555555555556,\"#d8576b\"],[0.6666666666666666,\"#ed7953\"],[0.7777777777777778,\"#fb9f3a\"],[0.8888888888888888,\"#fdca26\"],[1.0,\"#f0f921\"]],\"sequentialminus\":[[0.0,\"#0d0887\"],[0.1111111111111111,\"#46039f\"],[0.2222222222222222,\"#7201a8\"],[0.3333333333333333,\"#9c179e\"],[0.4444444444444444,\"#bd3786\"],[0.5555555555555556,\"#d8576b\"],[0.6666666666666666,\"#ed7953\"],[0.7777777777777778,\"#fb9f3a\"],[0.8888888888888888,\"#fdca26\"],[1.0,\"#f0f921\"]],\"diverging\":[[0,\"#8e0152\"],[0.1,\"#c51b7d\"],[0.2,\"#de77ae\"],[0.3,\"#f1b6da\"],[0.4,\"#fde0ef\"],[0.5,\"#f7f7f7\"],[0.6,\"#e6f5d0\"],[0.7,\"#b8e186\"],[0.8,\"#7fbc41\"],[0.9,\"#4d9221\"],[1,\"#276419\"]]},\"xaxis\":{\"gridcolor\":\"white\",\"linecolor\":\"white\",\"ticks\":\"\",\"title\":{\"standoff\":15},\"zerolinecolor\":\"white\",\"automargin\":true,\"zerolinewidth\":2},\"yaxis\":{\"gridcolor\":\"white\",\"linecolor\":\"white\",\"ticks\":\"\",\"title\":{\"standoff\":15},\"zerolinecolor\":\"white\",\"automargin\":true,\"zerolinewidth\":2},\"scene\":{\"xaxis\":{\"backgroundcolor\":\"#E5ECF6\",\"gridcolor\":\"white\",\"linecolor\":\"white\",\"showbackground\":true,\"ticks\":\"\",\"zerolinecolor\":\"white\",\"gridwidth\":2},\"yaxis\":{\"backgroundcolor\":\"#E5ECF6\",\"gridcolor\":\"white\",\"linecolor\":\"white\",\"showbackground\":true,\"ticks\":\"\",\"zerolinecolor\":\"white\",\"gridwidth\":2},\"zaxis\":{\"backgroundcolor\":\"#E5ECF6\",\"gridcolor\":\"white\",\"linecolor\":\"white\",\"showbackground\":true,\"ticks\":\"\",\"zerolinecolor\":\"white\",\"gridwidth\":2}},\"shapedefaults\":{\"line\":{\"color\":\"#2a3f5f\"}},\"annotationdefaults\":{\"arrowcolor\":\"#2a3f5f\",\"arrowhead\":0,\"arrowwidth\":1},\"geo\":{\"bgcolor\":\"white\",\"landcolor\":\"#E5ECF6\",\"subunitcolor\":\"white\",\"showland\":true,\"showlakes\":true,\"lakecolor\":\"white\"},\"title\":{\"x\":0.05},\"mapbox\":{\"style\":\"light\"}}},\"xaxis\":{\"anchor\":\"y\",\"domain\":[0.0,1.0],\"title\":{\"text\":\"Date Created\"}},\"yaxis\":{\"anchor\":\"x\",\"domain\":[0.0,1.0],\"title\":{\"text\":\"Rank\"}},\"legend\":{\"tracegroupgap\":0},\"title\":{\"text\":\"Relationship between Created Date and Rank\"},\"plot_bgcolor\":\"#929487\",\"paper_bgcolor\":\"#ACCEC0\"},                        {\"responsive\": true}                    ).then(function(){\n",
              "                            \n",
              "var gd = document.getElementById('c3f2301b-505b-453b-857e-0ff8d680ab62');\n",
              "var x = new MutationObserver(function (mutations, observer) {{\n",
              "        var display = window.getComputedStyle(gd).display;\n",
              "        if (!display || display === 'none') {{\n",
              "            console.log([gd, 'removed!']);\n",
              "            Plotly.purge(gd);\n",
              "            observer.disconnect();\n",
              "        }}\n",
              "}});\n",
              "\n",
              "// Listen for the removal of the full notebook cells\n",
              "var notebookContainer = gd.closest('#notebook-container');\n",
              "if (notebookContainer) {{\n",
              "    x.observe(notebookContainer, {childList: true});\n",
              "}}\n",
              "\n",
              "// Listen for the clearing of the current output cell\n",
              "var outputEl = gd.closest('.output');\n",
              "if (outputEl) {{\n",
              "    x.observe(outputEl, {childList: true});\n",
              "}}\n",
              "\n",
              "                        })                };                            </script>        </div>\n",
              "</body>\n",
              "</html>"
            ]
          },
          "metadata": {}
        }
      ]
    },
    {
      "cell_type": "markdown",
      "source": [
        "We notice the presence of consistently low ranks from 2015 onwards. This observation might suggest a trend where the longer a color exists, the higher its rank becomes. However, it's also plausible that there could be inaccuracies within the data causing this pattern"
      ],
      "metadata": {
        "id": "cs1Bn0IPJhqF"
      }
    },
    {
      "cell_type": "markdown",
      "source": [
        "The same data with animation frame."
      ],
      "metadata": {
        "id": "CRNNl3d4ho0Z"
      }
    },
    {
      "cell_type": "code",
      "source": [
        "import plotly.express as px\n",
        "\n",
        "\n",
        "colors_top_data['year'] = colors_top_data['dateCreated'].dt.year\n",
        "highest_rank_row = colors_top_data.loc[colors_top_data['rank'].idxmax()]\n",
        "highest_rank_hex = highest_rank_row['hex']\n",
        "highest_rank_rgb = tuple(int(highest_rank_hex[i:i+2], 16) for i in (0, 2, 4))\n",
        "highest_rank_color = f'rgb{highest_rank_rgb}'\n",
        "\n",
        "fig = px.scatter(colors_top_data, x='dateCreated', y='rank', animation_frame='year',\n",
        "                 title='Relationship between Created Date and Rank')\n",
        "\n",
        "fig.update_xaxes(title='Date Created', tickformat=\"d\")\n",
        "\n",
        "fig.update_yaxes(title='Rank')\n",
        "fig.update_layout(\n",
        "    plot_bgcolor='#929487',\n",
        "    paper_bgcolor='#ACCEC0'\n",
        ")\n",
        "\n",
        "fig.update_traces(marker=dict(color=highest_rank_color))\n",
        "fig.show()"
      ],
      "metadata": {
        "colab": {
          "base_uri": "https://localhost:8080/",
          "height": 542
        },
        "id": "xZIJZYnbhXys",
        "outputId": "3b48bef8-d6f1-4fcc-84f2-7714bf424ef3"
      },
      "execution_count": 124,
      "outputs": [
        {
          "output_type": "display_data",
          "data": {
            "text/html": [
              "<html>\n",
              "<head><meta charset=\"utf-8\" /></head>\n",
              "<body>\n",
              "    <div>            <script src=\"https://cdnjs.cloudflare.com/ajax/libs/mathjax/2.7.5/MathJax.js?config=TeX-AMS-MML_SVG\"></script><script type=\"text/javascript\">if (window.MathJax && window.MathJax.Hub && window.MathJax.Hub.Config) {window.MathJax.Hub.Config({SVG: {font: \"STIX-Web\"}});}</script>                <script type=\"text/javascript\">window.PlotlyConfig = {MathJaxConfig: 'local'};</script>\n",
              "        <script charset=\"utf-8\" src=\"https://cdn.plot.ly/plotly-2.24.1.min.js\"></script>                <div id=\"8e123857-deef-40c3-a9ba-c89def27278e\" class=\"plotly-graph-div\" style=\"height:525px; width:100%;\"></div>            <script type=\"text/javascript\">                                    window.PLOTLYENV=window.PLOTLYENV || {};                                    if (document.getElementById(\"8e123857-deef-40c3-a9ba-c89def27278e\")) {                    Plotly.newPlot(                        \"8e123857-deef-40c3-a9ba-c89def27278e\",                        [{\"hovertemplate\":\"year=2008\\u003cbr\\u003edateCreated=%{x}\\u003cbr\\u003erank=%{y}\\u003cextra\\u003e\\u003c\\u002fextra\\u003e\",\"legendgroup\":\"\",\"marker\":{\"color\":\"rgb(255, 241, 204)\",\"symbol\":\"circle\"},\"mode\":\"markers\",\"name\":\"\",\"orientation\":\"v\",\"showlegend\":false,\"x\":[\"2008-05-19T00:00:00\",\"2008-12-02T00:00:00\",\"2008-05-13T00:00:00\",\"2008-07-01T00:00:00\",\"2008-05-24T00:00:00\",\"2008-06-19T00:00:00\",\"2008-01-04T00:00:00\",\"2008-05-04T00:00:00\",\"2008-05-31T00:00:00\",\"2008-12-30T00:00:00\",\"2008-05-28T00:00:00\",\"2008-06-03T00:00:00\",\"2008-04-20T00:00:00\",\"2008-10-26T00:00:00\",\"2008-04-26T00:00:00\",\"2008-08-22T00:00:00\",\"2008-10-15T00:00:00\",\"2008-09-04T00:00:00\",\"2008-05-13T00:00:00\",\"2008-03-29T00:00:00\",\"2008-07-06T00:00:00\",\"2008-12-29T00:00:00\",\"2008-01-09T00:00:00\",\"2008-06-01T00:00:00\",\"2008-04-25T00:00:00\",\"2008-10-14T00:00:00\",\"2008-06-16T00:00:00\",\"2008-05-13T00:00:00\",\"2008-02-08T00:00:00\",\"2008-03-09T00:00:00\",\"2008-04-19T00:00:00\",\"2008-08-25T00:00:00\",\"2008-03-08T00:00:00\",\"2008-04-03T00:00:00\",\"2008-10-21T00:00:00\",\"2008-02-19T00:00:00\",\"2008-05-17T00:00:00\",\"2008-04-12T00:00:00\",\"2008-07-12T00:00:00\",\"2008-12-18T00:00:00\",\"2008-08-11T00:00:00\",\"2008-06-17T00:00:00\",\"2008-07-13T00:00:00\",\"2008-05-09T00:00:00\",\"2008-07-31T00:00:00\",\"2008-12-12T00:00:00\",\"2008-05-25T00:00:00\",\"2008-01-09T00:00:00\",\"2008-09-03T00:00:00\",\"2008-07-25T00:00:00\",\"2008-04-26T00:00:00\",\"2008-03-23T00:00:00\",\"2008-01-30T00:00:00\",\"2008-01-08T00:00:00\",\"2008-12-22T00:00:00\",\"2008-10-23T00:00:00\",\"2008-09-29T00:00:00\",\"2008-06-21T00:00:00\",\"2008-05-05T00:00:00\",\"2008-10-16T00:00:00\",\"2008-06-02T00:00:00\",\"2008-04-04T00:00:00\",\"2008-04-04T00:00:00\",\"2008-03-11T00:00:00\",\"2008-02-16T00:00:00\",\"2008-07-22T00:00:00\",\"2008-10-05T00:00:00\",\"2008-10-01T00:00:00\",\"2008-09-28T00:00:00\",\"2008-06-05T00:00:00\",\"2008-04-30T00:00:00\",\"2008-04-11T00:00:00\",\"2008-03-03T00:00:00\",\"2008-01-07T00:00:00\",\"2008-08-29T00:00:00\",\"2008-06-27T00:00:00\",\"2008-04-27T00:00:00\",\"2008-03-29T00:00:00\",\"2008-06-30T00:00:00\",\"2008-04-01T00:00:00\",\"2008-03-30T00:00:00\",\"2008-05-13T00:00:00\",\"2008-02-23T00:00:00\",\"2008-01-05T00:00:00\",\"2008-01-03T00:00:00\",\"2008-02-14T00:00:00\",\"2008-02-06T00:00:00\",\"2008-01-15T00:00:00\",\"2008-01-11T00:00:00\",\"2008-01-02T00:00:00\",\"2008-10-21T00:00:00\",\"2008-10-03T00:00:00\",\"2008-09-06T00:00:00\",\"2008-09-01T00:00:00\",\"2008-07-10T00:00:00\",\"2008-06-03T00:00:00\",\"2008-04-27T00:00:00\",\"2008-03-24T00:00:00\",\"2008-03-07T00:00:00\",\"2008-01-22T00:00:00\",\"2008-08-02T00:00:00\",\"2008-08-01T00:00:00\",\"2008-06-05T00:00:00\",\"2008-05-06T00:00:00\",\"2008-04-30T00:00:00\",\"2008-04-01T00:00:00\",\"2008-03-13T00:00:00\",\"2008-02-16T00:00:00\",\"2008-01-28T00:00:00\",\"2008-11-04T00:00:00\",\"2008-10-16T00:00:00\",\"2008-10-13T00:00:00\",\"2008-06-29T00:00:00\",\"2008-05-18T00:00:00\",\"2008-04-20T00:00:00\",\"2008-10-09T00:00:00\",\"2008-09-14T00:00:00\",\"2008-09-01T00:00:00\",\"2008-08-18T00:00:00\",\"2008-06-30T00:00:00\",\"2008-06-29T00:00:00\",\"2008-06-17T00:00:00\",\"2008-05-20T00:00:00\",\"2008-05-17T00:00:00\",\"2008-04-21T00:00:00\",\"2008-04-04T00:00:00\",\"2008-01-21T00:00:00\",\"2008-01-12T00:00:00\",\"2008-12-21T00:00:00\",\"2008-11-07T00:00:00\",\"2008-10-17T00:00:00\",\"2008-08-31T00:00:00\",\"2008-07-23T00:00:00\",\"2008-06-15T00:00:00\",\"2008-05-17T00:00:00\",\"2008-03-15T00:00:00\",\"2008-03-06T00:00:00\",\"2008-03-04T00:00:00\",\"2008-02-13T00:00:00\",\"2008-01-27T00:00:00\",\"2008-01-06T00:00:00\",\"2008-11-15T00:00:00\",\"2008-09-02T00:00:00\",\"2008-07-03T00:00:00\",\"2008-04-19T00:00:00\",\"2008-12-02T00:00:00\",\"2008-11-11T00:00:00\",\"2008-11-01T00:00:00\",\"2008-08-22T00:00:00\",\"2008-06-18T00:00:00\",\"2008-06-01T00:00:00\",\"2008-05-10T00:00:00\",\"2008-05-08T00:00:00\",\"2008-03-11T00:00:00\",\"2008-02-07T00:00:00\",\"2008-01-28T00:00:00\",\"2008-01-23T00:00:00\",\"2008-01-03T00:00:00\",\"2008-12-30T00:00:00\",\"2008-12-24T00:00:00\",\"2008-11-19T00:00:00\",\"2008-11-17T00:00:00\",\"2008-11-16T00:00:00\",\"2008-10-28T00:00:00\",\"2008-10-14T00:00:00\",\"2008-10-06T00:00:00\",\"2008-07-04T00:00:00\",\"2008-06-19T00:00:00\",\"2008-06-14T00:00:00\",\"2008-06-10T00:00:00\",\"2008-06-07T00:00:00\",\"2008-06-02T00:00:00\",\"2008-04-20T00:00:00\",\"2008-03-23T00:00:00\",\"2008-03-11T00:00:00\",\"2008-02-07T00:00:00\",\"2008-02-02T00:00:00\",\"2008-01-10T00:00:00\",\"2008-01-06T00:00:00\",\"2008-08-22T00:00:00\",\"2008-08-05T00:00:00\",\"2008-07-23T00:00:00\",\"2008-07-23T00:00:00\",\"2008-05-14T00:00:00\",\"2008-04-05T00:00:00\",\"2008-02-19T00:00:00\",\"2008-01-24T00:00:00\",\"2008-01-21T00:00:00\",\"2008-01-11T00:00:00\",\"2008-01-11T00:00:00\",\"2008-11-28T00:00:00\",\"2008-11-23T00:00:00\",\"2008-10-17T00:00:00\",\"2008-09-01T00:00:00\",\"2008-08-17T00:00:00\",\"2008-08-08T00:00:00\",\"2008-06-24T00:00:00\",\"2008-06-18T00:00:00\",\"2008-05-15T00:00:00\",\"2008-04-28T00:00:00\",\"2008-04-28T00:00:00\",\"2008-04-07T00:00:00\",\"2008-03-31T00:00:00\",\"2008-03-25T00:00:00\",\"2008-02-28T00:00:00\",\"2008-02-08T00:00:00\",\"2008-02-06T00:00:00\",\"2008-01-26T00:00:00\",\"2008-01-15T00:00:00\",\"2008-01-10T00:00:00\",\"2008-01-07T00:00:00\",\"2008-11-17T00:00:00\",\"2008-10-07T00:00:00\",\"2008-07-28T00:00:00\",\"2008-07-09T00:00:00\",\"2008-07-04T00:00:00\",\"2008-06-26T00:00:00\",\"2008-06-18T00:00:00\",\"2008-05-28T00:00:00\",\"2008-05-23T00:00:00\",\"2008-05-19T00:00:00\",\"2008-05-13T00:00:00\",\"2008-03-18T00:00:00\",\"2008-02-17T00:00:00\",\"2008-01-18T00:00:00\",\"2008-01-18T00:00:00\",\"2008-01-17T00:00:00\",\"2008-12-20T00:00:00\",\"2008-12-17T00:00:00\",\"2008-12-16T00:00:00\"],\"xaxis\":\"x\",\"y\":[3,16,15,30,41,68,51,80,65,85,179,143,117,145,144,287,234,322,290,450,334,378,606,436,604,515,531,447,1021,691,629,749,717,1311,1221,1313,1156,1240,1489,1150,1010,1229,1012,1604,950,1303,1081,2014,1222,1999,1238,1611,2013,1314,1716,1075,2385,1228,2006,1848,1724,2919,1610,1500,2204,2191,1717,1992,2903,21122,1728,1734,2012,2927,2188,1853,1730,2408,1720,5345,2407,2913,0,5356,2208,4131,2412,2207,2925,3644,2901,0,1993,2389,2909,5324,3633,2410,0,2206,2626,3611,0,4650,2632,4128,2920,2411,2413,6066,7129,2384,4638,0,3223,3204,2905,4622,3608,2628,2629,3213,5327,3625,4121,4126,3641,0,3585,3200,6073,4080,4086,4100,4112,21260,7210,5349,0,6159,12846,3588,3604,12713,3224,7111,3589,6068,0,6114,5326,4648,6135,4661,4134,4135,5353,7235,5272,0,10190,6064,4607,4611,6074,8484,4637,0,0,4102,7174,12739,5339,10318,6153,6157,0,7233,7234,5296,4627,5304,6098,8549,7206,7217,7224,6160,8609,0,5277,5279,8479,10223,6089,5300,21086,5321,5328,21187,8557,12784,12787,10317,8589,21309,5351,8599,12832,10355,21393,7114,6075,12702,10253,7163,12717,10265,10277,16168,12747,12752,8580,8592,8606,8607,10348,8454,10183,7110],\"yaxis\":\"y\",\"type\":\"scatter\"}],                        {\"template\":{\"data\":{\"histogram2dcontour\":[{\"type\":\"histogram2dcontour\",\"colorbar\":{\"outlinewidth\":0,\"ticks\":\"\"},\"colorscale\":[[0.0,\"#0d0887\"],[0.1111111111111111,\"#46039f\"],[0.2222222222222222,\"#7201a8\"],[0.3333333333333333,\"#9c179e\"],[0.4444444444444444,\"#bd3786\"],[0.5555555555555556,\"#d8576b\"],[0.6666666666666666,\"#ed7953\"],[0.7777777777777778,\"#fb9f3a\"],[0.8888888888888888,\"#fdca26\"],[1.0,\"#f0f921\"]]}],\"choropleth\":[{\"type\":\"choropleth\",\"colorbar\":{\"outlinewidth\":0,\"ticks\":\"\"}}],\"histogram2d\":[{\"type\":\"histogram2d\",\"colorbar\":{\"outlinewidth\":0,\"ticks\":\"\"},\"colorscale\":[[0.0,\"#0d0887\"],[0.1111111111111111,\"#46039f\"],[0.2222222222222222,\"#7201a8\"],[0.3333333333333333,\"#9c179e\"],[0.4444444444444444,\"#bd3786\"],[0.5555555555555556,\"#d8576b\"],[0.6666666666666666,\"#ed7953\"],[0.7777777777777778,\"#fb9f3a\"],[0.8888888888888888,\"#fdca26\"],[1.0,\"#f0f921\"]]}],\"heatmap\":[{\"type\":\"heatmap\",\"colorbar\":{\"outlinewidth\":0,\"ticks\":\"\"},\"colorscale\":[[0.0,\"#0d0887\"],[0.1111111111111111,\"#46039f\"],[0.2222222222222222,\"#7201a8\"],[0.3333333333333333,\"#9c179e\"],[0.4444444444444444,\"#bd3786\"],[0.5555555555555556,\"#d8576b\"],[0.6666666666666666,\"#ed7953\"],[0.7777777777777778,\"#fb9f3a\"],[0.8888888888888888,\"#fdca26\"],[1.0,\"#f0f921\"]]}],\"heatmapgl\":[{\"type\":\"heatmapgl\",\"colorbar\":{\"outlinewidth\":0,\"ticks\":\"\"},\"colorscale\":[[0.0,\"#0d0887\"],[0.1111111111111111,\"#46039f\"],[0.2222222222222222,\"#7201a8\"],[0.3333333333333333,\"#9c179e\"],[0.4444444444444444,\"#bd3786\"],[0.5555555555555556,\"#d8576b\"],[0.6666666666666666,\"#ed7953\"],[0.7777777777777778,\"#fb9f3a\"],[0.8888888888888888,\"#fdca26\"],[1.0,\"#f0f921\"]]}],\"contourcarpet\":[{\"type\":\"contourcarpet\",\"colorbar\":{\"outlinewidth\":0,\"ticks\":\"\"}}],\"contour\":[{\"type\":\"contour\",\"colorbar\":{\"outlinewidth\":0,\"ticks\":\"\"},\"colorscale\":[[0.0,\"#0d0887\"],[0.1111111111111111,\"#46039f\"],[0.2222222222222222,\"#7201a8\"],[0.3333333333333333,\"#9c179e\"],[0.4444444444444444,\"#bd3786\"],[0.5555555555555556,\"#d8576b\"],[0.6666666666666666,\"#ed7953\"],[0.7777777777777778,\"#fb9f3a\"],[0.8888888888888888,\"#fdca26\"],[1.0,\"#f0f921\"]]}],\"surface\":[{\"type\":\"surface\",\"colorbar\":{\"outlinewidth\":0,\"ticks\":\"\"},\"colorscale\":[[0.0,\"#0d0887\"],[0.1111111111111111,\"#46039f\"],[0.2222222222222222,\"#7201a8\"],[0.3333333333333333,\"#9c179e\"],[0.4444444444444444,\"#bd3786\"],[0.5555555555555556,\"#d8576b\"],[0.6666666666666666,\"#ed7953\"],[0.7777777777777778,\"#fb9f3a\"],[0.8888888888888888,\"#fdca26\"],[1.0,\"#f0f921\"]]}],\"mesh3d\":[{\"type\":\"mesh3d\",\"colorbar\":{\"outlinewidth\":0,\"ticks\":\"\"}}],\"scatter\":[{\"fillpattern\":{\"fillmode\":\"overlay\",\"size\":10,\"solidity\":0.2},\"type\":\"scatter\"}],\"parcoords\":[{\"type\":\"parcoords\",\"line\":{\"colorbar\":{\"outlinewidth\":0,\"ticks\":\"\"}}}],\"scatterpolargl\":[{\"type\":\"scatterpolargl\",\"marker\":{\"colorbar\":{\"outlinewidth\":0,\"ticks\":\"\"}}}],\"bar\":[{\"error_x\":{\"color\":\"#2a3f5f\"},\"error_y\":{\"color\":\"#2a3f5f\"},\"marker\":{\"line\":{\"color\":\"#E5ECF6\",\"width\":0.5},\"pattern\":{\"fillmode\":\"overlay\",\"size\":10,\"solidity\":0.2}},\"type\":\"bar\"}],\"scattergeo\":[{\"type\":\"scattergeo\",\"marker\":{\"colorbar\":{\"outlinewidth\":0,\"ticks\":\"\"}}}],\"scatterpolar\":[{\"type\":\"scatterpolar\",\"marker\":{\"colorbar\":{\"outlinewidth\":0,\"ticks\":\"\"}}}],\"histogram\":[{\"marker\":{\"pattern\":{\"fillmode\":\"overlay\",\"size\":10,\"solidity\":0.2}},\"type\":\"histogram\"}],\"scattergl\":[{\"type\":\"scattergl\",\"marker\":{\"colorbar\":{\"outlinewidth\":0,\"ticks\":\"\"}}}],\"scatter3d\":[{\"type\":\"scatter3d\",\"line\":{\"colorbar\":{\"outlinewidth\":0,\"ticks\":\"\"}},\"marker\":{\"colorbar\":{\"outlinewidth\":0,\"ticks\":\"\"}}}],\"scattermapbox\":[{\"type\":\"scattermapbox\",\"marker\":{\"colorbar\":{\"outlinewidth\":0,\"ticks\":\"\"}}}],\"scatterternary\":[{\"type\":\"scatterternary\",\"marker\":{\"colorbar\":{\"outlinewidth\":0,\"ticks\":\"\"}}}],\"scattercarpet\":[{\"type\":\"scattercarpet\",\"marker\":{\"colorbar\":{\"outlinewidth\":0,\"ticks\":\"\"}}}],\"carpet\":[{\"aaxis\":{\"endlinecolor\":\"#2a3f5f\",\"gridcolor\":\"white\",\"linecolor\":\"white\",\"minorgridcolor\":\"white\",\"startlinecolor\":\"#2a3f5f\"},\"baxis\":{\"endlinecolor\":\"#2a3f5f\",\"gridcolor\":\"white\",\"linecolor\":\"white\",\"minorgridcolor\":\"white\",\"startlinecolor\":\"#2a3f5f\"},\"type\":\"carpet\"}],\"table\":[{\"cells\":{\"fill\":{\"color\":\"#EBF0F8\"},\"line\":{\"color\":\"white\"}},\"header\":{\"fill\":{\"color\":\"#C8D4E3\"},\"line\":{\"color\":\"white\"}},\"type\":\"table\"}],\"barpolar\":[{\"marker\":{\"line\":{\"color\":\"#E5ECF6\",\"width\":0.5},\"pattern\":{\"fillmode\":\"overlay\",\"size\":10,\"solidity\":0.2}},\"type\":\"barpolar\"}],\"pie\":[{\"automargin\":true,\"type\":\"pie\"}]},\"layout\":{\"autotypenumbers\":\"strict\",\"colorway\":[\"#636efa\",\"#EF553B\",\"#00cc96\",\"#ab63fa\",\"#FFA15A\",\"#19d3f3\",\"#FF6692\",\"#B6E880\",\"#FF97FF\",\"#FECB52\"],\"font\":{\"color\":\"#2a3f5f\"},\"hovermode\":\"closest\",\"hoverlabel\":{\"align\":\"left\"},\"paper_bgcolor\":\"white\",\"plot_bgcolor\":\"#E5ECF6\",\"polar\":{\"bgcolor\":\"#E5ECF6\",\"angularaxis\":{\"gridcolor\":\"white\",\"linecolor\":\"white\",\"ticks\":\"\"},\"radialaxis\":{\"gridcolor\":\"white\",\"linecolor\":\"white\",\"ticks\":\"\"}},\"ternary\":{\"bgcolor\":\"#E5ECF6\",\"aaxis\":{\"gridcolor\":\"white\",\"linecolor\":\"white\",\"ticks\":\"\"},\"baxis\":{\"gridcolor\":\"white\",\"linecolor\":\"white\",\"ticks\":\"\"},\"caxis\":{\"gridcolor\":\"white\",\"linecolor\":\"white\",\"ticks\":\"\"}},\"coloraxis\":{\"colorbar\":{\"outlinewidth\":0,\"ticks\":\"\"}},\"colorscale\":{\"sequential\":[[0.0,\"#0d0887\"],[0.1111111111111111,\"#46039f\"],[0.2222222222222222,\"#7201a8\"],[0.3333333333333333,\"#9c179e\"],[0.4444444444444444,\"#bd3786\"],[0.5555555555555556,\"#d8576b\"],[0.6666666666666666,\"#ed7953\"],[0.7777777777777778,\"#fb9f3a\"],[0.8888888888888888,\"#fdca26\"],[1.0,\"#f0f921\"]],\"sequentialminus\":[[0.0,\"#0d0887\"],[0.1111111111111111,\"#46039f\"],[0.2222222222222222,\"#7201a8\"],[0.3333333333333333,\"#9c179e\"],[0.4444444444444444,\"#bd3786\"],[0.5555555555555556,\"#d8576b\"],[0.6666666666666666,\"#ed7953\"],[0.7777777777777778,\"#fb9f3a\"],[0.8888888888888888,\"#fdca26\"],[1.0,\"#f0f921\"]],\"diverging\":[[0,\"#8e0152\"],[0.1,\"#c51b7d\"],[0.2,\"#de77ae\"],[0.3,\"#f1b6da\"],[0.4,\"#fde0ef\"],[0.5,\"#f7f7f7\"],[0.6,\"#e6f5d0\"],[0.7,\"#b8e186\"],[0.8,\"#7fbc41\"],[0.9,\"#4d9221\"],[1,\"#276419\"]]},\"xaxis\":{\"gridcolor\":\"white\",\"linecolor\":\"white\",\"ticks\":\"\",\"title\":{\"standoff\":15},\"zerolinecolor\":\"white\",\"automargin\":true,\"zerolinewidth\":2},\"yaxis\":{\"gridcolor\":\"white\",\"linecolor\":\"white\",\"ticks\":\"\",\"title\":{\"standoff\":15},\"zerolinecolor\":\"white\",\"automargin\":true,\"zerolinewidth\":2},\"scene\":{\"xaxis\":{\"backgroundcolor\":\"#E5ECF6\",\"gridcolor\":\"white\",\"linecolor\":\"white\",\"showbackground\":true,\"ticks\":\"\",\"zerolinecolor\":\"white\",\"gridwidth\":2},\"yaxis\":{\"backgroundcolor\":\"#E5ECF6\",\"gridcolor\":\"white\",\"linecolor\":\"white\",\"showbackground\":true,\"ticks\":\"\",\"zerolinecolor\":\"white\",\"gridwidth\":2},\"zaxis\":{\"backgroundcolor\":\"#E5ECF6\",\"gridcolor\":\"white\",\"linecolor\":\"white\",\"showbackground\":true,\"ticks\":\"\",\"zerolinecolor\":\"white\",\"gridwidth\":2}},\"shapedefaults\":{\"line\":{\"color\":\"#2a3f5f\"}},\"annotationdefaults\":{\"arrowcolor\":\"#2a3f5f\",\"arrowhead\":0,\"arrowwidth\":1},\"geo\":{\"bgcolor\":\"white\",\"landcolor\":\"#E5ECF6\",\"subunitcolor\":\"white\",\"showland\":true,\"showlakes\":true,\"lakecolor\":\"white\"},\"title\":{\"x\":0.05},\"mapbox\":{\"style\":\"light\"}}},\"xaxis\":{\"anchor\":\"y\",\"domain\":[0.0,1.0],\"title\":{\"text\":\"Date Created\"},\"tickformat\":\"d\"},\"yaxis\":{\"anchor\":\"x\",\"domain\":[0.0,1.0],\"title\":{\"text\":\"Rank\"}},\"legend\":{\"tracegroupgap\":0},\"title\":{\"text\":\"Relationship between Created Date and Rank\"},\"updatemenus\":[{\"buttons\":[{\"args\":[null,{\"frame\":{\"duration\":500,\"redraw\":false},\"mode\":\"immediate\",\"fromcurrent\":true,\"transition\":{\"duration\":500,\"easing\":\"linear\"}}],\"label\":\"&#9654;\",\"method\":\"animate\"},{\"args\":[[null],{\"frame\":{\"duration\":0,\"redraw\":false},\"mode\":\"immediate\",\"fromcurrent\":true,\"transition\":{\"duration\":0,\"easing\":\"linear\"}}],\"label\":\"&#9724;\",\"method\":\"animate\"}],\"direction\":\"left\",\"pad\":{\"r\":10,\"t\":70},\"showactive\":false,\"type\":\"buttons\",\"x\":0.1,\"xanchor\":\"right\",\"y\":0,\"yanchor\":\"top\"}],\"sliders\":[{\"active\":0,\"currentvalue\":{\"prefix\":\"year=\"},\"len\":0.9,\"pad\":{\"b\":10,\"t\":60},\"steps\":[{\"args\":[[\"2008\"],{\"frame\":{\"duration\":0,\"redraw\":false},\"mode\":\"immediate\",\"fromcurrent\":true,\"transition\":{\"duration\":0,\"easing\":\"linear\"}}],\"label\":\"2008\",\"method\":\"animate\"},{\"args\":[[\"2004\"],{\"frame\":{\"duration\":0,\"redraw\":false},\"mode\":\"immediate\",\"fromcurrent\":true,\"transition\":{\"duration\":0,\"easing\":\"linear\"}}],\"label\":\"2004\",\"method\":\"animate\"},{\"args\":[[\"2005\"],{\"frame\":{\"duration\":0,\"redraw\":false},\"mode\":\"immediate\",\"fromcurrent\":true,\"transition\":{\"duration\":0,\"easing\":\"linear\"}}],\"label\":\"2005\",\"method\":\"animate\"},{\"args\":[[\"2006\"],{\"frame\":{\"duration\":0,\"redraw\":false},\"mode\":\"immediate\",\"fromcurrent\":true,\"transition\":{\"duration\":0,\"easing\":\"linear\"}}],\"label\":\"2006\",\"method\":\"animate\"},{\"args\":[[\"2012\"],{\"frame\":{\"duration\":0,\"redraw\":false},\"mode\":\"immediate\",\"fromcurrent\":true,\"transition\":{\"duration\":0,\"easing\":\"linear\"}}],\"label\":\"2012\",\"method\":\"animate\"},{\"args\":[[\"2010\"],{\"frame\":{\"duration\":0,\"redraw\":false},\"mode\":\"immediate\",\"fromcurrent\":true,\"transition\":{\"duration\":0,\"easing\":\"linear\"}}],\"label\":\"2010\",\"method\":\"animate\"},{\"args\":[[\"2007\"],{\"frame\":{\"duration\":0,\"redraw\":false},\"mode\":\"immediate\",\"fromcurrent\":true,\"transition\":{\"duration\":0,\"easing\":\"linear\"}}],\"label\":\"2007\",\"method\":\"animate\"},{\"args\":[[\"2009\"],{\"frame\":{\"duration\":0,\"redraw\":false},\"mode\":\"immediate\",\"fromcurrent\":true,\"transition\":{\"duration\":0,\"easing\":\"linear\"}}],\"label\":\"2009\",\"method\":\"animate\"},{\"args\":[[\"2011\"],{\"frame\":{\"duration\":0,\"redraw\":false},\"mode\":\"immediate\",\"fromcurrent\":true,\"transition\":{\"duration\":0,\"easing\":\"linear\"}}],\"label\":\"2011\",\"method\":\"animate\"},{\"args\":[[\"2013\"],{\"frame\":{\"duration\":0,\"redraw\":false},\"mode\":\"immediate\",\"fromcurrent\":true,\"transition\":{\"duration\":0,\"easing\":\"linear\"}}],\"label\":\"2013\",\"method\":\"animate\"},{\"args\":[[\"2015\"],{\"frame\":{\"duration\":0,\"redraw\":false},\"mode\":\"immediate\",\"fromcurrent\":true,\"transition\":{\"duration\":0,\"easing\":\"linear\"}}],\"label\":\"2015\",\"method\":\"animate\"},{\"args\":[[\"2014\"],{\"frame\":{\"duration\":0,\"redraw\":false},\"mode\":\"immediate\",\"fromcurrent\":true,\"transition\":{\"duration\":0,\"easing\":\"linear\"}}],\"label\":\"2014\",\"method\":\"animate\"},{\"args\":[[\"2016\"],{\"frame\":{\"duration\":0,\"redraw\":false},\"mode\":\"immediate\",\"fromcurrent\":true,\"transition\":{\"duration\":0,\"easing\":\"linear\"}}],\"label\":\"2016\",\"method\":\"animate\"},{\"args\":[[\"2017\"],{\"frame\":{\"duration\":0,\"redraw\":false},\"mode\":\"immediate\",\"fromcurrent\":true,\"transition\":{\"duration\":0,\"easing\":\"linear\"}}],\"label\":\"2017\",\"method\":\"animate\"},{\"args\":[[\"2018\"],{\"frame\":{\"duration\":0,\"redraw\":false},\"mode\":\"immediate\",\"fromcurrent\":true,\"transition\":{\"duration\":0,\"easing\":\"linear\"}}],\"label\":\"2018\",\"method\":\"animate\"}],\"x\":0.1,\"xanchor\":\"left\",\"y\":0,\"yanchor\":\"top\"}],\"plot_bgcolor\":\"#929487\",\"paper_bgcolor\":\"#ACCEC0\"},                        {\"responsive\": true}                    ).then(function(){\n",
              "                            Plotly.addFrames('8e123857-deef-40c3-a9ba-c89def27278e', [{\"data\":[{\"hovertemplate\":\"year=2008\\u003cbr\\u003edateCreated=%{x}\\u003cbr\\u003erank=%{y}\\u003cextra\\u003e\\u003c\\u002fextra\\u003e\",\"legendgroup\":\"\",\"marker\":{\"color\":\"#636efa\",\"symbol\":\"circle\"},\"mode\":\"markers\",\"name\":\"\",\"orientation\":\"v\",\"showlegend\":false,\"x\":[\"2008-05-19T00:00:00\",\"2008-12-02T00:00:00\",\"2008-05-13T00:00:00\",\"2008-07-01T00:00:00\",\"2008-05-24T00:00:00\",\"2008-06-19T00:00:00\",\"2008-01-04T00:00:00\",\"2008-05-04T00:00:00\",\"2008-05-31T00:00:00\",\"2008-12-30T00:00:00\",\"2008-05-28T00:00:00\",\"2008-06-03T00:00:00\",\"2008-04-20T00:00:00\",\"2008-10-26T00:00:00\",\"2008-04-26T00:00:00\",\"2008-08-22T00:00:00\",\"2008-10-15T00:00:00\",\"2008-09-04T00:00:00\",\"2008-05-13T00:00:00\",\"2008-03-29T00:00:00\",\"2008-07-06T00:00:00\",\"2008-12-29T00:00:00\",\"2008-01-09T00:00:00\",\"2008-06-01T00:00:00\",\"2008-04-25T00:00:00\",\"2008-10-14T00:00:00\",\"2008-06-16T00:00:00\",\"2008-05-13T00:00:00\",\"2008-02-08T00:00:00\",\"2008-03-09T00:00:00\",\"2008-04-19T00:00:00\",\"2008-08-25T00:00:00\",\"2008-03-08T00:00:00\",\"2008-04-03T00:00:00\",\"2008-10-21T00:00:00\",\"2008-02-19T00:00:00\",\"2008-05-17T00:00:00\",\"2008-04-12T00:00:00\",\"2008-07-12T00:00:00\",\"2008-12-18T00:00:00\",\"2008-08-11T00:00:00\",\"2008-06-17T00:00:00\",\"2008-07-13T00:00:00\",\"2008-05-09T00:00:00\",\"2008-07-31T00:00:00\",\"2008-12-12T00:00:00\",\"2008-05-25T00:00:00\",\"2008-01-09T00:00:00\",\"2008-09-03T00:00:00\",\"2008-07-25T00:00:00\",\"2008-04-26T00:00:00\",\"2008-03-23T00:00:00\",\"2008-01-30T00:00:00\",\"2008-01-08T00:00:00\",\"2008-12-22T00:00:00\",\"2008-10-23T00:00:00\",\"2008-09-29T00:00:00\",\"2008-06-21T00:00:00\",\"2008-05-05T00:00:00\",\"2008-10-16T00:00:00\",\"2008-06-02T00:00:00\",\"2008-04-04T00:00:00\",\"2008-04-04T00:00:00\",\"2008-03-11T00:00:00\",\"2008-02-16T00:00:00\",\"2008-07-22T00:00:00\",\"2008-10-05T00:00:00\",\"2008-10-01T00:00:00\",\"2008-09-28T00:00:00\",\"2008-06-05T00:00:00\",\"2008-04-30T00:00:00\",\"2008-04-11T00:00:00\",\"2008-03-03T00:00:00\",\"2008-01-07T00:00:00\",\"2008-08-29T00:00:00\",\"2008-06-27T00:00:00\",\"2008-04-27T00:00:00\",\"2008-03-29T00:00:00\",\"2008-06-30T00:00:00\",\"2008-04-01T00:00:00\",\"2008-03-30T00:00:00\",\"2008-05-13T00:00:00\",\"2008-02-23T00:00:00\",\"2008-01-05T00:00:00\",\"2008-01-03T00:00:00\",\"2008-02-14T00:00:00\",\"2008-02-06T00:00:00\",\"2008-01-15T00:00:00\",\"2008-01-11T00:00:00\",\"2008-01-02T00:00:00\",\"2008-10-21T00:00:00\",\"2008-10-03T00:00:00\",\"2008-09-06T00:00:00\",\"2008-09-01T00:00:00\",\"2008-07-10T00:00:00\",\"2008-06-03T00:00:00\",\"2008-04-27T00:00:00\",\"2008-03-24T00:00:00\",\"2008-03-07T00:00:00\",\"2008-01-22T00:00:00\",\"2008-08-02T00:00:00\",\"2008-08-01T00:00:00\",\"2008-06-05T00:00:00\",\"2008-05-06T00:00:00\",\"2008-04-30T00:00:00\",\"2008-04-01T00:00:00\",\"2008-03-13T00:00:00\",\"2008-02-16T00:00:00\",\"2008-01-28T00:00:00\",\"2008-11-04T00:00:00\",\"2008-10-16T00:00:00\",\"2008-10-13T00:00:00\",\"2008-06-29T00:00:00\",\"2008-05-18T00:00:00\",\"2008-04-20T00:00:00\",\"2008-10-09T00:00:00\",\"2008-09-14T00:00:00\",\"2008-09-01T00:00:00\",\"2008-08-18T00:00:00\",\"2008-06-30T00:00:00\",\"2008-06-29T00:00:00\",\"2008-06-17T00:00:00\",\"2008-05-20T00:00:00\",\"2008-05-17T00:00:00\",\"2008-04-21T00:00:00\",\"2008-04-04T00:00:00\",\"2008-01-21T00:00:00\",\"2008-01-12T00:00:00\",\"2008-12-21T00:00:00\",\"2008-11-07T00:00:00\",\"2008-10-17T00:00:00\",\"2008-08-31T00:00:00\",\"2008-07-23T00:00:00\",\"2008-06-15T00:00:00\",\"2008-05-17T00:00:00\",\"2008-03-15T00:00:00\",\"2008-03-06T00:00:00\",\"2008-03-04T00:00:00\",\"2008-02-13T00:00:00\",\"2008-01-27T00:00:00\",\"2008-01-06T00:00:00\",\"2008-11-15T00:00:00\",\"2008-09-02T00:00:00\",\"2008-07-03T00:00:00\",\"2008-04-19T00:00:00\",\"2008-12-02T00:00:00\",\"2008-11-11T00:00:00\",\"2008-11-01T00:00:00\",\"2008-08-22T00:00:00\",\"2008-06-18T00:00:00\",\"2008-06-01T00:00:00\",\"2008-05-10T00:00:00\",\"2008-05-08T00:00:00\",\"2008-03-11T00:00:00\",\"2008-02-07T00:00:00\",\"2008-01-28T00:00:00\",\"2008-01-23T00:00:00\",\"2008-01-03T00:00:00\",\"2008-12-30T00:00:00\",\"2008-12-24T00:00:00\",\"2008-11-19T00:00:00\",\"2008-11-17T00:00:00\",\"2008-11-16T00:00:00\",\"2008-10-28T00:00:00\",\"2008-10-14T00:00:00\",\"2008-10-06T00:00:00\",\"2008-07-04T00:00:00\",\"2008-06-19T00:00:00\",\"2008-06-14T00:00:00\",\"2008-06-10T00:00:00\",\"2008-06-07T00:00:00\",\"2008-06-02T00:00:00\",\"2008-04-20T00:00:00\",\"2008-03-23T00:00:00\",\"2008-03-11T00:00:00\",\"2008-02-07T00:00:00\",\"2008-02-02T00:00:00\",\"2008-01-10T00:00:00\",\"2008-01-06T00:00:00\",\"2008-08-22T00:00:00\",\"2008-08-05T00:00:00\",\"2008-07-23T00:00:00\",\"2008-07-23T00:00:00\",\"2008-05-14T00:00:00\",\"2008-04-05T00:00:00\",\"2008-02-19T00:00:00\",\"2008-01-24T00:00:00\",\"2008-01-21T00:00:00\",\"2008-01-11T00:00:00\",\"2008-01-11T00:00:00\",\"2008-11-28T00:00:00\",\"2008-11-23T00:00:00\",\"2008-10-17T00:00:00\",\"2008-09-01T00:00:00\",\"2008-08-17T00:00:00\",\"2008-08-08T00:00:00\",\"2008-06-24T00:00:00\",\"2008-06-18T00:00:00\",\"2008-05-15T00:00:00\",\"2008-04-28T00:00:00\",\"2008-04-28T00:00:00\",\"2008-04-07T00:00:00\",\"2008-03-31T00:00:00\",\"2008-03-25T00:00:00\",\"2008-02-28T00:00:00\",\"2008-02-08T00:00:00\",\"2008-02-06T00:00:00\",\"2008-01-26T00:00:00\",\"2008-01-15T00:00:00\",\"2008-01-10T00:00:00\",\"2008-01-07T00:00:00\",\"2008-11-17T00:00:00\",\"2008-10-07T00:00:00\",\"2008-07-28T00:00:00\",\"2008-07-09T00:00:00\",\"2008-07-04T00:00:00\",\"2008-06-26T00:00:00\",\"2008-06-18T00:00:00\",\"2008-05-28T00:00:00\",\"2008-05-23T00:00:00\",\"2008-05-19T00:00:00\",\"2008-05-13T00:00:00\",\"2008-03-18T00:00:00\",\"2008-02-17T00:00:00\",\"2008-01-18T00:00:00\",\"2008-01-18T00:00:00\",\"2008-01-17T00:00:00\",\"2008-12-20T00:00:00\",\"2008-12-17T00:00:00\",\"2008-12-16T00:00:00\"],\"xaxis\":\"x\",\"y\":[3,16,15,30,41,68,51,80,65,85,179,143,117,145,144,287,234,322,290,450,334,378,606,436,604,515,531,447,1021,691,629,749,717,1311,1221,1313,1156,1240,1489,1150,1010,1229,1012,1604,950,1303,1081,2014,1222,1999,1238,1611,2013,1314,1716,1075,2385,1228,2006,1848,1724,2919,1610,1500,2204,2191,1717,1992,2903,21122,1728,1734,2012,2927,2188,1853,1730,2408,1720,5345,2407,2913,0,5356,2208,4131,2412,2207,2925,3644,2901,0,1993,2389,2909,5324,3633,2410,0,2206,2626,3611,0,4650,2632,4128,2920,2411,2413,6066,7129,2384,4638,0,3223,3204,2905,4622,3608,2628,2629,3213,5327,3625,4121,4126,3641,0,3585,3200,6073,4080,4086,4100,4112,21260,7210,5349,0,6159,12846,3588,3604,12713,3224,7111,3589,6068,0,6114,5326,4648,6135,4661,4134,4135,5353,7235,5272,0,10190,6064,4607,4611,6074,8484,4637,0,0,4102,7174,12739,5339,10318,6153,6157,0,7233,7234,5296,4627,5304,6098,8549,7206,7217,7224,6160,8609,0,5277,5279,8479,10223,6089,5300,21086,5321,5328,21187,8557,12784,12787,10317,8589,21309,5351,8599,12832,10355,21393,7114,6075,12702,10253,7163,12717,10265,10277,16168,12747,12752,8580,8592,8606,8607,10348,8454,10183,7110],\"yaxis\":\"y\",\"type\":\"scatter\"}],\"name\":\"2008\"},{\"data\":[{\"hovertemplate\":\"year=2004\\u003cbr\\u003edateCreated=%{x}\\u003cbr\\u003erank=%{y}\\u003cextra\\u003e\\u003c\\u002fextra\\u003e\",\"legendgroup\":\"\",\"marker\":{\"color\":\"#636efa\",\"symbol\":\"circle\"},\"mode\":\"markers\",\"name\":\"\",\"orientation\":\"v\",\"showlegend\":false,\"x\":[\"2004-12-17T00:00:00\",\"2004-12-17T00:00:00\",\"2004-12-19T00:00:00\",\"2004-12-16T00:00:00\",\"2004-12-18T00:00:00\",\"2004-12-18T00:00:00\",\"2004-12-17T00:00:00\",\"2004-12-17T00:00:00\",\"2004-12-19T00:00:00\",\"2004-12-28T00:00:00\",\"2004-12-19T00:00:00\",\"2004-12-18T00:00:00\",\"2004-12-17T00:00:00\",\"2004-12-27T00:00:00\",\"2004-12-17T00:00:00\",\"2004-12-21T00:00:00\",\"2004-12-17T00:00:00\",\"2004-12-28T00:00:00\",\"2004-12-20T00:00:00\",\"2004-12-17T00:00:00\",\"2004-12-18T00:00:00\",\"2004-12-22T00:00:00\",\"2004-12-29T00:00:00\",\"2004-12-19T00:00:00\",\"2004-12-18T00:00:00\",\"2004-12-17T00:00:00\",\"2004-12-25T00:00:00\",\"2004-12-31T00:00:00\",\"2004-12-19T00:00:00\"],\"xaxis\":\"x\",\"y\":[2,4,12,14,25,76,232,259,330,371,506,616,474,769,676,980,1052,1051,1440,919,1789,1650,2505,2753,2507,2756,2751,3389,4367],\"yaxis\":\"y\",\"type\":\"scatter\"}],\"name\":\"2004\"},{\"data\":[{\"hovertemplate\":\"year=2005\\u003cbr\\u003edateCreated=%{x}\\u003cbr\\u003erank=%{y}\\u003cextra\\u003e\\u003c\\u002fextra\\u003e\",\"legendgroup\":\"\",\"marker\":{\"color\":\"#636efa\",\"symbol\":\"circle\"},\"mode\":\"markers\",\"name\":\"\",\"orientation\":\"v\",\"showlegend\":false,\"x\":[\"2005-08-09T00:00:00\",\"2005-01-07T00:00:00\",\"2005-07-01T00:00:00\",\"2005-06-04T00:00:00\",\"2005-07-03T00:00:00\",\"2005-01-01T00:00:00\",\"2005-08-20T00:00:00\",\"2005-02-23T00:00:00\",\"2005-06-11T00:00:00\",\"2005-09-17T00:00:00\",\"2005-07-20T00:00:00\",\"2005-06-23T00:00:00\",\"2005-05-25T00:00:00\",\"2005-01-01T00:00:00\",\"2005-11-14T00:00:00\",\"2005-09-27T00:00:00\",\"2005-01-10T00:00:00\",\"2005-09-08T00:00:00\",\"2005-07-16T00:00:00\",\"2005-07-23T00:00:00\",\"2005-08-29T00:00:00\",\"2005-06-20T00:00:00\",\"2005-08-07T00:00:00\",\"2005-09-10T00:00:00\",\"2005-09-07T00:00:00\",\"2005-06-03T00:00:00\",\"2005-07-21T00:00:00\",\"2005-10-11T00:00:00\",\"2005-08-23T00:00:00\",\"2005-05-24T00:00:00\",\"2005-06-21T00:00:00\",\"2005-12-16T00:00:00\",\"2005-10-13T00:00:00\",\"2005-07-31T00:00:00\",\"2005-09-12T00:00:00\",\"2005-07-30T00:00:00\",\"2005-12-07T00:00:00\",\"2005-07-07T00:00:00\",\"2005-08-22T00:00:00\",\"2005-10-10T00:00:00\",\"2005-10-06T00:00:00\",\"2005-12-08T00:00:00\",\"2005-07-31T00:00:00\",\"2005-06-02T00:00:00\",\"2005-08-29T00:00:00\",\"2005-07-02T00:00:00\",\"2005-07-21T00:00:00\",\"2005-10-03T00:00:00\",\"2005-08-03T00:00:00\",\"2005-11-23T00:00:00\",\"2005-02-24T00:00:00\",\"2005-07-18T00:00:00\",\"2005-01-01T00:00:00\",\"2005-09-24T00:00:00\",\"2005-10-11T00:00:00\",\"2005-08-28T00:00:00\",\"2005-10-28T00:00:00\",\"2005-08-28T00:00:00\",\"2005-10-16T00:00:00\",\"2005-08-28T00:00:00\",\"2005-06-21T00:00:00\",\"2005-08-31T00:00:00\",\"2005-07-19T00:00:00\",\"2005-11-17T00:00:00\",\"2005-07-23T00:00:00\",\"2005-09-28T00:00:00\",\"2005-09-22T00:00:00\",\"2005-06-15T00:00:00\",\"2005-08-22T00:00:00\",\"2005-08-08T00:00:00\",\"2005-07-23T00:00:00\",\"2005-09-17T00:00:00\",\"2005-06-13T00:00:00\",\"2005-11-24T00:00:00\",\"2005-11-16T00:00:00\",\"2005-09-11T00:00:00\",\"2005-08-22T00:00:00\",\"2005-08-15T00:00:00\",\"2005-06-26T00:00:00\",\"2005-06-05T00:00:00\",\"2005-10-07T00:00:00\",\"2005-09-09T00:00:00\",\"2005-09-13T00:00:00\",\"2005-08-30T00:00:00\",\"2005-08-23T00:00:00\",\"2005-07-15T00:00:00\",\"2005-08-03T00:00:00\",\"2005-06-08T00:00:00\",\"2005-08-05T00:00:00\",\"2005-08-26T00:00:00\",\"2005-07-29T00:00:00\",\"2005-08-26T00:00:00\",\"2005-06-26T00:00:00\",\"2005-08-26T00:00:00\",\"2005-10-04T00:00:00\",\"2005-09-09T00:00:00\",\"2005-08-17T00:00:00\",\"2005-07-25T00:00:00\",\"2005-12-31T00:00:00\",\"2005-08-21T00:00:00\",\"2005-07-09T00:00:00\",\"2005-06-28T00:00:00\",\"2005-11-05T00:00:00\",\"2005-09-01T00:00:00\",\"2005-07-29T00:00:00\",\"2005-07-26T00:00:00\",\"2005-06-27T00:00:00\",\"2005-06-08T00:00:00\",\"2005-06-04T00:00:00\",\"2005-08-02T00:00:00\",\"2005-07-22T00:00:00\",\"2005-05-24T00:00:00\",\"2005-08-28T00:00:00\",\"2005-06-29T00:00:00\",\"2005-11-13T00:00:00\",\"2005-09-23T00:00:00\",\"2005-08-20T00:00:00\",\"2005-06-12T00:00:00\",\"2005-09-15T00:00:00\",\"2005-08-27T00:00:00\",\"2005-08-04T00:00:00\",\"2005-07-27T00:00:00\",\"2005-01-04T00:00:00\",\"2005-10-12T00:00:00\",\"2005-09-11T00:00:00\",\"2005-09-10T00:00:00\",\"2005-09-05T00:00:00\",\"2005-08-02T00:00:00\",\"2005-07-30T00:00:00\",\"2005-07-22T00:00:00\",\"2005-06-09T00:00:00\",\"2005-06-02T00:00:00\",\"2005-03-09T00:00:00\",\"2005-11-18T00:00:00\",\"2005-10-06T00:00:00\",\"2005-07-22T00:00:00\",\"2005-07-18T00:00:00\",\"2005-06-22T00:00:00\",\"2005-06-10T00:00:00\",\"2005-02-16T00:00:00\",\"2005-10-21T00:00:00\",\"2005-10-13T00:00:00\",\"2005-09-16T00:00:00\",\"2005-08-16T00:00:00\",\"2005-06-25T00:00:00\",\"2005-11-24T00:00:00\",\"2005-09-30T00:00:00\",\"2005-08-26T00:00:00\",\"2005-08-03T00:00:00\",\"2005-10-17T00:00:00\",\"2005-10-14T00:00:00\",\"2005-09-05T00:00:00\",\"2005-07-10T00:00:00\",\"2005-07-02T00:00:00\",\"2005-03-07T00:00:00\",\"2005-08-30T00:00:00\",\"2005-06-30T00:00:00\",\"2005-01-04T00:00:00\",\"2005-09-11T00:00:00\",\"2005-09-10T00:00:00\",\"2005-08-15T00:00:00\",\"2005-07-26T00:00:00\",\"2005-06-20T00:00:00\",\"2005-06-02T00:00:00\",\"2005-12-03T00:00:00\",\"2005-08-28T00:00:00\",\"2005-06-05T00:00:00\",\"2005-11-12T00:00:00\",\"2005-10-11T00:00:00\",\"2005-10-02T00:00:00\",\"2005-09-03T00:00:00\",\"2005-08-24T00:00:00\",\"2005-08-23T00:00:00\",\"2005-08-17T00:00:00\",\"2005-08-08T00:00:00\",\"2005-07-28T00:00:00\",\"2005-07-20T00:00:00\",\"2005-07-18T00:00:00\",\"2005-07-12T00:00:00\",\"2005-06-13T00:00:00\",\"2005-06-09T00:00:00\",\"2005-05-05T00:00:00\",\"2005-11-23T00:00:00\",\"2005-11-21T00:00:00\",\"2005-10-10T00:00:00\",\"2005-10-07T00:00:00\",\"2005-09-13T00:00:00\",\"2005-08-20T00:00:00\",\"2005-08-19T00:00:00\",\"2005-07-27T00:00:00\",\"2005-07-16T00:00:00\",\"2005-11-02T00:00:00\",\"2005-10-31T00:00:00\",\"2005-10-26T00:00:00\",\"2005-10-22T00:00:00\",\"2005-09-13T00:00:00\",\"2005-09-07T00:00:00\",\"2005-08-28T00:00:00\",\"2005-08-08T00:00:00\",\"2005-07-25T00:00:00\",\"2005-11-22T00:00:00\",\"2005-11-20T00:00:00\",\"2005-09-27T00:00:00\",\"2005-08-23T00:00:00\",\"2005-08-21T00:00:00\",\"2005-08-08T00:00:00\",\"2005-08-04T00:00:00\",\"2005-08-03T00:00:00\",\"2005-07-20T00:00:00\",\"2005-06-20T00:00:00\",\"2005-06-13T00:00:00\",\"2005-06-10T00:00:00\",\"2005-05-18T00:00:00\",\"2005-10-24T00:00:00\",\"2005-10-09T00:00:00\",\"2005-09-01T00:00:00\",\"2005-08-30T00:00:00\",\"2005-08-16T00:00:00\",\"2005-08-15T00:00:00\",\"2005-08-10T00:00:00\",\"2005-07-28T00:00:00\",\"2005-07-26T00:00:00\",\"2005-06-08T00:00:00\",\"2005-06-02T00:00:00\",\"2005-03-08T00:00:00\",\"2005-11-09T00:00:00\",\"2005-11-02T00:00:00\",\"2005-08-17T00:00:00\",\"2005-08-11T00:00:00\",\"2005-07-29T00:00:00\",\"2005-06-24T00:00:00\",\"2005-06-22T00:00:00\",\"2005-06-19T00:00:00\",\"2005-06-02T00:00:00\",\"2005-11-24T00:00:00\",\"2005-11-12T00:00:00\",\"2005-10-02T00:00:00\",\"2005-09-30T00:00:00\",\"2005-09-12T00:00:00\",\"2005-09-10T00:00:00\",\"2005-09-01T00:00:00\",\"2005-08-26T00:00:00\",\"2005-08-24T00:00:00\",\"2005-08-24T00:00:00\",\"2005-08-22T00:00:00\",\"2005-08-21T00:00:00\",\"2005-08-10T00:00:00\",\"2005-08-10T00:00:00\",\"2005-07-28T00:00:00\",\"2005-07-20T00:00:00\",\"2005-06-30T00:00:00\",\"2005-06-25T00:00:00\",\"2005-06-15T00:00:00\",\"2005-06-03T00:00:00\",\"2005-05-24T00:00:00\",\"2005-11-22T00:00:00\",\"2005-10-14T00:00:00\",\"2005-10-07T00:00:00\",\"2005-09-29T00:00:00\",\"2005-09-08T00:00:00\",\"2005-09-05T00:00:00\",\"2005-09-02T00:00:00\",\"2005-08-30T00:00:00\",\"2005-08-13T00:00:00\",\"2005-07-25T00:00:00\",\"2005-07-21T00:00:00\",\"2005-07-15T00:00:00\",\"2005-07-15T00:00:00\",\"2005-07-06T00:00:00\",\"2005-06-25T00:00:00\",\"2005-06-10T00:00:00\",\"2005-11-09T00:00:00\",\"2005-10-21T00:00:00\",\"2005-10-18T00:00:00\",\"2005-10-12T00:00:00\",\"2005-09-30T00:00:00\",\"2005-09-18T00:00:00\",\"2005-09-18T00:00:00\",\"2005-09-10T00:00:00\",\"2005-08-28T00:00:00\",\"2005-08-26T00:00:00\",\"2005-08-24T00:00:00\",\"2005-08-19T00:00:00\",\"2005-08-09T00:00:00\",\"2005-08-05T00:00:00\",\"2005-08-02T00:00:00\",\"2005-07-18T00:00:00\",\"2005-07-15T00:00:00\",\"2005-07-12T00:00:00\",\"2005-05-29T00:00:00\",\"2005-03-04T00:00:00\",\"2005-02-21T00:00:00\",\"2005-11-24T00:00:00\",\"2005-09-09T00:00:00\",\"2005-08-28T00:00:00\",\"2005-08-26T00:00:00\",\"2005-08-21T00:00:00\",\"2005-08-08T00:00:00\",\"2005-08-07T00:00:00\",\"2005-07-29T00:00:00\",\"2005-07-27T00:00:00\",\"2005-07-26T00:00:00\",\"2005-07-22T00:00:00\",\"2005-07-20T00:00:00\",\"2005-07-20T00:00:00\",\"2005-07-11T00:00:00\",\"2005-07-10T00:00:00\",\"2005-07-08T00:00:00\",\"2005-05-23T00:00:00\",\"2005-05-22T00:00:00\",\"2005-05-20T00:00:00\",\"2005-12-02T00:00:00\",\"2005-11-24T00:00:00\",\"2005-10-31T00:00:00\",\"2005-10-02T00:00:00\",\"2005-09-17T00:00:00\",\"2005-09-14T00:00:00\",\"2005-09-06T00:00:00\",\"2005-09-03T00:00:00\",\"2005-08-22T00:00:00\",\"2005-08-19T00:00:00\",\"2005-08-09T00:00:00\",\"2005-08-04T00:00:00\",\"2005-08-01T00:00:00\",\"2005-07-29T00:00:00\",\"2005-07-27T00:00:00\",\"2005-07-20T00:00:00\",\"2005-07-15T00:00:00\",\"2005-07-13T00:00:00\",\"2005-07-02T00:00:00\",\"2005-06-07T00:00:00\",\"2005-05-28T00:00:00\",\"2005-05-26T00:00:00\"],\"xaxis\":\"x\",\"y\":[7,11,27,20,22,37,40,49,47,45,58,55,48,66,69,91,74,81,99,103,120,106,89,119,138,140,169,157,184,161,202,193,253,246,217,307,299,291,306,268,326,278,318,370,457,300,367,424,401,386,320,342,343,519,412,427,608,471,537,565,593,589,458,518,611,488,538,473,699,765,438,587,1049,762,487,668,670,1255,807,614,667,539,588,609,590,640,700,675,766,912,592,638,806,970,799,908,913,971,1036,1107,917,1178,2244,911,1043,1777,1046,865,1180,1256,804,977,1106,1260,967,1168,1108,975,1170,1639,1174,1340,1351,1878,1101,1102,1526,2060,1042,1642,1347,1435,1263,2041,1332,1641,1431,1910,1534,1264,2245,1331,2047,1895,1782,2242,1333,1767,2059,2466,1634,2255,1433,1908,1785,1889,2733,1536,2995,2252,2711,2064,1911,3043,4786,2257,2078,2686,2986,2692,4258,2053,3320,2262,2716,2062,2490,2491,2730,2284,2285,2080,2977,3286,2987,3295,3306,2709,2480,2269,2492,2982,3292,2688,3738,4244,4256,3761,3010,3786,2978,0,3299,2707,5572,2715,3340,3013,3794,3817,2739,2740,2743,7551,7561,4845,2998,4278,3005,3332,3344,5607,4345,3383,3045,3724,3731,4276,3330,4292,3367,3369,4335,3382,4791,3723,5525,5528,5545,4835,11238,4861,4863,5564,4271,4867,4877,6496,4293,7780,3810,3811,4339,3831,3832,4794,11044,5519,4819,4252,4843,6443,4851,5581,4894,4297,5634,4309,4324,5666,4342,9010,11025,11034,5514,9081,6422,13974,4837,4853,5559,5563,5576,4878,11414,5595,5629,4909,5644,7894,4955,4958,17624,14040,6448,7665,7682,6501,6505,5598,5605,6538,5619,6559,7779,5646,5648,5651,5698,6666,6667,8948,6358,6383,9078,7605,14014,7635,7638,6464,7685,6499,6508,11437,6525,6534,11518,6576,7806,6606,7884,6657,6659],\"yaxis\":\"y\",\"type\":\"scatter\"}],\"name\":\"2005\"},{\"data\":[{\"hovertemplate\":\"year=2006\\u003cbr\\u003edateCreated=%{x}\\u003cbr\\u003erank=%{y}\\u003cextra\\u003e\\u003c\\u002fextra\\u003e\",\"legendgroup\":\"\",\"marker\":{\"color\":\"#636efa\",\"symbol\":\"circle\"},\"mode\":\"markers\",\"name\":\"\",\"orientation\":\"v\",\"showlegend\":false,\"x\":[\"2006-02-04T00:00:00\",\"2006-01-07T00:00:00\",\"2006-12-23T00:00:00\",\"2006-07-31T00:00:00\",\"2006-06-27T00:00:00\",\"2006-10-13T00:00:00\",\"2006-09-20T00:00:00\",\"2006-08-04T00:00:00\",\"2006-05-17T00:00:00\",\"2006-12-16T00:00:00\",\"2006-09-14T00:00:00\",\"2006-09-07T00:00:00\",\"2006-12-07T00:00:00\",\"2006-06-27T00:00:00\",\"2006-08-12T00:00:00\",\"2006-07-10T00:00:00\",\"2006-05-20T00:00:00\",\"2006-12-15T00:00:00\",\"2006-12-14T00:00:00\",\"2006-03-04T00:00:00\",\"2006-08-17T00:00:00\",\"2006-06-06T00:00:00\",\"2006-09-24T00:00:00\",\"2006-09-14T00:00:00\",\"2006-01-07T00:00:00\",\"2006-11-27T00:00:00\",\"2006-10-28T00:00:00\",\"2006-12-11T00:00:00\",\"2006-10-05T00:00:00\",\"2006-12-21T00:00:00\",\"2006-08-09T00:00:00\",\"2006-06-14T00:00:00\",\"2006-05-14T00:00:00\",\"2006-11-25T00:00:00\",\"2006-06-15T00:00:00\",\"2006-01-16T00:00:00\",\"2006-04-16T00:00:00\",\"2006-02-18T00:00:00\",\"2006-01-10T00:00:00\",\"2006-09-10T00:00:00\",\"2006-06-01T00:00:00\",\"2006-11-30T00:00:00\",\"2006-08-07T00:00:00\",\"2006-03-10T00:00:00\",\"2006-01-13T00:00:00\",\"2006-12-12T00:00:00\",\"2006-12-06T00:00:00\",\"2006-09-20T00:00:00\",\"2006-09-13T00:00:00\",\"2006-07-12T00:00:00\",\"2006-03-05T00:00:00\",\"2006-01-11T00:00:00\",\"2006-12-13T00:00:00\",\"2006-12-08T00:00:00\",\"2006-10-23T00:00:00\",\"2006-01-22T00:00:00\",\"2006-12-12T00:00:00\",\"2006-12-08T00:00:00\",\"2006-12-05T00:00:00\",\"2006-11-28T00:00:00\",\"2006-10-29T00:00:00\",\"2006-09-30T00:00:00\",\"2006-09-27T00:00:00\",\"2006-08-26T00:00:00\",\"2006-08-03T00:00:00\",\"2006-06-12T00:00:00\",\"2006-12-22T00:00:00\",\"2006-02-14T00:00:00\",\"2006-01-31T00:00:00\",\"2006-12-19T00:00:00\",\"2006-11-28T00:00:00\",\"2006-10-30T00:00:00\",\"2006-07-18T00:00:00\",\"2006-12-24T00:00:00\",\"2006-12-23T00:00:00\",\"2006-12-16T00:00:00\",\"2006-12-02T00:00:00\",\"2006-07-27T00:00:00\",\"2006-06-08T00:00:00\",\"2006-02-15T00:00:00\",\"2006-01-10T00:00:00\",\"2006-12-02T00:00:00\",\"2006-10-25T00:00:00\",\"2006-10-21T00:00:00\",\"2006-08-19T00:00:00\",\"2006-08-17T00:00:00\",\"2006-08-07T00:00:00\",\"2006-07-13T00:00:00\",\"2006-06-23T00:00:00\",\"2006-05-11T00:00:00\",\"2006-02-23T00:00:00\",\"2006-02-04T00:00:00\",\"2006-12-10T00:00:00\",\"2006-08-08T00:00:00\",\"2006-07-12T00:00:00\",\"2006-04-24T00:00:00\",\"2006-12-07T00:00:00\",\"2006-12-04T00:00:00\",\"2006-11-28T00:00:00\",\"2006-11-19T00:00:00\",\"2006-05-29T00:00:00\",\"2006-05-27T00:00:00\",\"2006-05-23T00:00:00\",\"2006-05-12T00:00:00\",\"2006-02-21T00:00:00\",\"2006-12-16T00:00:00\",\"2006-12-06T00:00:00\",\"2006-11-25T00:00:00\",\"2006-11-21T00:00:00\",\"2006-05-02T00:00:00\",\"2006-04-30T00:00:00\",\"2006-01-14T00:00:00\"],\"xaxis\":\"x\",\"y\":[8,44,165,267,276,266,275,349,469,455,384,796,560,561,718,1246,1034,851,695,1035,1100,1033,1325,1413,2239,1625,1752,2231,1753,1411,4185,1627,2965,2446,2237,4202,2966,2969,1870,4183,8870,3259,2450,2454,4203,2665,4744,3262,2668,4190,4195,7482,3682,6267,2961,2677,10631,2958,5440,4747,3260,5445,4181,4757,2670,4192,6262,3702,3703,7387,3685,4180,3692,6261,4739,7389,7393,4188,4767,7467,3706,16900,6273,6274,7421,8818,4186,7441,6313,4193,4196,8903,6265,7422,7442,10809,0,13236,0,10652,6319,6321,13466,5465,7466,10629,13233,10650,8782,8882,7455,8916],\"yaxis\":\"y\",\"type\":\"scatter\"}],\"name\":\"2006\"},{\"data\":[{\"hovertemplate\":\"year=2012\\u003cbr\\u003edateCreated=%{x}\\u003cbr\\u003erank=%{y}\\u003cextra\\u003e\\u003c\\u002fextra\\u003e\",\"legendgroup\":\"\",\"marker\":{\"color\":\"#636efa\",\"symbol\":\"circle\"},\"mode\":\"markers\",\"name\":\"\",\"orientation\":\"v\",\"showlegend\":false,\"x\":[\"2012-05-16T00:00:00\",\"2012-04-13T00:00:00\",\"2012-02-17T00:00:00\",\"2012-01-27T00:00:00\",\"2012-04-03T00:00:00\",\"2012-03-28T00:00:00\",\"2012-03-27T00:00:00\",\"2012-01-12T00:00:00\",\"2012-11-19T00:00:00\",\"2012-02-03T00:00:00\",\"2012-01-11T00:00:00\",\"2012-03-23T00:00:00\",\"2012-03-11T00:00:00\",\"2012-12-03T00:00:00\",\"2012-06-11T00:00:00\",\"2012-03-15T00:00:00\",\"2012-01-09T00:00:00\",\"2012-04-13T00:00:00\",\"2012-04-25T00:00:00\",\"2012-07-16T00:00:00\",\"2012-01-11T00:00:00\",\"2012-04-24T00:00:00\",\"2012-12-03T00:00:00\",\"2012-02-27T00:00:00\",\"2012-08-05T00:00:00\",\"2012-07-05T00:00:00\",\"2012-09-24T00:00:00\",\"2012-07-02T00:00:00\",\"2012-11-07T00:00:00\",\"2012-09-05T00:00:00\",\"2012-07-04T00:00:00\",\"2012-06-04T00:00:00\",\"2012-03-15T00:00:00\",\"2012-02-22T00:00:00\",\"2012-08-21T00:00:00\",\"2012-02-08T00:00:00\",\"2012-06-22T00:00:00\",\"2012-02-17T00:00:00\",\"2012-06-18T00:00:00\",\"2012-07-19T00:00:00\",\"2012-07-02T00:00:00\",\"2012-02-17T00:00:00\",\"2012-06-17T00:00:00\",\"2012-04-05T00:00:00\",\"2012-02-27T00:00:00\",\"2012-09-28T00:00:00\",\"2012-06-10T00:00:00\",\"2012-12-23T00:00:00\",\"2012-09-13T00:00:00\",\"2012-09-05T00:00:00\",\"2012-08-22T00:00:00\",\"2012-07-06T00:00:00\",\"2012-06-10T00:00:00\",\"2012-01-09T00:00:00\",\"2012-02-18T00:00:00\",\"2012-12-28T00:00:00\",\"2012-12-06T00:00:00\",\"2012-09-25T00:00:00\",\"2012-09-16T00:00:00\",\"2012-08-05T00:00:00\",\"2012-07-27T00:00:00\",\"2012-01-30T00:00:00\",\"2012-12-12T00:00:00\",\"2012-09-03T00:00:00\",\"2012-08-07T00:00:00\",\"2012-01-29T00:00:00\",\"2012-01-01T00:00:00\",\"2012-06-09T00:00:00\",\"2012-12-02T00:00:00\",\"2012-09-07T00:00:00\",\"2012-04-05T00:00:00\",\"2012-01-14T00:00:00\",\"2012-10-20T00:00:00\",\"2012-07-12T00:00:00\",\"2012-06-25T00:00:00\",\"2012-03-14T00:00:00\",\"2012-02-21T00:00:00\",\"2012-10-15T00:00:00\",\"2012-09-08T00:00:00\",\"2012-08-17T00:00:00\",\"2012-07-28T00:00:00\",\"2012-07-09T00:00:00\",\"2012-06-13T00:00:00\",\"2012-05-06T00:00:00\",\"2012-04-11T00:00:00\",\"2012-03-11T00:00:00\",\"2012-07-07T00:00:00\",\"2012-06-20T00:00:00\",\"2012-06-08T00:00:00\",\"2012-06-02T00:00:00\",\"2012-05-29T00:00:00\",\"2012-05-27T00:00:00\",\"2012-05-24T00:00:00\",\"2012-05-04T00:00:00\",\"2012-05-02T00:00:00\",\"2012-04-28T00:00:00\",\"2012-01-11T00:00:00\",\"2012-10-24T00:00:00\",\"2012-09-02T00:00:00\",\"2012-08-05T00:00:00\",\"2012-07-11T00:00:00\",\"2012-07-01T00:00:00\",\"2012-06-24T00:00:00\",\"2012-06-11T00:00:00\",\"2012-06-04T00:00:00\",\"2012-04-17T00:00:00\",\"2012-02-28T00:00:00\",\"2012-01-06T00:00:00\",\"2012-09-21T00:00:00\",\"2012-08-11T00:00:00\",\"2012-08-05T00:00:00\",\"2012-05-31T00:00:00\",\"2012-05-22T00:00:00\",\"2012-03-16T00:00:00\",\"2012-03-12T00:00:00\",\"2012-01-10T00:00:00\",\"2012-12-13T00:00:00\",\"2012-10-16T00:00:00\",\"2012-07-11T00:00:00\",\"2012-06-24T00:00:00\",\"2012-05-13T00:00:00\",\"2012-04-26T00:00:00\",\"2012-04-22T00:00:00\",\"2012-03-07T00:00:00\",\"2012-02-13T00:00:00\",\"2012-01-12T00:00:00\",\"2012-07-29T00:00:00\",\"2012-12-15T00:00:00\",\"2012-11-24T00:00:00\",\"2012-11-19T00:00:00\",\"2012-10-12T00:00:00\",\"2012-08-23T00:00:00\",\"2012-08-11T00:00:00\",\"2012-07-13T00:00:00\",\"2012-06-27T00:00:00\",\"2012-06-08T00:00:00\",\"2012-04-14T00:00:00\",\"2012-03-09T00:00:00\",\"2012-02-17T00:00:00\",\"2012-12-27T00:00:00\",\"2012-12-19T00:00:00\",\"2012-12-07T00:00:00\",\"2012-09-26T00:00:00\",\"2012-09-23T00:00:00\",\"2012-09-17T00:00:00\",\"2012-08-28T00:00:00\",\"2012-08-24T00:00:00\",\"2012-07-08T00:00:00\",\"2012-06-14T00:00:00\",\"2012-05-01T00:00:00\",\"2012-04-26T00:00:00\",\"2012-03-31T00:00:00\",\"2012-03-13T00:00:00\",\"2012-02-21T00:00:00\",\"2012-01-10T00:00:00\",\"2012-11-17T00:00:00\",\"2012-11-06T00:00:00\",\"2012-08-13T00:00:00\",\"2012-08-09T00:00:00\",\"2012-07-28T00:00:00\",\"2012-07-16T00:00:00\",\"2012-04-25T00:00:00\",\"2012-04-04T00:00:00\",\"2012-04-01T00:00:00\",\"2012-04-01T00:00:00\",\"2012-02-23T00:00:00\",\"2012-01-24T00:00:00\",\"2012-01-17T00:00:00\",\"2012-12-15T00:00:00\",\"2012-12-05T00:00:00\",\"2012-10-27T00:00:00\",\"2012-09-24T00:00:00\",\"2012-09-15T00:00:00\",\"2012-08-19T00:00:00\",\"2012-06-09T00:00:00\",\"2012-06-02T00:00:00\",\"2012-05-25T00:00:00\",\"2012-05-09T00:00:00\",\"2012-05-08T00:00:00\",\"2012-04-11T00:00:00\",\"2012-02-27T00:00:00\",\"2012-02-25T00:00:00\",\"2012-02-12T00:00:00\",\"2012-02-11T00:00:00\",\"2012-02-04T00:00:00\",\"2012-02-04T00:00:00\",\"2012-01-29T00:00:00\",\"2012-01-19T00:00:00\"],\"xaxis\":\"x\",\"y\":[13,108,129,132,208,281,372,404,390,1127,677,645,15243,1121,489,987,871,2542,5075,1448,990,730,1551,773,922,729,1188,923,1271,1360,1449,986,1274,1563,1122,988,1056,1808,1671,1447,1558,4779,1450,1362,2545,1553,1935,0,2305,19567,1802,2109,1554,2121,1672,2301,3072,2103,1800,2778,1803,2799,1931,2105,11986,1939,3472,2537,2773,2306,0,2548,3880,2309,0,2317,2319,3882,2530,3083,2779,2781,3904,4427,2795,4433,0,3901,3906,3090,2789,3091,3092,4428,2790,2792,0,3075,3888,3438,3440,3442,5810,3905,3446,3457,5089,5856,3884,3892,3893,3910,4425,5083,3923,3470,5028,5035,3898,5809,15173,5829,5077,3926,5092,5852,17444,5027,5031,5032,4406,5043,6797,6807,0,5815,6833,6845,5090,5024,8002,5774,5036,5786,0,5042,6790,6808,9735,5824,8083,5835,5086,0,8124,5778,0,9701,9706,6803,0,19749,8093,6836,8094,8111,6861,6862,8003,14964,9668,6782,8024,15064,6818,6819,0,8075,8076,8089,12083,6849,6854,6855,6856,6857,0,9798],\"yaxis\":\"y\",\"type\":\"scatter\"}],\"name\":\"2012\"},{\"data\":[{\"hovertemplate\":\"year=2010\\u003cbr\\u003edateCreated=%{x}\\u003cbr\\u003erank=%{y}\\u003cextra\\u003e\\u003c\\u002fextra\\u003e\",\"legendgroup\":\"\",\"marker\":{\"color\":\"#636efa\",\"symbol\":\"circle\"},\"mode\":\"markers\",\"name\":\"\",\"orientation\":\"v\",\"showlegend\":false,\"x\":[\"2010-08-09T00:00:00\",\"2010-07-05T00:00:00\",\"2010-12-08T00:00:00\",\"2010-11-03T00:00:00\",\"2010-11-19T00:00:00\",\"2010-04-01T00:00:00\",\"2010-06-05T00:00:00\",\"2010-02-04T00:00:00\",\"2010-11-29T00:00:00\",\"2010-11-21T00:00:00\",\"2010-09-07T00:00:00\",\"2010-03-14T00:00:00\",\"2010-12-31T00:00:00\",\"2010-06-04T00:00:00\",\"2010-09-15T00:00:00\",\"2010-10-16T00:00:00\",\"2010-02-28T00:00:00\",\"2010-09-15T00:00:00\",\"2010-07-21T00:00:00\",\"2010-07-09T00:00:00\",\"2010-10-15T00:00:00\",\"2010-03-07T00:00:00\",\"2010-12-12T00:00:00\",\"2010-05-30T00:00:00\",\"2010-04-06T00:00:00\",\"2010-11-04T00:00:00\",\"2010-01-02T00:00:00\",\"2010-11-09T00:00:00\",\"2010-03-22T00:00:00\",\"2010-02-23T00:00:00\",\"2010-06-22T00:00:00\",\"2010-08-07T00:00:00\",\"2010-12-28T00:00:00\",\"2010-12-22T00:00:00\",\"2010-07-15T00:00:00\",\"2010-03-06T00:00:00\",\"2010-02-24T00:00:00\",\"2010-02-19T00:00:00\",\"2010-06-29T00:00:00\",\"2010-02-02T00:00:00\",\"2010-07-28T00:00:00\",\"2010-02-04T00:00:00\",\"2010-12-15T00:00:00\",\"2010-08-12T00:00:00\",\"2010-06-23T00:00:00\",\"2010-07-27T00:00:00\",\"2010-02-13T00:00:00\",\"2010-10-23T00:00:00\",\"2010-04-25T00:00:00\",\"2010-12-27T00:00:00\",\"2010-09-18T00:00:00\",\"2010-05-27T00:00:00\",\"2010-01-25T00:00:00\",\"2010-08-26T00:00:00\",\"2010-06-21T00:00:00\",\"2010-09-26T00:00:00\",\"2010-10-25T00:00:00\",\"2010-08-14T00:00:00\",\"2010-07-31T00:00:00\",\"2010-09-25T00:00:00\",\"2010-09-19T00:00:00\",\"2010-04-21T00:00:00\",\"2010-03-03T00:00:00\",\"2010-11-03T00:00:00\",\"2010-05-14T00:00:00\",\"2010-07-15T00:00:00\",\"2010-03-11T00:00:00\",\"2010-11-28T00:00:00\",\"2010-11-15T00:00:00\",\"2010-02-06T00:00:00\",\"2010-12-27T00:00:00\",\"2010-11-28T00:00:00\",\"2010-03-26T00:00:00\",\"2010-02-26T00:00:00\",\"2010-12-30T00:00:00\",\"2010-09-15T00:00:00\",\"2010-07-28T00:00:00\",\"2010-07-01T00:00:00\",\"2010-06-15T00:00:00\",\"2010-04-18T00:00:00\",\"2010-03-22T00:00:00\",\"2010-02-07T00:00:00\",\"2010-09-05T00:00:00\",\"2010-03-04T00:00:00\",\"2010-10-26T00:00:00\",\"2010-09-22T00:00:00\",\"2010-08-30T00:00:00\",\"2010-07-28T00:00:00\",\"2010-05-26T00:00:00\",\"2010-05-10T00:00:00\",\"2010-04-04T00:00:00\",\"2010-03-22T00:00:00\",\"2010-11-19T00:00:00\",\"2010-06-30T00:00:00\",\"2010-06-18T00:00:00\",\"2010-05-01T00:00:00\",\"2010-03-23T00:00:00\",\"2010-03-14T00:00:00\",\"2010-02-23T00:00:00\",\"2010-01-29T00:00:00\",\"2010-12-01T00:00:00\",\"2010-08-26T00:00:00\",\"2010-07-27T00:00:00\",\"2010-07-17T00:00:00\",\"2010-06-11T00:00:00\",\"2010-06-08T00:00:00\",\"2010-02-23T00:00:00\",\"2010-01-31T00:00:00\",\"2010-12-06T00:00:00\",\"2010-07-31T00:00:00\",\"2010-07-12T00:00:00\",\"2010-06-30T00:00:00\",\"2010-06-29T00:00:00\",\"2010-03-09T00:00:00\",\"2010-02-27T00:00:00\",\"2010-10-20T00:00:00\",\"2010-09-21T00:00:00\",\"2010-07-06T00:00:00\",\"2010-06-13T00:00:00\",\"2010-06-12T00:00:00\",\"2010-02-25T00:00:00\",\"2010-01-21T00:00:00\",\"2010-12-13T00:00:00\",\"2010-12-07T00:00:00\",\"2010-07-19T00:00:00\",\"2010-07-15T00:00:00\",\"2010-06-05T00:00:00\",\"2010-04-30T00:00:00\",\"2010-03-11T00:00:00\",\"2010-03-05T00:00:00\",\"2010-03-03T00:00:00\",\"2010-03-01T00:00:00\",\"2010-02-09T00:00:00\",\"2010-08-22T00:00:00\",\"2010-08-11T00:00:00\",\"2010-07-23T00:00:00\",\"2010-07-08T00:00:00\",\"2010-05-26T00:00:00\",\"2010-03-21T00:00:00\",\"2010-02-24T00:00:00\",\"2010-01-14T00:00:00\",\"2010-01-05T00:00:00\"],\"xaxis\":\"x\",\"y\":[19,50,113,122,163,207,263,353,228,377,312,434,433,409,602,529,603,417,497,651,998,1477,939,684,1476,827,652,826,886,888,1211,830,1585,783,1382,1213,887,943,1474,1145,1000,1480,1140,1209,1210,1831,1479,2360,1293,1700,2364,2876,0,2156,2368,1967,1704,2157,1587,2363,3156,2163,0,3535,3166,2590,2599,2859,5190,2602,3143,3147,5224,8365,3527,3540,3547,2592,3552,3168,3169,4030,3541,3557,4005,3155,4011,5989,0,4550,3554,6015,4000,4018,3551,5219,5225,4027,4560,6020,3998,7002,4532,0,5213,0,4559,5228,5186,5205,0,7021,4537,6016,10068,8304,5971,7017,0,7028,15806,10076,6985,0,5991,5993,8353,8360,12483,10067,0,12488,7049,15691,8325,8331,0,10057,0,7047,8376,10080],\"yaxis\":\"y\",\"type\":\"scatter\"}],\"name\":\"2010\"},{\"data\":[{\"hovertemplate\":\"year=2007\\u003cbr\\u003edateCreated=%{x}\\u003cbr\\u003erank=%{y}\\u003cextra\\u003e\\u003c\\u002fextra\\u003e\",\"legendgroup\":\"\",\"marker\":{\"color\":\"#636efa\",\"symbol\":\"circle\"},\"mode\":\"markers\",\"name\":\"\",\"orientation\":\"v\",\"showlegend\":false,\"x\":[\"2007-02-20T00:00:00\",\"2007-11-06T00:00:00\",\"2007-06-16T00:00:00\",\"2007-04-22T00:00:00\",\"2007-04-02T00:00:00\",\"2007-07-03T00:00:00\",\"2007-07-02T00:00:00\",\"2007-01-17T00:00:00\",\"2007-04-05T00:00:00\",\"2007-06-01T00:00:00\",\"2007-11-06T00:00:00\",\"2007-04-02T00:00:00\",\"2007-08-12T00:00:00\",\"2007-04-04T00:00:00\",\"2007-07-28T00:00:00\",\"2007-02-04T00:00:00\",\"2007-01-14T00:00:00\",\"2007-08-10T00:00:00\",\"2007-07-20T00:00:00\",\"2007-06-23T00:00:00\",\"2007-08-15T00:00:00\",\"2007-04-03T00:00:00\",\"2007-10-20T00:00:00\",\"2007-04-02T00:00:00\",\"2007-10-08T00:00:00\",\"2007-02-01T00:00:00\",\"2007-06-06T00:00:00\",\"2007-08-06T00:00:00\",\"2007-07-16T00:00:00\",\"2007-10-14T00:00:00\",\"2007-04-12T00:00:00\",\"2007-01-15T00:00:00\",\"2007-07-07T00:00:00\",\"2007-04-03T00:00:00\",\"2007-03-24T00:00:00\",\"2007-02-22T00:00:00\",\"2007-02-15T00:00:00\",\"2007-01-13T00:00:00\",\"2007-04-02T00:00:00\",\"2007-07-27T00:00:00\",\"2007-06-01T00:00:00\",\"2007-04-13T00:00:00\",\"2007-07-31T00:00:00\",\"2007-04-16T00:00:00\",\"2007-04-03T00:00:00\",\"2007-11-12T00:00:00\",\"2007-05-29T00:00:00\",\"2007-04-15T00:00:00\",\"2007-03-15T00:00:00\",\"2007-05-13T00:00:00\",\"2007-04-16T00:00:00\",\"2007-01-18T00:00:00\",\"2007-07-18T00:00:00\",\"2007-12-12T00:00:00\",\"2007-12-09T00:00:00\",\"2007-10-14T00:00:00\",\"2007-02-15T00:00:00\",\"2007-07-25T00:00:00\",\"2007-06-01T00:00:00\",\"2007-04-04T00:00:00\",\"2007-09-04T00:00:00\",\"2007-05-23T00:00:00\",\"2007-02-22T00:00:00\",\"2007-12-11T00:00:00\",\"2007-04-26T00:00:00\",\"2007-04-04T00:00:00\",\"2007-01-22T00:00:00\",\"2007-12-31T00:00:00\",\"2007-12-13T00:00:00\",\"2007-09-11T00:00:00\",\"2007-08-01T00:00:00\",\"2007-04-27T00:00:00\",\"2007-04-05T00:00:00\",\"2007-12-20T00:00:00\",\"2007-09-08T00:00:00\",\"2007-04-04T00:00:00\",\"2007-02-28T00:00:00\",\"2007-07-10T00:00:00\",\"2007-06-14T00:00:00\",\"2007-09-03T00:00:00\",\"2007-07-30T00:00:00\",\"2007-06-19T00:00:00\",\"2007-05-22T00:00:00\",\"2007-04-03T00:00:00\",\"2007-01-09T00:00:00\",\"2007-11-04T00:00:00\",\"2007-10-31T00:00:00\",\"2007-08-07T00:00:00\",\"2007-06-28T00:00:00\",\"2007-04-29T00:00:00\",\"2007-03-01T00:00:00\",\"2007-01-04T00:00:00\",\"2007-10-24T00:00:00\",\"2007-10-18T00:00:00\",\"2007-04-24T00:00:00\",\"2007-03-31T00:00:00\",\"2007-02-18T00:00:00\",\"2007-10-29T00:00:00\",\"2007-10-22T00:00:00\",\"2007-08-03T00:00:00\",\"2007-06-07T00:00:00\",\"2007-03-18T00:00:00\",\"2007-01-27T00:00:00\",\"2007-11-30T00:00:00\",\"2007-11-30T00:00:00\",\"2007-11-28T00:00:00\",\"2007-06-29T00:00:00\",\"2007-06-09T00:00:00\",\"2007-10-12T00:00:00\",\"2007-08-10T00:00:00\",\"2007-06-26T00:00:00\",\"2007-04-06T00:00:00\",\"2007-01-18T00:00:00\",\"2007-10-24T00:00:00\",\"2007-10-12T00:00:00\",\"2007-08-10T00:00:00\",\"2007-08-09T00:00:00\",\"2007-07-07T00:00:00\",\"2007-04-04T00:00:00\",\"2007-03-18T00:00:00\",\"2007-02-14T00:00:00\",\"2007-01-02T00:00:00\",\"2007-11-25T00:00:00\",\"2007-11-18T00:00:00\",\"2007-11-13T00:00:00\",\"2007-11-03T00:00:00\",\"2007-11-02T00:00:00\",\"2007-10-06T00:00:00\",\"2007-09-09T00:00:00\",\"2007-08-12T00:00:00\",\"2007-06-29T00:00:00\",\"2007-05-12T00:00:00\",\"2007-04-18T00:00:00\",\"2007-04-12T00:00:00\",\"2007-02-02T00:00:00\",\"2007-12-10T00:00:00\",\"2007-09-07T00:00:00\",\"2007-09-19T00:00:00\",\"2007-09-03T00:00:00\",\"2007-08-25T00:00:00\",\"2007-02-09T00:00:00\",\"2007-01-13T00:00:00\",\"2007-12-08T00:00:00\",\"2007-07-23T00:00:00\",\"2007-06-19T00:00:00\",\"2007-04-29T00:00:00\",\"2007-02-21T00:00:00\",\"2007-02-21T00:00:00\",\"2007-12-26T00:00:00\",\"2007-12-13T00:00:00\",\"2007-10-31T00:00:00\",\"2007-10-23T00:00:00\",\"2007-10-09T00:00:00\",\"2007-08-24T00:00:00\",\"2007-08-22T00:00:00\",\"2007-06-23T00:00:00\",\"2007-12-19T00:00:00\",\"2007-12-13T00:00:00\",\"2007-12-10T00:00:00\",\"2007-11-08T00:00:00\",\"2007-09-06T00:00:00\",\"2007-08-20T00:00:00\",\"2007-08-20T00:00:00\",\"2007-08-13T00:00:00\",\"2007-08-12T00:00:00\",\"2007-05-05T00:00:00\",\"2007-04-06T00:00:00\",\"2007-12-08T00:00:00\",\"2007-09-15T00:00:00\",\"2007-04-21T00:00:00\",\"2007-04-20T00:00:00\",\"2007-04-06T00:00:00\",\"2007-04-05T00:00:00\",\"2007-04-03T00:00:00\",\"2007-03-28T00:00:00\",\"2007-03-18T00:00:00\",\"2007-12-17T00:00:00\",\"2007-12-13T00:00:00\",\"2007-10-19T00:00:00\",\"2007-10-18T00:00:00\",\"2007-09-22T00:00:00\",\"2007-09-06T00:00:00\",\"2007-09-04T00:00:00\",\"2007-06-06T00:00:00\",\"2007-06-01T00:00:00\",\"2007-04-17T00:00:00\",\"2007-04-17T00:00:00\",\"2007-03-31T00:00:00\",\"2007-03-30T00:00:00\",\"2007-03-03T00:00:00\",\"2007-12-23T00:00:00\",\"2007-12-09T00:00:00\",\"2007-12-08T00:00:00\",\"2007-12-05T00:00:00\",\"2007-11-27T00:00:00\",\"2007-08-26T00:00:00\",\"2007-08-14T00:00:00\",\"2007-05-27T00:00:00\",\"2007-04-14T00:00:00\",\"2007-02-14T00:00:00\",\"2007-01-28T00:00:00\",\"2007-01-01T00:00:00\",\"2007-12-24T00:00:00\",\"2007-12-14T00:00:00\",\"2007-12-13T00:00:00\",\"2007-12-11T00:00:00\",\"2007-12-10T00:00:00\",\"2007-12-10T00:00:00\",\"2007-12-09T00:00:00\",\"2007-12-09T00:00:00\",\"2007-11-20T00:00:00\",\"2007-10-27T00:00:00\",\"2007-10-23T00:00:00\",\"2007-10-05T00:00:00\",\"2007-09-11T00:00:00\",\"2007-08-23T00:00:00\",\"2007-08-03T00:00:00\",\"2007-06-28T00:00:00\",\"2007-06-28T00:00:00\",\"2007-06-08T00:00:00\",\"2007-04-17T00:00:00\",\"2007-04-09T00:00:00\",\"2007-03-19T00:00:00\",\"2007-03-01T00:00:00\",\"2007-02-03T00:00:00\",\"2007-12-20T00:00:00\",\"2007-12-11T00:00:00\",\"2007-12-10T00:00:00\",\"2007-12-04T00:00:00\",\"2007-11-28T00:00:00\",\"2007-11-07T00:00:00\",\"2007-09-18T00:00:00\",\"2007-09-15T00:00:00\",\"2007-09-12T00:00:00\",\"2007-09-04T00:00:00\",\"2007-08-23T00:00:00\",\"2007-07-28T00:00:00\",\"2007-07-14T00:00:00\",\"2007-07-10T00:00:00\",\"2007-06-03T00:00:00\",\"2007-05-18T00:00:00\",\"2007-05-13T00:00:00\",\"2007-05-03T00:00:00\",\"2007-04-24T00:00:00\",\"2007-04-16T00:00:00\",\"2007-04-16T00:00:00\",\"2007-03-21T00:00:00\",\"2007-02-10T00:00:00\",\"2007-12-27T00:00:00\",\"2007-12-08T00:00:00\",\"2007-10-21T00:00:00\",\"2007-09-03T00:00:00\",\"2007-09-01T00:00:00\",\"2007-08-31T00:00:00\",\"2007-08-25T00:00:00\",\"2007-08-15T00:00:00\",\"2007-08-14T00:00:00\",\"2007-08-06T00:00:00\",\"2007-08-03T00:00:00\",\"2007-07-25T00:00:00\",\"2007-07-04T00:00:00\",\"2007-06-25T00:00:00\",\"2007-06-25T00:00:00\",\"2007-06-08T00:00:00\",\"2007-05-01T00:00:00\",\"2007-02-22T00:00:00\",\"2007-02-15T00:00:00\",\"2007-12-23T00:00:00\",\"2007-12-17T00:00:00\",\"2007-12-06T00:00:00\",\"2007-11-29T00:00:00\",\"2007-11-25T00:00:00\",\"2007-11-16T00:00:00\",\"2007-11-12T00:00:00\",\"2007-10-01T00:00:00\",\"2007-09-04T00:00:00\",\"2007-08-04T00:00:00\",\"2007-07-08T00:00:00\",\"2007-05-21T00:00:00\",\"2007-05-17T00:00:00\",\"2007-05-16T00:00:00\",\"2007-05-15T00:00:00\",\"2007-04-19T00:00:00\",\"2007-04-18T00:00:00\",\"2007-02-27T00:00:00\",\"2007-02-20T00:00:00\",\"2007-02-12T00:00:00\",\"2007-02-04T00:00:00\",\"2007-01-27T00:00:00\",\"2007-01-23T00:00:00\",\"2007-01-08T00:00:00\",\"2007-01-08T00:00:00\",\"2007-12-28T00:00:00\",\"2007-12-25T00:00:00\",\"2007-12-11T00:00:00\",\"2007-12-11T00:00:00\",\"2007-12-03T00:00:00\",\"2007-12-01T00:00:00\",\"2007-11-10T00:00:00\",\"2007-11-07T00:00:00\",\"2007-10-25T00:00:00\",\"2007-10-24T00:00:00\",\"2007-10-15T00:00:00\",\"2007-09-18T00:00:00\",\"2007-09-10T00:00:00\",\"2007-08-27T00:00:00\",\"2007-08-24T00:00:00\",\"2007-08-13T00:00:00\",\"2007-08-02T00:00:00\",\"2007-08-02T00:00:00\",\"2007-07-15T00:00:00\",\"2007-06-16T00:00:00\",\"2007-06-07T00:00:00\",\"2007-05-18T00:00:00\",\"2007-05-02T00:00:00\",\"2007-04-28T00:00:00\",\"2007-04-27T00:00:00\",\"2007-04-15T00:00:00\",\"2007-04-11T00:00:00\",\"2007-03-22T00:00:00\",\"2007-03-12T00:00:00\",\"2007-01-29T00:00:00\",\"2007-01-16T00:00:00\",\"2007-12-26T00:00:00\",\"2007-12-19T00:00:00\",\"2007-12-18T00:00:00\",\"2007-12-11T00:00:00\",\"2007-12-09T00:00:00\",\"2007-12-08T00:00:00\",\"2007-11-16T00:00:00\",\"2007-10-17T00:00:00\",\"2007-10-02T00:00:00\",\"2007-08-27T00:00:00\",\"2007-08-09T00:00:00\",\"2007-08-05T00:00:00\",\"2007-07-25T00:00:00\",\"2007-07-21T00:00:00\",\"2007-07-15T00:00:00\",\"2007-07-03T00:00:00\",\"2007-06-29T00:00:00\",\"2007-06-10T00:00:00\",\"2007-06-06T00:00:00\",\"2007-06-02T00:00:00\",\"2007-05-30T00:00:00\",\"2007-05-28T00:00:00\",\"2007-05-19T00:00:00\",\"2007-04-02T00:00:00\",\"2007-02-25T00:00:00\",\"2007-02-24T00:00:00\",\"2007-02-08T00:00:00\",\"2007-01-05T00:00:00\"],\"xaxis\":\"x\",\"y\":[17,18,32,42,31,53,60,54,83,57,101,98,107,102,88,75,183,142,186,197,244,198,224,317,314,230,348,356,304,325,257,383,305,336,337,357,484,454,400,452,500,399,451,631,501,499,793,583,694,794,533,1032,897,1242,896,2214,1097,756,792,693,1405,900,850,1859,1618,847,1099,1085,957,1023,1087,1026,959,1160,1316,1243,1095,1407,1744,1406,2219,1408,1409,1092,1515,1161,1860,2218,2220,1317,1751,1324,1738,2017,1746,1750,1622,1404,1739,1507,2937,1866,1623,1502,1503,2414,4697,1864,0,1505,2652,1621,1624,2418,1612,2019,0,1863,1748,2438,2951,2033,1736,1737,2416,2016,4678,2644,2018,2217,2934,3662,2024,2942,2032,2640,4147,2419,0,2420,2442,3679,2210,3656,6204,3665,2440,3676,2015,3647,4679,3651,2643,10440,5384,10489,8618,2929,4141,0,3653,4686,2421,4691,2422,2940,2947,6170,0,3667,2941,2946,5421,10577,7356,0,3230,5362,4146,5373,2645,4148,2932,6210,4704,7332,3238,4728,4729,4731,8615,5366,4672,3648,6173,4685,4690,5401,7335,7373,0,7383,16318,6167,5360,4139,5365,16361,4669,4142,4143,3649,0,4683,5380,12946,12981,3235,7298,4700,4160,4163,3673,7367,4735,12853,5363,5364,5367,4674,8637,5377,5378,6184,8659,7273,3655,3657,16578,4156,5402,4707,5406,5408,13117,4715,7363,4175,10367,6169,4145,7270,4684,10433,21633,4688,4689,10459,4151,4694,10480,10488,5394,4701,4709,5429,10602,5357,6166,0,4673,10392,0,7251,0,12936,8674,7295,21947,10519,7314,6213,4714,7331,7368,7370,4734,5432,6254,4737,16861,8768,7236,10369,7245,0,21487,6171,10398,8635,21525,21529,16418,12920,7268,0,6191,6192,16532,5388,16565,6206,4702,7313,0,22028,8716,10552,6223,7361,16784,22274,10618,0,8617,21428,12871,16365,8628,0,21534,12914,0,10452,16526,10469,16555,8684,10481,21827,7304,6209,16641,13057,0,7312,7354,16807,10595,7375,10625],\"yaxis\":\"y\",\"type\":\"scatter\"}],\"name\":\"2007\"},{\"data\":[{\"hovertemplate\":\"year=2009\\u003cbr\\u003edateCreated=%{x}\\u003cbr\\u003erank=%{y}\\u003cextra\\u003e\\u003c\\u002fextra\\u003e\",\"legendgroup\":\"\",\"marker\":{\"color\":\"#636efa\",\"symbol\":\"circle\"},\"mode\":\"markers\",\"name\":\"\",\"orientation\":\"v\",\"showlegend\":false,\"x\":[\"2009-10-25T00:00:00\",\"2009-01-04T00:00:00\",\"2009-08-25T00:00:00\",\"2009-09-22T00:00:00\",\"2009-10-04T00:00:00\",\"2009-12-10T00:00:00\",\"2009-02-01T00:00:00\",\"2009-06-10T00:00:00\",\"2009-06-21T00:00:00\",\"2009-06-22T00:00:00\",\"2009-04-04T00:00:00\",\"2009-11-22T00:00:00\",\"2009-09-11T00:00:00\",\"2009-11-16T00:00:00\",\"2009-08-06T00:00:00\",\"2009-02-03T00:00:00\",\"2009-08-03T00:00:00\",\"2009-01-28T00:00:00\",\"2009-12-08T00:00:00\",\"2009-06-25T00:00:00\",\"2009-12-24T00:00:00\",\"2009-12-04T00:00:00\",\"2009-08-13T00:00:00\",\"2009-06-21T00:00:00\",\"2009-06-09T00:00:00\",\"2009-06-03T00:00:00\",\"2009-01-12T00:00:00\",\"2009-12-21T00:00:00\",\"2009-08-16T00:00:00\",\"2009-04-11T00:00:00\",\"2009-06-03T00:00:00\",\"2009-02-08T00:00:00\",\"2009-08-29T00:00:00\",\"2009-06-20T00:00:00\",\"2009-03-27T00:00:00\",\"2009-10-24T00:00:00\",\"2009-09-11T00:00:00\",\"2009-03-13T00:00:00\",\"2009-01-28T00:00:00\",\"2009-01-21T00:00:00\",\"2009-11-16T00:00:00\",\"2009-06-19T00:00:00\",\"2009-06-24T00:00:00\",\"2009-08-19T00:00:00\",\"2009-07-02T00:00:00\",\"2009-02-21T00:00:00\",\"2009-01-09T00:00:00\",\"2009-08-12T00:00:00\",\"2009-07-28T00:00:00\",\"2009-07-06T00:00:00\",\"2009-05-07T00:00:00\",\"2009-08-26T00:00:00\",\"2009-08-01T00:00:00\",\"2009-06-01T00:00:00\",\"2009-04-10T00:00:00\",\"2009-12-12T00:00:00\",\"2009-10-09T00:00:00\",\"2009-08-15T00:00:00\",\"2009-08-08T00:00:00\",\"2009-07-25T00:00:00\",\"2009-07-02T00:00:00\",\"2009-06-04T00:00:00\",\"2009-02-03T00:00:00\",\"2009-01-01T00:00:00\",\"2009-10-01T00:00:00\",\"2009-09-11T00:00:00\",\"2009-08-09T00:00:00\",\"2009-07-24T00:00:00\",\"2009-04-13T00:00:00\",\"2009-03-01T00:00:00\",\"2009-01-07T00:00:00\",\"2009-10-04T00:00:00\",\"2009-08-24T00:00:00\",\"2009-07-24T00:00:00\",\"2009-01-28T00:00:00\",\"2009-01-04T00:00:00\",\"2009-09-27T00:00:00\",\"2009-08-17T00:00:00\",\"2009-07-03T00:00:00\",\"2009-04-25T00:00:00\",\"2009-03-05T00:00:00\",\"2009-02-10T00:00:00\",\"2009-12-24T00:00:00\",\"2009-12-22T00:00:00\",\"2009-09-20T00:00:00\",\"2009-06-03T00:00:00\",\"2009-06-02T00:00:00\",\"2009-04-25T00:00:00\",\"2009-02-18T00:00:00\",\"2009-02-13T00:00:00\",\"2009-12-15T00:00:00\",\"2009-12-03T00:00:00\",\"2009-10-20T00:00:00\",\"2009-09-22T00:00:00\",\"2009-08-15T00:00:00\",\"2009-05-31T00:00:00\",\"2009-03-18T00:00:00\",\"2009-02-16T00:00:00\",\"2009-02-14T00:00:00\",\"2009-01-12T00:00:00\",\"2009-12-28T00:00:00\",\"2009-11-05T00:00:00\",\"2009-10-12T00:00:00\",\"2009-09-05T00:00:00\",\"2009-08-29T00:00:00\",\"2009-06-17T00:00:00\",\"2009-04-15T00:00:00\",\"2009-04-03T00:00:00\",\"2009-04-03T00:00:00\",\"2009-03-31T00:00:00\",\"2009-03-26T00:00:00\",\"2009-03-24T00:00:00\",\"2009-03-21T00:00:00\",\"2009-03-03T00:00:00\",\"2009-02-22T00:00:00\",\"2009-02-21T00:00:00\",\"2009-02-09T00:00:00\",\"2009-02-05T00:00:00\",\"2009-01-23T00:00:00\",\"2009-12-11T00:00:00\",\"2009-11-27T00:00:00\",\"2009-11-13T00:00:00\",\"2009-06-06T00:00:00\",\"2009-06-02T00:00:00\",\"2009-05-24T00:00:00\",\"2009-05-20T00:00:00\",\"2009-05-14T00:00:00\",\"2009-03-27T00:00:00\",\"2009-03-19T00:00:00\",\"2009-03-17T00:00:00\"],\"xaxis\":\"x\",\"y\":[39,61,130,151,158,222,271,331,1003,626,628,889,708,785,653,1072,1839,947,1297,2610,2173,1146,1481,2611,1215,1071,1302,1837,1710,1482,1841,1393,2176,1840,2179,2174,1591,2614,2379,2380,3175,2890,2888,2177,1981,3191,1984,2608,3184,2609,2892,4575,4041,2612,4588,6024,3177,2887,3183,5243,0,8416,4602,4063,6028,3569,3570,3571,3187,4058,0,5237,0,10116,4062,3583,5239,5242,10118,5255,10155,4601,4563,8381,15870,6038,5250,0,6050,5268,6023,8384,7070,5241,7077,5251,7096,5267,10164,6057,12514,7065,7071,0,7076,8414,15950,8428,10136,6044,6045,10143,10148,12607,10160,10161,10167,10170,20867,7058,8389,7062,10125,15925,8418,0,8421,7094,12604,0],\"yaxis\":\"y\",\"type\":\"scatter\"}],\"name\":\"2009\"},{\"data\":[{\"hovertemplate\":\"year=2011\\u003cbr\\u003edateCreated=%{x}\\u003cbr\\u003erank=%{y}\\u003cextra\\u003e\\u003c\\u002fextra\\u003e\",\"legendgroup\":\"\",\"marker\":{\"color\":\"#636efa\",\"symbol\":\"circle\"},\"mode\":\"markers\",\"name\":\"\",\"orientation\":\"v\",\"showlegend\":false,\"x\":[\"2011-04-28T00:00:00\",\"2011-05-14T00:00:00\",\"2011-01-29T00:00:00\",\"2011-04-20T00:00:00\",\"2011-03-22T00:00:00\",\"2011-04-27T00:00:00\",\"2011-04-17T00:00:00\",\"2011-08-17T00:00:00\",\"2011-01-21T00:00:00\",\"2011-06-12T00:00:00\",\"2011-01-16T00:00:00\",\"2011-01-19T00:00:00\",\"2011-03-27T00:00:00\",\"2011-01-26T00:00:00\",\"2011-06-04T00:00:00\",\"2011-05-22T00:00:00\",\"2011-03-11T00:00:00\",\"2011-11-07T00:00:00\",\"2011-03-10T00:00:00\",\"2011-05-05T00:00:00\",\"2011-02-27T00:00:00\",\"2011-11-11T00:00:00\",\"2011-02-13T00:00:00\",\"2011-10-07T00:00:00\",\"2011-08-27T00:00:00\",\"2011-02-28T00:00:00\",\"2011-02-20T00:00:00\",\"2011-07-29T00:00:00\",\"2011-07-08T00:00:00\",\"2011-08-27T00:00:00\",\"2011-02-28T00:00:00\",\"2011-05-25T00:00:00\",\"2011-03-19T00:00:00\",\"2011-06-01T00:00:00\",\"2011-08-04T00:00:00\",\"2011-07-06T00:00:00\",\"2011-05-01T00:00:00\",\"2011-08-21T00:00:00\",\"2011-06-08T00:00:00\",\"2011-05-09T00:00:00\",\"2011-01-12T00:00:00\",\"2011-07-10T00:00:00\",\"2011-04-30T00:00:00\",\"2011-06-02T00:00:00\",\"2011-05-04T00:00:00\",\"2011-04-11T00:00:00\",\"2011-09-13T00:00:00\",\"2011-03-09T00:00:00\",\"2011-02-17T00:00:00\",\"2011-08-01T00:00:00\",\"2011-01-30T00:00:00\",\"2011-01-13T00:00:00\",\"2011-11-02T00:00:00\",\"2011-03-11T00:00:00\",\"2011-05-27T00:00:00\",\"2011-11-16T00:00:00\",\"2011-02-03T00:00:00\",\"2011-10-11T00:00:00\",\"2011-05-23T00:00:00\",\"2011-09-27T00:00:00\",\"2011-06-23T00:00:00\",\"2011-04-18T00:00:00\",\"2011-04-10T00:00:00\",\"2011-03-27T00:00:00\",\"2011-11-05T00:00:00\",\"2011-03-04T00:00:00\",\"2011-01-07T00:00:00\",\"2011-06-06T00:00:00\",\"2011-02-02T00:00:00\",\"2011-01-08T00:00:00\",\"2011-08-20T00:00:00\",\"2011-05-30T00:00:00\",\"2011-03-16T00:00:00\",\"2011-01-11T00:00:00\",\"2011-10-15T00:00:00\",\"2011-08-23T00:00:00\",\"2011-08-13T00:00:00\",\"2011-05-11T00:00:00\",\"2011-01-29T00:00:00\",\"2011-12-17T00:00:00\",\"2011-08-28T00:00:00\",\"2011-06-01T00:00:00\",\"2011-05-15T00:00:00\",\"2011-04-03T00:00:00\",\"2011-02-03T00:00:00\",\"2011-10-12T00:00:00\",\"2011-08-18T00:00:00\",\"2011-07-24T00:00:00\",\"2011-04-30T00:00:00\",\"2011-04-02T00:00:00\",\"2011-01-15T00:00:00\",\"2011-07-08T00:00:00\",\"2011-02-24T00:00:00\",\"2011-08-08T00:00:00\",\"2011-03-13T00:00:00\",\"2011-02-13T00:00:00\",\"2011-12-29T00:00:00\",\"2011-12-14T00:00:00\",\"2011-08-31T00:00:00\",\"2011-08-23T00:00:00\",\"2011-05-01T00:00:00\",\"2011-01-29T00:00:00\",\"2011-10-24T00:00:00\",\"2011-02-06T00:00:00\",\"2011-12-03T00:00:00\",\"2011-11-26T00:00:00\",\"2011-11-02T00:00:00\",\"2011-12-09T00:00:00\",\"2011-10-11T00:00:00\",\"2011-09-07T00:00:00\",\"2011-07-09T00:00:00\",\"2011-06-26T00:00:00\",\"2011-04-11T00:00:00\",\"2011-03-26T00:00:00\",\"2011-10-22T00:00:00\",\"2011-10-01T00:00:00\",\"2011-07-10T00:00:00\",\"2011-05-13T00:00:00\",\"2011-05-04T00:00:00\",\"2011-02-02T00:00:00\",\"2011-01-26T00:00:00\",\"2011-10-01T00:00:00\",\"2011-09-21T00:00:00\",\"2011-09-17T00:00:00\",\"2011-09-14T00:00:00\",\"2011-07-03T00:00:00\",\"2011-03-11T00:00:00\",\"2011-02-12T00:00:00\",\"2011-01-30T00:00:00\",\"2011-09-01T00:00:00\",\"2011-08-03T00:00:00\",\"2011-06-29T00:00:00\",\"2011-04-17T00:00:00\",\"2011-03-07T00:00:00\",\"2011-03-06T00:00:00\",\"2011-12-15T00:00:00\",\"2011-09-20T00:00:00\",\"2011-06-14T00:00:00\",\"2011-05-28T00:00:00\",\"2011-03-26T00:00:00\",\"2011-11-01T00:00:00\",\"2011-10-21T00:00:00\",\"2011-10-12T00:00:00\",\"2011-09-28T00:00:00\",\"2011-07-16T00:00:00\",\"2011-02-03T00:00:00\",\"2011-01-27T00:00:00\",\"2011-01-16T00:00:00\",\"2011-01-09T00:00:00\",\"2011-11-06T00:00:00\",\"2011-06-14T00:00:00\",\"2011-06-12T00:00:00\",\"2011-05-18T00:00:00\",\"2011-04-15T00:00:00\",\"2011-02-11T00:00:00\",\"2011-02-01T00:00:00\",\"2011-11-22T00:00:00\",\"2011-11-21T00:00:00\",\"2011-08-23T00:00:00\",\"2011-08-23T00:00:00\",\"2011-08-21T00:00:00\",\"2011-08-03T00:00:00\",\"2011-03-28T00:00:00\",\"2011-02-17T00:00:00\",\"2011-11-15T00:00:00\",\"2011-11-06T00:00:00\",\"2011-10-17T00:00:00\",\"2011-09-26T00:00:00\",\"2011-09-12T00:00:00\",\"2011-08-07T00:00:00\",\"2011-07-25T00:00:00\",\"2011-06-29T00:00:00\",\"2011-06-28T00:00:00\",\"2011-05-18T00:00:00\",\"2011-04-24T00:00:00\",\"2011-01-29T00:00:00\",\"2011-01-06T00:00:00\",\"2011-12-09T00:00:00\",\"2011-12-04T00:00:00\",\"2011-10-08T00:00:00\",\"2011-09-23T00:00:00\",\"2011-08-31T00:00:00\",\"2011-08-08T00:00:00\",\"2011-05-14T00:00:00\",\"2011-04-16T00:00:00\",\"2011-02-21T00:00:00\",\"2011-02-17T00:00:00\",\"2011-01-18T00:00:00\",\"2011-10-11T00:00:00\",\"2011-09-12T00:00:00\",\"2011-08-29T00:00:00\",\"2011-06-29T00:00:00\",\"2011-05-25T00:00:00\",\"2011-04-18T00:00:00\",\"2011-03-05T00:00:00\",\"2011-02-25T00:00:00\",\"2011-02-14T00:00:00\",\"2011-01-08T00:00:00\",\"2011-01-07T00:00:00\",\"2011-01-03T00:00:00\",\"2011-11-14T00:00:00\",\"2011-10-17T00:00:00\",\"2011-10-14T00:00:00\",\"2011-09-29T00:00:00\",\"2011-07-25T00:00:00\",\"2011-07-08T00:00:00\",\"2011-07-01T00:00:00\",\"2011-05-24T00:00:00\",\"2011-05-15T00:00:00\",\"2011-05-09T00:00:00\",\"2011-05-07T00:00:00\",\"2011-04-28T00:00:00\",\"2011-04-19T00:00:00\",\"2011-04-14T00:00:00\",\"2011-02-25T00:00:00\",\"2011-02-20T00:00:00\",\"2011-01-05T00:00:00\",\"2011-10-22T00:00:00\",\"2011-10-16T00:00:00\",\"2011-10-12T00:00:00\",\"2011-10-02T00:00:00\",\"2011-08-12T00:00:00\",\"2011-08-08T00:00:00\",\"2011-06-13T00:00:00\",\"2011-06-13T00:00:00\",\"2011-06-02T00:00:00\",\"2011-05-21T00:00:00\",\"2011-05-18T00:00:00\",\"2011-04-06T00:00:00\",\"2011-03-26T00:00:00\",\"2011-03-04T00:00:00\",\"2011-02-20T00:00:00\",\"2011-02-15T00:00:00\",\"2011-01-30T00:00:00\",\"2011-01-26T00:00:00\",\"2011-01-09T00:00:00\",\"2011-12-18T00:00:00\",\"2011-12-17T00:00:00\",\"2011-12-10T00:00:00\",\"2011-11-09T00:00:00\",\"2011-11-07T00:00:00\",\"2011-11-01T00:00:00\",\"2011-10-26T00:00:00\",\"2011-10-19T00:00:00\",\"2011-08-21T00:00:00\",\"2011-07-31T00:00:00\",\"2011-06-21T00:00:00\",\"2011-06-06T00:00:00\",\"2011-05-14T00:00:00\",\"2011-05-03T00:00:00\",\"2011-04-29T00:00:00\",\"2011-04-17T00:00:00\",\"2011-03-29T00:00:00\",\"2011-03-02T00:00:00\",\"2011-02-22T00:00:00\",\"2011-02-11T00:00:00\",\"2011-01-31T00:00:00\",\"2011-01-01T00:00:00\"],\"xaxis\":\"x\",\"y\":[72,121,97,150,177,156,127,176,194,238,311,270,256,408,375,261,359,283,284,293,415,391,432,526,321,360,361,405,407,444,574,493,550,492,527,545,528,570,572,547,884,679,680,619,777,548,874,778,621,647,937,996,733,681,737,810,823,991,1369,1809,877,932,1064,933,873,1204,1290,1197,1582,1137,1131,1577,1465,1136,1944,1130,2329,1578,1068,1674,1193,1461,1279,1201,1581,1364,1680,2331,1687,1282,1135,1682,1286,1812,1371,1373,2123,1675,0,0,1957,1696,1677,1823,2124,3939,2551,2127,1945,2816,2561,2335,2142,3129,2552,2325,1954,2136,1819,2849,2146,2809,2812,2326,1948,1955,2842,2347,2350,0,2131,2824,2341,2843,2346,3103,3950,2829,2564,3128,3110,2806,2808,3483,2822,5164,3519,5170,0,4445,5125,2830,3123,5920,2847,3987,3105,3477,5884,3954,5116,3488,3510,3514,5098,3942,5106,3948,9842,3956,6908,3490,3964,3968,3973,5166,3526,4442,4443,9831,4454,3952,5117,3969,3974,5942,5156,6971,4450,6897,9845,0,6928,12265,5151,5937,4493,5173,5175,5176,5099,12146,5107,6890,6909,6914,5894,6929,0,15506,5136,0,5919,5142,5938,6961,5951,0,5870,8154,8157,8170,5888,8187,5901,9896,5905,5906,0,0,5933,6960,5944,5945,5947,0,9808,6871,8136,9821,6880,6881,8149,6883,9848,6906,6917,20134,12245,6937,6939,12266,0,6955,8243,8255,12329,6981],\"yaxis\":\"y\",\"type\":\"scatter\"}],\"name\":\"2011\"},{\"data\":[{\"hovertemplate\":\"year=2013\\u003cbr\\u003edateCreated=%{x}\\u003cbr\\u003erank=%{y}\\u003cextra\\u003e\\u003c\\u002fextra\\u003e\",\"legendgroup\":\"\",\"marker\":{\"color\":\"#636efa\",\"symbol\":\"circle\"},\"mode\":\"markers\",\"name\":\"\",\"orientation\":\"v\",\"showlegend\":false,\"x\":[\"2013-12-30T00:00:00\",\"2013-03-18T00:00:00\",\"2013-11-21T00:00:00\",\"2013-02-19T00:00:00\",\"2013-01-02T00:00:00\",\"2013-06-05T00:00:00\",\"2013-03-05T00:00:00\",\"2013-12-06T00:00:00\",\"2013-02-04T00:00:00\",\"2013-02-26T00:00:00\",\"2013-05-16T00:00:00\",\"2013-08-05T00:00:00\",\"2013-09-17T00:00:00\",\"2013-05-13T00:00:00\",\"2013-05-13T00:00:00\",\"2013-12-22T00:00:00\",\"2013-06-26T00:00:00\",\"2013-04-27T00:00:00\",\"2013-02-10T00:00:00\",\"2013-11-20T00:00:00\",\"2013-07-14T00:00:00\",\"2013-01-12T00:00:00\",\"2013-08-08T00:00:00\",\"2013-05-11T00:00:00\",\"2013-02-03T00:00:00\",\"2013-09-19T00:00:00\",\"2013-03-20T00:00:00\",\"2013-12-13T00:00:00\",\"2013-07-26T00:00:00\",\"2013-05-13T00:00:00\",\"2013-04-13T00:00:00\",\"2013-11-24T00:00:00\",\"2013-09-04T00:00:00\",\"2013-07-16T00:00:00\",\"2013-06-24T00:00:00\",\"2013-12-22T00:00:00\",\"2013-08-24T00:00:00\",\"2013-08-16T00:00:00\",\"2013-07-08T00:00:00\",\"2013-11-25T00:00:00\",\"2013-03-11T00:00:00\",\"2013-03-09T00:00:00\",\"2013-11-04T00:00:00\",\"2013-10-18T00:00:00\",\"2013-09-10T00:00:00\",\"2013-06-17T00:00:00\",\"2013-06-01T00:00:00\",\"2013-04-01T00:00:00\",\"2013-12-08T00:00:00\",\"2013-08-27T00:00:00\",\"2013-06-15T00:00:00\",\"2013-01-18T00:00:00\",\"2013-12-13T00:00:00\",\"2013-04-22T00:00:00\",\"2013-03-16T00:00:00\",\"2013-11-19T00:00:00\",\"2013-10-29T00:00:00\",\"2013-09-25T00:00:00\",\"2013-03-18T00:00:00\",\"2013-03-17T00:00:00\",\"2013-02-23T00:00:00\",\"2013-02-16T00:00:00\",\"2013-01-19T00:00:00\",\"2013-01-08T00:00:00\",\"2013-12-07T00:00:00\",\"2013-09-30T00:00:00\",\"2013-08-10T00:00:00\",\"2013-08-04T00:00:00\",\"2013-06-01T00:00:00\",\"2013-03-08T00:00:00\",\"2013-02-16T00:00:00\",\"2013-01-19T00:00:00\",\"2013-08-31T00:00:00\",\"2013-06-28T00:00:00\",\"2013-06-25T00:00:00\",\"2013-05-14T00:00:00\",\"2013-02-24T00:00:00\",\"2013-01-21T00:00:00\",\"2013-12-15T00:00:00\",\"2013-11-13T00:00:00\",\"2013-11-06T00:00:00\",\"2013-11-04T00:00:00\",\"2013-10-18T00:00:00\",\"2013-10-10T00:00:00\",\"2013-09-27T00:00:00\",\"2013-06-09T00:00:00\",\"2013-05-24T00:00:00\",\"2013-05-03T00:00:00\",\"2013-05-03T00:00:00\",\"2013-04-03T00:00:00\",\"2013-03-30T00:00:00\",\"2013-03-14T00:00:00\",\"2013-01-20T00:00:00\"],\"xaxis\":\"x\",\"y\":[248,870,728,808,441,703,1797,1267,1053,869,1929,1662,2520,0,1268,1661,1926,2299,1549,2088,2092,1550,2091,2096,1930,3060,2526,3411,2296,4389,2770,4382,0,2768,3417,3409,7954,3061,3063,4989,0,3873,9645,3057,9581,7966,3864,4393,5731,5743,3860,3877,4381,4390,7983,5732,6721,6729,5008,5009,4396,0,11881,5770,4986,4994,6734,6737,5003,6763,5015,5018,14803,5747,6744,6749,9643,16149,7946,6717,6719,6720,6724,14783,0,9603,9611,0,7972,6759,9633,11858,14922],\"yaxis\":\"y\",\"type\":\"scatter\"}],\"name\":\"2013\"},{\"data\":[{\"hovertemplate\":\"year=2015\\u003cbr\\u003edateCreated=%{x}\\u003cbr\\u003erank=%{y}\\u003cextra\\u003e\\u003c\\u002fextra\\u003e\",\"legendgroup\":\"\",\"marker\":{\"color\":\"#636efa\",\"symbol\":\"circle\"},\"mode\":\"markers\",\"name\":\"\",\"orientation\":\"v\",\"showlegend\":false,\"x\":[\"2015-07-27T00:00:00\",\"2015-10-06T00:00:00\",\"2015-04-14T00:00:00\",\"2015-08-08T00:00:00\",\"2015-04-30T00:00:00\",\"2015-03-18T00:00:00\",\"2015-09-11T00:00:00\",\"2015-01-01T00:00:00\",\"2015-01-08T00:00:00\",\"2015-09-03T00:00:00\",\"2015-11-26T00:00:00\",\"2015-05-23T00:00:00\",\"2015-02-06T00:00:00\",\"2015-01-02T00:00:00\",\"2015-08-18T00:00:00\",\"2015-04-16T00:00:00\",\"2015-03-15T00:00:00\",\"2015-03-08T00:00:00\",\"2015-04-03T00:00:00\",\"2015-06-27T00:00:00\",\"2015-03-06T00:00:00\",\"2015-02-12T00:00:00\",\"2015-07-24T00:00:00\",\"2015-10-30T00:00:00\",\"2015-08-20T00:00:00\",\"2015-06-05T00:00:00\",\"2015-03-18T00:00:00\",\"2015-07-01T00:00:00\",\"2015-03-08T00:00:00\",\"2015-03-23T00:00:00\",\"2015-03-14T00:00:00\",\"2015-02-15T00:00:00\",\"2015-12-08T00:00:00\",\"2015-10-24T00:00:00\",\"2015-08-30T00:00:00\",\"2015-06-19T00:00:00\",\"2015-06-25T00:00:00\",\"2015-01-14T00:00:00\",\"2015-12-15T00:00:00\",\"2015-01-15T00:00:00\",\"2015-10-02T00:00:00\",\"2015-06-22T00:00:00\",\"2015-01-27T00:00:00\",\"2015-12-06T00:00:00\",\"2015-07-29T00:00:00\",\"2015-11-26T00:00:00\",\"2015-11-17T00:00:00\",\"2015-10-19T00:00:00\",\"2015-07-28T00:00:00\",\"2015-10-07T00:00:00\",\"2015-06-05T00:00:00\",\"2015-01-11T00:00:00\",\"2015-12-13T00:00:00\",\"2015-10-08T00:00:00\",\"2015-02-13T00:00:00\",\"2015-01-11T00:00:00\"],\"xaxis\":\"x\",\"y\":[0,0,0,0,0,0,0,0,0,0,0,0,0,0,0,0,0,0,0,0,0,0,0,0,0,0,0,0,0,0,0,0,0,0,0,0,0,0,0,0,0,0,0,0,0,0,0,0,0,0,0,0,0,0,0,0],\"yaxis\":\"y\",\"type\":\"scatter\"}],\"name\":\"2015\"},{\"data\":[{\"hovertemplate\":\"year=2014\\u003cbr\\u003edateCreated=%{x}\\u003cbr\\u003erank=%{y}\\u003cextra\\u003e\\u003c\\u002fextra\\u003e\",\"legendgroup\":\"\",\"marker\":{\"color\":\"#636efa\",\"symbol\":\"circle\"},\"mode\":\"markers\",\"name\":\"\",\"orientation\":\"v\",\"showlegend\":false,\"x\":[\"2014-12-14T00:00:00\",\"2014-05-30T00:00:00\",\"2014-06-13T00:00:00\",\"2014-03-03T00:00:00\",\"2014-01-08T00:00:00\",\"2014-04-18T00:00:00\",\"2014-09-14T00:00:00\",\"2014-12-05T00:00:00\",\"2014-03-29T00:00:00\",\"2014-01-02T00:00:00\",\"2014-04-30T00:00:00\",\"2014-10-25T00:00:00\",\"2014-03-29T00:00:00\",\"2014-01-05T00:00:00\",\"2014-11-02T00:00:00\",\"2014-06-24T00:00:00\",\"2014-08-26T00:00:00\",\"2014-07-08T00:00:00\",\"2014-03-10T00:00:00\",\"2014-02-22T00:00:00\",\"2014-02-08T00:00:00\",\"2014-01-06T00:00:00\",\"2014-12-21T00:00:00\",\"2014-04-02T00:00:00\",\"2014-10-03T00:00:00\",\"2014-12-22T00:00:00\",\"2014-01-10T00:00:00\",\"2014-08-07T00:00:00\",\"2014-09-08T00:00:00\",\"2014-07-24T00:00:00\",\"2014-01-30T00:00:00\",\"2014-10-17T00:00:00\",\"2014-08-30T00:00:00\",\"2014-08-02T00:00:00\",\"2014-08-03T00:00:00\",\"2014-07-16T00:00:00\",\"2014-11-13T00:00:00\",\"2014-10-02T00:00:00\",\"2014-03-26T00:00:00\",\"2014-01-31T00:00:00\",\"2014-05-04T00:00:00\",\"2014-04-30T00:00:00\",\"2014-04-29T00:00:00\",\"2014-03-11T00:00:00\",\"2014-01-20T00:00:00\",\"2014-07-08T00:00:00\",\"2014-04-22T00:00:00\",\"2014-02-28T00:00:00\",\"2014-12-01T00:00:00\",\"2014-09-16T00:00:00\",\"2014-07-23T00:00:00\",\"2014-05-06T00:00:00\",\"2014-04-03T00:00:00\",\"2014-03-05T00:00:00\",\"2014-01-26T00:00:00\",\"2014-09-08T00:00:00\",\"2014-04-23T00:00:00\",\"2014-08-18T00:00:00\",\"2014-06-11T00:00:00\",\"2014-05-02T00:00:00\",\"2014-01-06T00:00:00\",\"2014-11-21T00:00:00\",\"2014-09-17T00:00:00\",\"2014-09-05T00:00:00\",\"2014-06-16T00:00:00\",\"2014-06-08T00:00:00\",\"2014-03-24T00:00:00\",\"2014-08-09T00:00:00\",\"2014-07-29T00:00:00\",\"2014-07-25T00:00:00\",\"2014-07-07T00:00:00\",\"2014-06-26T00:00:00\",\"2014-03-14T00:00:00\",\"2014-01-19T00:00:00\"],\"xaxis\":\"x\",\"y\":[0,1792,1657,523,1118,1922,1540,0,0,1355,1353,1653,7934,1545,1790,1668,0,0,0,2764,1794,1924,0,3401,0,0,0,2761,14683,3398,2765,0,2510,4969,7918,5714,0,3845,19113,5728,5721,3848,0,3852,3407,5716,0,6700,0,0,0,4974,5724,4981,6706,19017,6693,6685,14708,6692,14755,0,0,7916,7923,9521,14728,11713,6686,11717,11721,19056,19119,6708],\"yaxis\":\"y\",\"type\":\"scatter\"}],\"name\":\"2014\"},{\"data\":[{\"hovertemplate\":\"year=2016\\u003cbr\\u003edateCreated=%{x}\\u003cbr\\u003erank=%{y}\\u003cextra\\u003e\\u003c\\u002fextra\\u003e\",\"legendgroup\":\"\",\"marker\":{\"color\":\"#636efa\",\"symbol\":\"circle\"},\"mode\":\"markers\",\"name\":\"\",\"orientation\":\"v\",\"showlegend\":false,\"x\":[\"2016-08-09T00:00:00\",\"2016-12-02T00:00:00\",\"2016-08-10T00:00:00\",\"2016-03-10T00:00:00\",\"2016-02-20T00:00:00\",\"2016-01-03T00:00:00\",\"2016-03-16T00:00:00\",\"2016-10-13T00:00:00\",\"2016-02-05T00:00:00\",\"2016-07-26T00:00:00\",\"2016-10-21T00:00:00\",\"2016-08-19T00:00:00\",\"2016-10-21T00:00:00\",\"2016-08-14T00:00:00\",\"2016-01-29T00:00:00\"],\"xaxis\":\"x\",\"y\":[0,0,0,0,0,0,0,0,0,0,0,0,0,0,0],\"yaxis\":\"y\",\"type\":\"scatter\"}],\"name\":\"2016\"},{\"data\":[{\"hovertemplate\":\"year=2017\\u003cbr\\u003edateCreated=%{x}\\u003cbr\\u003erank=%{y}\\u003cextra\\u003e\\u003c\\u002fextra\\u003e\",\"legendgroup\":\"\",\"marker\":{\"color\":\"#636efa\",\"symbol\":\"circle\"},\"mode\":\"markers\",\"name\":\"\",\"orientation\":\"v\",\"showlegend\":false,\"x\":[\"2017-01-06T00:00:00\",\"2017-03-13T00:00:00\",\"2017-02-23T00:00:00\",\"2017-02-08T00:00:00\",\"2017-01-09T00:00:00\",\"2017-05-02T00:00:00\",\"2017-01-19T00:00:00\",\"2017-04-21T00:00:00\"],\"xaxis\":\"x\",\"y\":[0,0,0,0,0,0,0,0],\"yaxis\":\"y\",\"type\":\"scatter\"}],\"name\":\"2017\"},{\"data\":[{\"hovertemplate\":\"year=2018\\u003cbr\\u003edateCreated=%{x}\\u003cbr\\u003erank=%{y}\\u003cextra\\u003e\\u003c\\u002fextra\\u003e\",\"legendgroup\":\"\",\"marker\":{\"color\":\"#636efa\",\"symbol\":\"circle\"},\"mode\":\"markers\",\"name\":\"\",\"orientation\":\"v\",\"showlegend\":false,\"x\":[\"2018-06-24T00:00:00\"],\"xaxis\":\"x\",\"y\":[0],\"yaxis\":\"y\",\"type\":\"scatter\"}],\"name\":\"2018\"}]);\n",
              "                        }).then(function(){\n",
              "                            \n",
              "var gd = document.getElementById('8e123857-deef-40c3-a9ba-c89def27278e');\n",
              "var x = new MutationObserver(function (mutations, observer) {{\n",
              "        var display = window.getComputedStyle(gd).display;\n",
              "        if (!display || display === 'none') {{\n",
              "            console.log([gd, 'removed!']);\n",
              "            Plotly.purge(gd);\n",
              "            observer.disconnect();\n",
              "        }}\n",
              "}});\n",
              "\n",
              "// Listen for the removal of the full notebook cells\n",
              "var notebookContainer = gd.closest('#notebook-container');\n",
              "if (notebookContainer) {{\n",
              "    x.observe(notebookContainer, {childList: true});\n",
              "}}\n",
              "\n",
              "// Listen for the clearing of the current output cell\n",
              "var outputEl = gd.closest('.output');\n",
              "if (outputEl) {{\n",
              "    x.observe(outputEl, {childList: true});\n",
              "}}\n",
              "\n",
              "                        })                };                            </script>        </div>\n",
              "</body>\n",
              "</html>"
            ]
          },
          "metadata": {}
        }
      ]
    },
    {
      "cell_type": "code",
      "source": [
        "colors_top_data['dateCreated'].value_counts()\n"
      ],
      "metadata": {
        "colab": {
          "base_uri": "https://localhost:8080/"
        },
        "id": "LtfS_ttNS5fS",
        "outputId": "f15ecfd6-4f70-4de8-d95a-50411230fa24"
      },
      "execution_count": 125,
      "outputs": [
        {
          "output_type": "execute_result",
          "data": {
            "text/plain": [
              "2004-12-17    9\n",
              "2005-08-28    8\n",
              "2005-08-26    7\n",
              "2005-07-20    7\n",
              "2007-12-11    6\n",
              "             ..\n",
              "2016-02-20    1\n",
              "2015-07-01    1\n",
              "2014-01-10    1\n",
              "2013-08-08    1\n",
              "2008-12-16    1\n",
              "Name: dateCreated, Length: 1426, dtype: int64"
            ]
          },
          "metadata": {},
          "execution_count": 125
        }
      ]
    },
    {
      "cell_type": "markdown",
      "source": [
        " 2. Palettes"
      ],
      "metadata": {
        "id": "8xdFGVQELPVa"
      }
    },
    {
      "cell_type": "markdown",
      "source": [
        "Let's explore the newly added pelletes"
      ],
      "metadata": {
        "id": "gDtMoNmiNEqF"
      }
    },
    {
      "cell_type": "code",
      "source": [
        "palettes_new_data = pd.read_json(r'/palettes_new.json')\n",
        "palettes_new_data.head()"
      ],
      "metadata": {
        "colab": {
          "base_uri": "https://localhost:8080/",
          "height": 573
        },
        "id": "7NtEeZUgNJmb",
        "outputId": "36ca8ed5-deb6-4f59-9278-410bc2840196"
      },
      "execution_count": 126,
      "outputs": [
        {
          "output_type": "execute_result",
          "data": {
            "text/plain": [
              "        id            title      userName  numViews  numVotes  numComments  \\\n",
              "0  4936181  Winter 2 Spring      TiffsArt        29         0            0   \n",
              "1  4936179     Berry Lights      TiffsArt        25         1            0   \n",
              "2  4936178          Bubbles      TiffsArt        40         1            0   \n",
              "3  4936177   Flower Burst 5  shellybean86        19         0            0   \n",
              "4  4936176   Flower Burst 4  shellybean86        23         0            0   \n",
              "\n",
              "   numHearts  rank          dateCreated  \\\n",
              "0          0     0  2023-12-28 01:46:10   \n",
              "1          0     0  2023-12-28 00:05:55   \n",
              "2          0     0  2023-12-27 23:36:56   \n",
              "3          0     0  2023-12-27 21:01:09   \n",
              "4          0     0  2023-12-27 21:00:00   \n",
              "\n",
              "                                     colors description  \\\n",
              "0  [993A5A, 869B00, 519FA1, 9295A6, D9B3A6]               \n",
              "1  [B95383, 603C4A, 221F32, 0A1409, 2E2423]               \n",
              "2  [D2E9E3, FAFEE5, FDD7B2, ABCBBC, 94B3B5]               \n",
              "3  [C9D243, 7DCD54, 07B15B, 0A9248, 17743D]               \n",
              "4  [BA6022, FF8714, FCC314, F8EE1B, F8F490]               \n",
              "\n",
              "                                                 url  \\\n",
              "0  http://www.colourlovers.com/palette/4936181/Wi...   \n",
              "1  http://www.colourlovers.com/palette/4936179/Be...   \n",
              "2  http://www.colourlovers.com/palette/4936178/Bu...   \n",
              "3  http://www.colourlovers.com/palette/4936177/Fl...   \n",
              "4  http://www.colourlovers.com/palette/4936176/Fl...   \n",
              "\n",
              "                                            imageUrl  \\\n",
              "0  http://www.colourlovers.com/paletteImg/993A5A/...   \n",
              "1  http://www.colourlovers.com/paletteImg/B95383/...   \n",
              "2  http://www.colourlovers.com/paletteImg/D2E9E3/...   \n",
              "3  http://www.colourlovers.com/paletteImg/C9D243/...   \n",
              "4  http://www.colourlovers.com/paletteImg/BA6022/...   \n",
              "\n",
              "                                            badgeUrl  \\\n",
              "0  http://www.colourlovers.com/images/badges/pw/4...   \n",
              "1  http://www.colourlovers.com/images/badges/pw/4...   \n",
              "2  http://www.colourlovers.com/images/badges/pw/4...   \n",
              "3  http://www.colourlovers.com/images/badges/pw/4...   \n",
              "4  http://www.colourlovers.com/images/badges/pw/4...   \n",
              "\n",
              "                                            apiUrl  \n",
              "0  http://www.colourlovers.com/api/palette/4936181  \n",
              "1  http://www.colourlovers.com/api/palette/4936179  \n",
              "2  http://www.colourlovers.com/api/palette/4936178  \n",
              "3  http://www.colourlovers.com/api/palette/4936177  \n",
              "4  http://www.colourlovers.com/api/palette/4936176  "
            ],
            "text/html": [
              "\n",
              "  <div id=\"df-56081a1f-d873-4166-bff6-4a8e7f96bbb3\" class=\"colab-df-container\">\n",
              "    <div>\n",
              "<style scoped>\n",
              "    .dataframe tbody tr th:only-of-type {\n",
              "        vertical-align: middle;\n",
              "    }\n",
              "\n",
              "    .dataframe tbody tr th {\n",
              "        vertical-align: top;\n",
              "    }\n",
              "\n",
              "    .dataframe thead th {\n",
              "        text-align: right;\n",
              "    }\n",
              "</style>\n",
              "<table border=\"1\" class=\"dataframe\">\n",
              "  <thead>\n",
              "    <tr style=\"text-align: right;\">\n",
              "      <th></th>\n",
              "      <th>id</th>\n",
              "      <th>title</th>\n",
              "      <th>userName</th>\n",
              "      <th>numViews</th>\n",
              "      <th>numVotes</th>\n",
              "      <th>numComments</th>\n",
              "      <th>numHearts</th>\n",
              "      <th>rank</th>\n",
              "      <th>dateCreated</th>\n",
              "      <th>colors</th>\n",
              "      <th>description</th>\n",
              "      <th>url</th>\n",
              "      <th>imageUrl</th>\n",
              "      <th>badgeUrl</th>\n",
              "      <th>apiUrl</th>\n",
              "    </tr>\n",
              "  </thead>\n",
              "  <tbody>\n",
              "    <tr>\n",
              "      <th>0</th>\n",
              "      <td>4936181</td>\n",
              "      <td>Winter 2 Spring</td>\n",
              "      <td>TiffsArt</td>\n",
              "      <td>29</td>\n",
              "      <td>0</td>\n",
              "      <td>0</td>\n",
              "      <td>0</td>\n",
              "      <td>0</td>\n",
              "      <td>2023-12-28 01:46:10</td>\n",
              "      <td>[993A5A, 869B00, 519FA1, 9295A6, D9B3A6]</td>\n",
              "      <td></td>\n",
              "      <td>http://www.colourlovers.com/palette/4936181/Wi...</td>\n",
              "      <td>http://www.colourlovers.com/paletteImg/993A5A/...</td>\n",
              "      <td>http://www.colourlovers.com/images/badges/pw/4...</td>\n",
              "      <td>http://www.colourlovers.com/api/palette/4936181</td>\n",
              "    </tr>\n",
              "    <tr>\n",
              "      <th>1</th>\n",
              "      <td>4936179</td>\n",
              "      <td>Berry Lights</td>\n",
              "      <td>TiffsArt</td>\n",
              "      <td>25</td>\n",
              "      <td>1</td>\n",
              "      <td>0</td>\n",
              "      <td>0</td>\n",
              "      <td>0</td>\n",
              "      <td>2023-12-28 00:05:55</td>\n",
              "      <td>[B95383, 603C4A, 221F32, 0A1409, 2E2423]</td>\n",
              "      <td></td>\n",
              "      <td>http://www.colourlovers.com/palette/4936179/Be...</td>\n",
              "      <td>http://www.colourlovers.com/paletteImg/B95383/...</td>\n",
              "      <td>http://www.colourlovers.com/images/badges/pw/4...</td>\n",
              "      <td>http://www.colourlovers.com/api/palette/4936179</td>\n",
              "    </tr>\n",
              "    <tr>\n",
              "      <th>2</th>\n",
              "      <td>4936178</td>\n",
              "      <td>Bubbles</td>\n",
              "      <td>TiffsArt</td>\n",
              "      <td>40</td>\n",
              "      <td>1</td>\n",
              "      <td>0</td>\n",
              "      <td>0</td>\n",
              "      <td>0</td>\n",
              "      <td>2023-12-27 23:36:56</td>\n",
              "      <td>[D2E9E3, FAFEE5, FDD7B2, ABCBBC, 94B3B5]</td>\n",
              "      <td></td>\n",
              "      <td>http://www.colourlovers.com/palette/4936178/Bu...</td>\n",
              "      <td>http://www.colourlovers.com/paletteImg/D2E9E3/...</td>\n",
              "      <td>http://www.colourlovers.com/images/badges/pw/4...</td>\n",
              "      <td>http://www.colourlovers.com/api/palette/4936178</td>\n",
              "    </tr>\n",
              "    <tr>\n",
              "      <th>3</th>\n",
              "      <td>4936177</td>\n",
              "      <td>Flower Burst 5</td>\n",
              "      <td>shellybean86</td>\n",
              "      <td>19</td>\n",
              "      <td>0</td>\n",
              "      <td>0</td>\n",
              "      <td>0</td>\n",
              "      <td>0</td>\n",
              "      <td>2023-12-27 21:01:09</td>\n",
              "      <td>[C9D243, 7DCD54, 07B15B, 0A9248, 17743D]</td>\n",
              "      <td></td>\n",
              "      <td>http://www.colourlovers.com/palette/4936177/Fl...</td>\n",
              "      <td>http://www.colourlovers.com/paletteImg/C9D243/...</td>\n",
              "      <td>http://www.colourlovers.com/images/badges/pw/4...</td>\n",
              "      <td>http://www.colourlovers.com/api/palette/4936177</td>\n",
              "    </tr>\n",
              "    <tr>\n",
              "      <th>4</th>\n",
              "      <td>4936176</td>\n",
              "      <td>Flower Burst 4</td>\n",
              "      <td>shellybean86</td>\n",
              "      <td>23</td>\n",
              "      <td>0</td>\n",
              "      <td>0</td>\n",
              "      <td>0</td>\n",
              "      <td>0</td>\n",
              "      <td>2023-12-27 21:00:00</td>\n",
              "      <td>[BA6022, FF8714, FCC314, F8EE1B, F8F490]</td>\n",
              "      <td></td>\n",
              "      <td>http://www.colourlovers.com/palette/4936176/Fl...</td>\n",
              "      <td>http://www.colourlovers.com/paletteImg/BA6022/...</td>\n",
              "      <td>http://www.colourlovers.com/images/badges/pw/4...</td>\n",
              "      <td>http://www.colourlovers.com/api/palette/4936176</td>\n",
              "    </tr>\n",
              "  </tbody>\n",
              "</table>\n",
              "</div>\n",
              "    <div class=\"colab-df-buttons\">\n",
              "\n",
              "  <div class=\"colab-df-container\">\n",
              "    <button class=\"colab-df-convert\" onclick=\"convertToInteractive('df-56081a1f-d873-4166-bff6-4a8e7f96bbb3')\"\n",
              "            title=\"Convert this dataframe to an interactive table.\"\n",
              "            style=\"display:none;\">\n",
              "\n",
              "  <svg xmlns=\"http://www.w3.org/2000/svg\" height=\"24px\" viewBox=\"0 -960 960 960\">\n",
              "    <path d=\"M120-120v-720h720v720H120Zm60-500h600v-160H180v160Zm220 220h160v-160H400v160Zm0 220h160v-160H400v160ZM180-400h160v-160H180v160Zm440 0h160v-160H620v160ZM180-180h160v-160H180v160Zm440 0h160v-160H620v160Z\"/>\n",
              "  </svg>\n",
              "    </button>\n",
              "\n",
              "  <style>\n",
              "    .colab-df-container {\n",
              "      display:flex;\n",
              "      gap: 12px;\n",
              "    }\n",
              "\n",
              "    .colab-df-convert {\n",
              "      background-color: #E8F0FE;\n",
              "      border: none;\n",
              "      border-radius: 50%;\n",
              "      cursor: pointer;\n",
              "      display: none;\n",
              "      fill: #1967D2;\n",
              "      height: 32px;\n",
              "      padding: 0 0 0 0;\n",
              "      width: 32px;\n",
              "    }\n",
              "\n",
              "    .colab-df-convert:hover {\n",
              "      background-color: #E2EBFA;\n",
              "      box-shadow: 0px 1px 2px rgba(60, 64, 67, 0.3), 0px 1px 3px 1px rgba(60, 64, 67, 0.15);\n",
              "      fill: #174EA6;\n",
              "    }\n",
              "\n",
              "    .colab-df-buttons div {\n",
              "      margin-bottom: 4px;\n",
              "    }\n",
              "\n",
              "    [theme=dark] .colab-df-convert {\n",
              "      background-color: #3B4455;\n",
              "      fill: #D2E3FC;\n",
              "    }\n",
              "\n",
              "    [theme=dark] .colab-df-convert:hover {\n",
              "      background-color: #434B5C;\n",
              "      box-shadow: 0px 1px 3px 1px rgba(0, 0, 0, 0.15);\n",
              "      filter: drop-shadow(0px 1px 2px rgba(0, 0, 0, 0.3));\n",
              "      fill: #FFFFFF;\n",
              "    }\n",
              "  </style>\n",
              "\n",
              "    <script>\n",
              "      const buttonEl =\n",
              "        document.querySelector('#df-56081a1f-d873-4166-bff6-4a8e7f96bbb3 button.colab-df-convert');\n",
              "      buttonEl.style.display =\n",
              "        google.colab.kernel.accessAllowed ? 'block' : 'none';\n",
              "\n",
              "      async function convertToInteractive(key) {\n",
              "        const element = document.querySelector('#df-56081a1f-d873-4166-bff6-4a8e7f96bbb3');\n",
              "        const dataTable =\n",
              "          await google.colab.kernel.invokeFunction('convertToInteractive',\n",
              "                                                    [key], {});\n",
              "        if (!dataTable) return;\n",
              "\n",
              "        const docLinkHtml = 'Like what you see? Visit the ' +\n",
              "          '<a target=\"_blank\" href=https://colab.research.google.com/notebooks/data_table.ipynb>data table notebook</a>'\n",
              "          + ' to learn more about interactive tables.';\n",
              "        element.innerHTML = '';\n",
              "        dataTable['output_type'] = 'display_data';\n",
              "        await google.colab.output.renderOutput(dataTable, element);\n",
              "        const docLink = document.createElement('div');\n",
              "        docLink.innerHTML = docLinkHtml;\n",
              "        element.appendChild(docLink);\n",
              "      }\n",
              "    </script>\n",
              "  </div>\n",
              "\n",
              "\n",
              "<div id=\"df-76b0be89-6b50-441f-ab9a-ade74bf9b843\">\n",
              "  <button class=\"colab-df-quickchart\" onclick=\"quickchart('df-76b0be89-6b50-441f-ab9a-ade74bf9b843')\"\n",
              "            title=\"Suggest charts\"\n",
              "            style=\"display:none;\">\n",
              "\n",
              "<svg xmlns=\"http://www.w3.org/2000/svg\" height=\"24px\"viewBox=\"0 0 24 24\"\n",
              "     width=\"24px\">\n",
              "    <g>\n",
              "        <path d=\"M19 3H5c-1.1 0-2 .9-2 2v14c0 1.1.9 2 2 2h14c1.1 0 2-.9 2-2V5c0-1.1-.9-2-2-2zM9 17H7v-7h2v7zm4 0h-2V7h2v10zm4 0h-2v-4h2v4z\"/>\n",
              "    </g>\n",
              "</svg>\n",
              "  </button>\n",
              "\n",
              "<style>\n",
              "  .colab-df-quickchart {\n",
              "      --bg-color: #E8F0FE;\n",
              "      --fill-color: #1967D2;\n",
              "      --hover-bg-color: #E2EBFA;\n",
              "      --hover-fill-color: #174EA6;\n",
              "      --disabled-fill-color: #AAA;\n",
              "      --disabled-bg-color: #DDD;\n",
              "  }\n",
              "\n",
              "  [theme=dark] .colab-df-quickchart {\n",
              "      --bg-color: #3B4455;\n",
              "      --fill-color: #D2E3FC;\n",
              "      --hover-bg-color: #434B5C;\n",
              "      --hover-fill-color: #FFFFFF;\n",
              "      --disabled-bg-color: #3B4455;\n",
              "      --disabled-fill-color: #666;\n",
              "  }\n",
              "\n",
              "  .colab-df-quickchart {\n",
              "    background-color: var(--bg-color);\n",
              "    border: none;\n",
              "    border-radius: 50%;\n",
              "    cursor: pointer;\n",
              "    display: none;\n",
              "    fill: var(--fill-color);\n",
              "    height: 32px;\n",
              "    padding: 0;\n",
              "    width: 32px;\n",
              "  }\n",
              "\n",
              "  .colab-df-quickchart:hover {\n",
              "    background-color: var(--hover-bg-color);\n",
              "    box-shadow: 0 1px 2px rgba(60, 64, 67, 0.3), 0 1px 3px 1px rgba(60, 64, 67, 0.15);\n",
              "    fill: var(--button-hover-fill-color);\n",
              "  }\n",
              "\n",
              "  .colab-df-quickchart-complete:disabled,\n",
              "  .colab-df-quickchart-complete:disabled:hover {\n",
              "    background-color: var(--disabled-bg-color);\n",
              "    fill: var(--disabled-fill-color);\n",
              "    box-shadow: none;\n",
              "  }\n",
              "\n",
              "  .colab-df-spinner {\n",
              "    border: 2px solid var(--fill-color);\n",
              "    border-color: transparent;\n",
              "    border-bottom-color: var(--fill-color);\n",
              "    animation:\n",
              "      spin 1s steps(1) infinite;\n",
              "  }\n",
              "\n",
              "  @keyframes spin {\n",
              "    0% {\n",
              "      border-color: transparent;\n",
              "      border-bottom-color: var(--fill-color);\n",
              "      border-left-color: var(--fill-color);\n",
              "    }\n",
              "    20% {\n",
              "      border-color: transparent;\n",
              "      border-left-color: var(--fill-color);\n",
              "      border-top-color: var(--fill-color);\n",
              "    }\n",
              "    30% {\n",
              "      border-color: transparent;\n",
              "      border-left-color: var(--fill-color);\n",
              "      border-top-color: var(--fill-color);\n",
              "      border-right-color: var(--fill-color);\n",
              "    }\n",
              "    40% {\n",
              "      border-color: transparent;\n",
              "      border-right-color: var(--fill-color);\n",
              "      border-top-color: var(--fill-color);\n",
              "    }\n",
              "    60% {\n",
              "      border-color: transparent;\n",
              "      border-right-color: var(--fill-color);\n",
              "    }\n",
              "    80% {\n",
              "      border-color: transparent;\n",
              "      border-right-color: var(--fill-color);\n",
              "      border-bottom-color: var(--fill-color);\n",
              "    }\n",
              "    90% {\n",
              "      border-color: transparent;\n",
              "      border-bottom-color: var(--fill-color);\n",
              "    }\n",
              "  }\n",
              "</style>\n",
              "\n",
              "  <script>\n",
              "    async function quickchart(key) {\n",
              "      const quickchartButtonEl =\n",
              "        document.querySelector('#' + key + ' button');\n",
              "      quickchartButtonEl.disabled = true;  // To prevent multiple clicks.\n",
              "      quickchartButtonEl.classList.add('colab-df-spinner');\n",
              "      try {\n",
              "        const charts = await google.colab.kernel.invokeFunction(\n",
              "            'suggestCharts', [key], {});\n",
              "      } catch (error) {\n",
              "        console.error('Error during call to suggestCharts:', error);\n",
              "      }\n",
              "      quickchartButtonEl.classList.remove('colab-df-spinner');\n",
              "      quickchartButtonEl.classList.add('colab-df-quickchart-complete');\n",
              "    }\n",
              "    (() => {\n",
              "      let quickchartButtonEl =\n",
              "        document.querySelector('#df-76b0be89-6b50-441f-ab9a-ade74bf9b843 button');\n",
              "      quickchartButtonEl.style.display =\n",
              "        google.colab.kernel.accessAllowed ? 'block' : 'none';\n",
              "    })();\n",
              "  </script>\n",
              "</div>\n",
              "\n",
              "    </div>\n",
              "  </div>\n"
            ]
          },
          "metadata": {},
          "execution_count": 126
        }
      ]
    },
    {
      "cell_type": "markdown",
      "source": [
        "We can see that each palette contains 5 colors."
      ],
      "metadata": {
        "id": "JWMxZOmvNUWy"
      }
    },
    {
      "cell_type": "code",
      "source": [
        "palettes_new_data.info()"
      ],
      "metadata": {
        "colab": {
          "base_uri": "https://localhost:8080/"
        },
        "id": "9wX5dhCGNmmN",
        "outputId": "c72525eb-36f6-4476-ec5c-0e5eb52fdbc9"
      },
      "execution_count": 127,
      "outputs": [
        {
          "output_type": "stream",
          "name": "stdout",
          "text": [
            "<class 'pandas.core.frame.DataFrame'>\n",
            "RangeIndex: 2899 entries, 0 to 2898\n",
            "Data columns (total 15 columns):\n",
            " #   Column       Non-Null Count  Dtype \n",
            "---  ------       --------------  ----- \n",
            " 0   id           2899 non-null   int64 \n",
            " 1   title        2899 non-null   object\n",
            " 2   userName     2899 non-null   object\n",
            " 3   numViews     2899 non-null   int64 \n",
            " 4   numVotes     2899 non-null   int64 \n",
            " 5   numComments  2899 non-null   int64 \n",
            " 6   numHearts    2899 non-null   int64 \n",
            " 7   rank         2899 non-null   int64 \n",
            " 8   dateCreated  2899 non-null   object\n",
            " 9   colors       2899 non-null   object\n",
            " 10  description  2899 non-null   object\n",
            " 11  url          2899 non-null   object\n",
            " 12  imageUrl     2899 non-null   object\n",
            " 13  badgeUrl     2899 non-null   object\n",
            " 14  apiUrl       2899 non-null   object\n",
            "dtypes: int64(6), object(9)\n",
            "memory usage: 339.9+ KB\n"
          ]
        }
      ]
    },
    {
      "cell_type": "markdown",
      "source": [
        "There are 2899 palettes, no missing information."
      ],
      "metadata": {
        "id": "YUtvRuniNqoV"
      }
    },
    {
      "cell_type": "code",
      "source": [
        "palettes_new_data.dtypes"
      ],
      "metadata": {
        "colab": {
          "base_uri": "https://localhost:8080/"
        },
        "id": "StM7R2skN3qc",
        "outputId": "0ba33af1-8c79-4270-9866-b284a77ffb20"
      },
      "execution_count": 128,
      "outputs": [
        {
          "output_type": "execute_result",
          "data": {
            "text/plain": [
              "id              int64\n",
              "title          object\n",
              "userName       object\n",
              "numViews        int64\n",
              "numVotes        int64\n",
              "numComments     int64\n",
              "numHearts       int64\n",
              "rank            int64\n",
              "dateCreated    object\n",
              "colors         object\n",
              "description    object\n",
              "url            object\n",
              "imageUrl       object\n",
              "badgeUrl       object\n",
              "apiUrl         object\n",
              "dtype: object"
            ]
          },
          "metadata": {},
          "execution_count": 128
        }
      ]
    },
    {
      "cell_type": "markdown",
      "source": [
        "Converting dateCreated to date type."
      ],
      "metadata": {
        "id": "cl1PxP_hOC6w"
      }
    },
    {
      "cell_type": "code",
      "source": [
        "palettes_new_data['dateCreated'] = pd.to_datetime(palettes_new_data['dateCreated'], errors='coerce')\n",
        "palettes_new_data['dateCreated'] = palettes_new_data['dateCreated'].dt.strftime('%Y-%m-%d')"
      ],
      "metadata": {
        "id": "Dj1wgVsMODev"
      },
      "execution_count": 129,
      "outputs": []
    },
    {
      "cell_type": "code",
      "source": [
        "palettes_new_data['dateCreated'] = pd.to_datetime(palettes_new_data['dateCreated'], errors='coerce')\n",
        "\n",
        "# Check for rows where conversion failed\n",
        "failed_conversion = palettes_new_data['dateCreated'][palettes_new_data['dateCreated'].isnull()]\n",
        "failed_conversion"
      ],
      "metadata": {
        "colab": {
          "base_uri": "https://localhost:8080/"
        },
        "id": "B4-JaTd4OPWj",
        "outputId": "b2c333b0-60ef-45e3-ca63-6cd22a0f99de"
      },
      "execution_count": 130,
      "outputs": [
        {
          "output_type": "execute_result",
          "data": {
            "text/plain": [
              "Series([], Name: dateCreated, dtype: datetime64[ns])"
            ]
          },
          "metadata": {},
          "execution_count": 130
        }
      ]
    },
    {
      "cell_type": "code",
      "source": [
        "palettes_new_data.dtypes # Check"
      ],
      "metadata": {
        "colab": {
          "base_uri": "https://localhost:8080/"
        },
        "id": "CfL4whtsOVGl",
        "outputId": "fac53147-428f-4b4f-c192-f11cc30f1192"
      },
      "execution_count": 131,
      "outputs": [
        {
          "output_type": "execute_result",
          "data": {
            "text/plain": [
              "id                      int64\n",
              "title                  object\n",
              "userName               object\n",
              "numViews                int64\n",
              "numVotes                int64\n",
              "numComments             int64\n",
              "numHearts               int64\n",
              "rank                    int64\n",
              "dateCreated    datetime64[ns]\n",
              "colors                 object\n",
              "description            object\n",
              "url                    object\n",
              "imageUrl               object\n",
              "badgeUrl               object\n",
              "apiUrl                 object\n",
              "dtype: object"
            ]
          },
          "metadata": {},
          "execution_count": 131
        }
      ]
    },
    {
      "cell_type": "markdown",
      "source": [
        "Data cleaning"
      ],
      "metadata": {
        "id": "QLL-LE9jlL6T"
      }
    },
    {
      "cell_type": "code",
      "source": [
        "palettes_new_data.isnull().sum() #missing data check"
      ],
      "metadata": {
        "colab": {
          "base_uri": "https://localhost:8080/"
        },
        "id": "Q28YN0kLlBzy",
        "outputId": "9db23cdf-6469-4651-96ee-d4eda176e3a6"
      },
      "execution_count": 132,
      "outputs": [
        {
          "output_type": "execute_result",
          "data": {
            "text/plain": [
              "id             0\n",
              "title          0\n",
              "userName       0\n",
              "numViews       0\n",
              "numVotes       0\n",
              "numComments    0\n",
              "numHearts      0\n",
              "rank           0\n",
              "dateCreated    0\n",
              "colors         0\n",
              "description    0\n",
              "url            0\n",
              "imageUrl       0\n",
              "badgeUrl       0\n",
              "apiUrl         0\n",
              "dtype: int64"
            ]
          },
          "metadata": {},
          "execution_count": 132
        }
      ]
    },
    {
      "cell_type": "code",
      "source": [
        "palettes_new_data.drop_duplicates(subset=['userName'], keep='first', inplace=True) #drop duplicates"
      ],
      "metadata": {
        "id": "kClKyzwWjxFT"
      },
      "execution_count": 133,
      "outputs": []
    },
    {
      "cell_type": "code",
      "source": [
        "palettes_new_data['dateCreated'].unique"
      ],
      "metadata": {
        "colab": {
          "base_uri": "https://localhost:8080/"
        },
        "id": "-7-rOh9iPoVl",
        "outputId": "4ec3e198-3c4e-4bda-d589-ab29d5961707"
      },
      "execution_count": 134,
      "outputs": [
        {
          "output_type": "execute_result",
          "data": {
            "text/plain": [
              "<bound method Series.unique of 0     2023-12-28\n",
              "3     2023-12-27\n",
              "21    2023-12-27\n",
              "66    2023-12-27\n",
              "67    2023-12-27\n",
              "         ...    \n",
              "985   2023-12-03\n",
              "993   2023-12-03\n",
              "994   2023-12-03\n",
              "997   2023-12-02\n",
              "998   2023-12-02\n",
              "Name: dateCreated, Length: 166, dtype: datetime64[ns]>"
            ]
          },
          "metadata": {},
          "execution_count": 134
        }
      ]
    },
    {
      "cell_type": "markdown",
      "source": [
        "All the palletes were created in December 2023."
      ],
      "metadata": {
        "id": "LNFQ41UpQCKj"
      }
    },
    {
      "cell_type": "markdown",
      "source": [
        "Let's explote 20 trand pallets that were added in December 2023."
      ],
      "metadata": {
        "id": "N3-ItB_qQwoV"
      }
    },
    {
      "cell_type": "code",
      "source": [
        "from IPython.display import Image, display\n",
        "\n",
        "top_20_palettes = palettes_new_data.nlargest(20, 'rank')\n",
        "\n",
        "for index, row in top_20_palettes.iterrows():\n",
        "    display(Image(url=row['badgeUrl']))\n"
      ],
      "metadata": {
        "colab": {
          "base_uri": "https://localhost:8080/",
          "height": 1000
        },
        "id": "tis4afDKQKxd",
        "outputId": "38e41afd-c2fb-4718-b79f-5b4a5e69c9ab"
      },
      "execution_count": 135,
      "outputs": [
        {
          "output_type": "display_data",
          "data": {
            "text/html": [
              "<img src=\"http://www.colourlovers.com/images/badges/pw/4936/4936181_Winter_2_Spring.png\"/>"
            ],
            "text/plain": [
              "<IPython.core.display.Image object>"
            ]
          },
          "metadata": {}
        },
        {
          "output_type": "display_data",
          "data": {
            "text/html": [
              "<img src=\"http://www.colourlovers.com/images/badges/pw/4936/4936177_Flower_Burst_5.png\"/>"
            ],
            "text/plain": [
              "<IPython.core.display.Image object>"
            ]
          },
          "metadata": {}
        },
        {
          "output_type": "display_data",
          "data": {
            "text/html": [
              "<img src=\"http://www.colourlovers.com/images/badges/pw/4936/4936159_KittyWithGreenEyes.png\"/>"
            ],
            "text/plain": [
              "<IPython.core.display.Image object>"
            ]
          },
          "metadata": {}
        },
        {
          "output_type": "display_data",
          "data": {
            "text/html": [
              "<img src=\"http://www.colourlovers.com/images/badges/p/4936/4936113_Meleg_barna.png\"/>"
            ],
            "text/plain": [
              "<IPython.core.display.Image object>"
            ]
          },
          "metadata": {}
        },
        {
          "output_type": "display_data",
          "data": {
            "text/html": [
              "<img src=\"http://www.colourlovers.com/images/badges/p/4936/4936112_Bittersweet.png\"/>"
            ],
            "text/plain": [
              "<IPython.core.display.Image object>"
            ]
          },
          "metadata": {}
        },
        {
          "output_type": "display_data",
          "data": {
            "text/html": [
              "<img src=\"http://www.colourlovers.com/images/badges/p/4936/4936111_relax_waves.png\"/>"
            ],
            "text/plain": [
              "<IPython.core.display.Image object>"
            ]
          },
          "metadata": {}
        },
        {
          "output_type": "display_data",
          "data": {
            "text/html": [
              "<img src=\"http://www.colourlovers.com/images/badges/p/4936/4936105_Pulsing_Music.png\"/>"
            ],
            "text/plain": [
              "<IPython.core.display.Image object>"
            ]
          },
          "metadata": {}
        },
        {
          "output_type": "display_data",
          "data": {
            "text/html": [
              "<img src=\"http://www.colourlovers.com/images/badges/p/4936/4936104_Mar_i_Cel.png\"/>"
            ],
            "text/plain": [
              "<IPython.core.display.Image object>"
            ]
          },
          "metadata": {}
        },
        {
          "output_type": "display_data",
          "data": {
            "text/html": [
              "<img src=\"http://www.colourlovers.com/images/badges/pw/4936/4936094_Crafty_winter.png\"/>"
            ],
            "text/plain": [
              "<IPython.core.display.Image object>"
            ]
          },
          "metadata": {}
        },
        {
          "output_type": "display_data",
          "data": {
            "text/html": [
              "<img src=\"http://www.colourlovers.com/images/badges/pw/4936/4936092_one_day_hell_know.png\"/>"
            ],
            "text/plain": [
              "<IPython.core.display.Image object>"
            ]
          },
          "metadata": {}
        },
        {
          "output_type": "display_data",
          "data": {
            "text/html": [
              "<img src=\"http://www.colourlovers.com/images/badges/pw/4936/4936083_solo_hazlo_solo.png\"/>"
            ],
            "text/plain": [
              "<IPython.core.display.Image object>"
            ]
          },
          "metadata": {}
        },
        {
          "output_type": "display_data",
          "data": {
            "text/html": [
              "<img src=\"http://www.colourlovers.com/images/badges/p/4936/4936081_SeasonalBlues.png\"/>"
            ],
            "text/plain": [
              "<IPython.core.display.Image object>"
            ]
          },
          "metadata": {}
        },
        {
          "output_type": "display_data",
          "data": {
            "text/html": [
              "<img src=\"http://www.colourlovers.com/images/badges/pw/4936/4936076_cats_circle.png\"/>"
            ],
            "text/plain": [
              "<IPython.core.display.Image object>"
            ]
          },
          "metadata": {}
        },
        {
          "output_type": "display_data",
          "data": {
            "text/html": [
              "<img src=\"http://www.colourlovers.com/images/badges/pw/4936/4936075_Summer_Bri.png\"/>"
            ],
            "text/plain": [
              "<IPython.core.display.Image object>"
            ]
          },
          "metadata": {}
        },
        {
          "output_type": "display_data",
          "data": {
            "text/html": [
              "<img src=\"http://www.colourlovers.com/images/badges/p/4936/4936070_Petshop.png\"/>"
            ],
            "text/plain": [
              "<IPython.core.display.Image object>"
            ]
          },
          "metadata": {}
        },
        {
          "output_type": "display_data",
          "data": {
            "text/html": [
              "<img src=\"http://www.colourlovers.com/images/badges/p/4936/4936068_Anatel_ag.png\"/>"
            ],
            "text/plain": [
              "<IPython.core.display.Image object>"
            ]
          },
          "metadata": {}
        },
        {
          "output_type": "display_data",
          "data": {
            "text/html": [
              "<img src=\"http://www.colourlovers.com/images/badges/pw/4936/4936067_OK_Orange.png\"/>"
            ],
            "text/plain": [
              "<IPython.core.display.Image object>"
            ]
          },
          "metadata": {}
        },
        {
          "output_type": "display_data",
          "data": {
            "text/html": [
              "<img src=\"http://www.colourlovers.com/images/badges/p/4936/4936065_Maritronics.png\"/>"
            ],
            "text/plain": [
              "<IPython.core.display.Image object>"
            ]
          },
          "metadata": {}
        },
        {
          "output_type": "display_data",
          "data": {
            "text/html": [
              "<img src=\"http://www.colourlovers.com/images/badges/p/4936/4936058_aire_de_jeu.png\"/>"
            ],
            "text/plain": [
              "<IPython.core.display.Image object>"
            ]
          },
          "metadata": {}
        },
        {
          "output_type": "display_data",
          "data": {
            "text/html": [
              "<img src=\"http://www.colourlovers.com/images/badges/p/4936/4936055_rust.png\"/>"
            ],
            "text/plain": [
              "<IPython.core.display.Image object>"
            ]
          },
          "metadata": {}
        }
      ]
    },
    {
      "cell_type": "markdown",
      "source": [
        "Let's examine the ten most commonly used colors across all newly added palettes (in December 2023)and visualize the graph using the colors from the chosen above palette."
      ],
      "metadata": {
        "id": "yCxwkWWcJVFu"
      }
    },
    {
      "cell_type": "code",
      "source": [
        "colors_data = palettes_new_data['colors'].explode().str.strip()\n",
        "\n",
        "# Counting the occurrence of each color\n",
        "color_counts = colors_data.value_counts()\n",
        "top_colors = color_counts.head(10).index.tolist()\n",
        "\n",
        "# Displaying the top 10 most commonly used colors\n",
        "print(\"Top 10 Most Common Colors Across All Palettes:\")\n",
        "print(top_colors)"
      ],
      "metadata": {
        "colab": {
          "base_uri": "https://localhost:8080/"
        },
        "id": "c4aR1U15os-N",
        "outputId": "040e6acd-f901-48c9-a4e1-fc56bf10ccfa"
      },
      "execution_count": 137,
      "outputs": [
        {
          "output_type": "stream",
          "name": "stdout",
          "text": [
            "Top 10 Most Common Colors Across All Palettes:\n",
            "['000000', 'FFFFFF', '993A5A', '673C00', '26AF6C', '395346', '3CB178', '011109', '42A374', 'FFE9C6']\n"
          ]
        }
      ]
    },
    {
      "cell_type": "code",
      "source": [
        "import plotly.express as px\n",
        "\n",
        "# Custom colors list with top 10 colors across all palettes\n",
        "custom_colors = ['000000', 'FFFFFF', '993A5A', '673C00', '26AF6C', '395346', '3CB178', '011109', '42A374', 'FFE9C6']\n",
        "\n",
        "\n",
        "colors_data = palettes_new_data['colors'].explode().str.strip()\n",
        "color_counts = colors_data.value_counts()\n",
        "top_colors = color_counts.head(10)\n",
        "top_colors_df = pd.DataFrame({'Color': top_colors.index, 'Frequency': top_colors.values})\n",
        "\n",
        "# Create a bar plot custom colors\n",
        "fig = px.bar(top_colors_df, x='Color', y='Frequency', color='Color',\n",
        "             color_discrete_map={color: f\"#{color}\" for color in custom_colors})\n",
        "\n",
        "fig.update_layout(title='Top 10 Colors in Newly Added Palettes', xaxis_title='Color Codes', yaxis_title='Frequency')\n",
        "fig.update_xaxes(tickangle=45)\n",
        "fig.show()"
      ],
      "metadata": {
        "colab": {
          "base_uri": "https://localhost:8080/",
          "height": 542
        },
        "id": "iH7glCQivfCY",
        "outputId": "bf44d287-2e6d-4c28-e737-3cf337805524"
      },
      "execution_count": 138,
      "outputs": [
        {
          "output_type": "display_data",
          "data": {
            "text/html": [
              "<html>\n",
              "<head><meta charset=\"utf-8\" /></head>\n",
              "<body>\n",
              "    <div>            <script src=\"https://cdnjs.cloudflare.com/ajax/libs/mathjax/2.7.5/MathJax.js?config=TeX-AMS-MML_SVG\"></script><script type=\"text/javascript\">if (window.MathJax && window.MathJax.Hub && window.MathJax.Hub.Config) {window.MathJax.Hub.Config({SVG: {font: \"STIX-Web\"}});}</script>                <script type=\"text/javascript\">window.PlotlyConfig = {MathJaxConfig: 'local'};</script>\n",
              "        <script charset=\"utf-8\" src=\"https://cdn.plot.ly/plotly-2.24.1.min.js\"></script>                <div id=\"c22f2539-0af2-4724-a058-2cb0a01489c6\" class=\"plotly-graph-div\" style=\"height:525px; width:100%;\"></div>            <script type=\"text/javascript\">                                    window.PLOTLYENV=window.PLOTLYENV || {};                                    if (document.getElementById(\"c22f2539-0af2-4724-a058-2cb0a01489c6\")) {                    Plotly.newPlot(                        \"c22f2539-0af2-4724-a058-2cb0a01489c6\",                        [{\"alignmentgroup\":\"True\",\"hovertemplate\":\"Color=%{x}\\u003cbr\\u003eFrequency=%{y}\\u003cextra\\u003e\\u003c\\u002fextra\\u003e\",\"legendgroup\":\"000000\",\"marker\":{\"color\":\"#000000\",\"pattern\":{\"shape\":\"\"}},\"name\":\"000000\",\"offsetgroup\":\"000000\",\"orientation\":\"v\",\"showlegend\":true,\"textposition\":\"auto\",\"x\":[\"000000\"],\"xaxis\":\"x\",\"y\":[17],\"yaxis\":\"y\",\"type\":\"bar\"},{\"alignmentgroup\":\"True\",\"hovertemplate\":\"Color=%{x}\\u003cbr\\u003eFrequency=%{y}\\u003cextra\\u003e\\u003c\\u002fextra\\u003e\",\"legendgroup\":\"FFFFFF\",\"marker\":{\"color\":\"#FFFFFF\",\"pattern\":{\"shape\":\"\"}},\"name\":\"FFFFFF\",\"offsetgroup\":\"FFFFFF\",\"orientation\":\"v\",\"showlegend\":true,\"textposition\":\"auto\",\"x\":[\"FFFFFF\"],\"xaxis\":\"x\",\"y\":[13],\"yaxis\":\"y\",\"type\":\"bar\"},{\"alignmentgroup\":\"True\",\"hovertemplate\":\"Color=%{x}\\u003cbr\\u003eFrequency=%{y}\\u003cextra\\u003e\\u003c\\u002fextra\\u003e\",\"legendgroup\":\"993A5A\",\"marker\":{\"color\":\"#993A5A\",\"pattern\":{\"shape\":\"\"}},\"name\":\"993A5A\",\"offsetgroup\":\"993A5A\",\"orientation\":\"v\",\"showlegend\":true,\"textposition\":\"auto\",\"x\":[\"993A5A\"],\"xaxis\":\"x\",\"y\":[1],\"yaxis\":\"y\",\"type\":\"bar\"},{\"alignmentgroup\":\"True\",\"hovertemplate\":\"Color=%{x}\\u003cbr\\u003eFrequency=%{y}\\u003cextra\\u003e\\u003c\\u002fextra\\u003e\",\"legendgroup\":\"673C00\",\"marker\":{\"color\":\"#673C00\",\"pattern\":{\"shape\":\"\"}},\"name\":\"673C00\",\"offsetgroup\":\"673C00\",\"orientation\":\"v\",\"showlegend\":true,\"textposition\":\"auto\",\"x\":[\"673C00\"],\"xaxis\":\"x\",\"y\":[1],\"yaxis\":\"y\",\"type\":\"bar\"},{\"alignmentgroup\":\"True\",\"hovertemplate\":\"Color=%{x}\\u003cbr\\u003eFrequency=%{y}\\u003cextra\\u003e\\u003c\\u002fextra\\u003e\",\"legendgroup\":\"26AF6C\",\"marker\":{\"color\":\"#26AF6C\",\"pattern\":{\"shape\":\"\"}},\"name\":\"26AF6C\",\"offsetgroup\":\"26AF6C\",\"orientation\":\"v\",\"showlegend\":true,\"textposition\":\"auto\",\"x\":[\"26AF6C\"],\"xaxis\":\"x\",\"y\":[1],\"yaxis\":\"y\",\"type\":\"bar\"},{\"alignmentgroup\":\"True\",\"hovertemplate\":\"Color=%{x}\\u003cbr\\u003eFrequency=%{y}\\u003cextra\\u003e\\u003c\\u002fextra\\u003e\",\"legendgroup\":\"395346\",\"marker\":{\"color\":\"#395346\",\"pattern\":{\"shape\":\"\"}},\"name\":\"395346\",\"offsetgroup\":\"395346\",\"orientation\":\"v\",\"showlegend\":true,\"textposition\":\"auto\",\"x\":[\"395346\"],\"xaxis\":\"x\",\"y\":[1],\"yaxis\":\"y\",\"type\":\"bar\"},{\"alignmentgroup\":\"True\",\"hovertemplate\":\"Color=%{x}\\u003cbr\\u003eFrequency=%{y}\\u003cextra\\u003e\\u003c\\u002fextra\\u003e\",\"legendgroup\":\"3CB178\",\"marker\":{\"color\":\"#3CB178\",\"pattern\":{\"shape\":\"\"}},\"name\":\"3CB178\",\"offsetgroup\":\"3CB178\",\"orientation\":\"v\",\"showlegend\":true,\"textposition\":\"auto\",\"x\":[\"3CB178\"],\"xaxis\":\"x\",\"y\":[1],\"yaxis\":\"y\",\"type\":\"bar\"},{\"alignmentgroup\":\"True\",\"hovertemplate\":\"Color=%{x}\\u003cbr\\u003eFrequency=%{y}\\u003cextra\\u003e\\u003c\\u002fextra\\u003e\",\"legendgroup\":\"011109\",\"marker\":{\"color\":\"#011109\",\"pattern\":{\"shape\":\"\"}},\"name\":\"011109\",\"offsetgroup\":\"011109\",\"orientation\":\"v\",\"showlegend\":true,\"textposition\":\"auto\",\"x\":[\"011109\"],\"xaxis\":\"x\",\"y\":[1],\"yaxis\":\"y\",\"type\":\"bar\"},{\"alignmentgroup\":\"True\",\"hovertemplate\":\"Color=%{x}\\u003cbr\\u003eFrequency=%{y}\\u003cextra\\u003e\\u003c\\u002fextra\\u003e\",\"legendgroup\":\"42A374\",\"marker\":{\"color\":\"#42A374\",\"pattern\":{\"shape\":\"\"}},\"name\":\"42A374\",\"offsetgroup\":\"42A374\",\"orientation\":\"v\",\"showlegend\":true,\"textposition\":\"auto\",\"x\":[\"42A374\"],\"xaxis\":\"x\",\"y\":[1],\"yaxis\":\"y\",\"type\":\"bar\"},{\"alignmentgroup\":\"True\",\"hovertemplate\":\"Color=%{x}\\u003cbr\\u003eFrequency=%{y}\\u003cextra\\u003e\\u003c\\u002fextra\\u003e\",\"legendgroup\":\"FFE9C6\",\"marker\":{\"color\":\"#FFE9C6\",\"pattern\":{\"shape\":\"\"}},\"name\":\"FFE9C6\",\"offsetgroup\":\"FFE9C6\",\"orientation\":\"v\",\"showlegend\":true,\"textposition\":\"auto\",\"x\":[\"FFE9C6\"],\"xaxis\":\"x\",\"y\":[1],\"yaxis\":\"y\",\"type\":\"bar\"}],                        {\"template\":{\"data\":{\"histogram2dcontour\":[{\"type\":\"histogram2dcontour\",\"colorbar\":{\"outlinewidth\":0,\"ticks\":\"\"},\"colorscale\":[[0.0,\"#0d0887\"],[0.1111111111111111,\"#46039f\"],[0.2222222222222222,\"#7201a8\"],[0.3333333333333333,\"#9c179e\"],[0.4444444444444444,\"#bd3786\"],[0.5555555555555556,\"#d8576b\"],[0.6666666666666666,\"#ed7953\"],[0.7777777777777778,\"#fb9f3a\"],[0.8888888888888888,\"#fdca26\"],[1.0,\"#f0f921\"]]}],\"choropleth\":[{\"type\":\"choropleth\",\"colorbar\":{\"outlinewidth\":0,\"ticks\":\"\"}}],\"histogram2d\":[{\"type\":\"histogram2d\",\"colorbar\":{\"outlinewidth\":0,\"ticks\":\"\"},\"colorscale\":[[0.0,\"#0d0887\"],[0.1111111111111111,\"#46039f\"],[0.2222222222222222,\"#7201a8\"],[0.3333333333333333,\"#9c179e\"],[0.4444444444444444,\"#bd3786\"],[0.5555555555555556,\"#d8576b\"],[0.6666666666666666,\"#ed7953\"],[0.7777777777777778,\"#fb9f3a\"],[0.8888888888888888,\"#fdca26\"],[1.0,\"#f0f921\"]]}],\"heatmap\":[{\"type\":\"heatmap\",\"colorbar\":{\"outlinewidth\":0,\"ticks\":\"\"},\"colorscale\":[[0.0,\"#0d0887\"],[0.1111111111111111,\"#46039f\"],[0.2222222222222222,\"#7201a8\"],[0.3333333333333333,\"#9c179e\"],[0.4444444444444444,\"#bd3786\"],[0.5555555555555556,\"#d8576b\"],[0.6666666666666666,\"#ed7953\"],[0.7777777777777778,\"#fb9f3a\"],[0.8888888888888888,\"#fdca26\"],[1.0,\"#f0f921\"]]}],\"heatmapgl\":[{\"type\":\"heatmapgl\",\"colorbar\":{\"outlinewidth\":0,\"ticks\":\"\"},\"colorscale\":[[0.0,\"#0d0887\"],[0.1111111111111111,\"#46039f\"],[0.2222222222222222,\"#7201a8\"],[0.3333333333333333,\"#9c179e\"],[0.4444444444444444,\"#bd3786\"],[0.5555555555555556,\"#d8576b\"],[0.6666666666666666,\"#ed7953\"],[0.7777777777777778,\"#fb9f3a\"],[0.8888888888888888,\"#fdca26\"],[1.0,\"#f0f921\"]]}],\"contourcarpet\":[{\"type\":\"contourcarpet\",\"colorbar\":{\"outlinewidth\":0,\"ticks\":\"\"}}],\"contour\":[{\"type\":\"contour\",\"colorbar\":{\"outlinewidth\":0,\"ticks\":\"\"},\"colorscale\":[[0.0,\"#0d0887\"],[0.1111111111111111,\"#46039f\"],[0.2222222222222222,\"#7201a8\"],[0.3333333333333333,\"#9c179e\"],[0.4444444444444444,\"#bd3786\"],[0.5555555555555556,\"#d8576b\"],[0.6666666666666666,\"#ed7953\"],[0.7777777777777778,\"#fb9f3a\"],[0.8888888888888888,\"#fdca26\"],[1.0,\"#f0f921\"]]}],\"surface\":[{\"type\":\"surface\",\"colorbar\":{\"outlinewidth\":0,\"ticks\":\"\"},\"colorscale\":[[0.0,\"#0d0887\"],[0.1111111111111111,\"#46039f\"],[0.2222222222222222,\"#7201a8\"],[0.3333333333333333,\"#9c179e\"],[0.4444444444444444,\"#bd3786\"],[0.5555555555555556,\"#d8576b\"],[0.6666666666666666,\"#ed7953\"],[0.7777777777777778,\"#fb9f3a\"],[0.8888888888888888,\"#fdca26\"],[1.0,\"#f0f921\"]]}],\"mesh3d\":[{\"type\":\"mesh3d\",\"colorbar\":{\"outlinewidth\":0,\"ticks\":\"\"}}],\"scatter\":[{\"fillpattern\":{\"fillmode\":\"overlay\",\"size\":10,\"solidity\":0.2},\"type\":\"scatter\"}],\"parcoords\":[{\"type\":\"parcoords\",\"line\":{\"colorbar\":{\"outlinewidth\":0,\"ticks\":\"\"}}}],\"scatterpolargl\":[{\"type\":\"scatterpolargl\",\"marker\":{\"colorbar\":{\"outlinewidth\":0,\"ticks\":\"\"}}}],\"bar\":[{\"error_x\":{\"color\":\"#2a3f5f\"},\"error_y\":{\"color\":\"#2a3f5f\"},\"marker\":{\"line\":{\"color\":\"#E5ECF6\",\"width\":0.5},\"pattern\":{\"fillmode\":\"overlay\",\"size\":10,\"solidity\":0.2}},\"type\":\"bar\"}],\"scattergeo\":[{\"type\":\"scattergeo\",\"marker\":{\"colorbar\":{\"outlinewidth\":0,\"ticks\":\"\"}}}],\"scatterpolar\":[{\"type\":\"scatterpolar\",\"marker\":{\"colorbar\":{\"outlinewidth\":0,\"ticks\":\"\"}}}],\"histogram\":[{\"marker\":{\"pattern\":{\"fillmode\":\"overlay\",\"size\":10,\"solidity\":0.2}},\"type\":\"histogram\"}],\"scattergl\":[{\"type\":\"scattergl\",\"marker\":{\"colorbar\":{\"outlinewidth\":0,\"ticks\":\"\"}}}],\"scatter3d\":[{\"type\":\"scatter3d\",\"line\":{\"colorbar\":{\"outlinewidth\":0,\"ticks\":\"\"}},\"marker\":{\"colorbar\":{\"outlinewidth\":0,\"ticks\":\"\"}}}],\"scattermapbox\":[{\"type\":\"scattermapbox\",\"marker\":{\"colorbar\":{\"outlinewidth\":0,\"ticks\":\"\"}}}],\"scatterternary\":[{\"type\":\"scatterternary\",\"marker\":{\"colorbar\":{\"outlinewidth\":0,\"ticks\":\"\"}}}],\"scattercarpet\":[{\"type\":\"scattercarpet\",\"marker\":{\"colorbar\":{\"outlinewidth\":0,\"ticks\":\"\"}}}],\"carpet\":[{\"aaxis\":{\"endlinecolor\":\"#2a3f5f\",\"gridcolor\":\"white\",\"linecolor\":\"white\",\"minorgridcolor\":\"white\",\"startlinecolor\":\"#2a3f5f\"},\"baxis\":{\"endlinecolor\":\"#2a3f5f\",\"gridcolor\":\"white\",\"linecolor\":\"white\",\"minorgridcolor\":\"white\",\"startlinecolor\":\"#2a3f5f\"},\"type\":\"carpet\"}],\"table\":[{\"cells\":{\"fill\":{\"color\":\"#EBF0F8\"},\"line\":{\"color\":\"white\"}},\"header\":{\"fill\":{\"color\":\"#C8D4E3\"},\"line\":{\"color\":\"white\"}},\"type\":\"table\"}],\"barpolar\":[{\"marker\":{\"line\":{\"color\":\"#E5ECF6\",\"width\":0.5},\"pattern\":{\"fillmode\":\"overlay\",\"size\":10,\"solidity\":0.2}},\"type\":\"barpolar\"}],\"pie\":[{\"automargin\":true,\"type\":\"pie\"}]},\"layout\":{\"autotypenumbers\":\"strict\",\"colorway\":[\"#636efa\",\"#EF553B\",\"#00cc96\",\"#ab63fa\",\"#FFA15A\",\"#19d3f3\",\"#FF6692\",\"#B6E880\",\"#FF97FF\",\"#FECB52\"],\"font\":{\"color\":\"#2a3f5f\"},\"hovermode\":\"closest\",\"hoverlabel\":{\"align\":\"left\"},\"paper_bgcolor\":\"white\",\"plot_bgcolor\":\"#E5ECF6\",\"polar\":{\"bgcolor\":\"#E5ECF6\",\"angularaxis\":{\"gridcolor\":\"white\",\"linecolor\":\"white\",\"ticks\":\"\"},\"radialaxis\":{\"gridcolor\":\"white\",\"linecolor\":\"white\",\"ticks\":\"\"}},\"ternary\":{\"bgcolor\":\"#E5ECF6\",\"aaxis\":{\"gridcolor\":\"white\",\"linecolor\":\"white\",\"ticks\":\"\"},\"baxis\":{\"gridcolor\":\"white\",\"linecolor\":\"white\",\"ticks\":\"\"},\"caxis\":{\"gridcolor\":\"white\",\"linecolor\":\"white\",\"ticks\":\"\"}},\"coloraxis\":{\"colorbar\":{\"outlinewidth\":0,\"ticks\":\"\"}},\"colorscale\":{\"sequential\":[[0.0,\"#0d0887\"],[0.1111111111111111,\"#46039f\"],[0.2222222222222222,\"#7201a8\"],[0.3333333333333333,\"#9c179e\"],[0.4444444444444444,\"#bd3786\"],[0.5555555555555556,\"#d8576b\"],[0.6666666666666666,\"#ed7953\"],[0.7777777777777778,\"#fb9f3a\"],[0.8888888888888888,\"#fdca26\"],[1.0,\"#f0f921\"]],\"sequentialminus\":[[0.0,\"#0d0887\"],[0.1111111111111111,\"#46039f\"],[0.2222222222222222,\"#7201a8\"],[0.3333333333333333,\"#9c179e\"],[0.4444444444444444,\"#bd3786\"],[0.5555555555555556,\"#d8576b\"],[0.6666666666666666,\"#ed7953\"],[0.7777777777777778,\"#fb9f3a\"],[0.8888888888888888,\"#fdca26\"],[1.0,\"#f0f921\"]],\"diverging\":[[0,\"#8e0152\"],[0.1,\"#c51b7d\"],[0.2,\"#de77ae\"],[0.3,\"#f1b6da\"],[0.4,\"#fde0ef\"],[0.5,\"#f7f7f7\"],[0.6,\"#e6f5d0\"],[0.7,\"#b8e186\"],[0.8,\"#7fbc41\"],[0.9,\"#4d9221\"],[1,\"#276419\"]]},\"xaxis\":{\"gridcolor\":\"white\",\"linecolor\":\"white\",\"ticks\":\"\",\"title\":{\"standoff\":15},\"zerolinecolor\":\"white\",\"automargin\":true,\"zerolinewidth\":2},\"yaxis\":{\"gridcolor\":\"white\",\"linecolor\":\"white\",\"ticks\":\"\",\"title\":{\"standoff\":15},\"zerolinecolor\":\"white\",\"automargin\":true,\"zerolinewidth\":2},\"scene\":{\"xaxis\":{\"backgroundcolor\":\"#E5ECF6\",\"gridcolor\":\"white\",\"linecolor\":\"white\",\"showbackground\":true,\"ticks\":\"\",\"zerolinecolor\":\"white\",\"gridwidth\":2},\"yaxis\":{\"backgroundcolor\":\"#E5ECF6\",\"gridcolor\":\"white\",\"linecolor\":\"white\",\"showbackground\":true,\"ticks\":\"\",\"zerolinecolor\":\"white\",\"gridwidth\":2},\"zaxis\":{\"backgroundcolor\":\"#E5ECF6\",\"gridcolor\":\"white\",\"linecolor\":\"white\",\"showbackground\":true,\"ticks\":\"\",\"zerolinecolor\":\"white\",\"gridwidth\":2}},\"shapedefaults\":{\"line\":{\"color\":\"#2a3f5f\"}},\"annotationdefaults\":{\"arrowcolor\":\"#2a3f5f\",\"arrowhead\":0,\"arrowwidth\":1},\"geo\":{\"bgcolor\":\"white\",\"landcolor\":\"#E5ECF6\",\"subunitcolor\":\"white\",\"showland\":true,\"showlakes\":true,\"lakecolor\":\"white\"},\"title\":{\"x\":0.05},\"mapbox\":{\"style\":\"light\"}}},\"xaxis\":{\"anchor\":\"y\",\"domain\":[0.0,1.0],\"title\":{\"text\":\"Color Codes\"},\"categoryorder\":\"array\",\"categoryarray\":[\"000000\",\"FFFFFF\",\"993A5A\",\"673C00\",\"26AF6C\",\"395346\",\"3CB178\",\"011109\",\"42A374\",\"FFE9C6\"],\"tickangle\":45},\"yaxis\":{\"anchor\":\"x\",\"domain\":[0.0,1.0],\"title\":{\"text\":\"Frequency\"}},\"legend\":{\"title\":{\"text\":\"Color\"},\"tracegroupgap\":0},\"margin\":{\"t\":60},\"barmode\":\"relative\",\"title\":{\"text\":\"Top 10 Colors in Newly Added Palettes\"}},                        {\"responsive\": true}                    ).then(function(){\n",
              "                            \n",
              "var gd = document.getElementById('c22f2539-0af2-4724-a058-2cb0a01489c6');\n",
              "var x = new MutationObserver(function (mutations, observer) {{\n",
              "        var display = window.getComputedStyle(gd).display;\n",
              "        if (!display || display === 'none') {{\n",
              "            console.log([gd, 'removed!']);\n",
              "            Plotly.purge(gd);\n",
              "            observer.disconnect();\n",
              "        }}\n",
              "}});\n",
              "\n",
              "// Listen for the removal of the full notebook cells\n",
              "var notebookContainer = gd.closest('#notebook-container');\n",
              "if (notebookContainer) {{\n",
              "    x.observe(notebookContainer, {childList: true});\n",
              "}}\n",
              "\n",
              "// Listen for the clearing of the current output cell\n",
              "var outputEl = gd.closest('.output');\n",
              "if (outputEl) {{\n",
              "    x.observe(outputEl, {childList: true});\n",
              "}}\n",
              "\n",
              "                        })                };                            </script>        </div>\n",
              "</body>\n",
              "</html>"
            ]
          },
          "metadata": {}
        }
      ]
    },
    {
      "cell_type": "markdown",
      "source": [
        "Now we'll explore top palettes from the COLOURlovers Platform."
      ],
      "metadata": {
        "id": "ngeBREfRRRXe"
      }
    },
    {
      "cell_type": "code",
      "source": [
        "palettes_top_data = pd.read_json(r'/palettes_top.json')\n",
        "palettes_top_data.head()"
      ],
      "metadata": {
        "colab": {
          "base_uri": "https://localhost:8080/",
          "height": 573
        },
        "id": "-MD8Ly1eRYZm",
        "outputId": "862dc56a-8223-4e0a-8587-621f614169e3"
      },
      "execution_count": 139,
      "outputs": [
        {
          "output_type": "execute_result",
          "data": {
            "text/plain": [
              "       id              title       userName  numViews  numVotes  numComments  \\\n",
              "0  629637              (???)         sugar!    461752      9011          400   \n",
              "1  694737  Thought Provoking  Miss_Anthropy    471224      8112          388   \n",
              "2    1930   cheer up emo kid   electrikmonk    526484      7053          256   \n",
              "3   49963  let them eat cake       lunalein    335253      5887          291   \n",
              "4  292482             Terra?     GlueStudio    418848      5612          584   \n",
              "\n",
              "   numHearts  rank          dateCreated  \\\n",
              "0        5.0     2  2008-12-02 09:31:23   \n",
              "1        5.0     3  2009-02-03 16:46:36   \n",
              "2        3.5     4  2005-08-20 06:19:40   \n",
              "3        5.0     6  2007-03-01 11:08:04   \n",
              "4        4.5     7  2008-02-29 08:37:21   \n",
              "\n",
              "                                     colors  \\\n",
              "0  [FE4365, FC9D9A, F9CDAD, C8C8A9, 83AF9B]   \n",
              "1  [ECD078, D95B43, C02942, 542437, 53777A]   \n",
              "2  [556270, 4ECDC4, C7F464, FF6B6B, C44D58]   \n",
              "3  [774F38, E08E79, F1D4AF, ECE5CE, C5E0DC]   \n",
              "4  [E8DDCB, CDB380, 036564, 033649, 031634]   \n",
              "\n",
              "                                         description  \\\n",
              "0  I-MOO\\r\\n<div style=\"width: 300px; text-align:...   \n",
              "1  I-MOO\\r\\n<div style=\"width: 300px; text-align:...   \n",
              "2                                                      \n",
              "3  I-MOO\\r\\n<div style=\"width: 300px; text-align:...   \n",
              "4  I-MOO\\r\\n<div style=\"width: 300px; text-align:...   \n",
              "\n",
              "                                                 url  \\\n",
              "0      http://www.colourlovers.com/palette/629637/()   \n",
              "1  http://www.colourlovers.com/palette/694737/Tho...   \n",
              "2  http://www.colourlovers.com/palette/1930/cheer...   \n",
              "3  http://www.colourlovers.com/palette/49963/let_...   \n",
              "4   http://www.colourlovers.com/palette/292482/Terra   \n",
              "\n",
              "                                            imageUrl  \\\n",
              "0  http://www.colourlovers.com/paletteImg/FE4365/...   \n",
              "1  http://www.colourlovers.com/paletteImg/ECD078/...   \n",
              "2  http://www.colourlovers.com/paletteImg/556270/...   \n",
              "3  http://www.colourlovers.com/paletteImg/774F38/...   \n",
              "4  http://www.colourlovers.com/paletteImg/E8DDCB/...   \n",
              "\n",
              "                                            badgeUrl  \\\n",
              "0  http://www.colourlovers.com/images/badges/pw/6...   \n",
              "1  http://www.colourlovers.com/images/badges/p/69...   \n",
              "2  http://www.colourlovers.com/images/badges/p/1/...   \n",
              "3  http://www.colourlovers.com/images/badges/p/49...   \n",
              "4  http://www.colourlovers.com/images/badges/pw/2...   \n",
              "\n",
              "                                           apiUrl  \n",
              "0  http://www.colourlovers.com/api/palette/629637  \n",
              "1  http://www.colourlovers.com/api/palette/694737  \n",
              "2    http://www.colourlovers.com/api/palette/1930  \n",
              "3   http://www.colourlovers.com/api/palette/49963  \n",
              "4  http://www.colourlovers.com/api/palette/292482  "
            ],
            "text/html": [
              "\n",
              "  <div id=\"df-c4e9e46d-59c9-4b8a-b50e-c2c27b9f7060\" class=\"colab-df-container\">\n",
              "    <div>\n",
              "<style scoped>\n",
              "    .dataframe tbody tr th:only-of-type {\n",
              "        vertical-align: middle;\n",
              "    }\n",
              "\n",
              "    .dataframe tbody tr th {\n",
              "        vertical-align: top;\n",
              "    }\n",
              "\n",
              "    .dataframe thead th {\n",
              "        text-align: right;\n",
              "    }\n",
              "</style>\n",
              "<table border=\"1\" class=\"dataframe\">\n",
              "  <thead>\n",
              "    <tr style=\"text-align: right;\">\n",
              "      <th></th>\n",
              "      <th>id</th>\n",
              "      <th>title</th>\n",
              "      <th>userName</th>\n",
              "      <th>numViews</th>\n",
              "      <th>numVotes</th>\n",
              "      <th>numComments</th>\n",
              "      <th>numHearts</th>\n",
              "      <th>rank</th>\n",
              "      <th>dateCreated</th>\n",
              "      <th>colors</th>\n",
              "      <th>description</th>\n",
              "      <th>url</th>\n",
              "      <th>imageUrl</th>\n",
              "      <th>badgeUrl</th>\n",
              "      <th>apiUrl</th>\n",
              "    </tr>\n",
              "  </thead>\n",
              "  <tbody>\n",
              "    <tr>\n",
              "      <th>0</th>\n",
              "      <td>629637</td>\n",
              "      <td>(???)</td>\n",
              "      <td>sugar!</td>\n",
              "      <td>461752</td>\n",
              "      <td>9011</td>\n",
              "      <td>400</td>\n",
              "      <td>5.0</td>\n",
              "      <td>2</td>\n",
              "      <td>2008-12-02 09:31:23</td>\n",
              "      <td>[FE4365, FC9D9A, F9CDAD, C8C8A9, 83AF9B]</td>\n",
              "      <td>I-MOO\\r\\n&lt;div style=\"width: 300px; text-align:...</td>\n",
              "      <td>http://www.colourlovers.com/palette/629637/()</td>\n",
              "      <td>http://www.colourlovers.com/paletteImg/FE4365/...</td>\n",
              "      <td>http://www.colourlovers.com/images/badges/pw/6...</td>\n",
              "      <td>http://www.colourlovers.com/api/palette/629637</td>\n",
              "    </tr>\n",
              "    <tr>\n",
              "      <th>1</th>\n",
              "      <td>694737</td>\n",
              "      <td>Thought Provoking</td>\n",
              "      <td>Miss_Anthropy</td>\n",
              "      <td>471224</td>\n",
              "      <td>8112</td>\n",
              "      <td>388</td>\n",
              "      <td>5.0</td>\n",
              "      <td>3</td>\n",
              "      <td>2009-02-03 16:46:36</td>\n",
              "      <td>[ECD078, D95B43, C02942, 542437, 53777A]</td>\n",
              "      <td>I-MOO\\r\\n&lt;div style=\"width: 300px; text-align:...</td>\n",
              "      <td>http://www.colourlovers.com/palette/694737/Tho...</td>\n",
              "      <td>http://www.colourlovers.com/paletteImg/ECD078/...</td>\n",
              "      <td>http://www.colourlovers.com/images/badges/p/69...</td>\n",
              "      <td>http://www.colourlovers.com/api/palette/694737</td>\n",
              "    </tr>\n",
              "    <tr>\n",
              "      <th>2</th>\n",
              "      <td>1930</td>\n",
              "      <td>cheer up emo kid</td>\n",
              "      <td>electrikmonk</td>\n",
              "      <td>526484</td>\n",
              "      <td>7053</td>\n",
              "      <td>256</td>\n",
              "      <td>3.5</td>\n",
              "      <td>4</td>\n",
              "      <td>2005-08-20 06:19:40</td>\n",
              "      <td>[556270, 4ECDC4, C7F464, FF6B6B, C44D58]</td>\n",
              "      <td></td>\n",
              "      <td>http://www.colourlovers.com/palette/1930/cheer...</td>\n",
              "      <td>http://www.colourlovers.com/paletteImg/556270/...</td>\n",
              "      <td>http://www.colourlovers.com/images/badges/p/1/...</td>\n",
              "      <td>http://www.colourlovers.com/api/palette/1930</td>\n",
              "    </tr>\n",
              "    <tr>\n",
              "      <th>3</th>\n",
              "      <td>49963</td>\n",
              "      <td>let them eat cake</td>\n",
              "      <td>lunalein</td>\n",
              "      <td>335253</td>\n",
              "      <td>5887</td>\n",
              "      <td>291</td>\n",
              "      <td>5.0</td>\n",
              "      <td>6</td>\n",
              "      <td>2007-03-01 11:08:04</td>\n",
              "      <td>[774F38, E08E79, F1D4AF, ECE5CE, C5E0DC]</td>\n",
              "      <td>I-MOO\\r\\n&lt;div style=\"width: 300px; text-align:...</td>\n",
              "      <td>http://www.colourlovers.com/palette/49963/let_...</td>\n",
              "      <td>http://www.colourlovers.com/paletteImg/774F38/...</td>\n",
              "      <td>http://www.colourlovers.com/images/badges/p/49...</td>\n",
              "      <td>http://www.colourlovers.com/api/palette/49963</td>\n",
              "    </tr>\n",
              "    <tr>\n",
              "      <th>4</th>\n",
              "      <td>292482</td>\n",
              "      <td>Terra?</td>\n",
              "      <td>GlueStudio</td>\n",
              "      <td>418848</td>\n",
              "      <td>5612</td>\n",
              "      <td>584</td>\n",
              "      <td>4.5</td>\n",
              "      <td>7</td>\n",
              "      <td>2008-02-29 08:37:21</td>\n",
              "      <td>[E8DDCB, CDB380, 036564, 033649, 031634]</td>\n",
              "      <td>I-MOO\\r\\n&lt;div style=\"width: 300px; text-align:...</td>\n",
              "      <td>http://www.colourlovers.com/palette/292482/Terra</td>\n",
              "      <td>http://www.colourlovers.com/paletteImg/E8DDCB/...</td>\n",
              "      <td>http://www.colourlovers.com/images/badges/pw/2...</td>\n",
              "      <td>http://www.colourlovers.com/api/palette/292482</td>\n",
              "    </tr>\n",
              "  </tbody>\n",
              "</table>\n",
              "</div>\n",
              "    <div class=\"colab-df-buttons\">\n",
              "\n",
              "  <div class=\"colab-df-container\">\n",
              "    <button class=\"colab-df-convert\" onclick=\"convertToInteractive('df-c4e9e46d-59c9-4b8a-b50e-c2c27b9f7060')\"\n",
              "            title=\"Convert this dataframe to an interactive table.\"\n",
              "            style=\"display:none;\">\n",
              "\n",
              "  <svg xmlns=\"http://www.w3.org/2000/svg\" height=\"24px\" viewBox=\"0 -960 960 960\">\n",
              "    <path d=\"M120-120v-720h720v720H120Zm60-500h600v-160H180v160Zm220 220h160v-160H400v160Zm0 220h160v-160H400v160ZM180-400h160v-160H180v160Zm440 0h160v-160H620v160ZM180-180h160v-160H180v160Zm440 0h160v-160H620v160Z\"/>\n",
              "  </svg>\n",
              "    </button>\n",
              "\n",
              "  <style>\n",
              "    .colab-df-container {\n",
              "      display:flex;\n",
              "      gap: 12px;\n",
              "    }\n",
              "\n",
              "    .colab-df-convert {\n",
              "      background-color: #E8F0FE;\n",
              "      border: none;\n",
              "      border-radius: 50%;\n",
              "      cursor: pointer;\n",
              "      display: none;\n",
              "      fill: #1967D2;\n",
              "      height: 32px;\n",
              "      padding: 0 0 0 0;\n",
              "      width: 32px;\n",
              "    }\n",
              "\n",
              "    .colab-df-convert:hover {\n",
              "      background-color: #E2EBFA;\n",
              "      box-shadow: 0px 1px 2px rgba(60, 64, 67, 0.3), 0px 1px 3px 1px rgba(60, 64, 67, 0.15);\n",
              "      fill: #174EA6;\n",
              "    }\n",
              "\n",
              "    .colab-df-buttons div {\n",
              "      margin-bottom: 4px;\n",
              "    }\n",
              "\n",
              "    [theme=dark] .colab-df-convert {\n",
              "      background-color: #3B4455;\n",
              "      fill: #D2E3FC;\n",
              "    }\n",
              "\n",
              "    [theme=dark] .colab-df-convert:hover {\n",
              "      background-color: #434B5C;\n",
              "      box-shadow: 0px 1px 3px 1px rgba(0, 0, 0, 0.15);\n",
              "      filter: drop-shadow(0px 1px 2px rgba(0, 0, 0, 0.3));\n",
              "      fill: #FFFFFF;\n",
              "    }\n",
              "  </style>\n",
              "\n",
              "    <script>\n",
              "      const buttonEl =\n",
              "        document.querySelector('#df-c4e9e46d-59c9-4b8a-b50e-c2c27b9f7060 button.colab-df-convert');\n",
              "      buttonEl.style.display =\n",
              "        google.colab.kernel.accessAllowed ? 'block' : 'none';\n",
              "\n",
              "      async function convertToInteractive(key) {\n",
              "        const element = document.querySelector('#df-c4e9e46d-59c9-4b8a-b50e-c2c27b9f7060');\n",
              "        const dataTable =\n",
              "          await google.colab.kernel.invokeFunction('convertToInteractive',\n",
              "                                                    [key], {});\n",
              "        if (!dataTable) return;\n",
              "\n",
              "        const docLinkHtml = 'Like what you see? Visit the ' +\n",
              "          '<a target=\"_blank\" href=https://colab.research.google.com/notebooks/data_table.ipynb>data table notebook</a>'\n",
              "          + ' to learn more about interactive tables.';\n",
              "        element.innerHTML = '';\n",
              "        dataTable['output_type'] = 'display_data';\n",
              "        await google.colab.output.renderOutput(dataTable, element);\n",
              "        const docLink = document.createElement('div');\n",
              "        docLink.innerHTML = docLinkHtml;\n",
              "        element.appendChild(docLink);\n",
              "      }\n",
              "    </script>\n",
              "  </div>\n",
              "\n",
              "\n",
              "<div id=\"df-c903bbda-82db-4127-9b5c-1851909df12c\">\n",
              "  <button class=\"colab-df-quickchart\" onclick=\"quickchart('df-c903bbda-82db-4127-9b5c-1851909df12c')\"\n",
              "            title=\"Suggest charts\"\n",
              "            style=\"display:none;\">\n",
              "\n",
              "<svg xmlns=\"http://www.w3.org/2000/svg\" height=\"24px\"viewBox=\"0 0 24 24\"\n",
              "     width=\"24px\">\n",
              "    <g>\n",
              "        <path d=\"M19 3H5c-1.1 0-2 .9-2 2v14c0 1.1.9 2 2 2h14c1.1 0 2-.9 2-2V5c0-1.1-.9-2-2-2zM9 17H7v-7h2v7zm4 0h-2V7h2v10zm4 0h-2v-4h2v4z\"/>\n",
              "    </g>\n",
              "</svg>\n",
              "  </button>\n",
              "\n",
              "<style>\n",
              "  .colab-df-quickchart {\n",
              "      --bg-color: #E8F0FE;\n",
              "      --fill-color: #1967D2;\n",
              "      --hover-bg-color: #E2EBFA;\n",
              "      --hover-fill-color: #174EA6;\n",
              "      --disabled-fill-color: #AAA;\n",
              "      --disabled-bg-color: #DDD;\n",
              "  }\n",
              "\n",
              "  [theme=dark] .colab-df-quickchart {\n",
              "      --bg-color: #3B4455;\n",
              "      --fill-color: #D2E3FC;\n",
              "      --hover-bg-color: #434B5C;\n",
              "      --hover-fill-color: #FFFFFF;\n",
              "      --disabled-bg-color: #3B4455;\n",
              "      --disabled-fill-color: #666;\n",
              "  }\n",
              "\n",
              "  .colab-df-quickchart {\n",
              "    background-color: var(--bg-color);\n",
              "    border: none;\n",
              "    border-radius: 50%;\n",
              "    cursor: pointer;\n",
              "    display: none;\n",
              "    fill: var(--fill-color);\n",
              "    height: 32px;\n",
              "    padding: 0;\n",
              "    width: 32px;\n",
              "  }\n",
              "\n",
              "  .colab-df-quickchart:hover {\n",
              "    background-color: var(--hover-bg-color);\n",
              "    box-shadow: 0 1px 2px rgba(60, 64, 67, 0.3), 0 1px 3px 1px rgba(60, 64, 67, 0.15);\n",
              "    fill: var(--button-hover-fill-color);\n",
              "  }\n",
              "\n",
              "  .colab-df-quickchart-complete:disabled,\n",
              "  .colab-df-quickchart-complete:disabled:hover {\n",
              "    background-color: var(--disabled-bg-color);\n",
              "    fill: var(--disabled-fill-color);\n",
              "    box-shadow: none;\n",
              "  }\n",
              "\n",
              "  .colab-df-spinner {\n",
              "    border: 2px solid var(--fill-color);\n",
              "    border-color: transparent;\n",
              "    border-bottom-color: var(--fill-color);\n",
              "    animation:\n",
              "      spin 1s steps(1) infinite;\n",
              "  }\n",
              "\n",
              "  @keyframes spin {\n",
              "    0% {\n",
              "      border-color: transparent;\n",
              "      border-bottom-color: var(--fill-color);\n",
              "      border-left-color: var(--fill-color);\n",
              "    }\n",
              "    20% {\n",
              "      border-color: transparent;\n",
              "      border-left-color: var(--fill-color);\n",
              "      border-top-color: var(--fill-color);\n",
              "    }\n",
              "    30% {\n",
              "      border-color: transparent;\n",
              "      border-left-color: var(--fill-color);\n",
              "      border-top-color: var(--fill-color);\n",
              "      border-right-color: var(--fill-color);\n",
              "    }\n",
              "    40% {\n",
              "      border-color: transparent;\n",
              "      border-right-color: var(--fill-color);\n",
              "      border-top-color: var(--fill-color);\n",
              "    }\n",
              "    60% {\n",
              "      border-color: transparent;\n",
              "      border-right-color: var(--fill-color);\n",
              "    }\n",
              "    80% {\n",
              "      border-color: transparent;\n",
              "      border-right-color: var(--fill-color);\n",
              "      border-bottom-color: var(--fill-color);\n",
              "    }\n",
              "    90% {\n",
              "      border-color: transparent;\n",
              "      border-bottom-color: var(--fill-color);\n",
              "    }\n",
              "  }\n",
              "</style>\n",
              "\n",
              "  <script>\n",
              "    async function quickchart(key) {\n",
              "      const quickchartButtonEl =\n",
              "        document.querySelector('#' + key + ' button');\n",
              "      quickchartButtonEl.disabled = true;  // To prevent multiple clicks.\n",
              "      quickchartButtonEl.classList.add('colab-df-spinner');\n",
              "      try {\n",
              "        const charts = await google.colab.kernel.invokeFunction(\n",
              "            'suggestCharts', [key], {});\n",
              "      } catch (error) {\n",
              "        console.error('Error during call to suggestCharts:', error);\n",
              "      }\n",
              "      quickchartButtonEl.classList.remove('colab-df-spinner');\n",
              "      quickchartButtonEl.classList.add('colab-df-quickchart-complete');\n",
              "    }\n",
              "    (() => {\n",
              "      let quickchartButtonEl =\n",
              "        document.querySelector('#df-c903bbda-82db-4127-9b5c-1851909df12c button');\n",
              "      quickchartButtonEl.style.display =\n",
              "        google.colab.kernel.accessAllowed ? 'block' : 'none';\n",
              "    })();\n",
              "  </script>\n",
              "</div>\n",
              "\n",
              "    </div>\n",
              "  </div>\n"
            ]
          },
          "metadata": {},
          "execution_count": 139
        }
      ]
    },
    {
      "cell_type": "code",
      "source": [
        "palettes_top_data.columns"
      ],
      "metadata": {
        "colab": {
          "base_uri": "https://localhost:8080/"
        },
        "id": "1dyTE_WNDYk1",
        "outputId": "cec19c4a-0cc7-40cd-f3de-cc28ccb8b9c5"
      },
      "execution_count": 140,
      "outputs": [
        {
          "output_type": "execute_result",
          "data": {
            "text/plain": [
              "Index(['id', 'title', 'userName', 'numViews', 'numVotes', 'numComments',\n",
              "       'numHearts', 'rank', 'dateCreated', 'colors', 'description', 'url',\n",
              "       'imageUrl', 'badgeUrl', 'apiUrl'],\n",
              "      dtype='object')"
            ]
          },
          "metadata": {},
          "execution_count": 140
        }
      ]
    },
    {
      "cell_type": "code",
      "source": [
        "palettes_top_data.info()"
      ],
      "metadata": {
        "colab": {
          "base_uri": "https://localhost:8080/"
        },
        "id": "lwkY3dzpRhKi",
        "outputId": "ef17564b-5062-4672-8701-782782e57864"
      },
      "execution_count": 141,
      "outputs": [
        {
          "output_type": "stream",
          "name": "stdout",
          "text": [
            "<class 'pandas.core.frame.DataFrame'>\n",
            "RangeIndex: 2899 entries, 0 to 2898\n",
            "Data columns (total 15 columns):\n",
            " #   Column       Non-Null Count  Dtype  \n",
            "---  ------       --------------  -----  \n",
            " 0   id           2899 non-null   int64  \n",
            " 1   title        2899 non-null   object \n",
            " 2   userName     2899 non-null   object \n",
            " 3   numViews     2899 non-null   int64  \n",
            " 4   numVotes     2899 non-null   int64  \n",
            " 5   numComments  2899 non-null   int64  \n",
            " 6   numHearts    2899 non-null   float64\n",
            " 7   rank         2899 non-null   int64  \n",
            " 8   dateCreated  2899 non-null   object \n",
            " 9   colors       2899 non-null   object \n",
            " 10  description  2899 non-null   object \n",
            " 11  url          2899 non-null   object \n",
            " 12  imageUrl     2899 non-null   object \n",
            " 13  badgeUrl     2899 non-null   object \n",
            " 14  apiUrl       2899 non-null   object \n",
            "dtypes: float64(1), int64(5), object(9)\n",
            "memory usage: 339.9+ KB\n"
          ]
        }
      ]
    },
    {
      "cell_type": "markdown",
      "source": [
        "Converting data type"
      ],
      "metadata": {
        "id": "OWdCYg16kcAw"
      }
    },
    {
      "cell_type": "code",
      "source": [
        "palettes_top_data['dateCreated'] = pd.to_datetime(palettes_top_data['dateCreated'], errors='coerce')\n",
        "palettes_top_data['dateCreated'] = palettes_top_data['dateCreated'].dt.strftime('%Y-%m-%d')"
      ],
      "metadata": {
        "id": "2XlMCQMyRnlw"
      },
      "execution_count": 142,
      "outputs": []
    },
    {
      "cell_type": "code",
      "source": [
        "palettes_top_data['dateCreated'] = pd.to_datetime(palettes_top_data['dateCreated'], errors='coerce')\n",
        "\n",
        "# Check for rows where conversion failed\n",
        "failed_conversion = palettes_top_data['dateCreated'][palettes_top_data['dateCreated'].isnull()]\n",
        "failed_conversion"
      ],
      "metadata": {
        "colab": {
          "base_uri": "https://localhost:8080/"
        },
        "id": "GArwfIaUR2k7",
        "outputId": "183a3b5c-af8d-4817-897f-741eb6729a75"
      },
      "execution_count": 143,
      "outputs": [
        {
          "output_type": "execute_result",
          "data": {
            "text/plain": [
              "Series([], Name: dateCreated, dtype: datetime64[ns])"
            ]
          },
          "metadata": {},
          "execution_count": 143
        }
      ]
    },
    {
      "cell_type": "code",
      "source": [
        "palettes_top_data.dtypes # Check"
      ],
      "metadata": {
        "colab": {
          "base_uri": "https://localhost:8080/"
        },
        "id": "bpiNOSJyR73e",
        "outputId": "74859f5e-8eaf-40e8-a03d-b2db49e9914b"
      },
      "execution_count": 144,
      "outputs": [
        {
          "output_type": "execute_result",
          "data": {
            "text/plain": [
              "id                      int64\n",
              "title                  object\n",
              "userName               object\n",
              "numViews                int64\n",
              "numVotes                int64\n",
              "numComments             int64\n",
              "numHearts             float64\n",
              "rank                    int64\n",
              "dateCreated    datetime64[ns]\n",
              "colors                 object\n",
              "description            object\n",
              "url                    object\n",
              "imageUrl               object\n",
              "badgeUrl               object\n",
              "apiUrl                 object\n",
              "dtype: object"
            ]
          },
          "metadata": {},
          "execution_count": 144
        }
      ]
    },
    {
      "cell_type": "markdown",
      "source": [
        "Data cleaning"
      ],
      "metadata": {
        "id": "L94mwcBWkVzT"
      }
    },
    {
      "cell_type": "code",
      "source": [
        "palettes_top_data.drop_duplicates(subset=['userName'], keep='first', inplace=True) #drop duplicates"
      ],
      "metadata": {
        "id": "7_dIWrGlkurd"
      },
      "execution_count": 145,
      "outputs": []
    },
    {
      "cell_type": "code",
      "source": [
        "palettes_top_data.isnull().sum() #missing data check"
      ],
      "metadata": {
        "colab": {
          "base_uri": "https://localhost:8080/"
        },
        "id": "IWaxwPXUnsDP",
        "outputId": "c34da97d-ad43-4694-ae2f-17483dd56a84"
      },
      "execution_count": 146,
      "outputs": [
        {
          "output_type": "execute_result",
          "data": {
            "text/plain": [
              "id             0\n",
              "title          0\n",
              "userName       0\n",
              "numViews       0\n",
              "numVotes       0\n",
              "numComments    0\n",
              "numHearts      0\n",
              "rank           0\n",
              "dateCreated    0\n",
              "colors         0\n",
              "description    0\n",
              "url            0\n",
              "imageUrl       0\n",
              "badgeUrl       0\n",
              "apiUrl         0\n",
              "dtype: int64"
            ]
          },
          "metadata": {},
          "execution_count": 146
        }
      ]
    },
    {
      "cell_type": "markdown",
      "source": [
        "Let's explore the top 20 highly ranked palettes on the Colourlovers platform."
      ],
      "metadata": {
        "id": "nhbDgyLKn11X"
      }
    },
    {
      "cell_type": "code",
      "source": [
        "from IPython.display import Image, display\n",
        "\n",
        "top_20_palettes = palettes_top_data.nlargest(20, 'rank')\n",
        "\n",
        "for index, row in top_20_palettes.iterrows():\n",
        "    display(Image(url=row['badgeUrl']))"
      ],
      "metadata": {
        "colab": {
          "base_uri": "https://localhost:8080/",
          "height": 1000
        },
        "id": "ctDg2OuFTDKI",
        "outputId": "148012eb-f7fd-44ce-b853-7ccefb40489c"
      },
      "execution_count": 147,
      "outputs": [
        {
          "output_type": "display_data",
          "data": {
            "text/html": [
              "<img src=\"http://www.colourlovers.com/images/badges/pw/3348/3348506_Interstellar.png\"/>"
            ],
            "text/plain": [
              "<IPython.core.display.Image object>"
            ]
          },
          "metadata": {}
        },
        {
          "output_type": "display_data",
          "data": {
            "text/html": [
              "<img src=\"http://www.colourlovers.com/images/badges/pw/852/852595_warm_milk_tea.png\"/>"
            ],
            "text/plain": [
              "<IPython.core.display.Image object>"
            ]
          },
          "metadata": {}
        },
        {
          "output_type": "display_data",
          "data": {
            "text/html": [
              "<img src=\"http://www.colourlovers.com/images/badges/p/3302/3302666_Moonlit_Sunset.png\"/>"
            ],
            "text/plain": [
              "<IPython.core.display.Image object>"
            ]
          },
          "metadata": {}
        },
        {
          "output_type": "display_data",
          "data": {
            "text/html": [
              "<img src=\"http://www.colourlovers.com/images/badges/pw/1805/1805863_Still_standing.png\"/>"
            ],
            "text/plain": [
              "<IPython.core.display.Image object>"
            ]
          },
          "metadata": {}
        },
        {
          "output_type": "display_data",
          "data": {
            "text/html": [
              "<img src=\"http://www.colourlovers.com/images/badges/pw/1220/1220615_dress.png\"/>"
            ],
            "text/plain": [
              "<IPython.core.display.Image object>"
            ]
          },
          "metadata": {}
        },
        {
          "output_type": "display_data",
          "data": {
            "text/html": [
              "<img src=\"http://www.colourlovers.com/images/badges/pw/3186/3186713_After_The_Rain.png\"/>"
            ],
            "text/plain": [
              "<IPython.core.display.Image object>"
            ]
          },
          "metadata": {}
        },
        {
          "output_type": "display_data",
          "data": {
            "text/html": [
              "<img src=\"http://www.colourlovers.com/images/badges/p/687/687134_black_and_pink.png\"/>"
            ],
            "text/plain": [
              "<IPython.core.display.Image object>"
            ]
          },
          "metadata": {}
        },
        {
          "output_type": "display_data",
          "data": {
            "text/html": [
              "<img src=\"http://www.colourlovers.com/images/badges/pw/2972/2972563_Magical_Pathway.png\"/>"
            ],
            "text/plain": [
              "<IPython.core.display.Image object>"
            ]
          },
          "metadata": {}
        },
        {
          "output_type": "display_data",
          "data": {
            "text/html": [
              "<img src=\"http://www.colourlovers.com/images/badges/p/364/364067_Bubble_Kitten.png\"/>"
            ],
            "text/plain": [
              "<IPython.core.display.Image object>"
            ]
          },
          "metadata": {}
        },
        {
          "output_type": "display_data",
          "data": {
            "text/html": [
              "<img src=\"http://www.colourlovers.com/images/badges/p/12/12163_working_humbly.png\"/>"
            ],
            "text/plain": [
              "<IPython.core.display.Image object>"
            ]
          },
          "metadata": {}
        },
        {
          "output_type": "display_data",
          "data": {
            "text/html": [
              "<img src=\"http://www.colourlovers.com/images/badges/pw/3460/3460920_Moon.png\"/>"
            ],
            "text/plain": [
              "<IPython.core.display.Image object>"
            ]
          },
          "metadata": {}
        },
        {
          "output_type": "display_data",
          "data": {
            "text/html": [
              "<img src=\"http://www.colourlovers.com/images/badges/p/1882/1882026_Cranberry_Trifle.png\"/>"
            ],
            "text/plain": [
              "<IPython.core.display.Image object>"
            ]
          },
          "metadata": {}
        },
        {
          "output_type": "display_data",
          "data": {
            "text/html": [
              "<img src=\"http://www.colourlovers.com/images/badges/p/67/67478_Merciful_lies.png\"/>"
            ],
            "text/plain": [
              "<IPython.core.display.Image object>"
            ]
          },
          "metadata": {}
        },
        {
          "output_type": "display_data",
          "data": {
            "text/html": [
              "<img src=\"http://www.colourlovers.com/images/badges/p/1937/1937470_Blush.png\"/>"
            ],
            "text/plain": [
              "<IPython.core.display.Image object>"
            ]
          },
          "metadata": {}
        },
        {
          "output_type": "display_data",
          "data": {
            "text/html": [
              "<img src=\"http://www.colourlovers.com/images/badges/p/131/131601_galactic_menopause..png\"/>"
            ],
            "text/plain": [
              "<IPython.core.display.Image object>"
            ]
          },
          "metadata": {}
        },
        {
          "output_type": "display_data",
          "data": {
            "text/html": [
              "<img src=\"http://www.colourlovers.com/images/badges/pw/1585/1585052_That_vintage_palette.png\"/>"
            ],
            "text/plain": [
              "<IPython.core.display.Image object>"
            ]
          },
          "metadata": {}
        },
        {
          "output_type": "display_data",
          "data": {
            "text/html": [
              "<img src=\"http://www.colourlovers.com/images/badges/pw/2185/2185115_Charcoal_Peach.png\"/>"
            ],
            "text/plain": [
              "<IPython.core.display.Image object>"
            ]
          },
          "metadata": {}
        },
        {
          "output_type": "display_data",
          "data": {
            "text/html": [
              "<img src=\"http://www.colourlovers.com/images/badges/p/130/130456_Dawning_of_A_New_Day.png\"/>"
            ],
            "text/plain": [
              "<IPython.core.display.Image object>"
            ]
          },
          "metadata": {}
        },
        {
          "output_type": "display_data",
          "data": {
            "text/html": [
              "<img src=\"http://www.colourlovers.com/images/badges/pw/2215/2215690_finish_line.png\"/>"
            ],
            "text/plain": [
              "<IPython.core.display.Image object>"
            ]
          },
          "metadata": {}
        },
        {
          "output_type": "display_data",
          "data": {
            "text/html": [
              "<img src=\"http://www.colourlovers.com/images/badges/p/433/433018_Gasoline_Rainbow.png\"/>"
            ],
            "text/plain": [
              "<IPython.core.display.Image object>"
            ]
          },
          "metadata": {}
        }
      ]
    },
    {
      "cell_type": "markdown",
      "source": [
        "Let's explore the top 20 highly ranked palettes."
      ],
      "metadata": {
        "id": "Fyu-FGsiwmvX"
      }
    },
    {
      "cell_type": "code",
      "source": [
        "top_20_palettes = palettes_top_data.nlargest(20, 'rank')\n",
        "print(top_20_palettes[['title', 'rank','dateCreated']])"
      ],
      "metadata": {
        "colab": {
          "base_uri": "https://localhost:8080/"
        },
        "id": "g6om-uJJW4bh",
        "outputId": "e59c0425-e294-4d30-b296-685675d7ed3e"
      },
      "execution_count": 148,
      "outputs": [
        {
          "output_type": "stream",
          "name": "stdout",
          "text": [
            "                    title  rank dateCreated\n",
            "835          Interstellar  4195  2014-05-09\n",
            "760         warm milk tea  3273  2009-06-08\n",
            "781        Moonlit Sunset  2826  2014-04-01\n",
            "970        Still standing  2006  2011-10-15\n",
            "918                 dress  1841  2010-06-25\n",
            "695        After The Rain  1802  2013-12-30\n",
            "997        black and pink  1725  2009-01-28\n",
            "891       Magical Pathway  1600  2013-07-31\n",
            "717         Bubble Kitten  1596  2008-05-04\n",
            "789        working humbly  1559  2005-11-20\n",
            "351                  Moon  1516  2014-08-22\n",
            "971      Cranberry Trifle  1444  2011-12-03\n",
            "929         Merciful lies  1430  2007-05-07\n",
            "941                 Blush  1384  2012-01-10\n",
            "980   galactic menopause.  1348  2007-08-29\n",
            "986  That vintage palette  1339  2011-05-21\n",
            "622        Charcoal Peach  1334  2012-05-20\n",
            "734  Dawning of A New Day  1330  2007-08-28\n",
            "995           finish line  1294  2012-06-07\n",
            "897      Gasoline Rainbow  1291  2008-06-26\n"
          ]
        }
      ]
    },
    {
      "cell_type": "markdown",
      "source": [
        "Check the colors included in the palette"
      ],
      "metadata": {
        "id": "g4r_cPscw4DO"
      }
    },
    {
      "cell_type": "code",
      "source": [
        "top_ranked_palette = palettes_top_data[palettes_top_data['title'] == 'Dawning of A New Day']\n",
        "\n",
        "if not top_ranked_palette.empty:\n",
        "    colors = top_ranked_palette['colors'].iloc[0]\n",
        "    print(f\"The palette contains these colors: {colors}\")\n",
        "else:\n",
        "    print(\"Palette not found or empty\")"
      ],
      "metadata": {
        "colab": {
          "base_uri": "https://localhost:8080/"
        },
        "id": "a_3PuS1YY2WU",
        "outputId": "83225e7b-4c71-4324-edfb-e9d5464cdd21"
      },
      "execution_count": 149,
      "outputs": [
        {
          "output_type": "stream",
          "name": "stdout",
          "text": [
            "The palette contains these colors: ['D3C6CC', 'E2C3C6', 'EECFC4', 'F8E6C6', 'FFFFCC']\n"
          ]
        }
      ]
    },
    {
      "cell_type": "code",
      "source": [
        "import matplotlib.pyplot as plt\n",
        "import seaborn as sns\n",
        "\n",
        "# Define custom colors\n",
        "#I selected the color scheme for one of the highest-ranked palettes, 'Dawning of A New Day', based on the colors specified in the code above.\n",
        "custom_colors = ['#D3C6CC', '#E2C3C6', '#EECFC4', '#F8E6C6','#FFFFCC']\n",
        "\n",
        "# Create a figure with subplots\n",
        "fig, axes = plt.subplots(2, 2, figsize=(12, 10))\n",
        "\n",
        "# Pie chart\n",
        "colors_data = palettes_top_data['colors'].explode().str.strip()\n",
        "color_counts = colors_data.value_counts()\n",
        "top_colors = color_counts.head(5)  # Selecting top 5 colors\n",
        "axes[0, 0].pie(top_colors, labels=top_colors.index, autopct='%1.1f%%', colors=custom_colors)\n",
        "axes[0, 0].set_title('Top 5 Color Distribution in Palettes')\n",
        "\n",
        "# Histogram for 'numViews'\n",
        "sns.histplot(palettes_top_data['numViews'], bins=30, kde=True, ax=axes[0, 1], color=custom_colors[0])\n",
        "axes[0, 1].set_title('Distribution of Number of Views')\n",
        "\n",
        "# Boxplot for 'rank'\n",
        "axes[1, 0].boxplot(palettes_top_data['rank'], patch_artist=True, boxprops=dict(facecolor=custom_colors[1]))\n",
        "axes[1, 0].set_title('Boxplot of Palette Ranks')\n",
        "axes[1, 0].set_ylabel('Rank')\n",
        "\n",
        "# Bar plot for 'numHearts'\n",
        "palettes_top_data['numHearts'].value_counts().head(10).plot(kind='bar', ax=axes[1, 1], color=custom_colors[2])\n",
        "axes[1, 1].set_title('Top 10 Number of Hearts')\n",
        "axes[1, 1].set_xlabel('Number of Hearts')\n",
        "axes[1, 1].set_ylabel('Frequency')\n",
        "\n",
        "plt.tight_layout()\n",
        "plt.show()"
      ],
      "metadata": {
        "colab": {
          "base_uri": "https://localhost:8080/",
          "height": 1000
        },
        "id": "1x3HLd9JFrP0",
        "outputId": "d8172937-25b7-4d64-e1cd-020054251a27"
      },
      "execution_count": 150,
      "outputs": [
        {
          "output_type": "display_data",
          "data": {
            "text/plain": [
              "<Figure size 1200x1000 with 4 Axes>"
            ],
            "image/png": "[encoded data removed]"
          },
          "metadata": {}
        }
      ]
    },
    {
      "cell_type": "markdown",
      "source": [
        "Let's generate a heatmap using Seaborn to visually represent the correlations between these columns: 'numViews', 'numVotes', 'numComments', 'numHearts', and 'rank'."
      ],
      "metadata": {
        "id": "Y6H_g9wBKNHk"
      }
    },
    {
      "cell_type": "code",
      "source": [
        "import seaborn as sns\n",
        "import matplotlib.pyplot as plt\n",
        "\n",
        "# Select relevant columns for correlation analysis\n",
        "columns_to_correlate = ['numViews', 'numVotes', 'numComments', 'numHearts', 'rank']\n",
        "\n",
        "# Subset the DataFrame with selected columns\n",
        "subset_data = palettes_top_data[columns_to_correlate]\n",
        "\n",
        "# Calculate correlation matrix\n",
        "correlation_matrix = subset_data.corr()\n",
        "\n",
        "# Create a heatmap\n",
        "plt.figure(figsize=(10, 8))\n",
        "heatmap = sns.heatmap(correlation_matrix, annot=True, cmap='PuBuGn', fmt='.2f')\n",
        "\n",
        "plt.title('Correlation Heatmap')\n",
        "plt.show()"
      ],
      "metadata": {
        "colab": {
          "base_uri": "https://localhost:8080/",
          "height": 699
        },
        "id": "vDZT6_3zYJq2",
        "outputId": "c64460ee-23d6-413a-84b4-ec7666385a6f"
      },
      "execution_count": 151,
      "outputs": [
        {
          "output_type": "display_data",
          "data": {
            "text/plain": [
              "<Figure size 1000x800 with 2 Axes>"
            ],
            "image/png": "[encoded data removed]"
          },
          "metadata": {}
        }
      ]
    },
    {
      "cell_type": "markdown",
      "source": [
        "We observe a very strong positive correlation (0.93) between the number of views and the number of votes. The higher the number of views a palette receives, the greater the number of votes it accumulates.\n",
        "\n",
        "The relationship between the number of votes and the number of comments shows a strong and positive correlation (0.77). Similarly, there's a notable positive correlation between the number of views and the number of comments (0.69).\n",
        "\n",
        "Conversely, the relationship between the number of hearts and all other variables is less robust yet remains positive: 0.34 with views, 0.38 with votes, and 0.45 with comments.\n",
        "\n",
        "Regarding the rank, it exhibits a negative correlation with all other variables. As any variable increases, the rank decreases. The strongest negative correlation is observed between rank and votes (-0.44), followed by views and comments (-0.39 for both), and the weakest correlation exists between rank and the number of hearts (-0.26)."
      ],
      "metadata": {
        "id": "fqKt3tkcbVRz"
      }
    },
    {
      "cell_type": "markdown",
      "source": [
        " 3. Users Analysis"
      ],
      "metadata": {
        "id": "QRXOPWw0hx4Y"
      }
    },
    {
      "cell_type": "markdown",
      "source": [
        "Users recently registrated"
      ],
      "metadata": {
        "id": "zFxNKDNys1MM"
      }
    },
    {
      "cell_type": "code",
      "source": [
        "lovers_new_data = pd.read_json(r'/lovers_new.json')\n",
        "lovers_new_data.head()"
      ],
      "metadata": {
        "colab": {
          "base_uri": "https://localhost:8080/",
          "height": 313
        },
        "id": "J5L7djhZiH92",
        "outputId": "66adeb6f-bbbb-40e7-8924-89b9f180f7f9"
      },
      "execution_count": 152,
      "outputs": [
        {
          "output_type": "execute_result",
          "data": {
            "text/plain": [
              "         userName       dateRegistered       dateLastActive  rating  \\\n",
              "0  MDRashedulAlam  2023-12-28 06:53:06  2023-12-28 06:57:45       0   \n",
              "1          Justly  2023-12-28 06:34:26  2023-12-28 06:34:26       0   \n",
              "2   GuavaOnHaight  2023-12-28 06:11:17  2023-12-28 06:11:50       0   \n",
              "3  zoroychocolate  2023-12-28 06:08:46  2023-12-28 06:08:46       0   \n",
              "4           Valks  2023-12-28 05:57:49  2023-12-28 07:00:00       0   \n",
              "\n",
              "     location  numColors  numPalettes  numPatterns  numCommentsMade  \\\n",
              "0  bangladesh          0            0            0                0   \n",
              "1                      0            0            0                0   \n",
              "2                      0            0            0                0   \n",
              "3                      0            0            0                0   \n",
              "4                      0            0            0                0   \n",
              "\n",
              "   numLovers  numCommentsOnProfile comments  \\\n",
              "0          0                     0       []   \n",
              "1          0                     0       []   \n",
              "2          0                     0       []   \n",
              "3          0                     0       []   \n",
              "4          0                     0       []   \n",
              "\n",
              "                                                url  \\\n",
              "0  http://www.colourlovers.com/lover/MDRashedulAlam   \n",
              "1          http://www.colourlovers.com/lover/Justly   \n",
              "2   http://www.colourlovers.com/lover/GuavaOnHaight   \n",
              "3  http://www.colourlovers.com/lover/zoroychocolate   \n",
              "4           http://www.colourlovers.com/lover/Valks   \n",
              "\n",
              "                                              apiUrl  \n",
              "0  http://www.colourlovers.com/api/lover/MDRashed...  \n",
              "1       http://www.colourlovers.com/api/lover/Justly  \n",
              "2  http://www.colourlovers.com/api/lover/GuavaOnH...  \n",
              "3  http://www.colourlovers.com/api/lover/zoroycho...  \n",
              "4        http://www.colourlovers.com/api/lover/Valks  "
            ],
            "text/html": [
              "\n",
              "  <div id=\"df-9f604a86-8862-40d0-8cf5-8c7fb4c3f9b2\" class=\"colab-df-container\">\n",
              "    <div>\n",
              "<style scoped>\n",
              "    .dataframe tbody tr th:only-of-type {\n",
              "        vertical-align: middle;\n",
              "    }\n",
              "\n",
              "    .dataframe tbody tr th {\n",
              "        vertical-align: top;\n",
              "    }\n",
              "\n",
              "    .dataframe thead th {\n",
              "        text-align: right;\n",
              "    }\n",
              "</style>\n",
              "<table border=\"1\" class=\"dataframe\">\n",
              "  <thead>\n",
              "    <tr style=\"text-align: right;\">\n",
              "      <th></th>\n",
              "      <th>userName</th>\n",
              "      <th>dateRegistered</th>\n",
              "      <th>dateLastActive</th>\n",
              "      <th>rating</th>\n",
              "      <th>location</th>\n",
              "      <th>numColors</th>\n",
              "      <th>numPalettes</th>\n",
              "      <th>numPatterns</th>\n",
              "      <th>numCommentsMade</th>\n",
              "      <th>numLovers</th>\n",
              "      <th>numCommentsOnProfile</th>\n",
              "      <th>comments</th>\n",
              "      <th>url</th>\n",
              "      <th>apiUrl</th>\n",
              "    </tr>\n",
              "  </thead>\n",
              "  <tbody>\n",
              "    <tr>\n",
              "      <th>0</th>\n",
              "      <td>MDRashedulAlam</td>\n",
              "      <td>2023-12-28 06:53:06</td>\n",
              "      <td>2023-12-28 06:57:45</td>\n",
              "      <td>0</td>\n",
              "      <td>bangladesh</td>\n",
              "      <td>0</td>\n",
              "      <td>0</td>\n",
              "      <td>0</td>\n",
              "      <td>0</td>\n",
              "      <td>0</td>\n",
              "      <td>0</td>\n",
              "      <td>[]</td>\n",
              "      <td>http://www.colourlovers.com/lover/MDRashedulAlam</td>\n",
              "      <td>http://www.colourlovers.com/api/lover/MDRashed...</td>\n",
              "    </tr>\n",
              "    <tr>\n",
              "      <th>1</th>\n",
              "      <td>Justly</td>\n",
              "      <td>2023-12-28 06:34:26</td>\n",
              "      <td>2023-12-28 06:34:26</td>\n",
              "      <td>0</td>\n",
              "      <td></td>\n",
              "      <td>0</td>\n",
              "      <td>0</td>\n",
              "      <td>0</td>\n",
              "      <td>0</td>\n",
              "      <td>0</td>\n",
              "      <td>0</td>\n",
              "      <td>[]</td>\n",
              "      <td>http://www.colourlovers.com/lover/Justly</td>\n",
              "      <td>http://www.colourlovers.com/api/lover/Justly</td>\n",
              "    </tr>\n",
              "    <tr>\n",
              "      <th>2</th>\n",
              "      <td>GuavaOnHaight</td>\n",
              "      <td>2023-12-28 06:11:17</td>\n",
              "      <td>2023-12-28 06:11:50</td>\n",
              "      <td>0</td>\n",
              "      <td></td>\n",
              "      <td>0</td>\n",
              "      <td>0</td>\n",
              "      <td>0</td>\n",
              "      <td>0</td>\n",
              "      <td>0</td>\n",
              "      <td>0</td>\n",
              "      <td>[]</td>\n",
              "      <td>http://www.colourlovers.com/lover/GuavaOnHaight</td>\n",
              "      <td>http://www.colourlovers.com/api/lover/GuavaOnH...</td>\n",
              "    </tr>\n",
              "    <tr>\n",
              "      <th>3</th>\n",
              "      <td>zoroychocolate</td>\n",
              "      <td>2023-12-28 06:08:46</td>\n",
              "      <td>2023-12-28 06:08:46</td>\n",
              "      <td>0</td>\n",
              "      <td></td>\n",
              "      <td>0</td>\n",
              "      <td>0</td>\n",
              "      <td>0</td>\n",
              "      <td>0</td>\n",
              "      <td>0</td>\n",
              "      <td>0</td>\n",
              "      <td>[]</td>\n",
              "      <td>http://www.colourlovers.com/lover/zoroychocolate</td>\n",
              "      <td>http://www.colourlovers.com/api/lover/zoroycho...</td>\n",
              "    </tr>\n",
              "    <tr>\n",
              "      <th>4</th>\n",
              "      <td>Valks</td>\n",
              "      <td>2023-12-28 05:57:49</td>\n",
              "      <td>2023-12-28 07:00:00</td>\n",
              "      <td>0</td>\n",
              "      <td></td>\n",
              "      <td>0</td>\n",
              "      <td>0</td>\n",
              "      <td>0</td>\n",
              "      <td>0</td>\n",
              "      <td>0</td>\n",
              "      <td>0</td>\n",
              "      <td>[]</td>\n",
              "      <td>http://www.colourlovers.com/lover/Valks</td>\n",
              "      <td>http://www.colourlovers.com/api/lover/Valks</td>\n",
              "    </tr>\n",
              "  </tbody>\n",
              "</table>\n",
              "</div>\n",
              "    <div class=\"colab-df-buttons\">\n",
              "\n",
              "  <div class=\"colab-df-container\">\n",
              "    <button class=\"colab-df-convert\" onclick=\"convertToInteractive('df-9f604a86-8862-40d0-8cf5-8c7fb4c3f9b2')\"\n",
              "            title=\"Convert this dataframe to an interactive table.\"\n",
              "            style=\"display:none;\">\n",
              "\n",
              "  <svg xmlns=\"http://www.w3.org/2000/svg\" height=\"24px\" viewBox=\"0 -960 960 960\">\n",
              "    <path d=\"M120-120v-720h720v720H120Zm60-500h600v-160H180v160Zm220 220h160v-160H400v160Zm0 220h160v-160H400v160ZM180-400h160v-160H180v160Zm440 0h160v-160H620v160ZM180-180h160v-160H180v160Zm440 0h160v-160H620v160Z\"/>\n",
              "  </svg>\n",
              "    </button>\n",
              "\n",
              "  <style>\n",
              "    .colab-df-container {\n",
              "      display:flex;\n",
              "      gap: 12px;\n",
              "    }\n",
              "\n",
              "    .colab-df-convert {\n",
              "      background-color: #E8F0FE;\n",
              "      border: none;\n",
              "      border-radius: 50%;\n",
              "      cursor: pointer;\n",
              "      display: none;\n",
              "      fill: #1967D2;\n",
              "      height: 32px;\n",
              "      padding: 0 0 0 0;\n",
              "      width: 32px;\n",
              "    }\n",
              "\n",
              "    .colab-df-convert:hover {\n",
              "      background-color: #E2EBFA;\n",
              "      box-shadow: 0px 1px 2px rgba(60, 64, 67, 0.3), 0px 1px 3px 1px rgba(60, 64, 67, 0.15);\n",
              "      fill: #174EA6;\n",
              "    }\n",
              "\n",
              "    .colab-df-buttons div {\n",
              "      margin-bottom: 4px;\n",
              "    }\n",
              "\n",
              "    [theme=dark] .colab-df-convert {\n",
              "      background-color: #3B4455;\n",
              "      fill: #D2E3FC;\n",
              "    }\n",
              "\n",
              "    [theme=dark] .colab-df-convert:hover {\n",
              "      background-color: #434B5C;\n",
              "      box-shadow: 0px 1px 3px 1px rgba(0, 0, 0, 0.15);\n",
              "      filter: drop-shadow(0px 1px 2px rgba(0, 0, 0, 0.3));\n",
              "      fill: #FFFFFF;\n",
              "    }\n",
              "  </style>\n",
              "\n",
              "    <script>\n",
              "      const buttonEl =\n",
              "        document.querySelector('#df-9f604a86-8862-40d0-8cf5-8c7fb4c3f9b2 button.colab-df-convert');\n",
              "      buttonEl.style.display =\n",
              "        google.colab.kernel.accessAllowed ? 'block' : 'none';\n",
              "\n",
              "      async function convertToInteractive(key) {\n",
              "        const element = document.querySelector('#df-9f604a86-8862-40d0-8cf5-8c7fb4c3f9b2');\n",
              "        const dataTable =\n",
              "          await google.colab.kernel.invokeFunction('convertToInteractive',\n",
              "                                                    [key], {});\n",
              "        if (!dataTable) return;\n",
              "\n",
              "        const docLinkHtml = 'Like what you see? Visit the ' +\n",
              "          '<a target=\"_blank\" href=https://colab.research.google.com/notebooks/data_table.ipynb>data table notebook</a>'\n",
              "          + ' to learn more about interactive tables.';\n",
              "        element.innerHTML = '';\n",
              "        dataTable['output_type'] = 'display_data';\n",
              "        await google.colab.output.renderOutput(dataTable, element);\n",
              "        const docLink = document.createElement('div');\n",
              "        docLink.innerHTML = docLinkHtml;\n",
              "        element.appendChild(docLink);\n",
              "      }\n",
              "    </script>\n",
              "  </div>\n",
              "\n",
              "\n",
              "<div id=\"df-2cc74f21-0153-4104-8579-c5ddf513f10c\">\n",
              "  <button class=\"colab-df-quickchart\" onclick=\"quickchart('df-2cc74f21-0153-4104-8579-c5ddf513f10c')\"\n",
              "            title=\"Suggest charts\"\n",
              "            style=\"display:none;\">\n",
              "\n",
              "<svg xmlns=\"http://www.w3.org/2000/svg\" height=\"24px\"viewBox=\"0 0 24 24\"\n",
              "     width=\"24px\">\n",
              "    <g>\n",
              "        <path d=\"M19 3H5c-1.1 0-2 .9-2 2v14c0 1.1.9 2 2 2h14c1.1 0 2-.9 2-2V5c0-1.1-.9-2-2-2zM9 17H7v-7h2v7zm4 0h-2V7h2v10zm4 0h-2v-4h2v4z\"/>\n",
              "    </g>\n",
              "</svg>\n",
              "  </button>\n",
              "\n",
              "<style>\n",
              "  .colab-df-quickchart {\n",
              "      --bg-color: #E8F0FE;\n",
              "      --fill-color: #1967D2;\n",
              "      --hover-bg-color: #E2EBFA;\n",
              "      --hover-fill-color: #174EA6;\n",
              "      --disabled-fill-color: #AAA;\n",
              "      --disabled-bg-color: #DDD;\n",
              "  }\n",
              "\n",
              "  [theme=dark] .colab-df-quickchart {\n",
              "      --bg-color: #3B4455;\n",
              "      --fill-color: #D2E3FC;\n",
              "      --hover-bg-color: #434B5C;\n",
              "      --hover-fill-color: #FFFFFF;\n",
              "      --disabled-bg-color: #3B4455;\n",
              "      --disabled-fill-color: #666;\n",
              "  }\n",
              "\n",
              "  .colab-df-quickchart {\n",
              "    background-color: var(--bg-color);\n",
              "    border: none;\n",
              "    border-radius: 50%;\n",
              "    cursor: pointer;\n",
              "    display: none;\n",
              "    fill: var(--fill-color);\n",
              "    height: 32px;\n",
              "    padding: 0;\n",
              "    width: 32px;\n",
              "  }\n",
              "\n",
              "  .colab-df-quickchart:hover {\n",
              "    background-color: var(--hover-bg-color);\n",
              "    box-shadow: 0 1px 2px rgba(60, 64, 67, 0.3), 0 1px 3px 1px rgba(60, 64, 67, 0.15);\n",
              "    fill: var(--button-hover-fill-color);\n",
              "  }\n",
              "\n",
              "  .colab-df-quickchart-complete:disabled,\n",
              "  .colab-df-quickchart-complete:disabled:hover {\n",
              "    background-color: var(--disabled-bg-color);\n",
              "    fill: var(--disabled-fill-color);\n",
              "    box-shadow: none;\n",
              "  }\n",
              "\n",
              "  .colab-df-spinner {\n",
              "    border: 2px solid var(--fill-color);\n",
              "    border-color: transparent;\n",
              "    border-bottom-color: var(--fill-color);\n",
              "    animation:\n",
              "      spin 1s steps(1) infinite;\n",
              "  }\n",
              "\n",
              "  @keyframes spin {\n",
              "    0% {\n",
              "      border-color: transparent;\n",
              "      border-bottom-color: var(--fill-color);\n",
              "      border-left-color: var(--fill-color);\n",
              "    }\n",
              "    20% {\n",
              "      border-color: transparent;\n",
              "      border-left-color: var(--fill-color);\n",
              "      border-top-color: var(--fill-color);\n",
              "    }\n",
              "    30% {\n",
              "      border-color: transparent;\n",
              "      border-left-color: var(--fill-color);\n",
              "      border-top-color: var(--fill-color);\n",
              "      border-right-color: var(--fill-color);\n",
              "    }\n",
              "    40% {\n",
              "      border-color: transparent;\n",
              "      border-right-color: var(--fill-color);\n",
              "      border-top-color: var(--fill-color);\n",
              "    }\n",
              "    60% {\n",
              "      border-color: transparent;\n",
              "      border-right-color: var(--fill-color);\n",
              "    }\n",
              "    80% {\n",
              "      border-color: transparent;\n",
              "      border-right-color: var(--fill-color);\n",
              "      border-bottom-color: var(--fill-color);\n",
              "    }\n",
              "    90% {\n",
              "      border-color: transparent;\n",
              "      border-bottom-color: var(--fill-color);\n",
              "    }\n",
              "  }\n",
              "</style>\n",
              "\n",
              "  <script>\n",
              "    async function quickchart(key) {\n",
              "      const quickchartButtonEl =\n",
              "        document.querySelector('#' + key + ' button');\n",
              "      quickchartButtonEl.disabled = true;  // To prevent multiple clicks.\n",
              "      quickchartButtonEl.classList.add('colab-df-spinner');\n",
              "      try {\n",
              "        const charts = await google.colab.kernel.invokeFunction(\n",
              "            'suggestCharts', [key], {});\n",
              "      } catch (error) {\n",
              "        console.error('Error during call to suggestCharts:', error);\n",
              "      }\n",
              "      quickchartButtonEl.classList.remove('colab-df-spinner');\n",
              "      quickchartButtonEl.classList.add('colab-df-quickchart-complete');\n",
              "    }\n",
              "    (() => {\n",
              "      let quickchartButtonEl =\n",
              "        document.querySelector('#df-2cc74f21-0153-4104-8579-c5ddf513f10c button');\n",
              "      quickchartButtonEl.style.display =\n",
              "        google.colab.kernel.accessAllowed ? 'block' : 'none';\n",
              "    })();\n",
              "  </script>\n",
              "</div>\n",
              "\n",
              "    </div>\n",
              "  </div>\n"
            ]
          },
          "metadata": {},
          "execution_count": 152
        }
      ]
    },
    {
      "cell_type": "code",
      "source": [
        "lovers_new_data.info()"
      ],
      "metadata": {
        "colab": {
          "base_uri": "https://localhost:8080/"
        },
        "id": "BovrWYyFiZoX",
        "outputId": "a79e1ec7-cfe0-4295-b6d6-a3361946ea17"
      },
      "execution_count": 153,
      "outputs": [
        {
          "output_type": "stream",
          "name": "stdout",
          "text": [
            "<class 'pandas.core.frame.DataFrame'>\n",
            "RangeIndex: 2900 entries, 0 to 2899\n",
            "Data columns (total 14 columns):\n",
            " #   Column                Non-Null Count  Dtype \n",
            "---  ------                --------------  ----- \n",
            " 0   userName              2900 non-null   object\n",
            " 1   dateRegistered        2900 non-null   object\n",
            " 2   dateLastActive        2900 non-null   object\n",
            " 3   rating                2900 non-null   int64 \n",
            " 4   location              2900 non-null   object\n",
            " 5   numColors             2900 non-null   int64 \n",
            " 6   numPalettes           2900 non-null   int64 \n",
            " 7   numPatterns           2900 non-null   int64 \n",
            " 8   numCommentsMade       2900 non-null   int64 \n",
            " 9   numLovers             2900 non-null   int64 \n",
            " 10  numCommentsOnProfile  2900 non-null   int64 \n",
            " 11  comments              2900 non-null   object\n",
            " 12  url                   2900 non-null   object\n",
            " 13  apiUrl                2900 non-null   object\n",
            "dtypes: int64(7), object(7)\n",
            "memory usage: 317.3+ KB\n"
          ]
        }
      ]
    },
    {
      "cell_type": "markdown",
      "source": [
        "2900 users, no missing data detected"
      ],
      "metadata": {
        "id": "Blve07fNjsTd"
      }
    },
    {
      "cell_type": "code",
      "source": [
        "lovers_new_data.dtypes"
      ],
      "metadata": {
        "colab": {
          "base_uri": "https://localhost:8080/"
        },
        "id": "sUWAEng2igev",
        "outputId": "3a37397d-ad82-4f05-fd15-cc1eb1b06582"
      },
      "execution_count": 154,
      "outputs": [
        {
          "output_type": "execute_result",
          "data": {
            "text/plain": [
              "userName                object\n",
              "dateRegistered          object\n",
              "dateLastActive          object\n",
              "rating                   int64\n",
              "location                object\n",
              "numColors                int64\n",
              "numPalettes              int64\n",
              "numPatterns              int64\n",
              "numCommentsMade          int64\n",
              "numLovers                int64\n",
              "numCommentsOnProfile     int64\n",
              "comments                object\n",
              "url                     object\n",
              "apiUrl                  object\n",
              "dtype: object"
            ]
          },
          "metadata": {},
          "execution_count": 154
        }
      ]
    },
    {
      "cell_type": "markdown",
      "source": [
        "Convert to date type"
      ],
      "metadata": {
        "id": "XNFYk_2WisK5"
      }
    },
    {
      "cell_type": "code",
      "source": [
        "lovers_new_data['dateRegistered'] = pd.to_datetime(lovers_new_data['dateRegistered'], errors='coerce')\n",
        "lovers_new_data['dateRegistered'] = lovers_new_data['dateRegistered'].dt.strftime('%Y-%m-%d')\n",
        "\n",
        "lovers_new_data['dateLastActive'] = pd.to_datetime(lovers_new_data['dateLastActive'], errors='coerce')\n",
        "lovers_new_data['dateLastActive'] = lovers_new_data['dateLastActive'].dt.strftime('%Y-%m-%d')"
      ],
      "metadata": {
        "id": "3FtDONxLioQo"
      },
      "execution_count": 155,
      "outputs": []
    },
    {
      "cell_type": "code",
      "source": [
        "lovers_new_data['dateRegistered'] = pd.to_datetime(lovers_new_data['dateRegistered'], errors='coerce')\n",
        "\n",
        "# Check for rows where conversion failed\n",
        "failed_conversion = lovers_new_data['dateRegistered'][lovers_new_data['dateRegistered'].isnull()]\n",
        "failed_conversion\n",
        "\n",
        "lovers_new_data['dateLastActive'] = pd.to_datetime(lovers_new_data['dateLastActive'], errors='coerce')\n",
        "\n",
        "# Check for rows where conversion failed\n",
        "failed_conversion = lovers_new_data['dateLastActive'][lovers_new_data['dateLastActive'].isnull()]\n",
        "failed_conversion"
      ],
      "metadata": {
        "colab": {
          "base_uri": "https://localhost:8080/"
        },
        "id": "ZyFTUGtVjALe",
        "outputId": "e6e6760e-0130-47cc-fd4d-7f07de383e48"
      },
      "execution_count": 156,
      "outputs": [
        {
          "output_type": "execute_result",
          "data": {
            "text/plain": [
              "Series([], Name: dateLastActive, dtype: datetime64[ns])"
            ]
          },
          "metadata": {},
          "execution_count": 156
        }
      ]
    },
    {
      "cell_type": "code",
      "source": [
        "lovers_new_data.dtypes #Check"
      ],
      "metadata": {
        "colab": {
          "base_uri": "https://localhost:8080/"
        },
        "id": "SzaedNs4jUD4",
        "outputId": "438c5271-5c8a-4ca7-e013-ddaacfd15d9d"
      },
      "execution_count": 157,
      "outputs": [
        {
          "output_type": "execute_result",
          "data": {
            "text/plain": [
              "userName                        object\n",
              "dateRegistered          datetime64[ns]\n",
              "dateLastActive          datetime64[ns]\n",
              "rating                           int64\n",
              "location                        object\n",
              "numColors                        int64\n",
              "numPalettes                      int64\n",
              "numPatterns                      int64\n",
              "numCommentsMade                  int64\n",
              "numLovers                        int64\n",
              "numCommentsOnProfile             int64\n",
              "comments                        object\n",
              "url                             object\n",
              "apiUrl                          object\n",
              "dtype: object"
            ]
          },
          "metadata": {},
          "execution_count": 157
        }
      ]
    },
    {
      "cell_type": "code",
      "source": [
        "lovers_new_data.drop_duplicates(subset=['userName'], keep='first', inplace=True)\n"
      ],
      "metadata": {
        "id": "8IDFIow7j0jk"
      },
      "execution_count": 158,
      "outputs": []
    },
    {
      "cell_type": "markdown",
      "source": [
        "Highly ranked users"
      ],
      "metadata": {
        "id": "pQgkxJ-ds6EO"
      }
    },
    {
      "cell_type": "code",
      "source": [
        "lovers_top_data = pd.read_json(r'/lovers_top.json')\n",
        "lovers_top_data.head()"
      ],
      "metadata": {
        "colab": {
          "base_uri": "https://localhost:8080/",
          "height": 313
        },
        "id": "5Qh9xdFVsuBo",
        "outputId": "8861f3fd-f454-4658-d055-712aac5b7330"
      },
      "execution_count": 159,
      "outputs": [
        {
          "output_type": "execute_result",
          "data": {
            "text/plain": [
              "            userName       dateRegistered       dateLastActive    rating  \\\n",
              "0           mnum6492  2016-05-24 17:06:55  2016-05-25 02:21:06  16777215   \n",
              "1  clathatizzhei1982  2016-05-21 05:24:36  2016-05-27 13:55:29  16777215   \n",
              "2             mcsara  2016-05-16 21:45:27  2016-06-27 00:36:44  16777215   \n",
              "3      AlphonsoKrist  2016-03-26 20:43:54  2016-06-01 09:27:31  16777215   \n",
              "4     ShannonSarault  2016-03-22 14:50:18  2016-03-23 22:57:09  16777215   \n",
              "\n",
              "  location  numColors  numPalettes  numPatterns  numCommentsMade  numLovers  \\\n",
              "0                   0            0            0                0          1   \n",
              "1                   9           20            0                0          0   \n",
              "2                1112          653          407                2          5   \n",
              "3                1700            0            0                0          0   \n",
              "4                 327          819            0                0          1   \n",
              "\n",
              "   numCommentsOnProfile comments  \\\n",
              "0                     0       []   \n",
              "1                     0       []   \n",
              "2                     2       []   \n",
              "3                     0       []   \n",
              "4                     2       []   \n",
              "\n",
              "                                                 url  \\\n",
              "0         http://www.colourlovers.com/lover/mnum6492   \n",
              "1  http://www.colourlovers.com/lover/clathatizzhe...   \n",
              "2           http://www.colourlovers.com/lover/mcsara   \n",
              "3    http://www.colourlovers.com/lover/AlphonsoKrist   \n",
              "4   http://www.colourlovers.com/lover/ShannonSarault   \n",
              "\n",
              "                                              apiUrl  \n",
              "0     http://www.colourlovers.com/api/lover/mnum6492  \n",
              "1  http://www.colourlovers.com/api/lover/clathati...  \n",
              "2       http://www.colourlovers.com/api/lover/mcsara  \n",
              "3  http://www.colourlovers.com/api/lover/Alphonso...  \n",
              "4  http://www.colourlovers.com/api/lover/ShannonS...  "
            ],
            "text/html": [
              "\n",
              "  <div id=\"df-e127db78-599d-4e3f-bf7a-34c984edf5d8\" class=\"colab-df-container\">\n",
              "    <div>\n",
              "<style scoped>\n",
              "    .dataframe tbody tr th:only-of-type {\n",
              "        vertical-align: middle;\n",
              "    }\n",
              "\n",
              "    .dataframe tbody tr th {\n",
              "        vertical-align: top;\n",
              "    }\n",
              "\n",
              "    .dataframe thead th {\n",
              "        text-align: right;\n",
              "    }\n",
              "</style>\n",
              "<table border=\"1\" class=\"dataframe\">\n",
              "  <thead>\n",
              "    <tr style=\"text-align: right;\">\n",
              "      <th></th>\n",
              "      <th>userName</th>\n",
              "      <th>dateRegistered</th>\n",
              "      <th>dateLastActive</th>\n",
              "      <th>rating</th>\n",
              "      <th>location</th>\n",
              "      <th>numColors</th>\n",
              "      <th>numPalettes</th>\n",
              "      <th>numPatterns</th>\n",
              "      <th>numCommentsMade</th>\n",
              "      <th>numLovers</th>\n",
              "      <th>numCommentsOnProfile</th>\n",
              "      <th>comments</th>\n",
              "      <th>url</th>\n",
              "      <th>apiUrl</th>\n",
              "    </tr>\n",
              "  </thead>\n",
              "  <tbody>\n",
              "    <tr>\n",
              "      <th>0</th>\n",
              "      <td>mnum6492</td>\n",
              "      <td>2016-05-24 17:06:55</td>\n",
              "      <td>2016-05-25 02:21:06</td>\n",
              "      <td>16777215</td>\n",
              "      <td></td>\n",
              "      <td>0</td>\n",
              "      <td>0</td>\n",
              "      <td>0</td>\n",
              "      <td>0</td>\n",
              "      <td>1</td>\n",
              "      <td>0</td>\n",
              "      <td>[]</td>\n",
              "      <td>http://www.colourlovers.com/lover/mnum6492</td>\n",
              "      <td>http://www.colourlovers.com/api/lover/mnum6492</td>\n",
              "    </tr>\n",
              "    <tr>\n",
              "      <th>1</th>\n",
              "      <td>clathatizzhei1982</td>\n",
              "      <td>2016-05-21 05:24:36</td>\n",
              "      <td>2016-05-27 13:55:29</td>\n",
              "      <td>16777215</td>\n",
              "      <td></td>\n",
              "      <td>9</td>\n",
              "      <td>20</td>\n",
              "      <td>0</td>\n",
              "      <td>0</td>\n",
              "      <td>0</td>\n",
              "      <td>0</td>\n",
              "      <td>[]</td>\n",
              "      <td>http://www.colourlovers.com/lover/clathatizzhe...</td>\n",
              "      <td>http://www.colourlovers.com/api/lover/clathati...</td>\n",
              "    </tr>\n",
              "    <tr>\n",
              "      <th>2</th>\n",
              "      <td>mcsara</td>\n",
              "      <td>2016-05-16 21:45:27</td>\n",
              "      <td>2016-06-27 00:36:44</td>\n",
              "      <td>16777215</td>\n",
              "      <td></td>\n",
              "      <td>1112</td>\n",
              "      <td>653</td>\n",
              "      <td>407</td>\n",
              "      <td>2</td>\n",
              "      <td>5</td>\n",
              "      <td>2</td>\n",
              "      <td>[]</td>\n",
              "      <td>http://www.colourlovers.com/lover/mcsara</td>\n",
              "      <td>http://www.colourlovers.com/api/lover/mcsara</td>\n",
              "    </tr>\n",
              "    <tr>\n",
              "      <th>3</th>\n",
              "      <td>AlphonsoKrist</td>\n",
              "      <td>2016-03-26 20:43:54</td>\n",
              "      <td>2016-06-01 09:27:31</td>\n",
              "      <td>16777215</td>\n",
              "      <td></td>\n",
              "      <td>1700</td>\n",
              "      <td>0</td>\n",
              "      <td>0</td>\n",
              "      <td>0</td>\n",
              "      <td>0</td>\n",
              "      <td>0</td>\n",
              "      <td>[]</td>\n",
              "      <td>http://www.colourlovers.com/lover/AlphonsoKrist</td>\n",
              "      <td>http://www.colourlovers.com/api/lover/Alphonso...</td>\n",
              "    </tr>\n",
              "    <tr>\n",
              "      <th>4</th>\n",
              "      <td>ShannonSarault</td>\n",
              "      <td>2016-03-22 14:50:18</td>\n",
              "      <td>2016-03-23 22:57:09</td>\n",
              "      <td>16777215</td>\n",
              "      <td></td>\n",
              "      <td>327</td>\n",
              "      <td>819</td>\n",
              "      <td>0</td>\n",
              "      <td>0</td>\n",
              "      <td>1</td>\n",
              "      <td>2</td>\n",
              "      <td>[]</td>\n",
              "      <td>http://www.colourlovers.com/lover/ShannonSarault</td>\n",
              "      <td>http://www.colourlovers.com/api/lover/ShannonS...</td>\n",
              "    </tr>\n",
              "  </tbody>\n",
              "</table>\n",
              "</div>\n",
              "    <div class=\"colab-df-buttons\">\n",
              "\n",
              "  <div class=\"colab-df-container\">\n",
              "    <button class=\"colab-df-convert\" onclick=\"convertToInteractive('df-e127db78-599d-4e3f-bf7a-34c984edf5d8')\"\n",
              "            title=\"Convert this dataframe to an interactive table.\"\n",
              "            style=\"display:none;\">\n",
              "\n",
              "  <svg xmlns=\"http://www.w3.org/2000/svg\" height=\"24px\" viewBox=\"0 -960 960 960\">\n",
              "    <path d=\"M120-120v-720h720v720H120Zm60-500h600v-160H180v160Zm220 220h160v-160H400v160Zm0 220h160v-160H400v160ZM180-400h160v-160H180v160Zm440 0h160v-160H620v160ZM180-180h160v-160H180v160Zm440 0h160v-160H620v160Z\"/>\n",
              "  </svg>\n",
              "    </button>\n",
              "\n",
              "  <style>\n",
              "    .colab-df-container {\n",
              "      display:flex;\n",
              "      gap: 12px;\n",
              "    }\n",
              "\n",
              "    .colab-df-convert {\n",
              "      background-color: #E8F0FE;\n",
              "      border: none;\n",
              "      border-radius: 50%;\n",
              "      cursor: pointer;\n",
              "      display: none;\n",
              "      fill: #1967D2;\n",
              "      height: 32px;\n",
              "      padding: 0 0 0 0;\n",
              "      width: 32px;\n",
              "    }\n",
              "\n",
              "    .colab-df-convert:hover {\n",
              "      background-color: #E2EBFA;\n",
              "      box-shadow: 0px 1px 2px rgba(60, 64, 67, 0.3), 0px 1px 3px 1px rgba(60, 64, 67, 0.15);\n",
              "      fill: #174EA6;\n",
              "    }\n",
              "\n",
              "    .colab-df-buttons div {\n",
              "      margin-bottom: 4px;\n",
              "    }\n",
              "\n",
              "    [theme=dark] .colab-df-convert {\n",
              "      background-color: #3B4455;\n",
              "      fill: #D2E3FC;\n",
              "    }\n",
              "\n",
              "    [theme=dark] .colab-df-convert:hover {\n",
              "      background-color: #434B5C;\n",
              "      box-shadow: 0px 1px 3px 1px rgba(0, 0, 0, 0.15);\n",
              "      filter: drop-shadow(0px 1px 2px rgba(0, 0, 0, 0.3));\n",
              "      fill: #FFFFFF;\n",
              "    }\n",
              "  </style>\n",
              "\n",
              "    <script>\n",
              "      const buttonEl =\n",
              "        document.querySelector('#df-e127db78-599d-4e3f-bf7a-34c984edf5d8 button.colab-df-convert');\n",
              "      buttonEl.style.display =\n",
              "        google.colab.kernel.accessAllowed ? 'block' : 'none';\n",
              "\n",
              "      async function convertToInteractive(key) {\n",
              "        const element = document.querySelector('#df-e127db78-599d-4e3f-bf7a-34c984edf5d8');\n",
              "        const dataTable =\n",
              "          await google.colab.kernel.invokeFunction('convertToInteractive',\n",
              "                                                    [key], {});\n",
              "        if (!dataTable) return;\n",
              "\n",
              "        const docLinkHtml = 'Like what you see? Visit the ' +\n",
              "          '<a target=\"_blank\" href=https://colab.research.google.com/notebooks/data_table.ipynb>data table notebook</a>'\n",
              "          + ' to learn more about interactive tables.';\n",
              "        element.innerHTML = '';\n",
              "        dataTable['output_type'] = 'display_data';\n",
              "        await google.colab.output.renderOutput(dataTable, element);\n",
              "        const docLink = document.createElement('div');\n",
              "        docLink.innerHTML = docLinkHtml;\n",
              "        element.appendChild(docLink);\n",
              "      }\n",
              "    </script>\n",
              "  </div>\n",
              "\n",
              "\n",
              "<div id=\"df-0fae866b-3743-47b0-bbf2-e5caa26f7a4d\">\n",
              "  <button class=\"colab-df-quickchart\" onclick=\"quickchart('df-0fae866b-3743-47b0-bbf2-e5caa26f7a4d')\"\n",
              "            title=\"Suggest charts\"\n",
              "            style=\"display:none;\">\n",
              "\n",
              "<svg xmlns=\"http://www.w3.org/2000/svg\" height=\"24px\"viewBox=\"0 0 24 24\"\n",
              "     width=\"24px\">\n",
              "    <g>\n",
              "        <path d=\"M19 3H5c-1.1 0-2 .9-2 2v14c0 1.1.9 2 2 2h14c1.1 0 2-.9 2-2V5c0-1.1-.9-2-2-2zM9 17H7v-7h2v7zm4 0h-2V7h2v10zm4 0h-2v-4h2v4z\"/>\n",
              "    </g>\n",
              "</svg>\n",
              "  </button>\n",
              "\n",
              "<style>\n",
              "  .colab-df-quickchart {\n",
              "      --bg-color: #E8F0FE;\n",
              "      --fill-color: #1967D2;\n",
              "      --hover-bg-color: #E2EBFA;\n",
              "      --hover-fill-color: #174EA6;\n",
              "      --disabled-fill-color: #AAA;\n",
              "      --disabled-bg-color: #DDD;\n",
              "  }\n",
              "\n",
              "  [theme=dark] .colab-df-quickchart {\n",
              "      --bg-color: #3B4455;\n",
              "      --fill-color: #D2E3FC;\n",
              "      --hover-bg-color: #434B5C;\n",
              "      --hover-fill-color: #FFFFFF;\n",
              "      --disabled-bg-color: #3B4455;\n",
              "      --disabled-fill-color: #666;\n",
              "  }\n",
              "\n",
              "  .colab-df-quickchart {\n",
              "    background-color: var(--bg-color);\n",
              "    border: none;\n",
              "    border-radius: 50%;\n",
              "    cursor: pointer;\n",
              "    display: none;\n",
              "    fill: var(--fill-color);\n",
              "    height: 32px;\n",
              "    padding: 0;\n",
              "    width: 32px;\n",
              "  }\n",
              "\n",
              "  .colab-df-quickchart:hover {\n",
              "    background-color: var(--hover-bg-color);\n",
              "    box-shadow: 0 1px 2px rgba(60, 64, 67, 0.3), 0 1px 3px 1px rgba(60, 64, 67, 0.15);\n",
              "    fill: var(--button-hover-fill-color);\n",
              "  }\n",
              "\n",
              "  .colab-df-quickchart-complete:disabled,\n",
              "  .colab-df-quickchart-complete:disabled:hover {\n",
              "    background-color: var(--disabled-bg-color);\n",
              "    fill: var(--disabled-fill-color);\n",
              "    box-shadow: none;\n",
              "  }\n",
              "\n",
              "  .colab-df-spinner {\n",
              "    border: 2px solid var(--fill-color);\n",
              "    border-color: transparent;\n",
              "    border-bottom-color: var(--fill-color);\n",
              "    animation:\n",
              "      spin 1s steps(1) infinite;\n",
              "  }\n",
              "\n",
              "  @keyframes spin {\n",
              "    0% {\n",
              "      border-color: transparent;\n",
              "      border-bottom-color: var(--fill-color);\n",
              "      border-left-color: var(--fill-color);\n",
              "    }\n",
              "    20% {\n",
              "      border-color: transparent;\n",
              "      border-left-color: var(--fill-color);\n",
              "      border-top-color: var(--fill-color);\n",
              "    }\n",
              "    30% {\n",
              "      border-color: transparent;\n",
              "      border-left-color: var(--fill-color);\n",
              "      border-top-color: var(--fill-color);\n",
              "      border-right-color: var(--fill-color);\n",
              "    }\n",
              "    40% {\n",
              "      border-color: transparent;\n",
              "      border-right-color: var(--fill-color);\n",
              "      border-top-color: var(--fill-color);\n",
              "    }\n",
              "    60% {\n",
              "      border-color: transparent;\n",
              "      border-right-color: var(--fill-color);\n",
              "    }\n",
              "    80% {\n",
              "      border-color: transparent;\n",
              "      border-right-color: var(--fill-color);\n",
              "      border-bottom-color: var(--fill-color);\n",
              "    }\n",
              "    90% {\n",
              "      border-color: transparent;\n",
              "      border-bottom-color: var(--fill-color);\n",
              "    }\n",
              "  }\n",
              "</style>\n",
              "\n",
              "  <script>\n",
              "    async function quickchart(key) {\n",
              "      const quickchartButtonEl =\n",
              "        document.querySelector('#' + key + ' button');\n",
              "      quickchartButtonEl.disabled = true;  // To prevent multiple clicks.\n",
              "      quickchartButtonEl.classList.add('colab-df-spinner');\n",
              "      try {\n",
              "        const charts = await google.colab.kernel.invokeFunction(\n",
              "            'suggestCharts', [key], {});\n",
              "      } catch (error) {\n",
              "        console.error('Error during call to suggestCharts:', error);\n",
              "      }\n",
              "      quickchartButtonEl.classList.remove('colab-df-spinner');\n",
              "      quickchartButtonEl.classList.add('colab-df-quickchart-complete');\n",
              "    }\n",
              "    (() => {\n",
              "      let quickchartButtonEl =\n",
              "        document.querySelector('#df-0fae866b-3743-47b0-bbf2-e5caa26f7a4d button');\n",
              "      quickchartButtonEl.style.display =\n",
              "        google.colab.kernel.accessAllowed ? 'block' : 'none';\n",
              "    })();\n",
              "  </script>\n",
              "</div>\n",
              "\n",
              "    </div>\n",
              "  </div>\n"
            ]
          },
          "metadata": {},
          "execution_count": 159
        }
      ]
    },
    {
      "cell_type": "code",
      "source": [
        "lovers_top_data.info()"
      ],
      "metadata": {
        "colab": {
          "base_uri": "https://localhost:8080/"
        },
        "id": "hnZLDgtRtLz8",
        "outputId": "cf9f17d7-b6b0-4778-ce30-2885587c5a52"
      },
      "execution_count": 160,
      "outputs": [
        {
          "output_type": "stream",
          "name": "stdout",
          "text": [
            "<class 'pandas.core.frame.DataFrame'>\n",
            "RangeIndex: 2900 entries, 0 to 2899\n",
            "Data columns (total 14 columns):\n",
            " #   Column                Non-Null Count  Dtype \n",
            "---  ------                --------------  ----- \n",
            " 0   userName              2900 non-null   object\n",
            " 1   dateRegistered        2900 non-null   object\n",
            " 2   dateLastActive        2900 non-null   object\n",
            " 3   rating                2900 non-null   int64 \n",
            " 4   location              2900 non-null   object\n",
            " 5   numColors             2900 non-null   int64 \n",
            " 6   numPalettes           2900 non-null   int64 \n",
            " 7   numPatterns           2900 non-null   int64 \n",
            " 8   numCommentsMade       2900 non-null   int64 \n",
            " 9   numLovers             2900 non-null   int64 \n",
            " 10  numCommentsOnProfile  2900 non-null   int64 \n",
            " 11  comments              2900 non-null   object\n",
            " 12  url                   2900 non-null   object\n",
            " 13  apiUrl                2900 non-null   object\n",
            "dtypes: int64(7), object(7)\n",
            "memory usage: 317.3+ KB\n"
          ]
        }
      ]
    },
    {
      "cell_type": "markdown",
      "source": [
        "2900 highly ranked users, no missing data detected."
      ],
      "metadata": {
        "id": "csTUjUymtSfl"
      }
    },
    {
      "cell_type": "code",
      "source": [
        "lovers_top_data.dtypes"
      ],
      "metadata": {
        "colab": {
          "base_uri": "https://localhost:8080/"
        },
        "id": "-57g828Ctm8n",
        "outputId": "b389cd50-74a0-4557-d92d-3e92879ec88c"
      },
      "execution_count": 161,
      "outputs": [
        {
          "output_type": "execute_result",
          "data": {
            "text/plain": [
              "userName                object\n",
              "dateRegistered          object\n",
              "dateLastActive          object\n",
              "rating                   int64\n",
              "location                object\n",
              "numColors                int64\n",
              "numPalettes              int64\n",
              "numPatterns              int64\n",
              "numCommentsMade          int64\n",
              "numLovers                int64\n",
              "numCommentsOnProfile     int64\n",
              "comments                object\n",
              "url                     object\n",
              "apiUrl                  object\n",
              "dtype: object"
            ]
          },
          "metadata": {},
          "execution_count": 161
        }
      ]
    },
    {
      "cell_type": "markdown",
      "source": [
        "Converting data type"
      ],
      "metadata": {
        "id": "unPoUlR3trNg"
      }
    },
    {
      "cell_type": "code",
      "source": [
        "lovers_top_data['dateRegistered'] = pd.to_datetime(lovers_top_data['dateRegistered'], errors='coerce')\n",
        "lovers_top_data['dateRegistered'] = lovers_top_data['dateRegistered'].dt.strftime('%Y-%m-%d %H:%M:%S')\n",
        "\n",
        "lovers_top_data['dateLastActive'] = pd.to_datetime(lovers_top_data['dateLastActive'], errors='coerce')\n",
        "lovers_top_data['dateLastActive'] = lovers_top_data['dateLastActive'].dt.strftime('%Y-%m-%d %H:%M:%S')"
      ],
      "metadata": {
        "id": "mYFSAwbhttcM"
      },
      "execution_count": 162,
      "outputs": []
    },
    {
      "cell_type": "code",
      "source": [
        "lovers_top_data['dateRegistered'] = pd.to_datetime(lovers_top_data['dateRegistered'], errors='coerce')\n",
        "\n",
        "# Check for rows where conversion failed\n",
        "failed_conversion = lovers_top_data['dateRegistered'][lovers_top_data['dateRegistered'].isnull()]\n",
        "failed_conversion\n",
        "\n",
        "lovers_top_data['dateLastActive'] = pd.to_datetime(lovers_top_data['dateLastActive'], errors='coerce')\n",
        "\n",
        "# Check for rows where conversion failed\n",
        "failed_conversion = lovers_top_data['dateLastActive'][lovers_top_data['dateLastActive'].isnull()]\n",
        "failed_conversion"
      ],
      "metadata": {
        "colab": {
          "base_uri": "https://localhost:8080/"
        },
        "id": "d7Dbdadzt3I0",
        "outputId": "e8feebdf-524e-42a9-bde6-dddf98cd5b48"
      },
      "execution_count": 163,
      "outputs": [
        {
          "output_type": "execute_result",
          "data": {
            "text/plain": [
              "Series([], Name: dateLastActive, dtype: datetime64[ns])"
            ]
          },
          "metadata": {},
          "execution_count": 163
        }
      ]
    },
    {
      "cell_type": "code",
      "source": [
        "lovers_top_data.dtypes #Check"
      ],
      "metadata": {
        "colab": {
          "base_uri": "https://localhost:8080/"
        },
        "id": "o7gbQtePuAvj",
        "outputId": "0dec9e0b-705a-4a02-9eaf-e5ae7d78ea63"
      },
      "execution_count": 164,
      "outputs": [
        {
          "output_type": "execute_result",
          "data": {
            "text/plain": [
              "userName                        object\n",
              "dateRegistered          datetime64[ns]\n",
              "dateLastActive          datetime64[ns]\n",
              "rating                           int64\n",
              "location                        object\n",
              "numColors                        int64\n",
              "numPalettes                      int64\n",
              "numPatterns                      int64\n",
              "numCommentsMade                  int64\n",
              "numLovers                        int64\n",
              "numCommentsOnProfile             int64\n",
              "comments                        object\n",
              "url                             object\n",
              "apiUrl                          object\n",
              "dtype: object"
            ]
          },
          "metadata": {},
          "execution_count": 164
        }
      ]
    },
    {
      "cell_type": "code",
      "source": [
        "lovers_top_data.drop_duplicates(subset=['userName'], keep='first', inplace=True) #drop duplecates\n"
      ],
      "metadata": {
        "id": "LN3vc7O1uFFH"
      },
      "execution_count": 165,
      "outputs": []
    },
    {
      "cell_type": "markdown",
      "source": [
        "Let's create a scatter matrix that displays pairwise relationships between multiple variables in a dataset."
      ],
      "metadata": {
        "id": "aG-ThdbWPbkg"
      }
    },
    {
      "cell_type": "code",
      "source": [
        "import plotly.express as px\n",
        "selected_columns = ['numColors', 'numPalettes', 'numLovers','numCommentsMade']\n",
        "\n",
        "# Create a figure with subplots\n",
        "fig = px.scatter_matrix(lovers_top_data[selected_columns], dimensions=selected_columns, title='Correlation Analysis')\n",
        "\n",
        "# Update layout and display\n",
        "fig.update_traces(diagonal_visible=False)\n",
        "fig.update_layout(width=1000, height=800)\n",
        "fig.show()"
      ],
      "metadata": {
        "colab": {
          "base_uri": "https://localhost:8080/",
          "height": 817
        },
        "id": "Lsuyx-KEsLAG",
        "outputId": "7b166ae3-a854-429d-bab1-a13b797d9bc5"
      },
      "execution_count": 166,
      "outputs": [
        {
          "output_type": "display_data",
          "data": {
            "text/html": [
              "<html>\n",
              "<head><meta charset=\"utf-8\" /></head>\n",
              "<body>\n",
              "    <div>            <script src=\"https://cdnjs.cloudflare.com/ajax/libs/mathjax/2.7.5/MathJax.js?config=TeX-AMS-MML_SVG\"></script><script type=\"text/javascript\">if (window.MathJax && window.MathJax.Hub && window.MathJax.Hub.Config) {window.MathJax.Hub.Config({SVG: {font: \"STIX-Web\"}});}</script>                <script type=\"text/javascript\">window.PlotlyConfig = {MathJaxConfig: 'local'};</script>\n",
              "        <script charset=\"utf-8\" src=\"https://cdn.plot.ly/plotly-2.24.1.min.js\"></script>                <div id=\"c9a14dde-d096-42e9-be0b-23d9b9907ac4\" class=\"plotly-graph-div\" style=\"height:800px; width:1000px;\"></div>            <script type=\"text/javascript\">                                    window.PLOTLYENV=window.PLOTLYENV || {};                                    if (document.getElementById(\"c9a14dde-d096-42e9-be0b-23d9b9907ac4\")) {                    Plotly.newPlot(                        \"c9a14dde-d096-42e9-be0b-23d9b9907ac4\",                        [{\"dimensions\":[{\"axis\":{\"matches\":true},\"label\":\"numColors\",\"values\":[0,9,1112,1700,327,0,0,9,0,0,0,0,0,0,0,0,0,0,20,28,28,75,2,0,146,0,0,10,2972,0,0,0,0,20,0,0,20,0,406089,176703,15044,17780,27868,40322,18816,15321,40242,3798,39251,7573,3657,6666,9649,1403,3283,33648,8507,18692,7314,3648,10593,700,3336,22993,14799,21312,14163,6918,4129,19217,3325,2088,8093,3144,46153,8649,10582,13872,9993,3503,20581,12541,6835,9205,9976,7023,3816,9776,27580,5922,10261,7881,6748,10145,22242,6111,8902,6994,11520,7441,4848,9796,41447,1601,6205,11292,2046,4329,6073,6818,10136,3756,1076,6289,8513,2738,22384,4589,3595,10213,897,1011,3410,5363,2696,7906,20942,4278,5634,10848,6538,15340,8276,1985,3500,5322,787,2148,3388,6249,1915,3674,4130,2779,6836,5434,10062,6928,1835,9147,10148,6589,2143,15102,12120,2624,4584,6213,3508,3454,6431,6937,2426,225,6762,3693,2529,2940,3740,927,1363,7842,4369,12115,7345,7365,12483,1563,6548,2623,1354,42,3772,3092,4918,6941,2757,6634,1134,785,4720,2646,4515,3540,6334,3210,6332,3834,4120,2072,11032,1995,1720,8707,5650,3000,2506,4557,8253,5586,3076,3375,5264,1325,1451,3779,2836,913,1981,7267,11682,5024,6127,2185,1928,4684,4576,2103,3764,3387,1524,4354,2132,3040,3520,18080,10887,1547,3758,4518,2732,8456,6331,6109,3853,7465,13954,10068,9568,4821,2944,7506,6008,3417,4122,5856,1041,1260,3749,1845,2229,3162,3123,1785,12365,1160,7805,3737,6827,2438,3466,19867,55,1622,1960,979,480,2453,6668,9946,8881,1676,7726,2815,11440,458,2696,7544,4668,4340,4277,3069,3315,5004,3607,8023,2703,476,2508,1043,2665,5120,357,5749,3707,22858,2263,4372,2837,4579,1556,4917,1388,11826,2016,2508,1370,2412,5159,3495,3652,5975,8217,5726,3155,2601,4065,3409,10207,2178,8050,1848,2124,1517,4381,1749,2695,3385,1683,2271,1142,621,1126,4598,3633,1222,3226,3077,4034,1016,752,6097,2675,1938,2277,732,4394,1005,2083,1767,4311,1477,3618,2270,3763,2394,2133,2301,4566,878,1276,3286,3477,804,4168,3108,676,1347,6832,3195,5127,1750,946,4264,1813,6562,4627,4332,724,694,7170,2493,7525,3171,6336,8660,7252,4612,797,7149,2947,3046,1409,1652,377,8311,2291,9336,2484,1052,2280,935,1112,3997,6641,2237,3625,384,3553,1421,2574,2181,6205,4138,8432,2640,1138,6484,2551,1718,1101,2979,4042,2961,1556,510,2034,3387,1435,2345,3077,3001,3911,4610,2810,1986,1778,4290,2658,1825,2675,1855,3475,1551,2213,773,1321,1292,915,1774,3656,2389,662,2464,2623,1584,1620,1410,4178,3923,1043,403,2527,523,5532,3043,7097,7686,3991,3386,2556,3351,4960,4718,1716,985,925,3508,119,631,1924,2911,3014,310,4222,2067,6418,2021,4159,4347,3775,2858,3628,3026,756,1122,3160,2192,1244,4351,1037,4245,3905,4088,2386,2721,190,213,1947,2722,3369,1258,3201,967,2080,3842,437,4096,2407,2779,940,4269,2030,5613,4578,559,2477,2214,1430,565,730,435,451,4495,2835,4725,1020,927,378,1839,897,2240,3149,2037,1926,246,2294,2772,1419,1959,2072,3498,3487,1940,1885,1597,2401,205,231,4544,1321,2713,3325,256,1097,1302,1274,1169,2189,1197,1199,1090,6414,1205,1455,1645,1987,1363,668,5607,1707,1847,1447,1443,2854,6045,1356,3107,290,2541,310,2332,6904,1778,1680,904,2904,329,1180,365,2732,378,956,2706,2684,2896,917,2235,1492,490,975,3139,1588,1214,3295,551,841,1681,1023,620,1200,968,1067,2877,533,2063,760,2733,3042,808,1652,2676,1276,2774,1415,1247,1257,1340,1529,2104,2448,1814,1640,1319,2442,277,920,2630,1435,2763,1441,3690,2699,876,2142,2132,1396,1059,1398,939,267,887,542,1241,3320,4645,793,1322,2669,1925,735,3080,1290,715,2969,2752,993,160,3846,347,1358,3305,3481,1578,1542,832,390,1107,2005,990,212,869,1711,1247,237,1498,1566,927,4504,930,825,5021,2476,1327,1753,2930,1415,1458,1374,1234,2238,548,1902,486,3336,797,1559,5003,1924,337,3659,4057,2938,2543,2443,2532,1499,7075,2306,1501,1649,1517,1906,1519,34,1035,1173,301,797,2517,759,1112,2322,3312,462,1269,1799,548,5541,707,5408,7036,505,1999,1638,1993,3914,2832,273,2830,1248,872,1070,1366,3325,2636,1244,1494,1656,1277,1853,2741,2332,1328,4657,1319,701,2361,684,958,910,1903,3280,2875,533,1882,2466,3144,2364,2767,722,1240,1594,2893,1932,854,571,2763,390,345,1319,2984,1545,1290,2038,961,1477,335,1026,1226,1588,1263,1525,4580,658,2784,1036,513,2845,1298,3302,2494,1191,3428,2126,1414,5977,1366,472,532,2782,547,1356,1960,1961,1669,474,1634,2671,3358,770,423,1370,1100,1501,3540,892,3532,3277,1213,1736,781,1786,1426,1171,2624,1836,1377,420,1825,2151,4537,7086,3302,799,1370,682,596,832,1708,1270,888,3852,104,670,3872,0,1128,357,803,1150,1340,1614,1474,1237,2130,1387,2357,1109,851,2095,1104,751,2213,1851,2091,1550,1498,1860,3347,1443,2244,759,2188,1706,151,445,1505,1422,999,437,551,2766,2148,3213,1106,2980,1481,3363,2662,900,3550,881,3236,2704,1545,841,943,5323,1518,2010,253,2066,1559,1555,1432,3196,1012,2607,762,625,1095,1961,2549,1837,1781,1982,1255,756,1439,704,1412,261,1526,1236,1351,331,918,325,1179,682,650,1445,4216,977,1624,1491,374,728,1931,395,1973,651,1278,1153,1900,2420,992,789,1857,1258,1578,240,1979,2231,136,125,1159,1505,2217,899,1946,838,2184,1315,1336,629,1498,1140,2339,854,227,481,1793,993,2032,513,458,1065,597,2504,1364,207,846,1199,759,1327,1252,910,1754,1487,2468,1317,988,1295,908,1429,1573,710,456,809,2466,1201,2113,1768,1529,1097,116,2869,1543,500,373,1186,1505,1158,777,1666,1355,406,2002,287,2630,1643,229,325,647,1248,1913,863,356,1729,1588,1946,2436,1112,983,601,1251,3734,3131,1496,774,549,3200,1534,255,861,1993,892,508,561,1662,1366,632,1115,930,1681,895,816,602,2087,850,2582,1321,609,398,1503,1003,865,1258,729,1630,1874,1477,1272,2742,2112,1109,1009,776,2389,816,1301,1168,804,612,798,659,996,681,724,466,2480,831,552,441,638,1834,1784,2493,321,2585,747,930,504,2410,802,1129,804,570,1534,1865,626,307,1991,1345,779,1250,1080,1114,2264,707,2814,1188,395,925,1423,1642,873,1285,1773,3075,939,1078,1462,318,546,612,10,1678,696,497,391,370,377,920,1041,601,240,351,1264,980,1027,1296,548,874,954,852,974,1342,866,182,1147,847,1249,1163,2808,976,285,586,881,1765,2459,1306,860,2405,952,1550,2809,2722,639,2125,545,1116,1039,943,2735,1045,769,694,1204,872,189,876,2508,928,772,1149,417,578,196,641,1057,773,1311,1168,812,1143,981,781,1235,1178,1347,78,1471,1930,691,259,1075,930,668,516,2424,1210,1068,164,1306,837,635,1437,803,1112,1220,1311,1488,537,1608,1548,1424,970,997,1296,1130,851,580,1887,1733,225,1040,2230,1324,463,834,768,557,1044,1224,438,599,172,706,510,1651,265,1249,1079,483,1702,1562,879,1101,625,931,406,2055,1016,29,1277,746,396,643,1567,457,91,168,1431,1267,1473,1547,1519,1468,1267,469,175,242,1456,856,108,412,1502,257,1192,752,1316,1275,284,749,1465,711,435,1059,12,843,537,696,398,1275,664,684,473,908,2483,2910,1112,328,770,783,1319,1294,781,1029,231,334,1490,629,141,929,1082,1140,1381,268,1597,0,687,617,5,474,1107,376,248,2099,423,682,1033,1027,399,1237,1365,326,875,1653,1452,614,1126,158,547,729,1032,511,1111,284,1010,914,410,200,2020,692,207,1442,2286,933,864,1322,950,1750,160,2006,640,388,227,1459,870,1004,85,288,694,1577,352,2528,181,515,596,540,749,2691,496,1013,1836,1327,137,808,962,321,21,1110,1417,743,477,896,371,910,323,259,1112,2557,614,649,92,1863,939,756,204,1422,722,1709,497,2259,436,791,928,597,211,822,817,785,1127,410,582,1287,529,1298,607,525,567,1417,373,405,818,910,791,1014,921,968,804,1326,587,826,470,632,191,689,1312,1322,700,658,2222,1023,10,485,462,581,232,1019,870,351,549,245,703,374,796,1365,827,388,131,1223,0,824,980,588,1127,742,696,1505,837,436,1007,369,631,235,760,658,721,1107,515,527,1371,792,1819,1187,1560,933,819,616,490,545,879,694,202,2008,918,777,685,1699,1334,1092,899,1446,12,1417,2161,856,1747,604,625,958,150,648,597,867,1734,855,535,1799,644,563,1751,1258,861,271,493,1560,993,818,1524,674,3228,1113,204,133,717,439,486,1721,143,589,613,1253,706,60,2026,702,1147,952,1223,658,874,806,375,786,681,482,393,327,525,767,545,997,196,548,1051,2061,1132,559,496,347,15,1043,949,1365,501,579,1131,902,854,803,320,832,891,330,618,522,303,877,420,1591,2707,811,676,1258,403,459,1101,127,1730,412,740,1277,1182,630,40,282,1201,442,903,1049,2211,735,950,371,768,479,576,240,344,2179,1104,930,71,1440,387,255,651,664,626,1631,929,1557,315,543,2010,115,260,234,1534,438,1329,474,721,972,216,884,744,554,444,173,563,698,778,1034,882,1811,359,233,224,513,473,789,310,1412,1113,981,546,1840,823,305,283,1045,988,489,762,147,350,51,586,872,736,711,0,22,660,697,825,265,647,299,439,102,644,1431,450,936,86,1541,325,423,438,592,288,276,210,477,500,592,1048,551,505,840,449,585,664,492,331,445,808,1770,896,887,940,495,227,604,797,769,585,427,1823,1124,562,1680,354,754,264,763,312,522,395,1673,997,333,830,334,840,2073,101,733,338,647,1247,508,1097,863,463,1226,1187,669,449,1193,1317,889,1477,814,488,419,144,521,1004,742,494,584,327,887,587,10,1085,937,1077,678,1734,1013,287,1042,764,346,1039,48,1246,238,593,258,1182,388,51,782,608,185,103,947,26,1223,773,692,179,37,849,772,1068,571,281,663,178,354,635,990,779,576,967,421,586,216,476,200,1120,605,275,1023,353,301,488,1652,604,604,633,1615,1206,563,958,1503,691,226,631,156,463,1168,867,358,519,418,133,985,705,169,1085,217,843,707,886,273,1014,910,568,176,854,673,336,1185,871,609,1400,694,233,635,986,581,868,745,949,226,1104,693,760,523,456,495,888,975,215,598,669,499,561,181,280,923,467,271,437,30,143,220,246,602,218,379,323,296,1044,453,441,1031,604,251,131,1024,581,614,1092,664,389,1214,464,415,1206,445,267,559,492,227,516,121,255,583,1097,1127,600,1126,825,376,660,39,304,536,0,43,678,233,204,243,715,1177,661,333,1061,794,659,764,225,542,827,577,264,442,682,1229,647,803,969,839,668,1124,654,352,1038,523,224,656,1088,744,343,538,615,1143,258,848,431,1278,1516,427,600,248,992,304,187,559,1399,311,321,729,802,524,837,1480,755,253,326,212,696,563,391,939,440,260,917,478,676,190,676,68,875,753,713,994,272,605,536,78,365,430,1589,560,215,911,252,117,536,406,1179,810,945,228,171,356,370,607,137,1056,134,426,1084,761,338,788,870,296,771,666,492,9,443,802,621,581,334,554,279,321,565,1348,629,428,529,770,146,718,273,449,497,607,858,2,435,920,882,36,167,190,2510,1036,504,951,1630,601,545,289,466,557,360,520,869,1058,671,805,607,689,588,470,798,224,908,725,1417,508,1050,588,155,458,1003,974,493,533,238,729,1056,355,777,650,191,529,268,143,276,167,572,341,5,444,758,330,560,385,567,682,1121,285,367,476,490,335,206,1320,416,39,573,871,484,487,1263,856,653,313,1044,969,528,192,815,694,396,1058,384,230,419,422,874,810,629,794,371,675,543,354,213,494,621,499,416,726,507,691,285,253,519,38,255,325,555,385,1126,647,478,141,283,1482,88,292,792,408,1138,972,515,187,596,960,377,1011,97,925,742,460,1178,294,264,724,332,0,355,614,464,271,685,926,980,558,383,282,398,161,484,1239,605,527,571,624,601,425,382,548,830,827,388,775,272,77,748,923,385,721,511,158,744,154,871,881,1053,87,122,1349,627,290,292,130,337,970,831,328,70,248,383,189,346,268,478,630,930,800,314,972,543,507,332,538,772,291,471,888,370,537,1048,392,413,516,51,333,531,687,251,98,210,624,585,706,854,297,840,526,630,324,1096,203,322,204,1425,162,289,1119,826,118,363,220,276,81,244,123,742,87,820,1393,1314,769,44,169,422,402,837,192,389,1120,667,691,157,1091,633,373,106,272,290,1543,671,670,760,840,266,243,854,504,38,319,340,423,522,237,728,383,915,698,212,1577,469,386,475,223,671,368,245,353,224,838,757,837,312,613,427,197,882,0,870,1341,148,75,428,9,50,35,299,515,106,666,555,402,328,431,329,6,808,904,363,1201,165,348,157,1440,156,252,383,257,738,466,413,225,677,639,564,508,290,469,341,300,55,1293,209,648,322,331,128,216,821,290,725,626,1260,427,763,361,611,472,743,452,401,470,244,478,508,772,1171,509,933,802,854,460,4,674,455,178,370,925,202,405,742,269,1201,59,576,96,593,427,1061,458,543,969,60,273,315,280,4,410,104,91,1012,592,383,407,529,588,183,549,814,155,418,539,382,515,156,256,619,340,702,1450,116,285,312,262,426,697,366,713,386,680,1060,209,536,250,65,67,451,360,486,312,42,967,157,183,975,440,264,538,443,461,836,75,300,424,337,217,287,1181,343,526,48,1294,1006,806,139,422,245,563,489,457,183,48,344,686,6,33,639,784,650,172,481,1187,604,368,178,341,110,402,271,352,315,107,634,732,391,877,313,59,477,230,113,376,247,408,425,23,273,305,153,430,388,1253,217,268,454,593,347,259,344,521,361,278,273,618,588,0,127,794,222,668,16,867,288,78,401,819,500,499,81,279,443,422,637,319,141,317,451,336,375,289,250,234,262,152,255,584,740,127,816,434,348,778,300,730,487,330,381,99,927,580,296,260,545,644,43,51,269,36,145,367,337,614,0,242,181,285,836,362,428,513,316,626,429,458,444,381,541,596,180,164,231,101,270,370,546,630,422,746,408,493,241,153,569,737,184,544,110,791,164,505,353,514,395,486,522,125,460,368,142,1099,174,585,595,640,0,381,288,1075,1015,249,540,347,222,804,112,271,570,616,503,387,84,919,326,385,627,299,701,464,435,250,652,327,755,1144,549,146,328,524,722,346,408,191,212,282,343,240,551,945,845,95,213,290,15,289,351,335,917,383,47,381,820,0,318,78,676,730,349,413,682,848,306,384,285,242,1200,599,145,288,180,11,361,798,803,680,542,264,230,805,235,513,215,75,324,428,870]},{\"axis\":{\"matches\":true},\"label\":\"numPalettes\",\"values\":[0,20,653,0,819,0,0,8,0,0,0,1,0,0,0,0,0,0,13,37,13,61,16777213,0,1,0,1,2,919,0,0,51,0,3,0,0,4,0,4686,21015,118104,5644,67993,5755,24053,9547,13249,2838,22946,3507,1222,4810,4529,158,909,16777215,2992,6466,7907,6349,26558,2,2292,2666,3880,4791,2284,2559,1172,9568,3818,734,2438,7262,6622,4029,3525,2329,2164,1921,7639,1264,1632,6369,4775,3438,2261,4150,3571,1679,1505,3196,2092,5497,4231,2902,2754,8496,1212,3575,980,3603,1536,524,2118,10397,758,2706,1639,2380,4005,3434,738,4131,1738,5027,1,4013,975,6296,789,777,1146,1142,1609,1359,9737,796,2895,12064,2349,2902,2751,2017,1471,155,1067,276,600,5031,4136,5607,3243,1438,3388,2388,9239,1645,1458,3899,2988,1354,1309,12540,3560,2519,5774,2038,1705,1613,3161,251,1570,1126,3825,2272,2153,1367,1588,341,500,1432,920,403,3832,3400,3950,1607,3275,2301,3030,37,5713,2340,6482,2393,1163,1961,160,2080,2057,572,1691,3035,2671,1303,2226,6206,2189,1237,1009,6479,1740,2992,2054,976,678,2100,2906,1294,2525,4215,2092,529,461,1163,2642,143,538,306,1949,1206,3137,2303,4056,3942,1849,1390,1092,1769,418,4954,514,1272,870,6742,4160,991,1181,2083,1328,397,2299,611,1431,1510,491,1864,2006,1921,2372,2574,6438,1321,1522,1516,680,536,2334,812,2861,1043,638,735,6559,399,5904,1284,2086,1464,1632,0,105,1399,2453,275,361,4095,5426,1246,2756,1496,2513,1021,3761,728,208,3942,721,2274,3303,1787,1244,1325,1038,1604,2718,656,1014,578,2155,2056,1066,1882,2806,0,559,2260,1135,2092,693,1123,450,447,1529,939,561,972,1154,3288,3280,2414,1569,1353,685,2447,1484,930,3020,660,2179,1699,1454,605,2187,1593,1639,766,654,420,389,56,1490,1789,1504,970,1203,1894,346,1448,901,1521,854,1037,524,3124,3011,1364,1537,1466,2149,1740,2556,666,2677,541,263,1613,1833,209,433,315,1815,740,967,1013,997,692,3473,1338,1052,868,857,852,1193,4112,1856,877,180,573,1085,2064,2106,885,8304,433,368,1468,822,701,1547,4827,401,1515,40,2489,1122,5417,1021,574,6121,430,663,1720,1925,1657,2495,107,687,1269,805,525,0,936,6418,1367,402,2198,1181,1038,2269,952,6215,685,444,649,2342,1750,1776,1662,782,3528,494,925,1330,2274,694,1058,437,479,1761,1040,1516,540,1378,1281,793,1145,205,974,1259,343,461,730,819,717,2392,424,2142,1033,647,311,1634,279,1413,2015,1710,484,590,853,1670,473,7080,1054,855,1158,423,1021,129,410,239,1307,439,129,8,942,885,586,1648,3119,603,174,787,287,488,855,2225,1142,701,1315,2675,2222,666,919,1691,2650,233,307,565,1768,752,765,990,416,1703,594,138,1301,1320,1607,1527,1042,1607,35,6532,92,1048,1090,177,402,238,146,391,2020,1229,1974,232,411,83,456,1738,524,2343,443,1720,100,2110,1413,688,269,770,1784,2185,551,868,873,822,163,54,1673,722,1074,1274,292,500,176,647,843,280,761,147,1713,4135,614,960,815,1595,641,106,438,1442,1112,772,694,1134,1112,197,826,207,979,124,890,1539,410,500,498,2040,285,352,136,988,221,3505,1355,1230,1789,479,912,1260,495,164,140,894,811,1905,205,691,629,554,331,281,1794,364,1393,41,1529,500,1546,1848,496,864,1990,885,1119,93,182,971,722,982,1428,2455,1557,354,563,420,207,243,1240,507,1598,675,765,1049,197,1129,690,917,644,233,401,240,580,128,727,777,96,494,2058,833,528,395,784,463,384,1171,0,1016,180,930,445,855,431,2686,629,1282,482,182,564,1169,230,422,661,765,747,318,432,734,235,611,894,804,97,2260,260,492,1093,116,711,1524,426,1168,570,699,258,666,1143,980,874,638,156,1369,366,2319,3052,357,888,1976,1234,285,384,801,1942,631,932,22,509,450,85,256,1569,322,384,308,708,141,660,425,605,1033,197,779,417,699,998,5199,195,1564,734,83,1085,982,266,1476,174,2825,233,664,5706,1578,331,2305,779,699,482,1237,366,455,2573,320,368,1294,801,0,768,502,1261,1074,1276,1115,1640,569,385,225,982,1040,893,872,2980,618,227,792,104,2045,60,368,113,810,352,372,283,1008,192,193,1206,372,1281,728,661,536,1047,2073,758,1207,719,1002,826,1979,300,482,687,3070,317,913,919,263,475,293,156,1455,4115,86,408,663,476,377,746,163,400,918,1084,1405,409,537,445,336,752,270,818,274,757,1300,21,242,930,302,2087,1082,148,1284,671,620,1158,1053,57,803,1667,0,964,635,592,108,497,406,1,673,614,4064,1240,727,1555,492,390,822,2190,1073,292,125,1432,672,666,774,1293,505,697,575,116,344,488,1551,419,716,226,3161,1148,157,500,493,356,863,156,110,586,1074,679,548,533,924,391,1142,463,1072,214,1177,896,1613,741,67,763,1871,400,430,472,259,758,592,828,759,284,374,899,926,830,140,504,443,814,150,593,168,847,466,300,633,102,818,618,529,57,662,719,186,925,930,491,1212,568,618,379,366,1987,572,773,1387,207,783,21,149,404,1431,1347,304,732,829,41,875,134,359,994,768,0,578,121,236,1655,371,1248,252,464,278,449,1806,716,120,608,1011,1150,855,900,203,3286,666,549,520,1191,503,1207,269,917,469,330,198,495,918,670,948,2123,2100,152,1549,583,176,259,718,654,709,762,1063,2568,186,1514,16,850,491,279,70,746,572,660,333,358,606,445,435,846,611,1282,710,465,293,88,852,649,369,340,655,309,245,1082,480,285,258,382,697,1069,727,544,634,452,1311,253,1002,180,1043,664,586,125,771,605,1758,927,1276,801,44,513,1386,36,601,769,533,522,932,546,763,295,593,683,461,82,884,347,289,1617,1199,361,457,459,44,623,433,764,140,90,359,119,531,1074,191,519,565,940,776,113,179,138,674,188,486,531,587,1081,2684,407,415,416,277,235,520,491,543,429,437,783,593,1001,350,186,712,262,20,579,416,211,96,268,398,726,1220,317,73,533,1180,473,263,497,273,662,359,306,276,708,637,250,1179,300,2273,727,1277,661,42,201,615,1035,414,621,394,577,273,427,840,698,469,552,143,417,496,349,155,779,670,551,963,137,253,283,194,356,602,258,156,88,112,1791,41,1155,381,437,604,179,1566,362,269,538,359,0,667,273,715,202,1732,773,491,201,782,1035,183,160,1136,212,213,1714,538,416,777,196,686,202,1685,737,348,506,610,332,340,241,466,665,602,347,1131,511,779,166,408,319,520,435,496,191,637,116,103,313,814,352,433,856,243,1698,595,31,340,886,949,89,816,319,8,377,819,108,231,588,119,140,117,713,147,234,741,1000,423,999,169,161,394,1389,338,97,250,1016,183,660,141,348,322,137,227,547,345,583,613,6,482,196,123,247,402,479,176,845,409,282,0,699,458,493,535,464,208,510,352,261,232,1236,193,82,295,351,541,1,104,1333,0,187,375,4,459,462,120,281,1063,213,310,1015,339,335,671,553,214,499,841,294,708,288,64,733,383,276,415,158,151,417,413,341,473,1201,679,877,875,711,250,476,245,295,452,605,1279,996,925,97,417,247,562,61,132,458,857,13,1105,56,295,2049,337,103,1234,340,228,168,1526,85,1270,646,59,9,227,169,1599,481,399,352,386,163,73,383,496,794,439,90,215,943,430,91,865,688,812,63,551,561,531,164,412,113,657,925,542,867,291,261,223,45,334,203,173,576,313,704,507,335,72,745,117,235,365,1269,299,137,128,338,431,128,313,668,641,162,486,26,0,5,765,253,378,477,570,296,305,166,195,575,317,249,316,399,221,637,648,41,292,751,654,740,639,562,506,744,307,321,758,481,171,424,355,256,898,755,333,67,523,384,489,1231,359,237,141,258,416,644,403,178,458,340,903,403,0,438,579,697,391,6,593,163,872,56,658,200,474,46,840,355,566,97,468,490,39,983,277,1,1208,755,82,360,1004,441,361,162,240,179,402,90,422,228,183,300,568,304,456,51,391,207,431,14,326,113,83,667,487,533,261,62,143,252,215,420,295,340,262,10,349,22,341,131,379,198,289,158,491,5,624,613,91,313,243,895,193,459,581,88,360,289,366,305,152,163,485,563,750,519,887,415,221,276,782,157,294,261,542,173,767,779,778,7,68,484,184,246,325,8,441,723,127,835,186,278,305,41,423,552,358,37,462,707,514,86,221,185,6,165,689,99,1316,266,71,1333,818,76,6,95,305,147,520,104,194,488,702,247,121,159,824,453,676,438,254,159,72,54,190,210,513,87,2,311,214,0,364,741,162,110,349,393,394,792,7,192,79,1014,482,510,292,3349,4,661,840,629,232,447,358,218,152,245,692,673,537,97,638,102,123,150,215,71,470,204,128,318,704,74,167,336,581,177,10,372,177,111,191,318,752,339,141,305,156,237,312,539,201,317,337,489,466,326,462,263,304,286,121,187,54,256,302,225,124,325,79,266,981,149,208,421,277,406,227,396,343,802,543,592,403,497,223,411,79,234,424,204,174,221,445,71,67,192,333,209,143,178,5,990,250,101,140,189,535,126,761,740,153,901,31,525,230,522,207,533,88,3,5,232,280,52,158,4,650,228,236,107,15,490,34,144,201,208,275,111,153,255,447,576,228,459,247,444,188,217,235,165,87,144,1191,187,190,120,320,623,682,59,388,226,178,584,783,384,181,202,42,386,473,426,216,249,335,206,475,169,98,125,91,218,613,393,606,177,605,276,145,282,395,162,357,311,926,40,30,290,122,395,145,415,477,404,129,29,384,236,176,302,356,329,719,185,309,613,196,489,88,96,11,287,223,293,33,50,270,422,147,65,140,134,472,378,161,146,91,368,387,408,307,425,433,393,169,302,36,474,163,367,414,284,267,220,184,262,266,162,314,486,638,653,510,188,420,481,60,429,235,0,0,981,1872,456,128,612,473,601,142,397,240,330,218,54,142,926,91,475,508,7,425,15,8,51,368,158,318,244,93,571,471,59,321,311,342,358,372,139,424,128,89,305,441,48,308,21,158,345,655,143,846,1120,346,154,872,425,371,136,571,192,761,371,187,797,162,85,795,343,148,554,453,654,104,334,76,370,37,456,12,131,1957,175,41,325,238,362,0,372,465,162,129,108,73,242,668,356,183,158,208,219,177,83,527,32,358,697,312,137,107,199,268,253,164,359,5,135,269,440,344,165,122,121,73,958,101,35,200,216,235,67,129,121,385,715,0,466,5,243,110,10,95,154,356,0,550,355,22,55,772,281,45,184,186,138,307,290,465,164,208,475,332,251,125,375,418,175,36,735,530,527,141,228,230,25,305,612,181,382,124,64,249,979,386,797,310,91,308,277,240,200,198,8,137,325,164,359,420,442,185,494,311,121,1292,266,90,149,31,265,1,358,550,320,166,813,0,9,247,267,9,247,176,719,86,366,507,99,413,238,196,187,878,120,1,140,16,643,160,397,614,204,224,1494,1043,837,209,590,727,281,22,86,165,456,320,229,309,248,244,171,367,25,447,248,717,9,275,469,109,125,84,178,56,246,45,283,66,592,346,75,206,411,2,55,496,195,270,337,854,808,307,4,363,146,109,600,319,410,609,285,243,486,245,144,164,30,639,257,361,579,89,42,3,293,402,544,154,156,181,519,60,250,113,18,288,24,236,213,65,159,167,561,121,33,99,136,61,189,81,260,29,27,200,431,98,252,632,167,407,407,98,90,258,251,61,10,350,276,145,93,71,458,507,57,125,85,478,466,330,631,210,199,325,315,213,842,157,76,285,34,293,164,73,239,21,254,322,466,14,35,58,5,24,329,214,354,408,98,190,240,465,98,206,154,533,257,240,113,36,183,260,173,138,222,37,406,222,758,281,249,41,10,239,0,203,227,381,208,94,524,220,268,80,44,377,245,308,99,99,314,406,186,253,140,782,185,222,198,237,522,291,346,0,268,607,49,104,322,3,481,109,85,136,66,1,209,123,132,140,281,3,1,397,321,44,358,40,29,164,90,232,210,115,178,127,479,236,213,87,278,3,181,34,187,305,107,645,184,60,93,179,49,218,341,192,204,126,58,282,6,106,217,219,572,421,261,210,205,1,187,159,320,281,3,385,432,208,0,356,267,52,239,943,120,213,197,207,33,78,492,163,320,194,88,27,218,518,84,124,346,196,6,106,44,189,672,472,366,160,128,606,389,249,147,8,190,463,237,341,154,105,348,471,319,259,61,73,673,756,162,640,115,431,88,142,241,116,333,61,141,4,126,16,91,182,167,116,51,64,273,664,208,287,180,140,201,120,384,158,82,85,238,38,252,240,102,100,121,366,130,127,197,1,165,215,141,23,153,537,2,13,486,170,296,470,188,521,185,238,10,135,66,111,225,85,181,155,438,517,225,12,226,25,146,195,77,445,282,140,411,12,204,194,556,99,288,298,149,103,242,235,225,493,114,191,120,273,286,398,194,0,117,381,58,166,13,204,177,45,113,201,31,201,136,7,203,444,155,169,101,320,139,200,59,158,111,226,147,96,55,303,206,356,354,166,257,62,115,677,223,106,272,46,270,296,206,320,204,0,30,1,182,33,227,64,110,242,0,96,207,110,38,186,272,377,179,101,172,22,127,85,232,110,41,134,465,109,68,121,145,241,254,11,85,312,198,771,371,325,292,105,28,0,115,401,58,255,95,295,184,198,730,277,121,526,83,5,253,255,0,219,149,237,218,54,106,143,178,263,96,124,253,124,101,192,339,446,221,375,153,779,335,182,284,163,158,480,29,529,217,87,234,187,80,35,173,154,128,149,136,161,423,8,202,65,99,219,2,539,140,221,416,458,42,152,137,0,219,81,283,78,72,570,6,6,309,163,144,85,439,463,206,462,118,15,172,357,192,94,208,177,168,233,118,232,299,30,191,301,312]},{\"axis\":{\"matches\":true},\"label\":\"numLovers\",\"values\":[1,0,5,0,1,0,0,0,0,0,0,0,0,23,2,0,0,1,2,1,1,0,9,2,4,1,6,1,418,0,0,38,1,4,1,0,4,3,7455,1086,512,2140,2557,2380,2827,3024,3157,1469,964,1802,629,1180,1985,940,557,1494,3474,923,3017,1212,1157,5636,3684,2095,1304,1304,1640,1368,608,1503,2501,964,2977,2478,188,1967,1606,1462,2873,724,1066,1935,1069,2193,1701,1355,2300,2915,982,1862,3836,961,657,581,2047,202,698,1479,1140,1324,237,638,493,443,597,800,2382,1098,2175,1106,1495,1410,877,1179,3403,946,229,581,698,2577,3672,1964,1182,2288,526,2319,68,1093,841,980,492,619,1930,1915,2928,944,393,1795,601,1159,527,1375,1313,420,911,1103,677,1232,1154,492,1106,1978,2150,413,1364,732,681,282,1137,698,666,566,982,277,1627,699,457,1050,581,2466,1128,920,632,425,397,535,915,2419,1011,860,1261,2106,944,563,314,877,444,666,562,1939,872,1230,442,1182,795,1101,440,515,533,2687,779,991,1743,667,690,690,460,444,1449,471,1602,870,696,980,1341,1082,1101,1415,2578,1003,1328,293,510,1192,609,561,447,652,352,1255,887,457,576,622,1281,151,328,818,752,719,1169,494,1698,1060,833,379,799,129,447,580,456,593,521,552,619,965,279,1001,667,351,493,946,828,293,536,1243,417,698,515,735,1307,1,181,988,982,1386,266,808,559,487,732,1082,357,641,522,987,400,1359,670,761,2294,475,443,849,789,362,964,185,377,110,1581,533,413,70,314,0,271,1067,751,612,1367,412,646,189,571,248,501,496,1026,302,968,789,261,224,1034,517,519,999,1279,212,314,1493,1242,552,1176,619,307,767,1254,983,493,1570,369,409,448,1941,401,550,661,909,514,604,1352,1224,758,390,397,715,526,882,781,704,780,162,966,1059,247,588,937,321,526,2211,420,891,478,500,617,591,683,1261,782,541,184,882,163,272,248,289,1073,1541,817,745,1031,610,373,144,239,462,869,225,281,497,132,496,105,352,334,185,727,239,259,468,487,905,380,626,465,1128,663,663,738,371,867,730,98,275,953,685,530,886,695,661,220,861,254,1129,850,1245,543,555,484,492,370,691,603,480,293,385,920,825,509,466,537,1126,421,208,642,211,166,669,374,820,178,352,296,681,480,536,600,668,330,193,359,402,239,424,364,160,637,298,924,609,502,375,1077,533,254,661,757,500,1000,588,211,126,122,647,200,526,298,605,291,586,1025,1484,294,1144,292,827,681,291,409,240,194,597,260,377,429,218,272,267,458,708,242,604,513,729,146,408,490,316,767,195,812,945,153,535,342,389,854,490,185,296,377,409,686,431,131,424,110,391,266,894,681,894,244,81,699,314,560,432,531,467,557,716,545,643,280,664,70,236,913,483,403,695,239,783,615,784,612,98,1286,50,121,881,576,406,880,423,539,258,277,284,487,253,405,228,1067,217,920,266,543,329,300,237,636,761,513,337,532,143,442,181,114,401,368,412,127,797,350,529,1061,436,558,322,308,507,455,322,770,559,274,431,275,380,73,611,185,276,490,425,499,89,410,401,1209,367,444,362,237,352,199,463,216,170,710,383,410,661,355,342,263,397,134,487,254,313,270,522,279,388,557,595,298,266,815,428,806,252,288,171,200,135,252,923,326,142,191,80,247,123,220,527,151,314,442,286,93,636,603,906,104,602,694,364,454,175,602,849,401,321,423,1069,155,387,855,214,366,455,291,510,198,572,274,394,161,546,639,259,325,1161,314,341,203,121,715,121,257,181,495,217,357,477,476,395,215,300,229,105,716,487,667,318,202,249,735,394,188,403,50,408,404,209,665,403,179,705,170,257,904,255,461,212,192,659,196,287,655,265,514,64,249,283,458,312,179,289,626,358,561,94,175,415,106,95,185,34,193,382,216,168,387,199,290,342,185,342,198,287,559,591,519,134,527,70,473,156,726,300,445,296,537,557,90,291,96,257,278,566,513,323,221,199,438,206,260,292,35,440,533,329,128,99,287,223,206,151,310,192,163,57,502,419,191,245,328,184,386,186,292,376,211,338,342,266,154,276,610,157,100,469,444,234,95,272,287,253,255,312,318,272,527,307,120,326,220,224,1,524,604,896,260,484,80,1272,283,189,22,181,463,221,422,268,465,321,189,207,243,199,237,475,295,250,570,195,270,314,364,155,261,151,391,397,187,377,88,291,497,331,195,80,513,175,281,134,238,155,317,207,76,646,247,767,372,352,71,396,130,495,206,667,527,313,314,460,506,331,128,181,87,417,616,547,242,266,229,474,1119,259,125,600,501,197,288,141,731,605,257,680,616,599,94,195,130,283,272,161,172,209,338,168,291,195,254,251,66,204,610,236,264,135,628,240,532,339,373,206,516,302,174,27,220,154,297,691,197,411,337,137,239,270,44,716,310,222,577,21,208,162,153,132,285,224,134,397,190,530,405,511,322,131,145,219,215,182,151,258,340,579,118,482,67,409,320,153,160,47,108,145,736,142,626,107,224,539,599,247,321,133,473,590,305,86,155,226,307,172,536,277,141,124,620,615,547,151,127,134,139,175,235,351,168,420,425,278,129,501,145,205,125,158,316,233,213,133,389,414,201,248,84,113,498,146,205,216,408,191,130,297,284,157,152,196,296,81,510,156,337,403,280,143,160,148,61,824,313,269,197,317,241,56,91,147,332,218,367,112,190,372,306,131,267,271,117,69,433,374,426,280,220,238,38,202,149,381,494,188,120,310,593,373,281,136,326,101,157,397,295,141,118,159,260,316,90,464,143,213,279,195,307,182,436,353,146,462,450,365,165,254,98,253,440,601,238,175,181,221,23,271,409,278,284,271,250,380,266,235,522,233,229,362,335,235,388,161,342,150,136,398,182,263,342,492,123,77,172,300,531,94,421,786,137,154,198,415,183,123,91,308,84,414,111,220,263,51,210,168,248,167,97,351,359,318,82,137,472,62,215,104,182,112,253,120,255,527,479,165,118,221,146,129,411,121,143,489,585,178,143,497,321,116,224,363,100,135,366,111,205,378,241,330,65,361,215,459,251,253,388,181,103,91,374,419,206,358,203,94,141,147,173,155,644,189,86,99,90,210,457,317,207,46,245,273,135,214,129,115,99,363,344,122,468,113,95,310,49,254,118,176,518,141,346,136,154,151,126,326,368,135,144,194,211,92,29,324,480,232,211,355,204,195,59,626,288,261,207,33,241,68,118,174,215,227,0,139,295,107,594,173,154,232,334,447,208,336,205,33,182,123,89,239,83,147,155,224,227,121,359,232,106,424,268,303,237,177,351,174,121,130,236,185,261,124,108,272,359,131,74,251,57,60,155,154,235,76,545,456,102,43,270,211,268,11,475,90,77,46,105,257,274,70,237,181,97,141,328,487,193,323,150,408,69,111,171,138,177,157,364,272,168,192,266,58,108,75,213,289,143,301,369,44,214,227,113,296,261,284,328,227,212,237,162,88,65,398,346,512,268,104,399,348,232,90,132,102,128,95,214,148,191,211,215,179,402,82,206,33,24,114,111,344,146,281,346,441,208,287,389,218,406,209,144,305,53,151,101,404,163,42,215,212,447,106,105,80,204,161,518,343,80,232,196,283,136,356,251,115,210,59,72,86,305,90,231,165,245,379,205,408,127,105,157,143,66,103,171,189,404,108,147,102,75,77,213,156,164,344,334,137,60,102,113,148,118,173,121,43,38,266,24,197,149,163,145,109,104,5,133,66,192,262,327,246,88,410,266,153,83,121,328,78,273,60,185,129,158,150,81,628,90,100,117,356,84,127,117,112,161,165,71,130,136,205,185,155,294,165,281,161,125,111,173,172,82,380,174,38,190,162,315,145,264,300,138,324,175,24,148,186,221,165,220,150,102,138,268,102,228,108,302,100,56,118,878,222,130,69,97,275,96,201,137,350,408,201,66,175,145,462,166,129,159,332,145,78,155,329,87,101,138,110,57,52,108,156,30,279,224,112,247,308,71,118,108,197,51,161,71,415,195,150,65,318,128,64,164,173,200,60,67,114,351,18,95,243,532,359,127,74,249,74,240,271,222,127,105,220,255,1,104,202,184,61,175,130,32,153,75,79,91,255,115,56,205,242,92,180,86,50,157,110,197,180,126,128,285,238,110,144,396,252,163,55,172,190,106,74,189,46,155,360,153,232,81,197,262,74,303,127,93,193,254,244,223,373,174,251,61,155,148,152,69,116,4,196,60,162,127,109,122,100,128,160,84,102,100,183,88,102,232,46,136,57,151,50,205,22,207,162,272,147,190,170,106,140,147,35,118,107,207,443,177,71,409,21,44,161,219,90,47,175,99,69,85,147,341,273,157,99,168,494,158,382,38,58,426,151,153,269,154,155,392,119,123,20,145,91,81,76,336,186,149,629,178,263,51,228,195,147,131,164,211,267,65,231,225,94,106,254,230,98,143,205,40,124,59,227,152,336,146,193,53,107,126,104,131,101,280,93,49,130,331,157,257,554,82,114,118,181,38,63,128,255,56,288,216,160,201,62,182,167,63,107,202,294,176,389,258,122,71,139,76,48,23,241,147,87,129,57,362,58,170,64,247,291,153,100,112,139,200,229,128,179,84,143,148,109,96,245,69,132,117,110,264,286,99,100,35,245,318,222,153,167,145,125,193,172,221,132,11,276,95,0,0,236,50,109,146,108,41,219,182,142,251,94,69,160,220,51,45,86,283,200,84,83,44,95,160,128,109,126,234,132,115,40,94,173,164,146,164,126,150,98,47,139,106,79,133,272,149,95,114,280,200,26,392,144,154,155,286,97,58,157,152,92,57,23,96,152,75,173,54,75,412,138,57,85,89,16,40,58,46,343,11,214,57,113,140,133,108,96,270,44,296,251,191,66,30,84,216,305,112,128,156,42,130,56,86,116,70,195,116,89,161,63,200,197,72,90,110,93,209,193,61,206,148,183,36,161,129,86,135,50,69,108,177,198,49,80,53,149,102,59,173,146,156,0,49,297,31,40,163,110,86,320,84,163,103,41,109,116,82,289,231,102,287,103,142,66,44,61,143,38,86,225,113,93,67,129,40,184,86,44,169,34,102,41,161,147,17,207,176,257,36,72,280,74,142,197,87,75,295,85,108,177,87,82,49,193,28,109,143,73,132,71,95,104,63,24,186,76,56,84,168,158,176,131,45,50,158,101,103,101,38,273,50,79,60,132,125,95,51,153,230,13,41,80,105,77,102,107,36,254,165,245,287,133,194,65,163,197,57,43,162,118,94,65,45,182,233,69,73,200,97,210,187,96,74,28,186,213,124,86,88,186,139,77,99,36,60,64,117,45,92,74,176,39,75,42,92,128,89,69,108,106,52,127,131,132,35,111,327,77,40,69,48,43,91,94,123,34,130,67,408,166,124,58,126,81,44,229,42,128,242,29,91,170,68,174,113,68,89,43,55,121,75,223,27,268,44,79,102,108,80,142,123,21,168,117,118,150,68,45,230,39,39,260,72,83,55,47,93,79,101,135,188,42,141,60,103,26,418,132,141,58,98,124,163,95,526,173,44,73,30,134,56,144,142,126,122,142,90,41,126,142,54,64,62,159,62,185,131,238,138,304,67,105,53,27,25,87,32,33,79,91,95,174,66,89,76,28,171,74,109,155,8,101,151,218,314,100,111,103,314,111,41,76,52,337,112,128,103,72,4,57,26,54,51,60,45,34,113,70,262,61,133,88,50,132,56,131,165,29,78,55,74,118,144,156,39,184,123,132,68,169,62,107,136,128,53,100,169,156,126,100,212,170,13,174,89,137,88,101,184,73,207,84,81,28,115,94,56,73,96,85,358,71,177,172,30,184,53,100,106,64,300,61,161,10,131,79,32,95,30,234,160,69,138,105,15,97,22,112,159,101,50,87,39,122,181,92,157,55,41,74,88,61,34,42,98,129,41,128,47,80,430,98,107,115,159,106,87,170,71,99,26,146,165,172,149,70,69,39,101,67,207,45,91,76,167,203,30,70,34,241,42,182,94,112,53,70,18,157,63,44,14,71,306,59,42,100,36,117,68,133,62,112,32,39,77,172,301,135,155,51,138,270,324,51,219,53,18,130,44,36,136,258,22,146,125,326,156,204,34,204,255,210,234,152,46,120,52,117,153,47,301,43,122,112,139,87,67,146,124,92,60,224,35,77,25,52,119,41,89,178,88,59,166,76,133,99,0,235,35,57,84,21,92,360,300,129,90,37,145,176,21,170,115,42,28,103,77,94,123,158,95,45,179,133,85,37,133,94,125,47,118,42,175,58,36,83,60,50,43,54,68,173,125,93,35,78,106,46,37,95,222,81,41,0,156,180,70,42,176,86,145,72,43,158,66,127,55,100,28,92,82,214,165,42,116,31,47,123,81,57,72,206,50,69,56,91,82,92,22,61,159,215,286,98,75,80,119,51,82,175,18,160,59,55,143,68,56,69,42,146,72,74,83,143,44,223,70,75,88,96,120,155,71,114,72,29,86,57,176,96,22,121,70,60,8,97,107,167,71,43,84,100,135,160,122,144,200,295,25,41,32,133,133,52,106,67,82,29,113,38,198,78,0,121,116,67,125,109,158,12,23,191,39,222,122,9,44,231,115,56,19,31,71,108,63,127,180,153,58,78,91,61,28,143,96,50]},{\"axis\":{\"matches\":true},\"label\":\"numCommentsMade\",\"values\":[0,0,2,0,0,12,9,0,0,0,0,0,0,112,2,0,0,0,14,0,4,217,0,0,0,0,0,0,1398,0,0,2,22,2,0,0,1,0,55404,8944,40356,53992,27761,40777,5218,99575,13792,7376,1574,43816,1968,22228,49852,24,2019,8996,69363,16123,57253,15087,7388,49732,21765,7877,18196,16525,64704,25694,3510,12555,46515,1162,42895,38477,184,3839,18522,20399,60105,11052,9577,52705,20485,16169,18030,11523,20797,46652,252,21682,33549,5010,3696,18340,7601,16423,18607,17276,19685,17772,278,12854,3004,4724,6299,2440,27838,25860,43233,3429,22196,5869,7979,5816,37126,3217,21,6768,19154,18476,61417,31398,24589,30587,3627,14411,86,22976,7134,4721,6179,2338,28312,5582,14307,12025,7990,314,508,11369,9400,12373,17435,1776,12828,8654,3858,11883,23703,1269,1518,20077,23225,373,11413,26469,123,167,4074,3674,14493,507,2256,1152,8091,2072,525,3296,4393,14161,11913,8526,9988,400,1079,2629,6767,13123,12760,10928,17211,582,12494,7308,1017,8450,634,4056,31078,31221,10780,16333,14483,6691,3788,1377,6032,2042,3692,22438,9669,12272,25524,888,6499,2317,401,10299,1368,7642,16247,17009,3779,22331,26881,11125,24066,20448,2921,5487,14932,891,1415,4299,5598,5378,588,8640,846,11232,6072,3234,2567,4250,746,1545,109,7931,641,2624,14535,493,19239,13884,8625,652,13876,0,4319,4883,3435,1223,2531,8685,2674,5257,889,32666,8087,1387,19353,9981,3358,1698,3123,19208,2531,4106,6565,9136,14311,0,1096,3188,18030,17130,597,5778,2625,8486,7350,15835,255,7353,9547,11447,824,1212,1482,6688,9558,5405,7226,12145,1459,877,11883,1730,3076,1001,3409,1753,13439,0,529,0,1511,4482,8786,6740,9095,41,2227,128,7112,1985,4555,1348,4335,2242,5861,3373,256,657,4630,9502,5157,872,1204,443,972,7999,25501,2876,1745,2163,814,1883,18031,7162,3084,8359,7231,1147,4025,21943,8123,2532,13344,5242,8932,1179,1975,8994,2832,6870,3529,4256,7177,13811,8015,10121,6805,270,2442,6653,1164,2505,6692,1756,11217,26141,1441,17628,4483,6756,10968,9245,3091,3062,3968,8816,1077,58,0,330,256,198,13167,15807,6097,5865,1515,3353,3756,124,841,1705,6228,723,2140,2167,258,11550,191,1259,6056,241,1633,1566,1233,3610,3519,934,255,4310,2444,1105,4385,2432,1431,2804,7499,5914,15,64,5503,904,4210,4347,2520,1684,2667,4122,3605,24021,10201,10348,3496,3507,659,1977,584,8434,2785,2488,431,6516,2372,4551,190,3721,3844,12002,2505,843,3603,1853,1291,1720,3014,3136,574,5922,1277,831,6517,817,1939,6182,261,868,873,445,144,1517,349,395,5481,2602,5074,798,112,3232,6793,6161,4517,3196,2427,11915,18469,1394,532,588,1,3625,2254,1544,3453,72,3579,4369,529,14869,2173,19811,2318,7131,11934,147,2633,1154,235,746,4440,2498,3718,1126,727,3165,544,2745,1052,7242,3273,6203,498,2199,2483,1917,2098,578,4488,4158,634,2082,2173,1893,7992,6283,1195,1229,2336,104,3020,1883,237,2963,202,438,291,11789,1439,5820,491,145,9109,3165,4093,4017,933,6304,1075,7356,2469,5584,2073,8030,210,417,5375,3076,4356,9849,1559,1643,2462,5287,4650,2443,15440,1625,30,13194,2218,3403,4928,3974,7489,1751,2278,1699,3171,3233,3425,2664,8406,830,2802,1321,17542,2265,2027,169,881,9604,595,22,2623,34,930,1317,933,5917,43,3435,235,4438,3241,9149,11759,6255,4528,2394,1678,1966,3120,304,402,2713,1268,1011,523,2638,190,9640,3918,237,3976,3709,5912,1838,1650,1393,9311,1688,3830,4141,2276,1915,86,3446,1847,877,4722,9323,1878,988,1296,26,1969,531,323,6709,2905,1497,4043,4884,114,1323,5619,547,1831,2767,1019,1158,5273,194,1943,1371,2413,1997,1351,6321,465,6,691,433,682,476,1907,4027,41,642,362,2640,265,1952,9122,14040,488,7919,2393,2152,6457,308,4728,3341,1909,3099,153,1057,222,1230,2146,1418,4280,4033,1012,3600,2811,3575,1934,5025,91,2434,3592,217,105,9994,1845,1404,223,24,140,363,2135,498,3401,2169,1105,930,2621,2771,280,3136,735,540,12439,1412,4679,1016,369,880,5361,3049,1060,2368,102,1712,870,436,1149,3971,95,8667,121,1891,4931,1758,3607,332,751,5055,95,2760,5681,284,333,2,1664,1553,2071,1947,132,683,2355,2603,7933,2100,2177,2305,1,179,711,18,3148,1856,1758,213,2984,1405,1532,743,1800,5277,4315,73,3095,5147,5634,397,836,213,6308,74,1114,24,1515,1877,6366,5423,42,221,1180,198,1500,2995,3689,1387,59,267,3853,310,2546,231,2,1797,257,263,7,2,1534,251,136,129,2817,192,566,0,2368,4440,2071,3590,254,293,3089,358,1648,3214,286,1194,896,1657,555,1042,2608,244,210,2299,1024,382,442,1119,1053,1101,6137,487,1475,377,5504,2423,115,1709,1047,275,0,4723,3108,3584,675,2578,100,19290,1905,199,2,988,3792,774,4177,652,1196,646,216,1620,110,208,560,1173,1318,644,5727,714,1823,1567,3791,335,2419,2338,1219,2320,450,597,97,1617,7007,1507,90,19,417,206,1919,409,680,750,1433,63,85,3287,518,2854,2889,1162,618,2642,42,2323,191,2659,4743,890,510,1268,1806,1929,303,464,1116,1346,8838,5724,1500,669,336,2405,7269,1527,187,2116,3285,869,1593,71,2130,2261,869,3879,5562,209,270,932,383,1499,2082,818,351,1392,667,151,1130,854,1766,177,23,306,7947,1459,134,1520,2310,1547,2845,114,2807,344,2429,4089,1848,9,1017,253,1120,834,532,1059,223,1769,1001,1843,39,1215,3702,1621,3093,19,1026,1678,1233,98,1383,1138,141,109,1115,365,4367,3931,2572,268,152,3088,221,446,231,424,1655,7940,195,3150,132,5167,2597,1029,285,566,102,3056,5327,331,5888,39,154,5508,3846,786,2775,572,1152,5067,2069,144,1959,472,1578,431,4342,2444,133,762,4108,3509,5166,168,398,238,1932,579,353,3616,343,813,2678,394,138,3754,498,981,686,153,917,348,247,757,1086,3535,503,1900,239,758,2345,428,1377,283,270,2971,172,1184,557,970,353,677,1073,50,4757,1911,1099,617,457,232,2104,193,73,2683,2436,1330,189,3020,235,702,570,127,1346,3102,5940,7,294,2304,1435,431,2392,329,150,711,110,1410,2236,1951,1600,807,37,1174,711,157,5671,1416,923,311,4608,960,1489,26,1668,1,480,2170,853,356,0,464,214,2649,319,2679,166,1108,1338,1601,1992,1751,1130,824,729,1641,2482,7043,167,1302,595,270,2785,7428,1001,173,903,963,53,855,3996,3434,847,2794,1251,2932,654,394,4363,952,975,1783,3562,446,708,292,1977,991,1466,6146,851,448,1572,6221,1031,60,47,779,5859,126,3306,3587,460,199,190,3117,760,298,115,273,1203,3165,337,1414,1529,25,398,499,2136,129,437,857,2064,2631,254,115,5850,320,160,258,958,77,129,122,1080,2917,2909,3772,144,65,1029,362,30,59,434,2965,4320,269,455,3133,1320,471,695,142,269,339,2692,542,791,1279,1047,3033,11,1246,705,3954,1121,323,2521,330,383,392,4323,444,2302,1898,1178,195,64,784,38,541,619,442,50,12,542,270,1869,222,141,4,119,1341,212,2301,2,248,726,2818,1795,112,3272,85,165,2177,26,2372,139,1284,2917,393,1507,146,315,1209,71,714,1889,247,1394,2257,728,98,0,1358,39,1014,1128,2040,766,921,102,9289,914,883,422,8,1415,11,898,39,968,41,0,2961,5696,82,3104,333,675,140,1957,1340,2537,2898,460,649,443,314,63,699,216,201,660,2523,3010,1,355,740,1419,2278,93,886,435,1435,1386,81,193,65,278,123,212,268,227,1502,1690,979,3,861,7,134,858,760,1476,1,2698,3899,137,208,104,1208,293,4,3532,161,1,629,223,487,309,221,3368,1003,193,137,1783,2141,519,612,374,2809,967,1563,1126,132,146,363,7258,1814,1253,687,1297,148,331,167,846,2935,210,1270,965,8,677,319,156,1564,1587,1935,4479,592,318,725,980,87,871,1717,3047,2748,1235,502,812,1048,809,203,1101,459,74,280,674,11,1159,2332,1668,457,1599,71,961,17,1,93,2798,3517,390,229,2437,385,2953,1699,304,2366,4856,1770,515,2802,791,404,81,2438,104,194,1347,79,756,4072,338,170,794,118,2662,249,210,454,1014,735,550,889,836,28,2484,67,99,48,1642,308,144,1407,697,1508,1050,3433,269,563,83,917,10,341,2027,454,2433,131,829,249,5,9,732,431,1135,2562,631,1377,63,153,541,365,951,218,11,0,27,1752,26,387,226,371,189,129,51,6,554,32,1090,1042,2788,454,327,3927,2013,721,121,298,2908,205,1836,57,2202,150,865,245,109,882,27,34,218,2920,31,819,78,491,274,81,508,98,47,1812,297,94,2003,146,237,1738,431,84,1388,295,19,133,2134,33,475,339,2000,736,557,663,981,883,57,0,350,544,750,421,16,431,465,65,1934,44,1179,282,3619,110,1142,398,5261,331,325,168,9,1092,227,104,449,645,2645,488,138,672,679,2412,1152,623,472,1039,989,111,41,1114,478,272,9,587,550,385,59,92,35,183,222,89,425,2262,76,691,144,951,339,254,68,3540,490,461,13,2469,533,174,863,421,763,56,21,6,1635,268,52,305,586,3589,205,181,1319,153,1,2543,38,1140,291,442,827,0,93,47,0,60,1235,438,595,1166,399,377,75,2115,755,217,1930,1498,117,61,380,31,367,43,655,40,919,43,1376,1092,241,1370,72,1504,729,95,1090,193,246,43,896,69,795,2769,427,133,362,1062,303,301,704,271,247,102,919,1683,1920,1436,886,2877,68,612,457,406,52,284,0,457,102,2431,789,402,29,533,148,839,342,293,379,465,14,111,954,2,432,47,262,6,784,0,875,961,568,919,320,231,169,154,227,1,121,160,528,3209,1184,90,1576,12,138,595,2262,710,543,563,13,1,39,1329,663,130,824,322,281,662,412,3354,21,367,1175,1062,580,947,809,363,258,152,510,3,1270,77,248,208,1797,619,1477,2844,460,1358,113,2637,1223,426,217,477,1577,1280,127,463,1062,532,157,1523,1665,492,8,237,34,727,676,2007,547,2078,167,41,87,739,929,123,225,211,3658,69,28,1146,36,1005,2045,706,198,174,497,5,331,1091,148,126,39,1679,15,275,769,10,286,303,291,810,302,399,330,804,1445,257,138,133,91,235,6,1351,558,451,202,1934,2863,409,1176,192,1169,1785,354,492,76,161,667,259,244,1933,197,641,101,377,39,933,27,658,129,505,2871,2239,136,444,38,465,247,2661,466,150,235,14,568,657,143,450,20,10,352,0,0,405,73,1009,532,534,17,765,1253,225,1711,19,316,285,140,30,319,1017,580,15,68,318,17,54,614,199,34,846,173,152,414,38,119,1303,301,768,196,341,112,446,92,449,287,210,593,1663,783,252,1139,2311,53,1,2069,1083,754,391,1871,283,293,422,93,184,147,8,446,1080,156,1670,84,30,1359,934,298,160,489,1,6,258,25,2631,3,559,141,1014,719,31,477,1295,1260,4,110,960,118,66,25,111,939,1177,125,315,706,81,160,101,179,59,274,2166,305,113,757,45,167,1942,82,223,595,228,521,331,35,309,206,95,60,1025,566,511,650,64,25,65,764,888,466,104,50,1119,39,33,1133,3,595,0,59,632,94,151,501,502,326,1010,61,2188,421,0,125,307,111,550,664,367,1328,189,13,49,42,29,139,1,131,810,565,163,439,827,117,287,596,2,1210,49,376,81,1115,159,2,9,1319,1793,80,134,1942,152,450,792,0,93,1256,282,458,1044,18,357,88,1730,14,158,0,95,408,59,41,99,38,25,791,211,181,524,704,222,631,125,45,105,554,722,533,292,9,1576,2,919,49,488,559,97,391,537,1598,43,71,23,749,81,956,318,152,1400,229,968,1277,726,1396,242,957,732,288,0,441,994,20,7,12,76,854,67,97,1265,470,1462,245,309,435,45,999,189,402,240,32,440,628,233,537,687,30,29,192,31,195,257,754,186,133,13,122,234,723,331,333,263,80,600,52,149,107,1551,3044,136,1,15,11,128,1111,76,1678,61,39,81,61,718,104,52,355,468,94,60,31,927,429,53,89,416,259,296,145,32,599,22,0,668,7,879,12,1120,150,8,501,111,78,424,47,5,802,438,333,783,80,580,882,55,75,2836,8,157,192,45,167,169,223,467,786,32,1070,80,675,8,54,923,553,180,3,648,440,4,2170,26,151,335,93,122,70,317,382,2198,1346,186,72,98,1417,705,2,18,24,682,71,157,340,1006,763,1089,200,284,246,51,16,40,24,4,397,10,327,420,193,128,40,58,991,303,1427,715,0,219,548,54,2160,83,295,572,1493,759,12,124,214,1471,113,60,42,72,3,28,8,302,94,16,54,0,27,54,1078,196,558,270,100,1117,2,222,1,160,26,174,14,183,453,13,18,978,190,254,105,732,82,335,75,300,28,589,1398,242,882,300,1480,288,2,863,147,579,305,103,788,28,627,214,118,17,529,16,64,229,568,122,1772,101,1291,81,3,896,76,203,254,69,436,231,122,5,597,393,76,428,11,1623,129,84,513,63,17,137,2,205,834,519,100,351,28,1325,1115,403,573,63,34,68,54,28,81,27,919,890,0,321,311,279,245,174,208,126,738,548,606,671,364,276,53,226,646,155,734,262,24,60,42,147,272,60,57,268,1881,1478,29,33,23,2251,81,1772,121,157,100,69,0,1064,350,208,0,30,427,1,4,54,48,365,24,471,154,442,8,99,738,839,931,58,126,29,367,309,371,390,1055,83,18,591,14,13,602,1002,5,182,530,110,404,1263,6,714,274,1118,1362,1245,12,389,44,367,67,19,1827,117,263,507,118,100,72,422,97,136,18,1048,169,155,42,48,492,92,68,699,405,50,978,322,552,139,0,1213,48,26,49,31,203,2423,1689,264,106,22,218,716,88,232,260,46,29,816,440,84,589,1354,714,23,22,548,540,408,200,152,139,127,247,47,1004,171,10,319,115,18,144,50,510,822,395,309,20,74,9,38,55,453,961,207,54,0,596,699,52,49,49,226,648,3,9,249,75,50,57,572,28,122,876,1015,709,65,167,3,71,218,28,5,26,404,344,41,141,367,19,190,4,421,777,281,54,40,62,77,108,19,110,996,15,396,60,144,318,0,237,353,27,106,80,219,518,380,25,684,18,220,162,7,150,73,75,363,114,2,36,31,194,247,47,615,272,30,0,408,777,339,387,52,1804,144,528,399,617,695,1721,161,6,219,10,436,780,20,1732,57,62,5,365,135,402,73,0,20,847,195,724,138,929,7,32,1288,30,1045,540,37,84,19,338,137,53,120,429,536,140,361,1033,1,13,161,748,144,105,847,263,32]}],\"hovertemplate\":\"%{xaxis.title.text}=%{x}\\u003cbr\\u003e%{yaxis.title.text}=%{y}\\u003cextra\\u003e\\u003c\\u002fextra\\u003e\",\"legendgroup\":\"\",\"marker\":{\"color\":\"#636efa\",\"symbol\":\"circle\"},\"name\":\"\",\"showlegend\":false,\"type\":\"splom\",\"diagonal\":{\"visible\":false}}],                        {\"template\":{\"data\":{\"histogram2dcontour\":[{\"type\":\"histogram2dcontour\",\"colorbar\":{\"outlinewidth\":0,\"ticks\":\"\"},\"colorscale\":[[0.0,\"#0d0887\"],[0.1111111111111111,\"#46039f\"],[0.2222222222222222,\"#7201a8\"],[0.3333333333333333,\"#9c179e\"],[0.4444444444444444,\"#bd3786\"],[0.5555555555555556,\"#d8576b\"],[0.6666666666666666,\"#ed7953\"],[0.7777777777777778,\"#fb9f3a\"],[0.8888888888888888,\"#fdca26\"],[1.0,\"#f0f921\"]]}],\"choropleth\":[{\"type\":\"choropleth\",\"colorbar\":{\"outlinewidth\":0,\"ticks\":\"\"}}],\"histogram2d\":[{\"type\":\"histogram2d\",\"colorbar\":{\"outlinewidth\":0,\"ticks\":\"\"},\"colorscale\":[[0.0,\"#0d0887\"],[0.1111111111111111,\"#46039f\"],[0.2222222222222222,\"#7201a8\"],[0.3333333333333333,\"#9c179e\"],[0.4444444444444444,\"#bd3786\"],[0.5555555555555556,\"#d8576b\"],[0.6666666666666666,\"#ed7953\"],[0.7777777777777778,\"#fb9f3a\"],[0.8888888888888888,\"#fdca26\"],[1.0,\"#f0f921\"]]}],\"heatmap\":[{\"type\":\"heatmap\",\"colorbar\":{\"outlinewidth\":0,\"ticks\":\"\"},\"colorscale\":[[0.0,\"#0d0887\"],[0.1111111111111111,\"#46039f\"],[0.2222222222222222,\"#7201a8\"],[0.3333333333333333,\"#9c179e\"],[0.4444444444444444,\"#bd3786\"],[0.5555555555555556,\"#d8576b\"],[0.6666666666666666,\"#ed7953\"],[0.7777777777777778,\"#fb9f3a\"],[0.8888888888888888,\"#fdca26\"],[1.0,\"#f0f921\"]]}],\"heatmapgl\":[{\"type\":\"heatmapgl\",\"colorbar\":{\"outlinewidth\":0,\"ticks\":\"\"},\"colorscale\":[[0.0,\"#0d0887\"],[0.1111111111111111,\"#46039f\"],[0.2222222222222222,\"#7201a8\"],[0.3333333333333333,\"#9c179e\"],[0.4444444444444444,\"#bd3786\"],[0.5555555555555556,\"#d8576b\"],[0.6666666666666666,\"#ed7953\"],[0.7777777777777778,\"#fb9f3a\"],[0.8888888888888888,\"#fdca26\"],[1.0,\"#f0f921\"]]}],\"contourcarpet\":[{\"type\":\"contourcarpet\",\"colorbar\":{\"outlinewidth\":0,\"ticks\":\"\"}}],\"contour\":[{\"type\":\"contour\",\"colorbar\":{\"outlinewidth\":0,\"ticks\":\"\"},\"colorscale\":[[0.0,\"#0d0887\"],[0.1111111111111111,\"#46039f\"],[0.2222222222222222,\"#7201a8\"],[0.3333333333333333,\"#9c179e\"],[0.4444444444444444,\"#bd3786\"],[0.5555555555555556,\"#d8576b\"],[0.6666666666666666,\"#ed7953\"],[0.7777777777777778,\"#fb9f3a\"],[0.8888888888888888,\"#fdca26\"],[1.0,\"#f0f921\"]]}],\"surface\":[{\"type\":\"surface\",\"colorbar\":{\"outlinewidth\":0,\"ticks\":\"\"},\"colorscale\":[[0.0,\"#0d0887\"],[0.1111111111111111,\"#46039f\"],[0.2222222222222222,\"#7201a8\"],[0.3333333333333333,\"#9c179e\"],[0.4444444444444444,\"#bd3786\"],[0.5555555555555556,\"#d8576b\"],[0.6666666666666666,\"#ed7953\"],[0.7777777777777778,\"#fb9f3a\"],[0.8888888888888888,\"#fdca26\"],[1.0,\"#f0f921\"]]}],\"mesh3d\":[{\"type\":\"mesh3d\",\"colorbar\":{\"outlinewidth\":0,\"ticks\":\"\"}}],\"scatter\":[{\"fillpattern\":{\"fillmode\":\"overlay\",\"size\":10,\"solidity\":0.2},\"type\":\"scatter\"}],\"parcoords\":[{\"type\":\"parcoords\",\"line\":{\"colorbar\":{\"outlinewidth\":0,\"ticks\":\"\"}}}],\"scatterpolargl\":[{\"type\":\"scatterpolargl\",\"marker\":{\"colorbar\":{\"outlinewidth\":0,\"ticks\":\"\"}}}],\"bar\":[{\"error_x\":{\"color\":\"#2a3f5f\"},\"error_y\":{\"color\":\"#2a3f5f\"},\"marker\":{\"line\":{\"color\":\"#E5ECF6\",\"width\":0.5},\"pattern\":{\"fillmode\":\"overlay\",\"size\":10,\"solidity\":0.2}},\"type\":\"bar\"}],\"scattergeo\":[{\"type\":\"scattergeo\",\"marker\":{\"colorbar\":{\"outlinewidth\":0,\"ticks\":\"\"}}}],\"scatterpolar\":[{\"type\":\"scatterpolar\",\"marker\":{\"colorbar\":{\"outlinewidth\":0,\"ticks\":\"\"}}}],\"histogram\":[{\"marker\":{\"pattern\":{\"fillmode\":\"overlay\",\"size\":10,\"solidity\":0.2}},\"type\":\"histogram\"}],\"scattergl\":[{\"type\":\"scattergl\",\"marker\":{\"colorbar\":{\"outlinewidth\":0,\"ticks\":\"\"}}}],\"scatter3d\":[{\"type\":\"scatter3d\",\"line\":{\"colorbar\":{\"outlinewidth\":0,\"ticks\":\"\"}},\"marker\":{\"colorbar\":{\"outlinewidth\":0,\"ticks\":\"\"}}}],\"scattermapbox\":[{\"type\":\"scattermapbox\",\"marker\":{\"colorbar\":{\"outlinewidth\":0,\"ticks\":\"\"}}}],\"scatterternary\":[{\"type\":\"scatterternary\",\"marker\":{\"colorbar\":{\"outlinewidth\":0,\"ticks\":\"\"}}}],\"scattercarpet\":[{\"type\":\"scattercarpet\",\"marker\":{\"colorbar\":{\"outlinewidth\":0,\"ticks\":\"\"}}}],\"carpet\":[{\"aaxis\":{\"endlinecolor\":\"#2a3f5f\",\"gridcolor\":\"white\",\"linecolor\":\"white\",\"minorgridcolor\":\"white\",\"startlinecolor\":\"#2a3f5f\"},\"baxis\":{\"endlinecolor\":\"#2a3f5f\",\"gridcolor\":\"white\",\"linecolor\":\"white\",\"minorgridcolor\":\"white\",\"startlinecolor\":\"#2a3f5f\"},\"type\":\"carpet\"}],\"table\":[{\"cells\":{\"fill\":{\"color\":\"#EBF0F8\"},\"line\":{\"color\":\"white\"}},\"header\":{\"fill\":{\"color\":\"#C8D4E3\"},\"line\":{\"color\":\"white\"}},\"type\":\"table\"}],\"barpolar\":[{\"marker\":{\"line\":{\"color\":\"#E5ECF6\",\"width\":0.5},\"pattern\":{\"fillmode\":\"overlay\",\"size\":10,\"solidity\":0.2}},\"type\":\"barpolar\"}],\"pie\":[{\"automargin\":true,\"type\":\"pie\"}]},\"layout\":{\"autotypenumbers\":\"strict\",\"colorway\":[\"#636efa\",\"#EF553B\",\"#00cc96\",\"#ab63fa\",\"#FFA15A\",\"#19d3f3\",\"#FF6692\",\"#B6E880\",\"#FF97FF\",\"#FECB52\"],\"font\":{\"color\":\"#2a3f5f\"},\"hovermode\":\"closest\",\"hoverlabel\":{\"align\":\"left\"},\"paper_bgcolor\":\"white\",\"plot_bgcolor\":\"#E5ECF6\",\"polar\":{\"bgcolor\":\"#E5ECF6\",\"angularaxis\":{\"gridcolor\":\"white\",\"linecolor\":\"white\",\"ticks\":\"\"},\"radialaxis\":{\"gridcolor\":\"white\",\"linecolor\":\"white\",\"ticks\":\"\"}},\"ternary\":{\"bgcolor\":\"#E5ECF6\",\"aaxis\":{\"gridcolor\":\"white\",\"linecolor\":\"white\",\"ticks\":\"\"},\"baxis\":{\"gridcolor\":\"white\",\"linecolor\":\"white\",\"ticks\":\"\"},\"caxis\":{\"gridcolor\":\"white\",\"linecolor\":\"white\",\"ticks\":\"\"}},\"coloraxis\":{\"colorbar\":{\"outlinewidth\":0,\"ticks\":\"\"}},\"colorscale\":{\"sequential\":[[0.0,\"#0d0887\"],[0.1111111111111111,\"#46039f\"],[0.2222222222222222,\"#7201a8\"],[0.3333333333333333,\"#9c179e\"],[0.4444444444444444,\"#bd3786\"],[0.5555555555555556,\"#d8576b\"],[0.6666666666666666,\"#ed7953\"],[0.7777777777777778,\"#fb9f3a\"],[0.8888888888888888,\"#fdca26\"],[1.0,\"#f0f921\"]],\"sequentialminus\":[[0.0,\"#0d0887\"],[0.1111111111111111,\"#46039f\"],[0.2222222222222222,\"#7201a8\"],[0.3333333333333333,\"#9c179e\"],[0.4444444444444444,\"#bd3786\"],[0.5555555555555556,\"#d8576b\"],[0.6666666666666666,\"#ed7953\"],[0.7777777777777778,\"#fb9f3a\"],[0.8888888888888888,\"#fdca26\"],[1.0,\"#f0f921\"]],\"diverging\":[[0,\"#8e0152\"],[0.1,\"#c51b7d\"],[0.2,\"#de77ae\"],[0.3,\"#f1b6da\"],[0.4,\"#fde0ef\"],[0.5,\"#f7f7f7\"],[0.6,\"#e6f5d0\"],[0.7,\"#b8e186\"],[0.8,\"#7fbc41\"],[0.9,\"#4d9221\"],[1,\"#276419\"]]},\"xaxis\":{\"gridcolor\":\"white\",\"linecolor\":\"white\",\"ticks\":\"\",\"title\":{\"standoff\":15},\"zerolinecolor\":\"white\",\"automargin\":true,\"zerolinewidth\":2},\"yaxis\":{\"gridcolor\":\"white\",\"linecolor\":\"white\",\"ticks\":\"\",\"title\":{\"standoff\":15},\"zerolinecolor\":\"white\",\"automargin\":true,\"zerolinewidth\":2},\"scene\":{\"xaxis\":{\"backgroundcolor\":\"#E5ECF6\",\"gridcolor\":\"white\",\"linecolor\":\"white\",\"showbackground\":true,\"ticks\":\"\",\"zerolinecolor\":\"white\",\"gridwidth\":2},\"yaxis\":{\"backgroundcolor\":\"#E5ECF6\",\"gridcolor\":\"white\",\"linecolor\":\"white\",\"showbackground\":true,\"ticks\":\"\",\"zerolinecolor\":\"white\",\"gridwidth\":2},\"zaxis\":{\"backgroundcolor\":\"#E5ECF6\",\"gridcolor\":\"white\",\"linecolor\":\"white\",\"showbackground\":true,\"ticks\":\"\",\"zerolinecolor\":\"white\",\"gridwidth\":2}},\"shapedefaults\":{\"line\":{\"color\":\"#2a3f5f\"}},\"annotationdefaults\":{\"arrowcolor\":\"#2a3f5f\",\"arrowhead\":0,\"arrowwidth\":1},\"geo\":{\"bgcolor\":\"white\",\"landcolor\":\"#E5ECF6\",\"subunitcolor\":\"white\",\"showland\":true,\"showlakes\":true,\"lakecolor\":\"white\"},\"title\":{\"x\":0.05},\"mapbox\":{\"style\":\"light\"}}},\"legend\":{\"tracegroupgap\":0},\"title\":{\"text\":\"Correlation Analysis\"},\"dragmode\":\"select\",\"width\":1000,\"height\":800},                        {\"responsive\": true}                    ).then(function(){\n",
              "                            \n",
              "var gd = document.getElementById('c9a14dde-d096-42e9-be0b-23d9b9907ac4');\n",
              "var x = new MutationObserver(function (mutations, observer) {{\n",
              "        var display = window.getComputedStyle(gd).display;\n",
              "        if (!display || display === 'none') {{\n",
              "            console.log([gd, 'removed!']);\n",
              "            Plotly.purge(gd);\n",
              "            observer.disconnect();\n",
              "        }}\n",
              "}});\n",
              "\n",
              "// Listen for the removal of the full notebook cells\n",
              "var notebookContainer = gd.closest('#notebook-container');\n",
              "if (notebookContainer) {{\n",
              "    x.observe(notebookContainer, {childList: true});\n",
              "}}\n",
              "\n",
              "// Listen for the clearing of the current output cell\n",
              "var outputEl = gd.closest('.output');\n",
              "if (outputEl) {{\n",
              "    x.observe(outputEl, {childList: true});\n",
              "}}\n",
              "\n",
              "                        })                };                            </script>        </div>\n",
              "</body>\n",
              "</html>"
            ]
          },
          "metadata": {}
        }
      ]
    },
    {
      "cell_type": "code",
      "source": [
        "lovers_top_data['location'].value_counts()"
      ],
      "metadata": {
        "colab": {
          "base_uri": "https://localhost:8080/"
        },
        "id": "ordlao0VuJ7T",
        "outputId": "78fe1e26-a8be-4abc-c232-64ceed907dd8"
      },
      "execution_count": 167,
      "outputs": [
        {
          "output_type": "execute_result",
          "data": {
            "text/plain": [
              "                                   834\n",
              "USA                                 57\n",
              "Canada                              36\n",
              "Australia                           32\n",
              "California                          27\n",
              "                                  ... \n",
              "Clearwater, FLA                      1\n",
              "the reject shop                      1\n",
              "Massachusetts, USA                   1\n",
              "Appalachians-North Carolina,USA      1\n",
              "jakarta, indonesia                   1\n",
              "Name: location, Length: 1311, dtype: int64"
            ]
          },
          "metadata": {},
          "execution_count": 167
        }
      ]
    },
    {
      "cell_type": "code",
      "source": [
        "def clean_location(location):\n",
        "    location = location.strip()\n",
        "\n",
        "    if location == '':\n",
        "        return None\n",
        "\n",
        "    mapping = {\n",
        "        'California': 'USA',\n",
        "        'London': 'UK',\n",
        "        'United States': 'USA',\n",
        "        'Ohio': 'USA',\n",
        "        'Clearwater, FLA': 'USA',\n",
        "        'Massachusetts, USA': 'USA',\n",
        "        'Appalachians-North Carolina,USA': 'USA',\n",
        "        'Texas': 'USA',\n",
        "        'England': 'UK',\n",
        "        'Florida': 'USA',\n",
        "        'canada': 'Canada',\n",
        "        'Europe': 'France',\n",
        "        'US': 'USA',\n",
        "        'NYS': 'USA',\n",
        "        'NYC': 'USA',\n",
        "        'New York': 'USA',\n",
        "        'Maine': 'USA',\n",
        "        'Chicago': 'USA',\n",
        "        'México': 'Mexico',\n",
        "        'Brasil': 'Brazil',\n",
        "        'jakarta, indonesia': 'Indonesia'\n",
        "\n",
        "    }\n",
        "\n",
        "    if location in mapping:\n",
        "        return mapping[location]\n",
        "\n",
        "    return location"
      ],
      "metadata": {
        "id": "c8dQIsIpwQMI"
      },
      "execution_count": 168,
      "outputs": []
    },
    {
      "cell_type": "code",
      "source": [
        "# Assuming lovers_top_data is your DataFrame\n",
        "lovers_top_data['location'] = lovers_top_data['location'].apply(clean_location)"
      ],
      "metadata": {
        "id": "OiqaHP1jxY34"
      },
      "execution_count": 169,
      "outputs": []
    },
    {
      "cell_type": "code",
      "source": [
        "lovers_top_data['location'].unique()"
      ],
      "metadata": {
        "colab": {
          "base_uri": "https://localhost:8080/"
        },
        "id": "LERdQKKdw0sv",
        "outputId": "59751f63-000c-4171-9ae4-e003aa5673d9"
      },
      "execution_count": 170,
      "outputs": [
        {
          "output_type": "execute_result",
          "data": {
            "text/plain": [
              "array([None, 'Under Northern Skies', 'USA', ..., 'Monterrey, México.',\n",
              "       'san francisco', 'southern costa rica'], dtype=object)"
            ]
          },
          "metadata": {},
          "execution_count": 170
        }
      ]
    },
    {
      "cell_type": "markdown",
      "source": [
        "Let's check the top 20 countries by the number of their users."
      ],
      "metadata": {
        "id": "1jCMThvY50IY"
      }
    },
    {
      "cell_type": "code",
      "source": [
        "import plotly.express as px\n",
        "\n",
        "# Assuming lovers_top_data is your DataFrame\n",
        "top_20_countries = lovers_top_data['location'].value_counts().head(20)\n",
        "\n",
        "fig = px.bar(top_20_countries, x=top_20_countries.index, y=top_20_countries.values,\n",
        "             labels={'x': 'Country', 'y': 'Number of Lovers'},\n",
        "             title='Top 20 Countries by Number of Lovers',\n",
        "             color=top_20_countries.values)\n",
        "\n",
        "fig.update_xaxes(title='Country')\n",
        "fig.update_yaxes(title='Number of Lovers')\n",
        "\n",
        "fig.show()"
      ],
      "metadata": {
        "colab": {
          "base_uri": "https://localhost:8080/",
          "height": 542
        },
        "id": "8wuXP0lVu2Cv",
        "outputId": "ad27dd5c-9f49-4e64-dbb7-b5ba0543dd05"
      },
      "execution_count": 171,
      "outputs": [
        {
          "output_type": "display_data",
          "data": {
            "text/html": [
              "<html>\n",
              "<head><meta charset=\"utf-8\" /></head>\n",
              "<body>\n",
              "    <div>            <script src=\"https://cdnjs.cloudflare.com/ajax/libs/mathjax/2.7.5/MathJax.js?config=TeX-AMS-MML_SVG\"></script><script type=\"text/javascript\">if (window.MathJax && window.MathJax.Hub && window.MathJax.Hub.Config) {window.MathJax.Hub.Config({SVG: {font: \"STIX-Web\"}});}</script>                <script type=\"text/javascript\">window.PlotlyConfig = {MathJaxConfig: 'local'};</script>\n",
              "        <script charset=\"utf-8\" src=\"https://cdn.plot.ly/plotly-2.24.1.min.js\"></script>                <div id=\"dc5301b4-5b75-4714-b82b-c0af92cbcc64\" class=\"plotly-graph-div\" style=\"height:525px; width:100%;\"></div>            <script type=\"text/javascript\">                                    window.PLOTLYENV=window.PLOTLYENV || {};                                    if (document.getElementById(\"dc5301b4-5b75-4714-b82b-c0af92cbcc64\")) {                    Plotly.newPlot(                        \"dc5301b4-5b75-4714-b82b-c0af92cbcc64\",                        [{\"alignmentgroup\":\"True\",\"hovertemplate\":\"index=%{x}\\u003cbr\\u003eNumber of Lovers=%{y}\\u003cbr\\u003ecolor=%{marker.color}\\u003cextra\\u003e\\u003c\\u002fextra\\u003e\",\"legendgroup\":\"\",\"marker\":{\"color\":[185,43,35,32,28,22,20,18,18,17,13,12,9,9,8,8,8,7,6,6],\"coloraxis\":\"coloraxis\",\"pattern\":{\"shape\":\"\"}},\"name\":\"\",\"offsetgroup\":\"\",\"orientation\":\"v\",\"showlegend\":false,\"textposition\":\"auto\",\"x\":[\"USA\",\"Canada\",\"UK\",\"Australia\",\"Brazil\",\"Italy\",\"Germany\",\"Sweden\",\"Poland\",\"Mexico\",\"Finland\",\"France\",\"Indonesia\",\"Japan\",\"India\",\"Hungary\",\"Philippines\",\"Spain\",\"Chile\",\"Portugal\"],\"xaxis\":\"x\",\"y\":[185,43,35,32,28,22,20,18,18,17,13,12,9,9,8,8,8,7,6,6],\"yaxis\":\"y\",\"type\":\"bar\"}],                        {\"template\":{\"data\":{\"histogram2dcontour\":[{\"type\":\"histogram2dcontour\",\"colorbar\":{\"outlinewidth\":0,\"ticks\":\"\"},\"colorscale\":[[0.0,\"#0d0887\"],[0.1111111111111111,\"#46039f\"],[0.2222222222222222,\"#7201a8\"],[0.3333333333333333,\"#9c179e\"],[0.4444444444444444,\"#bd3786\"],[0.5555555555555556,\"#d8576b\"],[0.6666666666666666,\"#ed7953\"],[0.7777777777777778,\"#fb9f3a\"],[0.8888888888888888,\"#fdca26\"],[1.0,\"#f0f921\"]]}],\"choropleth\":[{\"type\":\"choropleth\",\"colorbar\":{\"outlinewidth\":0,\"ticks\":\"\"}}],\"histogram2d\":[{\"type\":\"histogram2d\",\"colorbar\":{\"outlinewidth\":0,\"ticks\":\"\"},\"colorscale\":[[0.0,\"#0d0887\"],[0.1111111111111111,\"#46039f\"],[0.2222222222222222,\"#7201a8\"],[0.3333333333333333,\"#9c179e\"],[0.4444444444444444,\"#bd3786\"],[0.5555555555555556,\"#d8576b\"],[0.6666666666666666,\"#ed7953\"],[0.7777777777777778,\"#fb9f3a\"],[0.8888888888888888,\"#fdca26\"],[1.0,\"#f0f921\"]]}],\"heatmap\":[{\"type\":\"heatmap\",\"colorbar\":{\"outlinewidth\":0,\"ticks\":\"\"},\"colorscale\":[[0.0,\"#0d0887\"],[0.1111111111111111,\"#46039f\"],[0.2222222222222222,\"#7201a8\"],[0.3333333333333333,\"#9c179e\"],[0.4444444444444444,\"#bd3786\"],[0.5555555555555556,\"#d8576b\"],[0.6666666666666666,\"#ed7953\"],[0.7777777777777778,\"#fb9f3a\"],[0.8888888888888888,\"#fdca26\"],[1.0,\"#f0f921\"]]}],\"heatmapgl\":[{\"type\":\"heatmapgl\",\"colorbar\":{\"outlinewidth\":0,\"ticks\":\"\"},\"colorscale\":[[0.0,\"#0d0887\"],[0.1111111111111111,\"#46039f\"],[0.2222222222222222,\"#7201a8\"],[0.3333333333333333,\"#9c179e\"],[0.4444444444444444,\"#bd3786\"],[0.5555555555555556,\"#d8576b\"],[0.6666666666666666,\"#ed7953\"],[0.7777777777777778,\"#fb9f3a\"],[0.8888888888888888,\"#fdca26\"],[1.0,\"#f0f921\"]]}],\"contourcarpet\":[{\"type\":\"contourcarpet\",\"colorbar\":{\"outlinewidth\":0,\"ticks\":\"\"}}],\"contour\":[{\"type\":\"contour\",\"colorbar\":{\"outlinewidth\":0,\"ticks\":\"\"},\"colorscale\":[[0.0,\"#0d0887\"],[0.1111111111111111,\"#46039f\"],[0.2222222222222222,\"#7201a8\"],[0.3333333333333333,\"#9c179e\"],[0.4444444444444444,\"#bd3786\"],[0.5555555555555556,\"#d8576b\"],[0.6666666666666666,\"#ed7953\"],[0.7777777777777778,\"#fb9f3a\"],[0.8888888888888888,\"#fdca26\"],[1.0,\"#f0f921\"]]}],\"surface\":[{\"type\":\"surface\",\"colorbar\":{\"outlinewidth\":0,\"ticks\":\"\"},\"colorscale\":[[0.0,\"#0d0887\"],[0.1111111111111111,\"#46039f\"],[0.2222222222222222,\"#7201a8\"],[0.3333333333333333,\"#9c179e\"],[0.4444444444444444,\"#bd3786\"],[0.5555555555555556,\"#d8576b\"],[0.6666666666666666,\"#ed7953\"],[0.7777777777777778,\"#fb9f3a\"],[0.8888888888888888,\"#fdca26\"],[1.0,\"#f0f921\"]]}],\"mesh3d\":[{\"type\":\"mesh3d\",\"colorbar\":{\"outlinewidth\":0,\"ticks\":\"\"}}],\"scatter\":[{\"fillpattern\":{\"fillmode\":\"overlay\",\"size\":10,\"solidity\":0.2},\"type\":\"scatter\"}],\"parcoords\":[{\"type\":\"parcoords\",\"line\":{\"colorbar\":{\"outlinewidth\":0,\"ticks\":\"\"}}}],\"scatterpolargl\":[{\"type\":\"scatterpolargl\",\"marker\":{\"colorbar\":{\"outlinewidth\":0,\"ticks\":\"\"}}}],\"bar\":[{\"error_x\":{\"color\":\"#2a3f5f\"},\"error_y\":{\"color\":\"#2a3f5f\"},\"marker\":{\"line\":{\"color\":\"#E5ECF6\",\"width\":0.5},\"pattern\":{\"fillmode\":\"overlay\",\"size\":10,\"solidity\":0.2}},\"type\":\"bar\"}],\"scattergeo\":[{\"type\":\"scattergeo\",\"marker\":{\"colorbar\":{\"outlinewidth\":0,\"ticks\":\"\"}}}],\"scatterpolar\":[{\"type\":\"scatterpolar\",\"marker\":{\"colorbar\":{\"outlinewidth\":0,\"ticks\":\"\"}}}],\"histogram\":[{\"marker\":{\"pattern\":{\"fillmode\":\"overlay\",\"size\":10,\"solidity\":0.2}},\"type\":\"histogram\"}],\"scattergl\":[{\"type\":\"scattergl\",\"marker\":{\"colorbar\":{\"outlinewidth\":0,\"ticks\":\"\"}}}],\"scatter3d\":[{\"type\":\"scatter3d\",\"line\":{\"colorbar\":{\"outlinewidth\":0,\"ticks\":\"\"}},\"marker\":{\"colorbar\":{\"outlinewidth\":0,\"ticks\":\"\"}}}],\"scattermapbox\":[{\"type\":\"scattermapbox\",\"marker\":{\"colorbar\":{\"outlinewidth\":0,\"ticks\":\"\"}}}],\"scatterternary\":[{\"type\":\"scatterternary\",\"marker\":{\"colorbar\":{\"outlinewidth\":0,\"ticks\":\"\"}}}],\"scattercarpet\":[{\"type\":\"scattercarpet\",\"marker\":{\"colorbar\":{\"outlinewidth\":0,\"ticks\":\"\"}}}],\"carpet\":[{\"aaxis\":{\"endlinecolor\":\"#2a3f5f\",\"gridcolor\":\"white\",\"linecolor\":\"white\",\"minorgridcolor\":\"white\",\"startlinecolor\":\"#2a3f5f\"},\"baxis\":{\"endlinecolor\":\"#2a3f5f\",\"gridcolor\":\"white\",\"linecolor\":\"white\",\"minorgridcolor\":\"white\",\"startlinecolor\":\"#2a3f5f\"},\"type\":\"carpet\"}],\"table\":[{\"cells\":{\"fill\":{\"color\":\"#EBF0F8\"},\"line\":{\"color\":\"white\"}},\"header\":{\"fill\":{\"color\":\"#C8D4E3\"},\"line\":{\"color\":\"white\"}},\"type\":\"table\"}],\"barpolar\":[{\"marker\":{\"line\":{\"color\":\"#E5ECF6\",\"width\":0.5},\"pattern\":{\"fillmode\":\"overlay\",\"size\":10,\"solidity\":0.2}},\"type\":\"barpolar\"}],\"pie\":[{\"automargin\":true,\"type\":\"pie\"}]},\"layout\":{\"autotypenumbers\":\"strict\",\"colorway\":[\"#636efa\",\"#EF553B\",\"#00cc96\",\"#ab63fa\",\"#FFA15A\",\"#19d3f3\",\"#FF6692\",\"#B6E880\",\"#FF97FF\",\"#FECB52\"],\"font\":{\"color\":\"#2a3f5f\"},\"hovermode\":\"closest\",\"hoverlabel\":{\"align\":\"left\"},\"paper_bgcolor\":\"white\",\"plot_bgcolor\":\"#E5ECF6\",\"polar\":{\"bgcolor\":\"#E5ECF6\",\"angularaxis\":{\"gridcolor\":\"white\",\"linecolor\":\"white\",\"ticks\":\"\"},\"radialaxis\":{\"gridcolor\":\"white\",\"linecolor\":\"white\",\"ticks\":\"\"}},\"ternary\":{\"bgcolor\":\"#E5ECF6\",\"aaxis\":{\"gridcolor\":\"white\",\"linecolor\":\"white\",\"ticks\":\"\"},\"baxis\":{\"gridcolor\":\"white\",\"linecolor\":\"white\",\"ticks\":\"\"},\"caxis\":{\"gridcolor\":\"white\",\"linecolor\":\"white\",\"ticks\":\"\"}},\"coloraxis\":{\"colorbar\":{\"outlinewidth\":0,\"ticks\":\"\"}},\"colorscale\":{\"sequential\":[[0.0,\"#0d0887\"],[0.1111111111111111,\"#46039f\"],[0.2222222222222222,\"#7201a8\"],[0.3333333333333333,\"#9c179e\"],[0.4444444444444444,\"#bd3786\"],[0.5555555555555556,\"#d8576b\"],[0.6666666666666666,\"#ed7953\"],[0.7777777777777778,\"#fb9f3a\"],[0.8888888888888888,\"#fdca26\"],[1.0,\"#f0f921\"]],\"sequentialminus\":[[0.0,\"#0d0887\"],[0.1111111111111111,\"#46039f\"],[0.2222222222222222,\"#7201a8\"],[0.3333333333333333,\"#9c179e\"],[0.4444444444444444,\"#bd3786\"],[0.5555555555555556,\"#d8576b\"],[0.6666666666666666,\"#ed7953\"],[0.7777777777777778,\"#fb9f3a\"],[0.8888888888888888,\"#fdca26\"],[1.0,\"#f0f921\"]],\"diverging\":[[0,\"#8e0152\"],[0.1,\"#c51b7d\"],[0.2,\"#de77ae\"],[0.3,\"#f1b6da\"],[0.4,\"#fde0ef\"],[0.5,\"#f7f7f7\"],[0.6,\"#e6f5d0\"],[0.7,\"#b8e186\"],[0.8,\"#7fbc41\"],[0.9,\"#4d9221\"],[1,\"#276419\"]]},\"xaxis\":{\"gridcolor\":\"white\",\"linecolor\":\"white\",\"ticks\":\"\",\"title\":{\"standoff\":15},\"zerolinecolor\":\"white\",\"automargin\":true,\"zerolinewidth\":2},\"yaxis\":{\"gridcolor\":\"white\",\"linecolor\":\"white\",\"ticks\":\"\",\"title\":{\"standoff\":15},\"zerolinecolor\":\"white\",\"automargin\":true,\"zerolinewidth\":2},\"scene\":{\"xaxis\":{\"backgroundcolor\":\"#E5ECF6\",\"gridcolor\":\"white\",\"linecolor\":\"white\",\"showbackground\":true,\"ticks\":\"\",\"zerolinecolor\":\"white\",\"gridwidth\":2},\"yaxis\":{\"backgroundcolor\":\"#E5ECF6\",\"gridcolor\":\"white\",\"linecolor\":\"white\",\"showbackground\":true,\"ticks\":\"\",\"zerolinecolor\":\"white\",\"gridwidth\":2},\"zaxis\":{\"backgroundcolor\":\"#E5ECF6\",\"gridcolor\":\"white\",\"linecolor\":\"white\",\"showbackground\":true,\"ticks\":\"\",\"zerolinecolor\":\"white\",\"gridwidth\":2}},\"shapedefaults\":{\"line\":{\"color\":\"#2a3f5f\"}},\"annotationdefaults\":{\"arrowcolor\":\"#2a3f5f\",\"arrowhead\":0,\"arrowwidth\":1},\"geo\":{\"bgcolor\":\"white\",\"landcolor\":\"#E5ECF6\",\"subunitcolor\":\"white\",\"showland\":true,\"showlakes\":true,\"lakecolor\":\"white\"},\"title\":{\"x\":0.05},\"mapbox\":{\"style\":\"light\"}}},\"xaxis\":{\"anchor\":\"y\",\"domain\":[0.0,1.0],\"title\":{\"text\":\"Country\"}},\"yaxis\":{\"anchor\":\"x\",\"domain\":[0.0,1.0],\"title\":{\"text\":\"Number of Lovers\"}},\"coloraxis\":{\"colorbar\":{\"title\":{\"text\":\"color\"}},\"colorscale\":[[0.0,\"#0d0887\"],[0.1111111111111111,\"#46039f\"],[0.2222222222222222,\"#7201a8\"],[0.3333333333333333,\"#9c179e\"],[0.4444444444444444,\"#bd3786\"],[0.5555555555555556,\"#d8576b\"],[0.6666666666666666,\"#ed7953\"],[0.7777777777777778,\"#fb9f3a\"],[0.8888888888888888,\"#fdca26\"],[1.0,\"#f0f921\"]]},\"legend\":{\"tracegroupgap\":0},\"title\":{\"text\":\"Top 20 Countries by Number of Lovers\"},\"barmode\":\"relative\"},                        {\"responsive\": true}                    ).then(function(){\n",
              "                            \n",
              "var gd = document.getElementById('dc5301b4-5b75-4714-b82b-c0af92cbcc64');\n",
              "var x = new MutationObserver(function (mutations, observer) {{\n",
              "        var display = window.getComputedStyle(gd).display;\n",
              "        if (!display || display === 'none') {{\n",
              "            console.log([gd, 'removed!']);\n",
              "            Plotly.purge(gd);\n",
              "            observer.disconnect();\n",
              "        }}\n",
              "}});\n",
              "\n",
              "// Listen for the removal of the full notebook cells\n",
              "var notebookContainer = gd.closest('#notebook-container');\n",
              "if (notebookContainer) {{\n",
              "    x.observe(notebookContainer, {childList: true});\n",
              "}}\n",
              "\n",
              "// Listen for the clearing of the current output cell\n",
              "var outputEl = gd.closest('.output');\n",
              "if (outputEl) {{\n",
              "    x.observe(outputEl, {childList: true});\n",
              "}}\n",
              "\n",
              "                        })                };                            </script>        </div>\n",
              "</body>\n",
              "</html>"
            ]
          },
          "metadata": {}
        }
      ]
    },
    {
      "cell_type": "markdown",
      "source": [
        "Let's check in what hours the users are most active"
      ],
      "metadata": {
        "id": "X0SEIjjA6NEW"
      }
    },
    {
      "cell_type": "code",
      "source": [
        "lovers_top_data['dateLastActive'] = pd.to_datetime(lovers_top_data['dateLastActive'])\n",
        "hourly_counts = lovers_top_data['dateLastActive'].dt.hour.value_counts().sort_index()\n",
        "hour_counts = pd.DataFrame({'Hour of the Day': hourly_counts.index, 'Number of Users': hourly_counts.values})\n",
        "\n",
        "\n",
        "fig = px.bar(hour_counts, x='Hour of the Day', y='Number of Users')\n",
        "fig.update_layout(title='User Activity per Hour of the Day',\n",
        "                  xaxis_title='Hour of the Day',\n",
        "                  yaxis_title='Number of Users',\n",
        "                  xaxis=dict(tickmode='linear', dtick=1))  # Specify the x-axis ticks\n",
        "\n",
        "# Calculate mean number of users per hour for a line plot\n",
        "mean_users_per_hour = hour_counts.groupby('Hour of the Day')['Number of Users'].mean()\n",
        "\n",
        "# Add a line plot\n",
        "fig.add_scatter(x=mean_users_per_hour.index, y=mean_users_per_hour.values, mode='lines', name='Mean Users per Hour')\n",
        "\n",
        "fig.show()"
      ],
      "metadata": {
        "colab": {
          "base_uri": "https://localhost:8080/",
          "height": 542
        },
        "id": "DSl1nSiX40m9",
        "outputId": "335027ce-7a74-407c-90d8-3ca94723609a"
      },
      "execution_count": 172,
      "outputs": [
        {
          "output_type": "display_data",
          "data": {
            "text/html": [
              "<html>\n",
              "<head><meta charset=\"utf-8\" /></head>\n",
              "<body>\n",
              "    <div>            <script src=\"https://cdnjs.cloudflare.com/ajax/libs/mathjax/2.7.5/MathJax.js?config=TeX-AMS-MML_SVG\"></script><script type=\"text/javascript\">if (window.MathJax && window.MathJax.Hub && window.MathJax.Hub.Config) {window.MathJax.Hub.Config({SVG: {font: \"STIX-Web\"}});}</script>                <script type=\"text/javascript\">window.PlotlyConfig = {MathJaxConfig: 'local'};</script>\n",
              "        <script charset=\"utf-8\" src=\"https://cdn.plot.ly/plotly-2.24.1.min.js\"></script>                <div id=\"51799dbf-647a-435c-9ccc-e02d12ed9006\" class=\"plotly-graph-div\" style=\"height:525px; width:100%;\"></div>            <script type=\"text/javascript\">                                    window.PLOTLYENV=window.PLOTLYENV || {};                                    if (document.getElementById(\"51799dbf-647a-435c-9ccc-e02d12ed9006\")) {                    Plotly.newPlot(                        \"51799dbf-647a-435c-9ccc-e02d12ed9006\",                        [{\"alignmentgroup\":\"True\",\"hovertemplate\":\"Hour of the Day=%{x}\\u003cbr\\u003eNumber of Users=%{y}\\u003cextra\\u003e\\u003c\\u002fextra\\u003e\",\"legendgroup\":\"\",\"marker\":{\"color\":\"#636efa\",\"pattern\":{\"shape\":\"\"}},\"name\":\"\",\"offsetgroup\":\"\",\"orientation\":\"v\",\"showlegend\":false,\"textposition\":\"auto\",\"x\":[0,1,2,3,4,5,6,7,8,9,10,11,12,13,14,15,16,17,18,19,20,21,22,23],\"xaxis\":\"x\",\"y\":[92,91,91,84,87,81,83,105,107,150,121,145,157,160,153,154,137,144,125,137,131,125,125,115],\"yaxis\":\"y\",\"type\":\"bar\"},{\"mode\":\"lines\",\"name\":\"Mean Users per Hour\",\"x\":[0,1,2,3,4,5,6,7,8,9,10,11,12,13,14,15,16,17,18,19,20,21,22,23],\"y\":[92.0,91.0,91.0,84.0,87.0,81.0,83.0,105.0,107.0,150.0,121.0,145.0,157.0,160.0,153.0,154.0,137.0,144.0,125.0,137.0,131.0,125.0,125.0,115.0],\"type\":\"scatter\"}],                        {\"template\":{\"data\":{\"histogram2dcontour\":[{\"type\":\"histogram2dcontour\",\"colorbar\":{\"outlinewidth\":0,\"ticks\":\"\"},\"colorscale\":[[0.0,\"#0d0887\"],[0.1111111111111111,\"#46039f\"],[0.2222222222222222,\"#7201a8\"],[0.3333333333333333,\"#9c179e\"],[0.4444444444444444,\"#bd3786\"],[0.5555555555555556,\"#d8576b\"],[0.6666666666666666,\"#ed7953\"],[0.7777777777777778,\"#fb9f3a\"],[0.8888888888888888,\"#fdca26\"],[1.0,\"#f0f921\"]]}],\"choropleth\":[{\"type\":\"choropleth\",\"colorbar\":{\"outlinewidth\":0,\"ticks\":\"\"}}],\"histogram2d\":[{\"type\":\"histogram2d\",\"colorbar\":{\"outlinewidth\":0,\"ticks\":\"\"},\"colorscale\":[[0.0,\"#0d0887\"],[0.1111111111111111,\"#46039f\"],[0.2222222222222222,\"#7201a8\"],[0.3333333333333333,\"#9c179e\"],[0.4444444444444444,\"#bd3786\"],[0.5555555555555556,\"#d8576b\"],[0.6666666666666666,\"#ed7953\"],[0.7777777777777778,\"#fb9f3a\"],[0.8888888888888888,\"#fdca26\"],[1.0,\"#f0f921\"]]}],\"heatmap\":[{\"type\":\"heatmap\",\"colorbar\":{\"outlinewidth\":0,\"ticks\":\"\"},\"colorscale\":[[0.0,\"#0d0887\"],[0.1111111111111111,\"#46039f\"],[0.2222222222222222,\"#7201a8\"],[0.3333333333333333,\"#9c179e\"],[0.4444444444444444,\"#bd3786\"],[0.5555555555555556,\"#d8576b\"],[0.6666666666666666,\"#ed7953\"],[0.7777777777777778,\"#fb9f3a\"],[0.8888888888888888,\"#fdca26\"],[1.0,\"#f0f921\"]]}],\"heatmapgl\":[{\"type\":\"heatmapgl\",\"colorbar\":{\"outlinewidth\":0,\"ticks\":\"\"},\"colorscale\":[[0.0,\"#0d0887\"],[0.1111111111111111,\"#46039f\"],[0.2222222222222222,\"#7201a8\"],[0.3333333333333333,\"#9c179e\"],[0.4444444444444444,\"#bd3786\"],[0.5555555555555556,\"#d8576b\"],[0.6666666666666666,\"#ed7953\"],[0.7777777777777778,\"#fb9f3a\"],[0.8888888888888888,\"#fdca26\"],[1.0,\"#f0f921\"]]}],\"contourcarpet\":[{\"type\":\"contourcarpet\",\"colorbar\":{\"outlinewidth\":0,\"ticks\":\"\"}}],\"contour\":[{\"type\":\"contour\",\"colorbar\":{\"outlinewidth\":0,\"ticks\":\"\"},\"colorscale\":[[0.0,\"#0d0887\"],[0.1111111111111111,\"#46039f\"],[0.2222222222222222,\"#7201a8\"],[0.3333333333333333,\"#9c179e\"],[0.4444444444444444,\"#bd3786\"],[0.5555555555555556,\"#d8576b\"],[0.6666666666666666,\"#ed7953\"],[0.7777777777777778,\"#fb9f3a\"],[0.8888888888888888,\"#fdca26\"],[1.0,\"#f0f921\"]]}],\"surface\":[{\"type\":\"surface\",\"colorbar\":{\"outlinewidth\":0,\"ticks\":\"\"},\"colorscale\":[[0.0,\"#0d0887\"],[0.1111111111111111,\"#46039f\"],[0.2222222222222222,\"#7201a8\"],[0.3333333333333333,\"#9c179e\"],[0.4444444444444444,\"#bd3786\"],[0.5555555555555556,\"#d8576b\"],[0.6666666666666666,\"#ed7953\"],[0.7777777777777778,\"#fb9f3a\"],[0.8888888888888888,\"#fdca26\"],[1.0,\"#f0f921\"]]}],\"mesh3d\":[{\"type\":\"mesh3d\",\"colorbar\":{\"outlinewidth\":0,\"ticks\":\"\"}}],\"scatter\":[{\"fillpattern\":{\"fillmode\":\"overlay\",\"size\":10,\"solidity\":0.2},\"type\":\"scatter\"}],\"parcoords\":[{\"type\":\"parcoords\",\"line\":{\"colorbar\":{\"outlinewidth\":0,\"ticks\":\"\"}}}],\"scatterpolargl\":[{\"type\":\"scatterpolargl\",\"marker\":{\"colorbar\":{\"outlinewidth\":0,\"ticks\":\"\"}}}],\"bar\":[{\"error_x\":{\"color\":\"#2a3f5f\"},\"error_y\":{\"color\":\"#2a3f5f\"},\"marker\":{\"line\":{\"color\":\"#E5ECF6\",\"width\":0.5},\"pattern\":{\"fillmode\":\"overlay\",\"size\":10,\"solidity\":0.2}},\"type\":\"bar\"}],\"scattergeo\":[{\"type\":\"scattergeo\",\"marker\":{\"colorbar\":{\"outlinewidth\":0,\"ticks\":\"\"}}}],\"scatterpolar\":[{\"type\":\"scatterpolar\",\"marker\":{\"colorbar\":{\"outlinewidth\":0,\"ticks\":\"\"}}}],\"histogram\":[{\"marker\":{\"pattern\":{\"fillmode\":\"overlay\",\"size\":10,\"solidity\":0.2}},\"type\":\"histogram\"}],\"scattergl\":[{\"type\":\"scattergl\",\"marker\":{\"colorbar\":{\"outlinewidth\":0,\"ticks\":\"\"}}}],\"scatter3d\":[{\"type\":\"scatter3d\",\"line\":{\"colorbar\":{\"outlinewidth\":0,\"ticks\":\"\"}},\"marker\":{\"colorbar\":{\"outlinewidth\":0,\"ticks\":\"\"}}}],\"scattermapbox\":[{\"type\":\"scattermapbox\",\"marker\":{\"colorbar\":{\"outlinewidth\":0,\"ticks\":\"\"}}}],\"scatterternary\":[{\"type\":\"scatterternary\",\"marker\":{\"colorbar\":{\"outlinewidth\":0,\"ticks\":\"\"}}}],\"scattercarpet\":[{\"type\":\"scattercarpet\",\"marker\":{\"colorbar\":{\"outlinewidth\":0,\"ticks\":\"\"}}}],\"carpet\":[{\"aaxis\":{\"endlinecolor\":\"#2a3f5f\",\"gridcolor\":\"white\",\"linecolor\":\"white\",\"minorgridcolor\":\"white\",\"startlinecolor\":\"#2a3f5f\"},\"baxis\":{\"endlinecolor\":\"#2a3f5f\",\"gridcolor\":\"white\",\"linecolor\":\"white\",\"minorgridcolor\":\"white\",\"startlinecolor\":\"#2a3f5f\"},\"type\":\"carpet\"}],\"table\":[{\"cells\":{\"fill\":{\"color\":\"#EBF0F8\"},\"line\":{\"color\":\"white\"}},\"header\":{\"fill\":{\"color\":\"#C8D4E3\"},\"line\":{\"color\":\"white\"}},\"type\":\"table\"}],\"barpolar\":[{\"marker\":{\"line\":{\"color\":\"#E5ECF6\",\"width\":0.5},\"pattern\":{\"fillmode\":\"overlay\",\"size\":10,\"solidity\":0.2}},\"type\":\"barpolar\"}],\"pie\":[{\"automargin\":true,\"type\":\"pie\"}]},\"layout\":{\"autotypenumbers\":\"strict\",\"colorway\":[\"#636efa\",\"#EF553B\",\"#00cc96\",\"#ab63fa\",\"#FFA15A\",\"#19d3f3\",\"#FF6692\",\"#B6E880\",\"#FF97FF\",\"#FECB52\"],\"font\":{\"color\":\"#2a3f5f\"},\"hovermode\":\"closest\",\"hoverlabel\":{\"align\":\"left\"},\"paper_bgcolor\":\"white\",\"plot_bgcolor\":\"#E5ECF6\",\"polar\":{\"bgcolor\":\"#E5ECF6\",\"angularaxis\":{\"gridcolor\":\"white\",\"linecolor\":\"white\",\"ticks\":\"\"},\"radialaxis\":{\"gridcolor\":\"white\",\"linecolor\":\"white\",\"ticks\":\"\"}},\"ternary\":{\"bgcolor\":\"#E5ECF6\",\"aaxis\":{\"gridcolor\":\"white\",\"linecolor\":\"white\",\"ticks\":\"\"},\"baxis\":{\"gridcolor\":\"white\",\"linecolor\":\"white\",\"ticks\":\"\"},\"caxis\":{\"gridcolor\":\"white\",\"linecolor\":\"white\",\"ticks\":\"\"}},\"coloraxis\":{\"colorbar\":{\"outlinewidth\":0,\"ticks\":\"\"}},\"colorscale\":{\"sequential\":[[0.0,\"#0d0887\"],[0.1111111111111111,\"#46039f\"],[0.2222222222222222,\"#7201a8\"],[0.3333333333333333,\"#9c179e\"],[0.4444444444444444,\"#bd3786\"],[0.5555555555555556,\"#d8576b\"],[0.6666666666666666,\"#ed7953\"],[0.7777777777777778,\"#fb9f3a\"],[0.8888888888888888,\"#fdca26\"],[1.0,\"#f0f921\"]],\"sequentialminus\":[[0.0,\"#0d0887\"],[0.1111111111111111,\"#46039f\"],[0.2222222222222222,\"#7201a8\"],[0.3333333333333333,\"#9c179e\"],[0.4444444444444444,\"#bd3786\"],[0.5555555555555556,\"#d8576b\"],[0.6666666666666666,\"#ed7953\"],[0.7777777777777778,\"#fb9f3a\"],[0.8888888888888888,\"#fdca26\"],[1.0,\"#f0f921\"]],\"diverging\":[[0,\"#8e0152\"],[0.1,\"#c51b7d\"],[0.2,\"#de77ae\"],[0.3,\"#f1b6da\"],[0.4,\"#fde0ef\"],[0.5,\"#f7f7f7\"],[0.6,\"#e6f5d0\"],[0.7,\"#b8e186\"],[0.8,\"#7fbc41\"],[0.9,\"#4d9221\"],[1,\"#276419\"]]},\"xaxis\":{\"gridcolor\":\"white\",\"linecolor\":\"white\",\"ticks\":\"\",\"title\":{\"standoff\":15},\"zerolinecolor\":\"white\",\"automargin\":true,\"zerolinewidth\":2},\"yaxis\":{\"gridcolor\":\"white\",\"linecolor\":\"white\",\"ticks\":\"\",\"title\":{\"standoff\":15},\"zerolinecolor\":\"white\",\"automargin\":true,\"zerolinewidth\":2},\"scene\":{\"xaxis\":{\"backgroundcolor\":\"#E5ECF6\",\"gridcolor\":\"white\",\"linecolor\":\"white\",\"showbackground\":true,\"ticks\":\"\",\"zerolinecolor\":\"white\",\"gridwidth\":2},\"yaxis\":{\"backgroundcolor\":\"#E5ECF6\",\"gridcolor\":\"white\",\"linecolor\":\"white\",\"showbackground\":true,\"ticks\":\"\",\"zerolinecolor\":\"white\",\"gridwidth\":2},\"zaxis\":{\"backgroundcolor\":\"#E5ECF6\",\"gridcolor\":\"white\",\"linecolor\":\"white\",\"showbackground\":true,\"ticks\":\"\",\"zerolinecolor\":\"white\",\"gridwidth\":2}},\"shapedefaults\":{\"line\":{\"color\":\"#2a3f5f\"}},\"annotationdefaults\":{\"arrowcolor\":\"#2a3f5f\",\"arrowhead\":0,\"arrowwidth\":1},\"geo\":{\"bgcolor\":\"white\",\"landcolor\":\"#E5ECF6\",\"subunitcolor\":\"white\",\"showland\":true,\"showlakes\":true,\"lakecolor\":\"white\"},\"title\":{\"x\":0.05},\"mapbox\":{\"style\":\"light\"}}},\"xaxis\":{\"anchor\":\"y\",\"domain\":[0.0,1.0],\"title\":{\"text\":\"Hour of the Day\"},\"tickmode\":\"linear\",\"dtick\":1},\"yaxis\":{\"anchor\":\"x\",\"domain\":[0.0,1.0],\"title\":{\"text\":\"Number of Users\"}},\"legend\":{\"tracegroupgap\":0},\"margin\":{\"t\":60},\"barmode\":\"relative\",\"title\":{\"text\":\"User Activity per Hour of the Day\"}},                        {\"responsive\": true}                    ).then(function(){\n",
              "                            \n",
              "var gd = document.getElementById('51799dbf-647a-435c-9ccc-e02d12ed9006');\n",
              "var x = new MutationObserver(function (mutations, observer) {{\n",
              "        var display = window.getComputedStyle(gd).display;\n",
              "        if (!display || display === 'none') {{\n",
              "            console.log([gd, 'removed!']);\n",
              "            Plotly.purge(gd);\n",
              "            observer.disconnect();\n",
              "        }}\n",
              "}});\n",
              "\n",
              "// Listen for the removal of the full notebook cells\n",
              "var notebookContainer = gd.closest('#notebook-container');\n",
              "if (notebookContainer) {{\n",
              "    x.observe(notebookContainer, {childList: true});\n",
              "}}\n",
              "\n",
              "// Listen for the clearing of the current output cell\n",
              "var outputEl = gd.closest('.output');\n",
              "if (outputEl) {{\n",
              "    x.observe(outputEl, {childList: true});\n",
              "}}\n",
              "\n",
              "                        })                };                            </script>        </div>\n",
              "</body>\n",
              "</html>"
            ]
          },
          "metadata": {}
        }
      ]
    },
    {
      "cell_type": "markdown",
      "source": [
        "Let's explore how many users were active om platform. I will add another column to show how many days each user was active. Then I'll split them into 3 groups (those who were acrive to month, to year, and more than year). And then I'll visualize it."
      ],
      "metadata": {
        "id": "f52DioI8_zGb"
      }
    },
    {
      "cell_type": "code",
      "source": [
        "lovers_top_data['ActiveDuration'] = (lovers_top_data['dateLastActive'] - lovers_top_data['dateRegistered']).dt.days\n"
      ],
      "metadata": {
        "id": "BtKSpr6OAPGP"
      },
      "execution_count": 173,
      "outputs": []
    },
    {
      "cell_type": "markdown",
      "source": [
        "Let's categorize users into three groups based on their active duration:"
      ],
      "metadata": {
        "id": "8bfM82z8BPpy"
      }
    },
    {
      "cell_type": "code",
      "source": [
        "def categorize_users(duration):\n",
        "    if duration >= 0 and duration <= 30:\n",
        "        return 'A'\n",
        "    elif duration > 30 and duration <= 365:\n",
        "        return 'B'\n",
        "    elif duration > 365:\n",
        "        return 'C'\n",
        "\n",
        "# Apply categorization to create a new column 'Group'\n",
        "lovers_top_data['Group'] = lovers_top_data['ActiveDuration'].apply(categorize_users)"
      ],
      "metadata": {
        "id": "EtPl2YdjBHB5"
      },
      "execution_count": 174,
      "outputs": []
    },
    {
      "cell_type": "markdown",
      "source": [
        "Count the number of users in each category."
      ],
      "metadata": {
        "id": "j3KPwXyfBcD3"
      }
    },
    {
      "cell_type": "code",
      "source": [
        "group_counts = lovers_top_data['Group'].value_counts()\n",
        "\n",
        "plot_data = pd.DataFrame({\n",
        "    'Group': group_counts.index,\n",
        "    'Count': group_counts.values\n",
        "})"
      ],
      "metadata": {
        "id": "jBYWtlktBfw8"
      },
      "execution_count": 175,
      "outputs": []
    },
    {
      "cell_type": "code",
      "source": [
        "lovers_top_data['Group'].value_counts()"
      ],
      "metadata": {
        "colab": {
          "base_uri": "https://localhost:8080/"
        },
        "id": "4Rdck1x5B9no",
        "outputId": "0dd031ec-53a8-4960-f25f-12ae1737ef8c"
      },
      "execution_count": 176,
      "outputs": [
        {
          "output_type": "execute_result",
          "data": {
            "text/plain": [
              "C    2666\n",
              "B     196\n",
              "A      31\n",
              "Name: Group, dtype: int64"
            ]
          },
          "metadata": {},
          "execution_count": 176
        }
      ]
    },
    {
      "cell_type": "markdown",
      "source": [
        "3D plot:"
      ],
      "metadata": {
        "id": "BfcryTX8Bm6G"
      }
    },
    {
      "cell_type": "code",
      "source": [
        "fig = px.scatter_3d(plot_data, x='Group', y='Count', z='Count', color='Group', size='Count',\n",
        "                    title='Users Activity Group Distribution',\n",
        "                    labels={'Group': 'Activity Group', 'Count': 'User Count'},\n",
        "                    size_max=50)\n",
        "fig.show()"
      ],
      "metadata": {
        "colab": {
          "base_uri": "https://localhost:8080/",
          "height": 542
        },
        "id": "LmK46FRUBnw6",
        "outputId": "6af460f6-ddf2-4d3c-ece6-e231f655289b"
      },
      "execution_count": 177,
      "outputs": [
        {
          "output_type": "display_data",
          "data": {
            "text/html": [
              "<html>\n",
              "<head><meta charset=\"utf-8\" /></head>\n",
              "<body>\n",
              "    <div>            <script src=\"https://cdnjs.cloudflare.com/ajax/libs/mathjax/2.7.5/MathJax.js?config=TeX-AMS-MML_SVG\"></script><script type=\"text/javascript\">if (window.MathJax && window.MathJax.Hub && window.MathJax.Hub.Config) {window.MathJax.Hub.Config({SVG: {font: \"STIX-Web\"}});}</script>                <script type=\"text/javascript\">window.PlotlyConfig = {MathJaxConfig: 'local'};</script>\n",
              "        <script charset=\"utf-8\" src=\"https://cdn.plot.ly/plotly-2.24.1.min.js\"></script>                <div id=\"4553a881-2dd9-4a9d-8c3d-ee936d112bda\" class=\"plotly-graph-div\" style=\"height:525px; width:100%;\"></div>            <script type=\"text/javascript\">                                    window.PLOTLYENV=window.PLOTLYENV || {};                                    if (document.getElementById(\"4553a881-2dd9-4a9d-8c3d-ee936d112bda\")) {                    Plotly.newPlot(                        \"4553a881-2dd9-4a9d-8c3d-ee936d112bda\",                        [{\"hovertemplate\":\"Activity Group=%{x}\\u003cbr\\u003eUser Count=%{marker.size}\\u003cextra\\u003e\\u003c\\u002fextra\\u003e\",\"legendgroup\":\"C\",\"marker\":{\"color\":\"#636efa\",\"size\":[2666],\"sizemode\":\"area\",\"sizeref\":1.0664,\"symbol\":\"circle\"},\"mode\":\"markers\",\"name\":\"C\",\"scene\":\"scene\",\"showlegend\":true,\"x\":[\"C\"],\"y\":[2666],\"z\":[2666],\"type\":\"scatter3d\"},{\"hovertemplate\":\"Activity Group=%{x}\\u003cbr\\u003eUser Count=%{marker.size}\\u003cextra\\u003e\\u003c\\u002fextra\\u003e\",\"legendgroup\":\"B\",\"marker\":{\"color\":\"#EF553B\",\"size\":[196],\"sizemode\":\"area\",\"sizeref\":1.0664,\"symbol\":\"circle\"},\"mode\":\"markers\",\"name\":\"B\",\"scene\":\"scene\",\"showlegend\":true,\"x\":[\"B\"],\"y\":[196],\"z\":[196],\"type\":\"scatter3d\"},{\"hovertemplate\":\"Activity Group=%{x}\\u003cbr\\u003eUser Count=%{marker.size}\\u003cextra\\u003e\\u003c\\u002fextra\\u003e\",\"legendgroup\":\"A\",\"marker\":{\"color\":\"#00cc96\",\"size\":[31],\"sizemode\":\"area\",\"sizeref\":1.0664,\"symbol\":\"circle\"},\"mode\":\"markers\",\"name\":\"A\",\"scene\":\"scene\",\"showlegend\":true,\"x\":[\"A\"],\"y\":[31],\"z\":[31],\"type\":\"scatter3d\"}],                        {\"template\":{\"data\":{\"histogram2dcontour\":[{\"type\":\"histogram2dcontour\",\"colorbar\":{\"outlinewidth\":0,\"ticks\":\"\"},\"colorscale\":[[0.0,\"#0d0887\"],[0.1111111111111111,\"#46039f\"],[0.2222222222222222,\"#7201a8\"],[0.3333333333333333,\"#9c179e\"],[0.4444444444444444,\"#bd3786\"],[0.5555555555555556,\"#d8576b\"],[0.6666666666666666,\"#ed7953\"],[0.7777777777777778,\"#fb9f3a\"],[0.8888888888888888,\"#fdca26\"],[1.0,\"#f0f921\"]]}],\"choropleth\":[{\"type\":\"choropleth\",\"colorbar\":{\"outlinewidth\":0,\"ticks\":\"\"}}],\"histogram2d\":[{\"type\":\"histogram2d\",\"colorbar\":{\"outlinewidth\":0,\"ticks\":\"\"},\"colorscale\":[[0.0,\"#0d0887\"],[0.1111111111111111,\"#46039f\"],[0.2222222222222222,\"#7201a8\"],[0.3333333333333333,\"#9c179e\"],[0.4444444444444444,\"#bd3786\"],[0.5555555555555556,\"#d8576b\"],[0.6666666666666666,\"#ed7953\"],[0.7777777777777778,\"#fb9f3a\"],[0.8888888888888888,\"#fdca26\"],[1.0,\"#f0f921\"]]}],\"heatmap\":[{\"type\":\"heatmap\",\"colorbar\":{\"outlinewidth\":0,\"ticks\":\"\"},\"colorscale\":[[0.0,\"#0d0887\"],[0.1111111111111111,\"#46039f\"],[0.2222222222222222,\"#7201a8\"],[0.3333333333333333,\"#9c179e\"],[0.4444444444444444,\"#bd3786\"],[0.5555555555555556,\"#d8576b\"],[0.6666666666666666,\"#ed7953\"],[0.7777777777777778,\"#fb9f3a\"],[0.8888888888888888,\"#fdca26\"],[1.0,\"#f0f921\"]]}],\"heatmapgl\":[{\"type\":\"heatmapgl\",\"colorbar\":{\"outlinewidth\":0,\"ticks\":\"\"},\"colorscale\":[[0.0,\"#0d0887\"],[0.1111111111111111,\"#46039f\"],[0.2222222222222222,\"#7201a8\"],[0.3333333333333333,\"#9c179e\"],[0.4444444444444444,\"#bd3786\"],[0.5555555555555556,\"#d8576b\"],[0.6666666666666666,\"#ed7953\"],[0.7777777777777778,\"#fb9f3a\"],[0.8888888888888888,\"#fdca26\"],[1.0,\"#f0f921\"]]}],\"contourcarpet\":[{\"type\":\"contourcarpet\",\"colorbar\":{\"outlinewidth\":0,\"ticks\":\"\"}}],\"contour\":[{\"type\":\"contour\",\"colorbar\":{\"outlinewidth\":0,\"ticks\":\"\"},\"colorscale\":[[0.0,\"#0d0887\"],[0.1111111111111111,\"#46039f\"],[0.2222222222222222,\"#7201a8\"],[0.3333333333333333,\"#9c179e\"],[0.4444444444444444,\"#bd3786\"],[0.5555555555555556,\"#d8576b\"],[0.6666666666666666,\"#ed7953\"],[0.7777777777777778,\"#fb9f3a\"],[0.8888888888888888,\"#fdca26\"],[1.0,\"#f0f921\"]]}],\"surface\":[{\"type\":\"surface\",\"colorbar\":{\"outlinewidth\":0,\"ticks\":\"\"},\"colorscale\":[[0.0,\"#0d0887\"],[0.1111111111111111,\"#46039f\"],[0.2222222222222222,\"#7201a8\"],[0.3333333333333333,\"#9c179e\"],[0.4444444444444444,\"#bd3786\"],[0.5555555555555556,\"#d8576b\"],[0.6666666666666666,\"#ed7953\"],[0.7777777777777778,\"#fb9f3a\"],[0.8888888888888888,\"#fdca26\"],[1.0,\"#f0f921\"]]}],\"mesh3d\":[{\"type\":\"mesh3d\",\"colorbar\":{\"outlinewidth\":0,\"ticks\":\"\"}}],\"scatter\":[{\"fillpattern\":{\"fillmode\":\"overlay\",\"size\":10,\"solidity\":0.2},\"type\":\"scatter\"}],\"parcoords\":[{\"type\":\"parcoords\",\"line\":{\"colorbar\":{\"outlinewidth\":0,\"ticks\":\"\"}}}],\"scatterpolargl\":[{\"type\":\"scatterpolargl\",\"marker\":{\"colorbar\":{\"outlinewidth\":0,\"ticks\":\"\"}}}],\"bar\":[{\"error_x\":{\"color\":\"#2a3f5f\"},\"error_y\":{\"color\":\"#2a3f5f\"},\"marker\":{\"line\":{\"color\":\"#E5ECF6\",\"width\":0.5},\"pattern\":{\"fillmode\":\"overlay\",\"size\":10,\"solidity\":0.2}},\"type\":\"bar\"}],\"scattergeo\":[{\"type\":\"scattergeo\",\"marker\":{\"colorbar\":{\"outlinewidth\":0,\"ticks\":\"\"}}}],\"scatterpolar\":[{\"type\":\"scatterpolar\",\"marker\":{\"colorbar\":{\"outlinewidth\":0,\"ticks\":\"\"}}}],\"histogram\":[{\"marker\":{\"pattern\":{\"fillmode\":\"overlay\",\"size\":10,\"solidity\":0.2}},\"type\":\"histogram\"}],\"scattergl\":[{\"type\":\"scattergl\",\"marker\":{\"colorbar\":{\"outlinewidth\":0,\"ticks\":\"\"}}}],\"scatter3d\":[{\"type\":\"scatter3d\",\"line\":{\"colorbar\":{\"outlinewidth\":0,\"ticks\":\"\"}},\"marker\":{\"colorbar\":{\"outlinewidth\":0,\"ticks\":\"\"}}}],\"scattermapbox\":[{\"type\":\"scattermapbox\",\"marker\":{\"colorbar\":{\"outlinewidth\":0,\"ticks\":\"\"}}}],\"scatterternary\":[{\"type\":\"scatterternary\",\"marker\":{\"colorbar\":{\"outlinewidth\":0,\"ticks\":\"\"}}}],\"scattercarpet\":[{\"type\":\"scattercarpet\",\"marker\":{\"colorbar\":{\"outlinewidth\":0,\"ticks\":\"\"}}}],\"carpet\":[{\"aaxis\":{\"endlinecolor\":\"#2a3f5f\",\"gridcolor\":\"white\",\"linecolor\":\"white\",\"minorgridcolor\":\"white\",\"startlinecolor\":\"#2a3f5f\"},\"baxis\":{\"endlinecolor\":\"#2a3f5f\",\"gridcolor\":\"white\",\"linecolor\":\"white\",\"minorgridcolor\":\"white\",\"startlinecolor\":\"#2a3f5f\"},\"type\":\"carpet\"}],\"table\":[{\"cells\":{\"fill\":{\"color\":\"#EBF0F8\"},\"line\":{\"color\":\"white\"}},\"header\":{\"fill\":{\"color\":\"#C8D4E3\"},\"line\":{\"color\":\"white\"}},\"type\":\"table\"}],\"barpolar\":[{\"marker\":{\"line\":{\"color\":\"#E5ECF6\",\"width\":0.5},\"pattern\":{\"fillmode\":\"overlay\",\"size\":10,\"solidity\":0.2}},\"type\":\"barpolar\"}],\"pie\":[{\"automargin\":true,\"type\":\"pie\"}]},\"layout\":{\"autotypenumbers\":\"strict\",\"colorway\":[\"#636efa\",\"#EF553B\",\"#00cc96\",\"#ab63fa\",\"#FFA15A\",\"#19d3f3\",\"#FF6692\",\"#B6E880\",\"#FF97FF\",\"#FECB52\"],\"font\":{\"color\":\"#2a3f5f\"},\"hovermode\":\"closest\",\"hoverlabel\":{\"align\":\"left\"},\"paper_bgcolor\":\"white\",\"plot_bgcolor\":\"#E5ECF6\",\"polar\":{\"bgcolor\":\"#E5ECF6\",\"angularaxis\":{\"gridcolor\":\"white\",\"linecolor\":\"white\",\"ticks\":\"\"},\"radialaxis\":{\"gridcolor\":\"white\",\"linecolor\":\"white\",\"ticks\":\"\"}},\"ternary\":{\"bgcolor\":\"#E5ECF6\",\"aaxis\":{\"gridcolor\":\"white\",\"linecolor\":\"white\",\"ticks\":\"\"},\"baxis\":{\"gridcolor\":\"white\",\"linecolor\":\"white\",\"ticks\":\"\"},\"caxis\":{\"gridcolor\":\"white\",\"linecolor\":\"white\",\"ticks\":\"\"}},\"coloraxis\":{\"colorbar\":{\"outlinewidth\":0,\"ticks\":\"\"}},\"colorscale\":{\"sequential\":[[0.0,\"#0d0887\"],[0.1111111111111111,\"#46039f\"],[0.2222222222222222,\"#7201a8\"],[0.3333333333333333,\"#9c179e\"],[0.4444444444444444,\"#bd3786\"],[0.5555555555555556,\"#d8576b\"],[0.6666666666666666,\"#ed7953\"],[0.7777777777777778,\"#fb9f3a\"],[0.8888888888888888,\"#fdca26\"],[1.0,\"#f0f921\"]],\"sequentialminus\":[[0.0,\"#0d0887\"],[0.1111111111111111,\"#46039f\"],[0.2222222222222222,\"#7201a8\"],[0.3333333333333333,\"#9c179e\"],[0.4444444444444444,\"#bd3786\"],[0.5555555555555556,\"#d8576b\"],[0.6666666666666666,\"#ed7953\"],[0.7777777777777778,\"#fb9f3a\"],[0.8888888888888888,\"#fdca26\"],[1.0,\"#f0f921\"]],\"diverging\":[[0,\"#8e0152\"],[0.1,\"#c51b7d\"],[0.2,\"#de77ae\"],[0.3,\"#f1b6da\"],[0.4,\"#fde0ef\"],[0.5,\"#f7f7f7\"],[0.6,\"#e6f5d0\"],[0.7,\"#b8e186\"],[0.8,\"#7fbc41\"],[0.9,\"#4d9221\"],[1,\"#276419\"]]},\"xaxis\":{\"gridcolor\":\"white\",\"linecolor\":\"white\",\"ticks\":\"\",\"title\":{\"standoff\":15},\"zerolinecolor\":\"white\",\"automargin\":true,\"zerolinewidth\":2},\"yaxis\":{\"gridcolor\":\"white\",\"linecolor\":\"white\",\"ticks\":\"\",\"title\":{\"standoff\":15},\"zerolinecolor\":\"white\",\"automargin\":true,\"zerolinewidth\":2},\"scene\":{\"xaxis\":{\"backgroundcolor\":\"#E5ECF6\",\"gridcolor\":\"white\",\"linecolor\":\"white\",\"showbackground\":true,\"ticks\":\"\",\"zerolinecolor\":\"white\",\"gridwidth\":2},\"yaxis\":{\"backgroundcolor\":\"#E5ECF6\",\"gridcolor\":\"white\",\"linecolor\":\"white\",\"showbackground\":true,\"ticks\":\"\",\"zerolinecolor\":\"white\",\"gridwidth\":2},\"zaxis\":{\"backgroundcolor\":\"#E5ECF6\",\"gridcolor\":\"white\",\"linecolor\":\"white\",\"showbackground\":true,\"ticks\":\"\",\"zerolinecolor\":\"white\",\"gridwidth\":2}},\"shapedefaults\":{\"line\":{\"color\":\"#2a3f5f\"}},\"annotationdefaults\":{\"arrowcolor\":\"#2a3f5f\",\"arrowhead\":0,\"arrowwidth\":1},\"geo\":{\"bgcolor\":\"white\",\"landcolor\":\"#E5ECF6\",\"subunitcolor\":\"white\",\"showland\":true,\"showlakes\":true,\"lakecolor\":\"white\"},\"title\":{\"x\":0.05},\"mapbox\":{\"style\":\"light\"}}},\"scene\":{\"domain\":{\"x\":[0.0,1.0],\"y\":[0.0,1.0]},\"xaxis\":{\"title\":{\"text\":\"Activity Group\"},\"categoryorder\":\"array\",\"categoryarray\":[\"C\",\"B\",\"A\"]},\"yaxis\":{\"title\":{\"text\":\"User Count\"}},\"zaxis\":{\"title\":{\"text\":\"User Count\"}}},\"legend\":{\"title\":{\"text\":\"Activity Group\"},\"tracegroupgap\":0,\"itemsizing\":\"constant\"},\"title\":{\"text\":\"Users Activity Group Distribution\"}},                        {\"responsive\": true}                    ).then(function(){\n",
              "                            \n",
              "var gd = document.getElementById('4553a881-2dd9-4a9d-8c3d-ee936d112bda');\n",
              "var x = new MutationObserver(function (mutations, observer) {{\n",
              "        var display = window.getComputedStyle(gd).display;\n",
              "        if (!display || display === 'none') {{\n",
              "            console.log([gd, 'removed!']);\n",
              "            Plotly.purge(gd);\n",
              "            observer.disconnect();\n",
              "        }}\n",
              "}});\n",
              "\n",
              "// Listen for the removal of the full notebook cells\n",
              "var notebookContainer = gd.closest('#notebook-container');\n",
              "if (notebookContainer) {{\n",
              "    x.observe(notebookContainer, {childList: true});\n",
              "}}\n",
              "\n",
              "// Listen for the clearing of the current output cell\n",
              "var outputEl = gd.closest('.output');\n",
              "if (outputEl) {{\n",
              "    x.observe(outputEl, {childList: true});\n",
              "}}\n",
              "\n",
              "                        })                };                            </script>        </div>\n",
              "</body>\n",
              "</html>"
            ]
          },
          "metadata": {}
        }
      ]
    },
    {
      "cell_type": "markdown",
      "source": [
        "Then let's explore the activities of users by check if the user add at least one color, or one palette or one pattern, or didn't add anything. Then let's count the number of users in each group and visualize it."
      ],
      "metadata": {
        "id": "lXpIN_CFErFT"
      }
    },
    {
      "cell_type": "code",
      "source": [
        "lovers_top_data['AddedNothing'] = (lovers_top_data['numColors'] == 0) & (lovers_top_data['numPalettes'] == 0) & (lovers_top_data['numPatterns'] == 0)\n",
        "lovers_top_data['AddedColor'] = (lovers_top_data['numColors'] > 0)\n",
        "lovers_top_data['AddedPalette'] = (lovers_top_data['numPalettes'] > 0)\n",
        "lovers_top_data['AddedPattern'] = (lovers_top_data['numPatterns'] > 0)\n",
        "\n",
        "# Counting users falling into each category\n",
        "count_by_condition = lovers_top_data[['AddedNothing', 'AddedColor', 'AddedPalette', 'AddedPattern']].sum()\n",
        "\n",
        "# 3D plot\n",
        "plot_data_3d = pd.DataFrame({\n",
        "    'Condition': count_by_condition.index,\n",
        "    'Count': count_by_condition.values\n",
        "})\n",
        "\n",
        "fig = px.scatter_3d(plot_data_3d, x='Condition', y='Count', z='Count', color='Condition', size='Count',\n",
        "                    title='Users Additions Summary',\n",
        "                    labels={'Condition': 'Addition Condition', 'Count': 'User Count'},\n",
        "                    size_max=50)\n",
        "fig.show()"
      ],
      "metadata": {
        "colab": {
          "base_uri": "https://localhost:8080/",
          "height": 542
        },
        "id": "nbx5GYVHD3h6",
        "outputId": "bfd9dc86-ba14-4977-cafd-f3ccd512dee4"
      },
      "execution_count": 178,
      "outputs": [
        {
          "output_type": "display_data",
          "data": {
            "text/html": [
              "<html>\n",
              "<head><meta charset=\"utf-8\" /></head>\n",
              "<body>\n",
              "    <div>            <script src=\"https://cdnjs.cloudflare.com/ajax/libs/mathjax/2.7.5/MathJax.js?config=TeX-AMS-MML_SVG\"></script><script type=\"text/javascript\">if (window.MathJax && window.MathJax.Hub && window.MathJax.Hub.Config) {window.MathJax.Hub.Config({SVG: {font: \"STIX-Web\"}});}</script>                <script type=\"text/javascript\">window.PlotlyConfig = {MathJaxConfig: 'local'};</script>\n",
              "        <script charset=\"utf-8\" src=\"https://cdn.plot.ly/plotly-2.24.1.min.js\"></script>                <div id=\"27ff0756-6058-40a7-92e0-cd0e71d5e42f\" class=\"plotly-graph-div\" style=\"height:525px; width:100%;\"></div>            <script type=\"text/javascript\">                                    window.PLOTLYENV=window.PLOTLYENV || {};                                    if (document.getElementById(\"27ff0756-6058-40a7-92e0-cd0e71d5e42f\")) {                    Plotly.newPlot(                        \"27ff0756-6058-40a7-92e0-cd0e71d5e42f\",                        [{\"hovertemplate\":\"Addition Condition=%{x}\\u003cbr\\u003eUser Count=%{marker.size}\\u003cextra\\u003e\\u003c\\u002fextra\\u003e\",\"legendgroup\":\"AddedNothing\",\"marker\":{\"color\":\"#636efa\",\"size\":[20],\"sizemode\":\"area\",\"sizeref\":1.1464,\"symbol\":\"circle\"},\"mode\":\"markers\",\"name\":\"AddedNothing\",\"scene\":\"scene\",\"showlegend\":true,\"x\":[\"AddedNothing\"],\"y\":[20],\"z\":[20],\"type\":\"scatter3d\"},{\"hovertemplate\":\"Addition Condition=%{x}\\u003cbr\\u003eUser Count=%{marker.size}\\u003cextra\\u003e\\u003c\\u002fextra\\u003e\",\"legendgroup\":\"AddedColor\",\"marker\":{\"color\":\"#EF553B\",\"size\":[2866],\"sizemode\":\"area\",\"sizeref\":1.1464,\"symbol\":\"circle\"},\"mode\":\"markers\",\"name\":\"AddedColor\",\"scene\":\"scene\",\"showlegend\":true,\"x\":[\"AddedColor\"],\"y\":[2866],\"z\":[2866],\"type\":\"scatter3d\"},{\"hovertemplate\":\"Addition Condition=%{x}\\u003cbr\\u003eUser Count=%{marker.size}\\u003cextra\\u003e\\u003c\\u002fextra\\u003e\",\"legendgroup\":\"AddedPalette\",\"marker\":{\"color\":\"#00cc96\",\"size\":[2851],\"sizemode\":\"area\",\"sizeref\":1.1464,\"symbol\":\"circle\"},\"mode\":\"markers\",\"name\":\"AddedPalette\",\"scene\":\"scene\",\"showlegend\":true,\"x\":[\"AddedPalette\"],\"y\":[2851],\"z\":[2851],\"type\":\"scatter3d\"},{\"hovertemplate\":\"Addition Condition=%{x}\\u003cbr\\u003eUser Count=%{marker.size}\\u003cextra\\u003e\\u003c\\u002fextra\\u003e\",\"legendgroup\":\"AddedPattern\",\"marker\":{\"color\":\"#ab63fa\",\"size\":[2768],\"sizemode\":\"area\",\"sizeref\":1.1464,\"symbol\":\"circle\"},\"mode\":\"markers\",\"name\":\"AddedPattern\",\"scene\":\"scene\",\"showlegend\":true,\"x\":[\"AddedPattern\"],\"y\":[2768],\"z\":[2768],\"type\":\"scatter3d\"}],                        {\"template\":{\"data\":{\"histogram2dcontour\":[{\"type\":\"histogram2dcontour\",\"colorbar\":{\"outlinewidth\":0,\"ticks\":\"\"},\"colorscale\":[[0.0,\"#0d0887\"],[0.1111111111111111,\"#46039f\"],[0.2222222222222222,\"#7201a8\"],[0.3333333333333333,\"#9c179e\"],[0.4444444444444444,\"#bd3786\"],[0.5555555555555556,\"#d8576b\"],[0.6666666666666666,\"#ed7953\"],[0.7777777777777778,\"#fb9f3a\"],[0.8888888888888888,\"#fdca26\"],[1.0,\"#f0f921\"]]}],\"choropleth\":[{\"type\":\"choropleth\",\"colorbar\":{\"outlinewidth\":0,\"ticks\":\"\"}}],\"histogram2d\":[{\"type\":\"histogram2d\",\"colorbar\":{\"outlinewidth\":0,\"ticks\":\"\"},\"colorscale\":[[0.0,\"#0d0887\"],[0.1111111111111111,\"#46039f\"],[0.2222222222222222,\"#7201a8\"],[0.3333333333333333,\"#9c179e\"],[0.4444444444444444,\"#bd3786\"],[0.5555555555555556,\"#d8576b\"],[0.6666666666666666,\"#ed7953\"],[0.7777777777777778,\"#fb9f3a\"],[0.8888888888888888,\"#fdca26\"],[1.0,\"#f0f921\"]]}],\"heatmap\":[{\"type\":\"heatmap\",\"colorbar\":{\"outlinewidth\":0,\"ticks\":\"\"},\"colorscale\":[[0.0,\"#0d0887\"],[0.1111111111111111,\"#46039f\"],[0.2222222222222222,\"#7201a8\"],[0.3333333333333333,\"#9c179e\"],[0.4444444444444444,\"#bd3786\"],[0.5555555555555556,\"#d8576b\"],[0.6666666666666666,\"#ed7953\"],[0.7777777777777778,\"#fb9f3a\"],[0.8888888888888888,\"#fdca26\"],[1.0,\"#f0f921\"]]}],\"heatmapgl\":[{\"type\":\"heatmapgl\",\"colorbar\":{\"outlinewidth\":0,\"ticks\":\"\"},\"colorscale\":[[0.0,\"#0d0887\"],[0.1111111111111111,\"#46039f\"],[0.2222222222222222,\"#7201a8\"],[0.3333333333333333,\"#9c179e\"],[0.4444444444444444,\"#bd3786\"],[0.5555555555555556,\"#d8576b\"],[0.6666666666666666,\"#ed7953\"],[0.7777777777777778,\"#fb9f3a\"],[0.8888888888888888,\"#fdca26\"],[1.0,\"#f0f921\"]]}],\"contourcarpet\":[{\"type\":\"contourcarpet\",\"colorbar\":{\"outlinewidth\":0,\"ticks\":\"\"}}],\"contour\":[{\"type\":\"contour\",\"colorbar\":{\"outlinewidth\":0,\"ticks\":\"\"},\"colorscale\":[[0.0,\"#0d0887\"],[0.1111111111111111,\"#46039f\"],[0.2222222222222222,\"#7201a8\"],[0.3333333333333333,\"#9c179e\"],[0.4444444444444444,\"#bd3786\"],[0.5555555555555556,\"#d8576b\"],[0.6666666666666666,\"#ed7953\"],[0.7777777777777778,\"#fb9f3a\"],[0.8888888888888888,\"#fdca26\"],[1.0,\"#f0f921\"]]}],\"surface\":[{\"type\":\"surface\",\"colorbar\":{\"outlinewidth\":0,\"ticks\":\"\"},\"colorscale\":[[0.0,\"#0d0887\"],[0.1111111111111111,\"#46039f\"],[0.2222222222222222,\"#7201a8\"],[0.3333333333333333,\"#9c179e\"],[0.4444444444444444,\"#bd3786\"],[0.5555555555555556,\"#d8576b\"],[0.6666666666666666,\"#ed7953\"],[0.7777777777777778,\"#fb9f3a\"],[0.8888888888888888,\"#fdca26\"],[1.0,\"#f0f921\"]]}],\"mesh3d\":[{\"type\":\"mesh3d\",\"colorbar\":{\"outlinewidth\":0,\"ticks\":\"\"}}],\"scatter\":[{\"fillpattern\":{\"fillmode\":\"overlay\",\"size\":10,\"solidity\":0.2},\"type\":\"scatter\"}],\"parcoords\":[{\"type\":\"parcoords\",\"line\":{\"colorbar\":{\"outlinewidth\":0,\"ticks\":\"\"}}}],\"scatterpolargl\":[{\"type\":\"scatterpolargl\",\"marker\":{\"colorbar\":{\"outlinewidth\":0,\"ticks\":\"\"}}}],\"bar\":[{\"error_x\":{\"color\":\"#2a3f5f\"},\"error_y\":{\"color\":\"#2a3f5f\"},\"marker\":{\"line\":{\"color\":\"#E5ECF6\",\"width\":0.5},\"pattern\":{\"fillmode\":\"overlay\",\"size\":10,\"solidity\":0.2}},\"type\":\"bar\"}],\"scattergeo\":[{\"type\":\"scattergeo\",\"marker\":{\"colorbar\":{\"outlinewidth\":0,\"ticks\":\"\"}}}],\"scatterpolar\":[{\"type\":\"scatterpolar\",\"marker\":{\"colorbar\":{\"outlinewidth\":0,\"ticks\":\"\"}}}],\"histogram\":[{\"marker\":{\"pattern\":{\"fillmode\":\"overlay\",\"size\":10,\"solidity\":0.2}},\"type\":\"histogram\"}],\"scattergl\":[{\"type\":\"scattergl\",\"marker\":{\"colorbar\":{\"outlinewidth\":0,\"ticks\":\"\"}}}],\"scatter3d\":[{\"type\":\"scatter3d\",\"line\":{\"colorbar\":{\"outlinewidth\":0,\"ticks\":\"\"}},\"marker\":{\"colorbar\":{\"outlinewidth\":0,\"ticks\":\"\"}}}],\"scattermapbox\":[{\"type\":\"scattermapbox\",\"marker\":{\"colorbar\":{\"outlinewidth\":0,\"ticks\":\"\"}}}],\"scatterternary\":[{\"type\":\"scatterternary\",\"marker\":{\"colorbar\":{\"outlinewidth\":0,\"ticks\":\"\"}}}],\"scattercarpet\":[{\"type\":\"scattercarpet\",\"marker\":{\"colorbar\":{\"outlinewidth\":0,\"ticks\":\"\"}}}],\"carpet\":[{\"aaxis\":{\"endlinecolor\":\"#2a3f5f\",\"gridcolor\":\"white\",\"linecolor\":\"white\",\"minorgridcolor\":\"white\",\"startlinecolor\":\"#2a3f5f\"},\"baxis\":{\"endlinecolor\":\"#2a3f5f\",\"gridcolor\":\"white\",\"linecolor\":\"white\",\"minorgridcolor\":\"white\",\"startlinecolor\":\"#2a3f5f\"},\"type\":\"carpet\"}],\"table\":[{\"cells\":{\"fill\":{\"color\":\"#EBF0F8\"},\"line\":{\"color\":\"white\"}},\"header\":{\"fill\":{\"color\":\"#C8D4E3\"},\"line\":{\"color\":\"white\"}},\"type\":\"table\"}],\"barpolar\":[{\"marker\":{\"line\":{\"color\":\"#E5ECF6\",\"width\":0.5},\"pattern\":{\"fillmode\":\"overlay\",\"size\":10,\"solidity\":0.2}},\"type\":\"barpolar\"}],\"pie\":[{\"automargin\":true,\"type\":\"pie\"}]},\"layout\":{\"autotypenumbers\":\"strict\",\"colorway\":[\"#636efa\",\"#EF553B\",\"#00cc96\",\"#ab63fa\",\"#FFA15A\",\"#19d3f3\",\"#FF6692\",\"#B6E880\",\"#FF97FF\",\"#FECB52\"],\"font\":{\"color\":\"#2a3f5f\"},\"hovermode\":\"closest\",\"hoverlabel\":{\"align\":\"left\"},\"paper_bgcolor\":\"white\",\"plot_bgcolor\":\"#E5ECF6\",\"polar\":{\"bgcolor\":\"#E5ECF6\",\"angularaxis\":{\"gridcolor\":\"white\",\"linecolor\":\"white\",\"ticks\":\"\"},\"radialaxis\":{\"gridcolor\":\"white\",\"linecolor\":\"white\",\"ticks\":\"\"}},\"ternary\":{\"bgcolor\":\"#E5ECF6\",\"aaxis\":{\"gridcolor\":\"white\",\"linecolor\":\"white\",\"ticks\":\"\"},\"baxis\":{\"gridcolor\":\"white\",\"linecolor\":\"white\",\"ticks\":\"\"},\"caxis\":{\"gridcolor\":\"white\",\"linecolor\":\"white\",\"ticks\":\"\"}},\"coloraxis\":{\"colorbar\":{\"outlinewidth\":0,\"ticks\":\"\"}},\"colorscale\":{\"sequential\":[[0.0,\"#0d0887\"],[0.1111111111111111,\"#46039f\"],[0.2222222222222222,\"#7201a8\"],[0.3333333333333333,\"#9c179e\"],[0.4444444444444444,\"#bd3786\"],[0.5555555555555556,\"#d8576b\"],[0.6666666666666666,\"#ed7953\"],[0.7777777777777778,\"#fb9f3a\"],[0.8888888888888888,\"#fdca26\"],[1.0,\"#f0f921\"]],\"sequentialminus\":[[0.0,\"#0d0887\"],[0.1111111111111111,\"#46039f\"],[0.2222222222222222,\"#7201a8\"],[0.3333333333333333,\"#9c179e\"],[0.4444444444444444,\"#bd3786\"],[0.5555555555555556,\"#d8576b\"],[0.6666666666666666,\"#ed7953\"],[0.7777777777777778,\"#fb9f3a\"],[0.8888888888888888,\"#fdca26\"],[1.0,\"#f0f921\"]],\"diverging\":[[0,\"#8e0152\"],[0.1,\"#c51b7d\"],[0.2,\"#de77ae\"],[0.3,\"#f1b6da\"],[0.4,\"#fde0ef\"],[0.5,\"#f7f7f7\"],[0.6,\"#e6f5d0\"],[0.7,\"#b8e186\"],[0.8,\"#7fbc41\"],[0.9,\"#4d9221\"],[1,\"#276419\"]]},\"xaxis\":{\"gridcolor\":\"white\",\"linecolor\":\"white\",\"ticks\":\"\",\"title\":{\"standoff\":15},\"zerolinecolor\":\"white\",\"automargin\":true,\"zerolinewidth\":2},\"yaxis\":{\"gridcolor\":\"white\",\"linecolor\":\"white\",\"ticks\":\"\",\"title\":{\"standoff\":15},\"zerolinecolor\":\"white\",\"automargin\":true,\"zerolinewidth\":2},\"scene\":{\"xaxis\":{\"backgroundcolor\":\"#E5ECF6\",\"gridcolor\":\"white\",\"linecolor\":\"white\",\"showbackground\":true,\"ticks\":\"\",\"zerolinecolor\":\"white\",\"gridwidth\":2},\"yaxis\":{\"backgroundcolor\":\"#E5ECF6\",\"gridcolor\":\"white\",\"linecolor\":\"white\",\"showbackground\":true,\"ticks\":\"\",\"zerolinecolor\":\"white\",\"gridwidth\":2},\"zaxis\":{\"backgroundcolor\":\"#E5ECF6\",\"gridcolor\":\"white\",\"linecolor\":\"white\",\"showbackground\":true,\"ticks\":\"\",\"zerolinecolor\":\"white\",\"gridwidth\":2}},\"shapedefaults\":{\"line\":{\"color\":\"#2a3f5f\"}},\"annotationdefaults\":{\"arrowcolor\":\"#2a3f5f\",\"arrowhead\":0,\"arrowwidth\":1},\"geo\":{\"bgcolor\":\"white\",\"landcolor\":\"#E5ECF6\",\"subunitcolor\":\"white\",\"showland\":true,\"showlakes\":true,\"lakecolor\":\"white\"},\"title\":{\"x\":0.05},\"mapbox\":{\"style\":\"light\"}}},\"scene\":{\"domain\":{\"x\":[0.0,1.0],\"y\":[0.0,1.0]},\"xaxis\":{\"title\":{\"text\":\"Addition Condition\"},\"categoryorder\":\"array\",\"categoryarray\":[\"AddedNothing\",\"AddedColor\",\"AddedPalette\",\"AddedPattern\"]},\"yaxis\":{\"title\":{\"text\":\"User Count\"}},\"zaxis\":{\"title\":{\"text\":\"User Count\"}}},\"legend\":{\"title\":{\"text\":\"Addition Condition\"},\"tracegroupgap\":0,\"itemsizing\":\"constant\"},\"title\":{\"text\":\"Users Additions Summary\"}},                        {\"responsive\": true}                    ).then(function(){\n",
              "                            \n",
              "var gd = document.getElementById('27ff0756-6058-40a7-92e0-cd0e71d5e42f');\n",
              "var x = new MutationObserver(function (mutations, observer) {{\n",
              "        var display = window.getComputedStyle(gd).display;\n",
              "        if (!display || display === 'none') {{\n",
              "            console.log([gd, 'removed!']);\n",
              "            Plotly.purge(gd);\n",
              "            observer.disconnect();\n",
              "        }}\n",
              "}});\n",
              "\n",
              "// Listen for the removal of the full notebook cells\n",
              "var notebookContainer = gd.closest('#notebook-container');\n",
              "if (notebookContainer) {{\n",
              "    x.observe(notebookContainer, {childList: true});\n",
              "}}\n",
              "\n",
              "// Listen for the clearing of the current output cell\n",
              "var outputEl = gd.closest('.output');\n",
              "if (outputEl) {{\n",
              "    x.observe(outputEl, {childList: true});\n",
              "}}\n",
              "\n",
              "                        })                };                            </script>        </div>\n",
              "</body>\n",
              "</html>"
            ]
          },
          "metadata": {}
        }
      ]
    },
    {
      "cell_type": "markdown",
      "source": [
        "Let's explore the average ratings by country."
      ],
      "metadata": {
        "id": "00NgfW4w6T5j"
      }
    },
    {
      "cell_type": "code",
      "source": [
        "avg_rating_by_country = lovers_top_data.groupby('location')['rating'].mean().reset_index()\n",
        "\n",
        "# Create a choropleth map to display average ratings by country\n",
        "fig = px.choropleth(avg_rating_by_country,\n",
        "                    locations='location',\n",
        "                    locationmode='country names',\n",
        "                    color='rating',\n",
        "                    color_continuous_scale='Viridis',\n",
        "                    title='Average Ratings by Country',\n",
        "                    range_color=[1, 100000])  # Define the color range\n",
        "fig.update_layout(geo=dict(showframe=False,\n",
        "                           projection_type='equirectangular'))\n",
        "fig.show()"
      ],
      "metadata": {
        "colab": {
          "base_uri": "https://localhost:8080/",
          "height": 542
        },
        "id": "H4KaIqmypa4_",
        "outputId": "8b2e366c-058f-44ed-9af5-06fa3d17ee04"
      },
      "execution_count": 179,
      "outputs": [
        {
          "output_type": "display_data",
          "data": {
            "text/html": [
              "<html>\n",
              "<head><meta charset=\"utf-8\" /></head>\n",
              "<body>\n",
              "    <div>            <script src=\"https://cdnjs.cloudflare.com/ajax/libs/mathjax/2.7.5/MathJax.js?config=TeX-AMS-MML_SVG\"></script><script type=\"text/javascript\">if (window.MathJax && window.MathJax.Hub && window.MathJax.Hub.Config) {window.MathJax.Hub.Config({SVG: {font: \"STIX-Web\"}});}</script>                <script type=\"text/javascript\">window.PlotlyConfig = {MathJaxConfig: 'local'};</script>\n",
              "        <script charset=\"utf-8\" src=\"https://cdn.plot.ly/plotly-2.24.1.min.js\"></script>                <div id=\"de49bc08-0249-48e0-9b15-d146688c9432\" class=\"plotly-graph-div\" style=\"height:525px; width:100%;\"></div>            <script type=\"text/javascript\">                                    window.PLOTLYENV=window.PLOTLYENV || {};                                    if (document.getElementById(\"de49bc08-0249-48e0-9b15-d146688c9432\")) {                    Plotly.newPlot(                        \"de49bc08-0249-48e0-9b15-d146688c9432\",                        [{\"coloraxis\":\"coloraxis\",\"geo\":\"geo\",\"hovertemplate\":\"location=%{location}\\u003cbr\\u003erating=%{z}\\u003cextra\\u003e\\u003c\\u002fextra\\u003e\",\"locationmode\":\"country names\",\"locations\":[\"#FF0000stick, LA, US\",\"&amp;amp;lt;blink&amp;amp;gt;u\\u0250\\u01dd\\u0254o&amp;amp;lt;\\u002fblink&amp;amp;gt;\",\"'Murica\",\"(france)\",\"**Dreamland, USA**\",\"\\u002fdev\\u002fheven\",\"\\u002flover\\u002fmod\\u002fbroadway_junkie\",\"\\u002flover\\u002fmod\\u002fhino\",\"\\u002flover\\u002fmod\\u002fladysuean\",\"\\u002flover\\u002fmod\\u002fmango\",\"\\u002flover\\u002fmod\\u002fmanofthetoe\",\"\\u002flover\\u002fmod\\u002fmskarabee\",\"\\u002flover\\u002fmod\\u002fpattymadrid\",\"\\u002flover\\u002fmod\\u002fpeach\",\"\\u002flover\\u002fmonicamo\",\"15 30 N, 90 15 W\",\"1985, Meilandinavia (similar to Norway but less blonde)\",\"221b Baker Street\",\"232\",\"23rd Street\",\"36N119W\",\"48316.\",\"52.976401, 13.741343\",\"7th floor\",\":) U n d e r T h a ' s t a r s !\",\"\\u003cs\\u003e(216)\\u003c\\u002fs\\u003e - Florida\",\"? WonderLand\",\"A  Valium colored world.\",\"A Galaxy Far, Far, Away\",\"A Little Paracosm\",\"A Sleepy Little Town in Ct.\",\"A picturesque passing of fantasy.\",\"A pond in Denmark\",\"ALGERIA\",\"AMERICA\",\"ATL\",\"AUSTRALIA\",\"AZ\",\"Africa The Jungle\",\"Airship: The Daedalus\",\"Al.\",\"Alabama\",\"Alaska, US\",\"Albania\",\"Albuquerque, NM, USA\",\"Albuquerque, New Mexico\",\"Alexandria, VA\",\"Alexandrinia\",\"Alligator in a river.\",\"Alternia\",\"Amazon Rainforest, Brazil\",\"America\",\"Amman- Jordan\",\"Amsterdam\",\"Amsterdam, NL\",\"Amsterdam, Netherlands\",\"Anapa, Russia\",\"Ankara\",\"Ann Arbor, Mi\",\"Another Dimension\",\"Anthill\",\"Anywhere\",\"Argentina\",\"Argentina - Buenos Aires\",\"Argentina, Buenos Aires\",\"Arizona\",\"Arizona, USA\",\"Arkansas\",\"Arkansas, USA\",\"Arlington, VA\",\"Asian Country\",\"Aspergia (also: Edmonton, Canada)\",\"Asspen\",\"At Eddie Vedder's House!\",\"At The End Of The RAINBOW. OH YEAH.\",\"At my desk  USA\",\"At the computer\",\"At the end of the rabbit hole...\",\"Atibaia, Brazil\",\"Atlanta\",\"Atlanta, GA\",\"Auckland, NZ\",\"Aussie Country\",\"Austin\",\"Austin Texas\",\"Austin, TX\",\"Austin, Texas\",\"Australia\",\"Australia and California\",\"Australia.\",\"Austria\",\"Austria\\u002fVienna\",\"Awesomeville\",\"B A R N E Y S N E W Y O R K\",\"B.A. Argentina\",\"B.C.\",\"BA, ARG.\",\"BKK, Thailand\",\"BKLYN\",\"BRAZIL\",\"Bakersfield\",\"Bali\",\"Balkan\",\"Baltimore, MD\",\"Bandung, West Jawa\",\"Bangkok, Thailand\",\"Barcelona\",\"Barcelona ~ Spain\",\"Barcelona, Catalonia\",\"Barcelona, Spain\",\"Basement\",\"Bask Country\",\"Beaumont, CA\",\"Belgium\",\"Belgrade, Serbia\",\"Bellevue, WA\",\"Berkeley Republic\",\"Berlin\",\"Bern\",\"Between a rock and a hard place\",\"Beyond the Blue Horizon, USA\",\"Beyond the rainbows and spun sugar clouds.\",\"Bia\\u0142ystok, Poland\",\"Biloxi\",\"Birmingham, AL\",\"Bogot\\u00e1\",\"Bogot\\u00e1, Colombia\",\"Boston\",\"Boston Terrier Paradise\",\"Boston, MA\",\"Boston, MA, USA\",\"Brackendale, BC\",\"Brasil - Rio de Janeiro\",\"Brasil, Brazil - RIO\",\"Bratislava, Slovakia\",\"Brazil\",\"Brentwood, CA USA\",\"Brescia - Italy\",\"Brighton, England, United Kingdom\",\"Brindisi - Italy\",\"Bristol\",\"British Columbia\",\"British Columbia, Canada\",\"Brookline, MA\",\"Brooklyn\",\"Brooklyn, NY\",\"Brooklyn, New York\",\"Brookyln\",\"Brussels\",\"Bruxelles\",\"Bruxelles, Belgium\",\"Bucharest, ROmania\",\"Budapest\",\"Budapest, Hungary\",\"Buenos Aires\",\"Buenos Aires Argentina\",\"Buenos Aires, Argentina\",\"Buenos Aires, Argentina.\",\"Bulgaria\",\"CA\",\"CALI! (fornia)\",\"CALIFORNIA\",\"CANADA\",\"CBU\",\"CHENNAI , INDIA\",\"CHICAGO\",\"CO\",\"CT\",\"CT, USA\",\"CZ\",\"CZ \\u002f CA\",\"CZECH REPUBLIC\",\"Calgary, AB, Canada\",\"Calgary, Alberta\",\"Calgary, Alberta, Canada\",\"Calgary, Canada\",\"California, U.S.A\",\"California, USA\",\"California\\u002fNYC\",\"Canada\",\"Canada .....Great White North\",\"Cape Town\",\"Cardiff\",\"Cardiff, Wales\",\"Carmel\\u002fIndy, Indiana\",\"Carolina's\",\"Central California\",\"Central Hawkes Bay, New Zealand\",\"Central Illinois\",\"Central Oregon\",\"Central Point, Oregon\",\"Central USA\",\"Champaign, IL\",\"Chandigarh\",\"Chandler, Arizona\",\"Charleston, SC {USA}\",\"Chattanooga, TN\",\"Cherryhill, Singapore\",\"Chi-Town\",\"Chicago, IL\",\"Chicago, IL USA\",\"Chicago, IL, USA\",\"Chicago, Illinois, US\",\"Chicago, Illinois. My favorite City on the planet!!\",\"Chicago. Illinois\",\"Chihuahua, MEXICO\",\"Chile\",\"China\",\"Cincinnati\",\"Cleveland\",\"Close to the southern shores of lake Erie\",\"Cloud 9\",\"Cloud Cuckoo Land\",\"Coastal NJ\",\"Cocoa Beach, FL\",\"Coimbra, Portugal\",\"Colombia\",\"Colorado\",\"Colorado Springs, CO\",\"Colour Land\",\"ColourLovers\",\"Colourland\",\"Columbia, Missouri\",\"Columbus, OH\",\"Columbus, Oh\",\"Concord, NH, USA\",\"Connecticut\",\"Contrada San Benedetto  - - - - - - - - -  - - di Torre Cajetani\",\"Copenhagen\",\"Copley, Ohio, U.S.A.\",\"Corvallis, Oregon\",\"Croatia\",\"Cyprus\",\"Cyrodiil, Tamriel\",\"Czech Republic\",\"Czech republic \\u002f Broumov\",\"Czech republic\\u002f Broumov\",\"D\\u002fFW Metroplex in Texas\",\"DENVER, CO, USA\",\"DETROIT\",\"DFW area\",\"DK\",\"Dallas Metroplex\",\"Dallas, TX\",\"Dallas, Tx\",\"Decorah, IA\",\"Deep South-\",\"Deep in snow\",\"Delhi,India\",\"Denmark\",\"Denmark, Planet Earth\",\"Denver Metro\",\"Denver, CO, U.S.A.\",\"Denver, Colorado\",\"Detroit MI\",\"Detroit, MI\",\"Detroit, Michigan\",\"Deutschland\",\"Deutschland-Germany-Alemania\",\"Devonshire\",\"Don't really know\",\"Dover, Delaware\",\"Dream world\",\"Drowning in homework\",\"Dubai\",\"Dunedin, FL\",\"E England\",\"EU\",\"Earth\",\"East Bay\",\"East Bay, California\",\"East Coast USA\",\"East Hampton &amp;amp;amp; NYC\",\"East Liverpool,OH\",\"East coast\",\"Eastern Canada\",\"Ecuador\",\"Edge of the World\",\"Edinburgh\",\"Egypt\",\"Elizabeth City, North Carolina\",\"Elsewhere\",\"Encinitas, CA\",\"England, UK\",\"Essex, England\",\"Estonia\",\"Estonia, Tallinn\",\"Evergreen State =]\",\"Everywhere\",\"Exeter, UK\",\"FAIRBANKS, ALASKA, U.S.A.\",\"FRANCE\",\"Falls Church, VA\",\"Far-Out\",\"Finland\",\"Flint Michigan \\u002f Toronto Ontario\",\"Floating the Ether\",\"Florida Panhandle\",\"Florida USA - born in Buenos Aires, Argentina\",\"France\",\"France (Near the Mediterranean sea ^^)\",\"Fremont\",\"GER\",\"Gainesville, Florida USA\",\"Galveston Island, Texas US\",\"Galway, Ireland\",\"Gda\\u0144sk, Poland\",\"Georgia\",\"Georgia USA\",\"Georgia, US\",\"Georgia, USA\",\"Germany\",\"Germany & Tennessee, USA\",\"Germany - Berlin\",\"Germany - Lower Saxony\",\"Germany, Hamburg\",\"Germany, Wuppertal (Schwebebahn)\",\"Godric's Hollow\",\"Great White North\",\"Greece\",\"Greece.Earth.Universe.and then.\",\"Greeley, CO\",\"Greencastle, Indiana\",\"Greenfeild Park, QC\",\"Guam\",\"Guatemala\",\"HCMC, Vietnam\",\"HELL\",\"HK\\u002f NY 10012\",\"HU\",\"Ha\",\"Half an island\",\"Hamburg\",\"Hamburg (Germany)\",\"Hamburg - Germany\",\"Hawaii\",\"Heart O' Texas\",\"Heathsville, Virginia\",\"Heaven\",\"Heaven beacause in truth la_r\\u00e9alit\\u00e9_ abonde_ avec_ joie\",\"Helsinki\",\"Helsinki, Finland\",\"Here\",\"Herndon VA\",\"Hogwarts\",\"Holland\",\"Hollyweird, CA\",\"Home\",\"Home is where your Heart is at.\",\"Honeycomb Hideout\",\"Hong Kong\",\"Houston\",\"Houston, TX\",\"Houston, Texas\",\"Hungary\",\"Hungary ( English, Hungarian )    =)\",\"Hungary, Koml\\u00f3\",\"Huntington Beach\",\"Huntington Beach, CA\",\"Huntington Beach, California\",\"Huntsville Tx\",\"I am NOT Queen of this site but neither are YOU chickadee\",\"I'm from Alabama, y'all!\",\"ID\",\"IL\",\"INDIA\",\"ISO 3166-2:US-WI\",\"Idaho\",\"Illinnois\",\"Illinois\",\"Illinois USA\",\"Illinois, USA\",\"In Ayuthay, with my prince :3\",\"In My House\",\"In a Hazy Fog\",\"In a remote Location in Canada Eh!\",\"In my dreams\",\"In my own little world, *evil laugh*\",\"In the Darkest Depths ...\",\"In the Heart of Europe\",\"In the library, chillin' in the art stacks\",\"In the middle of nowhere, California\",\"In your dreams ;)\",\"India\",\"Indiana\",\"Indianapolis\",\"Indianapolis, IN\",\"Indonesia\",\"Indpls, IN\",\"Infinite World\",\"Inner Space\",\"Inside my head\",\"Iowa\",\"Iowa, USA\",\"Iqaluit - Canada\",\"Iran,teh\",\"Iran.Tehran\",\"Iraq\",\"Ireland\",\"Island under the Sun\",\"Israel\",\"Istanbul\",\"Italia\",\"Italy\",\"Italy \\u002f Spain\",\"Jac\\u00f3, Costa Rica\",\"Jaffa\",\"Jakarta, Indonesia\",\"Japan\",\"Japan (Touhoku)\",\"Jervis Bay\",\"Johannesburg, SOUTH AFRICA\",\"Jupiter\",\"Kalispell, Montana\",\"Kansas\",\"Kansas City\",\"Kansas City, MO\",\"Kansas\\u002f North Carolina\",\"Karachi\",\"Karlsruhe\",\"Kazakhstan\",\"Keighley\",\"Kentucky\",\"Khabarovsk, Far East of Russia\",\"Kittery, ME\",\"Knoxville, Tennessee-USA\",\"Korea\",\"KosmemophobiaLand\",\"Kragujevac, Serbia, Europe, Earth\",\"Kuala Lumpur\",\"Kyiv, Ukraine\",\"L'Etoile du Nord (Star of the North) aka Minnesota\",\"LA, California, USA\",\"LATVIA\",\"LV\",\"La Ciudad de la Furia (Buenos Aires).\",\"La crosse\",\"Lafayette, CO\",\"Lahore, Pakistan\",\"Lakewood, WA\",\"Land O' Lakes\",\"Land of Oz\",\"Land of sun,sand,surf and ice cold beer\",\"Lansing, MI\",\"Las Vegas\",\"Las Vegas, NV\",\"Latin Europa (false part of balkan peninsula)\",\"Latvia\",\"Lawrence Kansas\",\"Le Havre, France\",\"Left of a teardrop. What's that mean?\",\"Leyawiin, Cyrodiil\",\"Lithuania\",\"Liverpool England\",\"Living in Vienna_Austria ( Wien_ \\u00d6sterreich )\",\"Llanelli, Wales\",\"Locarno, Switzerland\",\"Location Location!\",\"Location, Location\",\"Loerrach , Germany\",\"London UK\",\"London United Kingdom\",\"London, GB\",\"London, Paris, Baltimore, NYC...The list goes on...\",\"London, UK\",\"Long Beach, California\",\"Long Island\",\"Long Island, NY\",\"Long Island, New York\",\"Look behind you. Very slowly...\",\"Los Angeles\",\"Los Angeles, CA\",\"Los Angeles, California\",\"Los Angeles, California, USA\",\"Los Angeles, California, USA, Planet Earth\",\"Los Angeles, via London and Montreal\",\"Lost in my Imagination ^.^\",\"Lost in my own little world\",\"Lost in the Antipodes\",\"Lost- can you tell me how to get to Sesame Street?\",\"Lots of pavement\",\"Louisiana\",\"Louisville, KY\",\"Love u\",\"MA\",\"MD\",\"MISSOURI\",\"MN\",\"MORRIS PLAIN- NEW JERSY\",\"MY\",\"Madison, AL\",\"Madison, Wisconsin, United States of America\",\"Madrid\",\"Madrid \\u002f Spain\",\"Malaysia\",\"Manchester\",\"Manchester UK\",\"Manchester, UK\",\"Mandurah, Western Australia\",\"Manhattan, NY\",\"Manila\\u002fSydney\",\"Mantova, Italy\",\"Mar del Plata\",\"Mars\",\"Maryland\",\"Maryland, USA\",\"Mass\",\"Massachusetts\",\"Maybe in somewhere.\",\"Mayfield\",\"Mediterranean\",\"Melbourne\",\"Melbourne, Australia\",\"Memphis TN\",\"Metairie, La\",\"Mexico\",\"Miami\",\"Miami Florida\",\"Michigan\",\"Michigan USA\",\"Michigan originally\",\"Michigan, Lower Peninsula\",\"Michigan, U.S.\",\"Michigan, US\",\"Michigan, USA\",\"Michigan, United States\",\"Michigan.\",\"Middle Earth\",\"MiddleEast\",\"Middletown, New York\",\"Midway, Utah\",\"Midwest\",\"Midwest America\",\"Midwest Diva\",\"Midwest USA\",\"Midwest, USA\",\"Mid~South\",\"Milkwookie\",\"Milwaukee\",\"Milwaukee, WI\",\"Minas Gerais, Brasil\",\"Minneapolis\",\"Minneapolis, MN\",\"Minneapolis, Minnesota\",\"Minnesota\",\"Minsk, Belarus\",\"Mirabiliblu! (italia)\",\"Mississippi\",\"Mississippi, USA\",\"Missouri\",\"Missouri, USA\",\"Mobile, AL\",\"Moncton\",\"Monterrey, M\\u00e9xico.\",\"Montevideo \\u002f Uruguay \\u002f South America\",\"Montevideo, Uruguay\",\"Montreal\",\"Montreal, Canada\",\"Montreal,Quebec\",\"Montr\\u00e9al\",\"Montr\\u00e9al, QC\",\"Moon\",\"Morgantown WV\",\"Moscow\",\"Moscow, Russia\",\"Mount Real, Canada\",\"Muncie, Indiana\",\"Munich\",\"Munich Germany\",\"Murrrrrica\",\"Music City\",\"My Imagination\",\"My Tower (like always!)\",\"My beloved U.S. of A.! (specifically, AZ)\",\"My cloud in Chile \\u2665 :D\",\"My land of imagination, where I'm a pirate.\",\"My post-apocalyptic bedroom\",\"M\\u00e9rida, M\\u00e9xico.\",\"M\\u00e9xico,Qro\",\"N.C\",\"NC\",\"NC, USA\",\"NEW JOIZY\",\"NEW YORK\",\"NEW ZEALAND\",\"NJ\",\"NJ USA\",\"NJ, USA\",\"NORTHEAST\",\"NY\",\"NY, USA\",\"NYC, USA\",\"NYC\\u002f LA\",\"NZ\",\"Nashville, TN\",\"Nassau County\",\"Near Florence - Italy\",\"Nebraska\",\"Netherlands\",\"Neverland\",\"New Delhi\",\"New England\",\"New England, USA\",\"New Hampshire\",\"New Jersey\",\"New Jersey, USA\",\"New Mexico\",\"New Orleans\",\"New Orleans, LA\",\"New York City\",\"New York, NY\",\"New Zealand\",\"New Zealand :)\",\"Newcastle\",\"Newcastle upon Tyne\",\"Newfoundland, Canada\",\"Nicaragua\",\"Night Sky\",\"Noitacol\",\"NorAZ\",\"Normal, IL\",\"North America\",\"North Carolina\",\"North Carolina - USA\",\"North Carolina mountains\",\"North Carolina, USA\",\"North Carolina-- bordering Virginia\",\"North Yorkshire, U.K.\",\"North of Europe\",\"NorthWest\",\"Northampton, Massachusetts\",\"Northern California\",\"Northern Ireland\",\"Northwestern US\",\"Norway\",\"Not Cincinnati\",\"Nottingham\",\"Novaya Zemlya\",\"Novi Sad, Serbia\",\"Nowhere Really...\",\"Nurse's Lounge\",\"O Canada\",\"OR\",\"OR, USA\",\"ORKNEY, UK\",\"Ocean Isle Beach, NC\",\"Offutt Air Force Base\",\"Ohio!\",\"Ohio, USA\",\"Oklahoma\",\"On Top Of The World\",\"On a mat with a cat, a rat &amp; a mac\",\"On a white sand beach looking at the aqua water\",\"On the Planet of the Milk-Fed Boys\",\"On the road\",\"On the sea\",\"On top of the rainbow\",\"One day, Seattle.\",\"Ontario\",\"Ontario Canada\",\"Ontario, California\",\"Orange County,  California\",\"Orange, CA\",\"Oregon\",\"Oregon, US, Earth\",\"Oregon, USA\",\"Orlando\",\"Orlando Florida\",\"Orlando, FL\",\"Orygun Rainforest (not Or-uh-gone)\",\"Ostersund\",\"Outer Banks of North Carolina\",\"Outside Toronto, Canada\",\"Over Here\",\"Over the Raimbow!\",\"Over the Rainbow\",\"Over there; next corner\",\"Owl City\",\"PA\",\"PH\",\"PL\",\"PNW\",\"PNW, US\",\"Pacific NW\",\"Pacific Northwest, USA\",\"Pakistan\",\"Panama\",\"Paradise City, M\\u00e9xico\",\"Paris\",\"Paris, FR\",\"Paris, France\",\"Paso Robles, CA\",\"Pavia \\u002f Milan - Italy\",\"Peace within\",\"Pennsylvania\",\"Pennsylvania, USA\",\"Pennsylvania, USA California girl at heart ?\",\"Perry\",\"Perth, West Aus\",\"Per\\u00fa - Lima\",\"Philadelphia\",\"Philadelphia, PA\",\"Philippines\",\"Philly\",\"Phyllis\",\"Physically: Texas   Mentally: Seattle\",\"Picturesque Blue Ridge Mountains\",\"Piemonte\",\"Pigfarts\",\"Pittsburgh, PA\",\"Planet Earth\",\"Planet Earth :)\",\"Planet Ovaltine\",\"Pocahontas, AR USA\",\"Poland\",\"Poland\\u002fHolland\",\"Portland\",\"Portland, Maine\",\"Portland, OR\",\"Portland, OR USA\",\"Portland, OR, USA, Terra, The Milky Way\",\"Portland, Oregon\",\"Portland, Oregon (COLOURlover Land!)\",\"Portland, Oregon USA\",\"Porto Alegre, Brazil\",\"Portugal\",\"Prague, Czech Republic\",\"Praha \\u002f Prague \\u002f Prag \\u002f Praga | Chicago | Internet | Mind\",\"Preferably\",\"Pretoria, South Africa\",\"Princeton, NJ\",\"Providence, RI\",\"Puerto Rico\",\"P\\u00e9cs (Hungary)\",\"Qc, Canada\",\"Queensland, Australia\",\"Queenstown, New Zealand\",\"Qu\\u00e9bec\",\"Qu\\u00e9bec CANADA\",\"Qu\\u00e9bec PQ\",\"RUS-USA\",\"Rabbit Hole\",\"Rainy Washington State\",\"Raleigh, NC\",\"Recife, Brazil\",\"Redwood City, CA\",\"Rehoboth Massachusetts\",\"Reigate, Surrey, UK\",\"Relative\",\"Reno, Nevada\",\"Restaurant at the end of the Universe\",\"Rhode Island\",\"Richmond Hill, Ontario\",\"Riga, Latvia\",\"Ringgold, Georgia, USA\",\"Rio de Janeiro\",\"Rio de Janeiro, Brasil\",\"Rio de Janeiro\\u002fBrazil\",\"Riverdale\",\"Rochester NY\",\"Rochester, NY\",\"Rockford\",\"Romania\",\"Romania, Bucharest\",\"Rome\",\"Rome, Italy\",\"Russellville, AR\",\"Russia\",\"Russia, Moscow\",\"Russian Federation\",\"SC\",\"SF\",\"SP, Brazil\",\"Sacramento, California\",\"Saint Louis, MO\",\"Saint Petersburg\",\"Salem, OR, USA\",\"Salem, Or.\",\"Salinas\",\"Salta : Argentina\",\"San Antonio, Texas\",\"San Diego CA\",\"San Diego, CA\",\"San Diego, California\",\"San Diego, California, USA\",\"San Francisco\",\"San Francisco Bay Area\",\"San Francisco, CA\",\"San Jose, Costa Rica\",\"San Salvador, El Salvador\",\"Santa Fe, Argentina\",\"Santiago, Chile\",\"Santo Domingo\",\"Santo Domingo, RD\",\"Sao Paulo - Brasil\",\"Sao Paulo, Brazil\",\"Sarasota, Florida\",\"Saturn\",\"Savannah, GA\",\"Scandinavia\",\"Scappoose Oregon\",\"Scappoose, Oregon\",\"Scotland\",\"Scotland, United Kingdom\",\"Seattle\",\"Seattle WA\",\"Seattle, WA\",\"Seattle, WA, USA\",\"Seattle, Washington\",\"Seattleish\",\"Sedona, Arizona\",\"Selden, NY\",\"Seminole, Fl\",\"Serbia\",\"Serbia, Belgrade\",\"Shenandoah Valley\",\"Shiraz, Iran\",\"Sicily\",\"Silicon Valley\",\"Sin City\",\"Singapore\",\"Slovakia\",\"So. California\",\"Sofia, Bulgaria\",\"Somerville\",\"Somewhere Here On Earth\",\"Somewhere In Sleepy Hollow\",\"Somewhere In The Shadows\",\"Somewhere apparently\",\"Somewhere on Earth\",\"Somewhere under the rainbow\",\"Somewhere where the sun don't shine....\",\"Somewhere.  In a bathroom.  Taking a shower.  Via a cloud.\",\"Sonoma County,USA\",\"South\",\"South Africa\",\"South Carolina\",\"South Korea\",\"South Louisiana.... Cajun Country\",\"South Of The World :) CHILE\",\"South Yorkshire\",\"South by Midwest\",\"Southeastern United States\",\"Southern California\",\"Southern California for first 55 years ~ A couple of states ago\",\"Southern Ontario, Canada\",\"Sp, Brazil\",\"Space Mountain\",\"Spain\",\"St. Catharines, ON\",\"St. Louis\",\"St. Louis, Missouri\",\"St. Paul, Minnesota\",\"State of Confusion\",\"State of WA\",\"Stevens Point, WI\",\"Stoke-on-Trent, England\",\"Storrs, CT\",\"Strasbourg\",\"Studio\",\"Subconsciousness\",\"Sudbury,Central Ontario, Canada Eh!\",\"Suffolk UK\",\"Sunnyvale, CA\",\"Surrey\",\"Surrey England\",\"Sweden\",\"Sweet Home Alabama\",\"Switzerland\",\"Sydney\",\"Sydney Australia\",\"Sydney, Australia\",\"S\\u00e0i G\\u00f2n - Vi\\u1ec7t Nam\",\"S\\u00e3o Jos\\u00e9 dos Campos, SP, Brazil\",\"S\\u00e3o Paulo   Brasil\",\"S\\u00e3o Paulo - Brazil\",\"S\\u00e3o Paulo - SP\",\"S\\u00e3o Paulo, Brasil\",\"THANKS FOR ALL OF THE LOVE!!:):)\",\"TN\",\"TOLEDO OHIO USA\",\"TURKEY\\u002fISTANBUL\",\"TX\",\"Tacoma, WA\",\"Tallinn, Estonia\",\"Tampere, Finland\",\"Tarragona, Spain\",\"Tasmania Australia\",\"Tavagnasco\",\"Tavagnasco Italy\",\"Tenerife, Spain, Europe\",\"Tennessee\",\"Tennessee - USA\",\"Terra\\u002fEurope\\u002fD\",\"Texas, USA\",\"Texas, United States\",\"The American Southwest\",\"The City Of Dream\",\"The Desert\",\"The Great Northern Plains\",\"The Hidden Moon\",\"The Internet\",\"The Magical Land of Aus\",\"The Middle of Nowhere\",\"The Netherlands\",\"The Northeast Megalopolis\",\"The Pacific Southwest\",\"The Sugar Factory\",\"The Sunshine State\",\"The Van Eltia\",\"The World Wide Web\",\"The best little country town in Michigan &amp;lt;3\",\"The boonies\",\"The pack ice\",\"The state of Michigan (United States)\",\"Th\\u00e8bes, Gr\\u00e8ce\",\"Tilburg, The Netherlands\",\"Timisoara\",\"Top  Left Corner of USA\",\"Torino - Italy\",\"Toronto\",\"Toronto, Canada\",\"Toronto, Ontario\",\"Toronto,Ontario,Canada\",\"Trying to bloom where I'm planted\",\"Tucson\",\"Tucson, Arizona\",\"Tulsa, OK\",\"Tumblr\",\"Turin(Italy)\",\"Turin, Italy\",\"Turkey\",\"T\\u00dcRK\\u0130YE\",\"U S of A\",\"U.S\",\"U.S.A\",\"U.S.A.\",\"UK\",\"UK Midlands\",\"UK, south coast\",\"USA\",\"USA - WI\",\"USA :)\",\"USofA\",\"Ukraine\",\"Ukraine, Kiev\",\"Under Northern Skies\",\"Under the Ocean\",\"Undercover\",\"United Kingdom\",\"United States of Mind\",\"United States \\u2665\",\"United States, Originally, Germany\",\"Up the creek without a paddle\",\"Upstate NY\",\"Upstate New York (lots closer to Montreal than NYC)\",\"Uruguay\",\"Utah\",\"Vancouver\",\"Vancouver B.C. Canada\",\"Vancouver, British Columbia, Canada\",\"Vancouver, Canada\",\"Vanilla Dome, USA\",\"Various points South of 30\\u00b0 North\",\"Veneto, Italy\",\"Venezuela\",\"Venezuelan girl living in Europe\",\"Venus\",\"Venutian Screech Circuit\",\"Vermont\",\"Victoria\",\"Victoria BC\",\"Victoria, BC\",\"Victoria, BC Canada\",\"Vienna, Austria\",\"Vientiane\",\"Vietnam\",\"Vieux Carre\",\"Virginia\",\"Virginia USA\",\"W. Warwick, RI, USA, North America, Western Hemisphere, Earth\",\"WORLD\",\"Wales\",\"Wales, UK\",\"Warsaw, Poland\",\"Washington\",\"Washington DC\",\"Washington, DC\",\"Washington, US\",\"Washington, USA\",\"West Chester Ohio\",\"West Palm Beach\",\"West Virginia, United States\",\"Westchester, NY\",\"Western New York\",\"Where The Sun Shines Best\",\"Where am I anyway?\",\"Where angels fear to tread.\",\"Where the rainbow ends\",\"Wherever I want\",\"Why does it even matter? I'll be gone as soon as I can be.\",\"Wichita, Kansas\",\"Wilkes-Barre, PA,  USA\",\"Winchester, UK\",\"Winter Garden,  FL.\",\"Winter Wonderland\",\"Winterfell\",\"Wisconsin\",\"Wisconsin Native American\",\"Wisconsin, United States\",\"Wish I wasn't here. Truly.\",\"Witzenberg ZA\",\"Wodonga Australia\",\"Wonderland\",\"Worcester, UK\",\"World citizen\",\"X\\u00e0i G\\u1eddn\",\"Yay Area, California\",\"Yekaterinburg\",\"York\",\"Your CLOSET\",\"Zagreb, Croatia\",\"[REDACTED]\",\"^TL, GA, USSA\",\"a cartoon made on drugs\",\"a small blue oasis in an angry red desert\",\"a state of confusion\",\"a style=&amp;amp;amp;amp;amp;amp;amp;amp;amp;amp;amp;amp;amp;am\",\"acoustic ladyland\",\"ailleurs\",\"alabama\",\"anywhere u like\",\"around here somewhere\",\"asheville!\",\"athens\",\"australia\",\"b e y o n d . t h e . r a i n b o w\",\"bangkok, thailand\",\"barcelona\",\"bay area california\",\"bc can.\",\"beautiful boulder, co\",\"bed\",\"belgium\",\"belo horizonte, brazil\",\"berkshire uk\",\"bermuda triangle\",\"best coast\",\"big &amp;amp;amp;amp;amp;amp;amp;amp;amp;amp;quot;D&amp;amp;amp;\",\"boogie wonderland\",\"boston\",\"boston, ma\",\"brazil\",\"bremerton wa\",\"bristol, ct\",\"brooklyn\",\"ca\",\"california\",\"canada * Montr\\u00e9al\",\"chicago il\",\"chicago, Illinois. My favorite City on the planet!!\",\"chile\",\"city of angels\",\"colombia\",\"colorado\",\"deep in your hypothalamus\",\"denver\",\"desert goddess\",\"detroit\",\"down south\",\"dreams \\u266a\",\"east\",\"el oued\",\"elsewhere\",\"en mi casa\",\"england\",\"eu\",\"europe\",\"everywhere\",\"felicity\",\"georgia\",\"germany, soon Costa Rica\",\"goblin city, the underground\",\"guadalajara\",\"guatemala\",\"here\",\"here and now\",\"here and there and everywhere\",\"here, there and everywhere\",\"hk\",\"home\",\"hong kong\",\"huntington beach, CA\",\"i bet youd love to know.\",\"imaginary place\",\"in a tarantino trunk shot\",\"in an underground cloud\",\"in her own world...\",\"in my body\",\"in peanut butter jars\",\"in the air\",\"in the middle of the woods\",\"in your pants\",\"india\",\"indonesia\",\"inside a strophe\",\"inside the cake, ready to jump out\",\"inside your head\",\"iran,hamedan\",\"israel\",\"istanbul\",\"italia\",\"italy\",\"izmir\",\"japan\",\"kansas\",\"kansas city\",\"katy texas\",\"kcmo\",\"klapse\",\"ksa\",\"kuala lumpur\",\"la tierra\",\"lametownn,\",\"land of SMILE*\",\"las vegas & toronto\",\"lisbon\",\"london\",\"lone star state\",\"long island\",\"los angeles, CA\",\"lost\",\"louisiana\",\"malaysia\",\"manchester, england\",\"marbella\",\"mars\",\"martian colony\",\"maryland, U.S.\",\"mexico\",\"miami\",\"michigan\",\"michigan, usa\",\"midlands\",\"milano\",\"minneapolis, MN\",\"missouri\",\"mono-poly\",\"my spot on the couch :3\",\"my studio!\",\"m\\u00e9xico\",\"nashville\\u002fsanta cruz\",\"nebraska\",\"new brunswick, canada\",\"new england\",\"nor_cal usa\",\"not all who wander are lost, or Pacifica CA!\",\"not sure ...\",\"nowhere\",\"nowhere interesting\",\"nowhere special\",\"ny\",\"nyc\",\"oakland, ca\",\"off in a philosophical Chautauqua somewhere\",\"ohio\",\"oklahoma city, ok\",\"on a star\",\"on dry ground\",\"on tour\",\"on your lap\",\"oregon\",\"orlando\",\"orlando \\u002f winter park\",\"out in the rain\",\"over the rainbow\",\"pakistan\",\"parma, italia\",\"pensacola, fl\",\"philippines\",\"philly\",\"phoenix\",\"pittsburgh\",\"portland, OR\",\"portugal\",\"poznan city.\",\"rimonim, israel\",\"robinson il.\",\"roma\",\"san diego\",\"san francisco\",\"saratoga, california\",\"satanlanta\",\"scotland\",\"seal beach\",\"senatobia, ms\",\"shenzhen, china\",\"singapore\",\"ski slope\",\"skysea\",\"so cal\",\"so. california\",\"sofia\",\"somebody's editing suite!!\",\"somewhere\",\"somewhere between our ears\",\"somewhere in Europe\",\"somewhere in Midwest\",\"somewhere in the wolrd\",\"somewhere incognito\",\"somewhere near Water... Always!!\",\"south africa\",\"south of France\",\"southern costa rica\",\"southwest north america\",\"space\",\"stardust\",\"state of mind (USA)\",\"sweden\",\"sweet home louisiana\",\"switzerland\",\"tennessee\",\"terra \\u002f europe \\u002f germany\",\"texas\",\"the Netherlands\",\"the dark side of new jersey\",\"the dirty 5-30, CA\",\"the dominican republic\",\"the far side of somewhere\",\"the ghost cave\",\"the heart, where else?\",\"the labyrinth\",\"the lovely united states\",\"the other side of the rainbow\",\"the ozark mountains..\",\"the reject shop\",\"the void\",\"this planet...for now\",\"tomorrow\",\"toronto\",\"toronto, ON\",\"tripoli-libya\",\"turin - italy\",\"two seven one one\",\"u ass of ayyy\",\"u s a\",\"u.s.a.\",\"uk\",\"ukraine-kiev\",\"under a deep blue sky, where there are such pretty stars\",\"under the everlasting orange sky\",\"united states\",\"unknown\",\"us\",\"usa\",\"usa\\u002fny\\u002fbrooklyn\",\"utah\",\"u\\u0250\\u01dd\\u0254o\",\"vilnius, lithuania\",\"walla walla wa\",\"washington\",\"west coast\",\"west palm beach\",\"wherever the wind blows\",\"wherever you think....\",\"wichita, kansas\",\"wild east, UK\",\"wisconsin\",\"wisconsin?\",\"wonderland\",\"zabrze\",\"{USA} Charleston, SC\",\"\\u03c5\\u0455\\u03b1\",\"\\u0410\\u0437\\u0435\\u0440\\u0431\\u0430\\u0439\\u0434\\u0436\\u0430\\u043d\",\"\\u2605l\\u0e4f\\u0e20\\u0e54\\u0e4f\\u0e20 \\u0454\\u0e20\\ufeeel\\u0e04\\u0e20\\u0e54\",\"\\u2708\\u041edessa, Ukraine\",\"\\u273f Palettetown, USA \\u273f\",\"\\u5e7f\\u897f\\u67f3\\u5dde\\u5e02\\u6587\\u60e0\\u8def91-2\\u53f7 \\u6587\\u946b\\u5802\"],\"name\":\"\",\"z\":[692205.0,69405.0,29382.0,9368.0,16802.0,19146.0,14415.0,11543.0,30742.0,39371.0,22488.0,16044.0,29131.0,23451.0,42037.0,14419.0,164987.0,72992.0,9042.0,208876.0,68026.0,15139.0,59948.0,78553.0,122923.0,15429.0,46801.0,65682.0,11240.0,17943.0,14656.0,29772.0,22025.0,61175.0,12579.0,22954.0,52778.0,22898.333333333332,172527.0,154048.0,65520.0,24678.333333333332,11342.0,15801.0,52860.0,16967.0,10345.0,141435.0,39245.0,10804.0,14860.0,112704.33333333333,59422.0,34455.0,19092.0,12467.0,8677.0,72996.0,53086.0,9032.0,9260.0,12389.0,37077.0,24773.0,58168.0,96631.0,72731.0,76183.8,24418.0,160514.0,33426.0,468037.0,51837.0,532460.0,14724.0,68456.0,11114.0,10163.0,13941.0,129385.66666666667,21679.5,11000.0,84902.0,21118.0,1094426.0,18056.0,19673.0,38663.8125,20194.0,65207.0,19526.5,11000.0,8930.0,29416.0,71850.0,10470.0,9367.0,8731.0,10831.0,24330.0,13862.0,11177.0,25062.0,36359.333333333336,199475.0,89274.0,27975.0,9644.0,18531.5,140144.0,10066.0,12510.0,11979.0,14435.666666666666,8799.0,9975.0,14379.0,41086.666666666664,165454.0,10409.0,27130.0,8710.0,30075.0,17130.0,333123.0,22180.0,15522.5,28151.0,47545.0,44227.5,10095.0,15318.0,11488.0,101843.0,12725.0,38183.28571428572,29789.0,181343.0,15538.0,157664.0,16309.0,44916.0,40381.0,9487.0,15108.0,35153.0,65814.0,9069.0,10326.0,143344.0,70811.0,9300.0,173560.0,145043.0,38927.0,17668.0,26327.8,9028.0,15690.0,48828.5,49740.0,48864.0,106115.0,26458.0,809887.0,10868.0,9983.0,38178.0,77287.5,244452.0,67819.0,10144.0,13531.0,86151.0,152464.0,8809.0,59869.0,17161.0,67159.0,29030.06976744186,10787.0,54527.5,11499.0,39251.0,135407.0,13544.0,19790.0,151023.0,11569.0,9767.0,29367.0,92968.0,38939.0,12988.0,48728.0,21475.0,65101.0,28777.0,9600.0,52956.5,16407.0,133288.0,11737.0,53181.0,8904.0,27009.0,81233.16666666667,49074.0,9214.0,35730.0,57233.0,14657.0,10173.0,68445.0,15804.0,20154.0,9671.0,28679.333333333332,58245.0,14892.0,12647.0,54990.0,16602.0,30823.0,14468.0,90422.0,120846.0,14618.0,29785.0,28508.0,18435.0,9255.0,18796.0,68286.0,37494.666666666664,13023.0,44269.0,72869.0,12581.0,12210.0,157588.0,44245.0,57855.0,64996.0,18466.0,22403.0,8626.0,8908.0,8657.0,39382.0,9764.0,24915.0,123737.0,16435.333333333332,45980.0,223653.0,12284.0,17672.0,18448.0,29666.0,10737.0,71172.0,10217.0,31633.0,20144.5,16482.0,10415.0,115529.0,57906.5,8835.0,12716.0,120531.0,26821.0,26205.0,10550.0,17522.0,17265.0,232858.0,27431.0,26537.0,9731.0,22992.0,9150.0,8961.0,28440.0,49726.0,64214.0,8740.0,11904.0,10892.0,12730.0,11381.0,42393.0,12809.0,66016.61538461539,26909.0,12812.0,31272.0,192579.0,36504.166666666664,22886.0,15552.0,10653.0,10466.0,47192.0,9880.0,17718.0,73409.5,10899.0,25366.0,119220.0,62763.0,104295.0,160426.0,10604.0,18513.0,60148.0,41112.0,49208.666666666664,25199.6,64118.0,12254.0,42970.0,24214.0,8718.0,25304.0,11737.0,691654.0,301921.0,44152.0,62312.0,231888.0,195387.0,42803.0,17354.0,59658.0,17576.0,9946.0,8961.0,9583.0,17497.0,25184.75,31754.0,14209.0,29669.0,136189.0,17096.0,14676.0,20913.0,48233.0,11631.0,11965.0,56215.0,172783.0,62236.0,46021.0,14663.0,11824.0,281299.0,13320.0,9205.0,34415.0,20810.0,9955.0,93891.0,24460.5,15177.0,11064.0,50501.0,64563.5,163673.0,85843.0,75374.0,8748.0,34464.0,31487.0,165109.0,67944.0,15568.0,75400.0,88054.0,92680.0,21304.0,29755.625,19743.0,18709.0,40570.0,18109.555555555555,20724.0,10086.0,23467.0,30931.0,24918.0,72466.5,38299.0,16145.0,13988.0,10313.0,20390.0,131378.0,9774.0,23965.5,11574.0,23291.590909090908,87259.0,9978.0,34972.0,207162.0,72342.0,16865.0,11296.0,9152.0,12883.0,12754.0,60682.5,23873.0,33399.0,11068.0,10179.0,16348.0,9799.0,11423.0,23242.0,115562.0,14022.0,22500.0,21879.0,15640.0,125144.0,8659.0,81195.0,42235.0,26611.0,10402.0,20039.0,13718.0,38021.0,17551.0,13097.0,15553.0,9250.0,73307.0,17584.0,18906.0,526680.0,13689.0,22184.0,13208.5,22445.0,10941.0,95976.0,41589.0,9601.0,58502.0,107029.0,16165.0,10175.0,105049.0,34508.0,11913.0,21003.0,77688.0,14206.0,12409.0,29567.333333333332,107170.0,47346.5,146913.5,175794.5,10323.0,14524.6,36668.0,78456.0,16145.0,19198.0,19729.0,23739.0,90573.0,14550.0,63770.0,12230.0,10654.0,117196.0,11525.0,18588.5,26620.0,10915.0,8928.0,44570.0,16970.0,15082.0,28324.0,25802.0,58295.0,39558.75,22549.0,51200.0,34075.0,23142.0,53946.0,14920.0,11886.0,10689.0,10942.0,34724.25,27662.0,9046.0,16071.5,10274.0,49649.0,15771.0,14040.0,45938.4,22512.0,39545.0,58513.882352941175,23271.0,11987.0,51827.8,288195.0,262878.0,33757.0,37870.0,197669.0,14275.0,20178.0,30552.0,9296.0,113351.0,17199.0,34066.0,101014.0,42069.0,21864.0,26390.0,23979.0,33261.0,216415.0,10723.0,13619.0,21917.0,9241.0,64251.0,9123.0,84863.0,9068.0,9928.0,27441.0,58236.0,23858.333333333332,31160.0,8610.0,281748.0,8523.0,42303.0,28163.0,85547.5,26267.666666666668,21341.0,115598.5,10726.0,15786.0,42700.0,17230.25,103701.0,354769.0,10501.0,15270.0,11075.0,10175.0,13919.0,19289.0,58224.0,82539.0,13488.0,21252.0,40756.0,12409.0,10494.0,9389.0,85684.66666666667,26128.0,102123.0,47942.0,13267.0,36576.0,32572.0,22786.0,21730.0,46921.0,185709.0,47220.0,165032.0,71065.0,419133.0,9875.0,15036.0,11395.0,39321.833333333336,9358.0,16024.0,87766.0,67705.0,25430.5,30905.833333333332,13114.0,8719.0,18847.0,12821.0,71172.0,23828.5,16354.166666666666,14539.0,19074.0,18075.0,14629.0,304996.0,49807.0,15825.0,63110.0,13411.0,60563.0,14843.666666666666,15721.0,107768.0,10787.0,11376.0,20639.0,25376.0,23777.0,18827.0,65104.0,34911.0,8962.0,28988.0,60371.0,17158.0,208790.0,13236.0,22135.0,39388.0,105946.0,139081.0,9882.0,77680.0,34431.0,9736.0,12756.0,52893.0,43619.5,86386.0,337418.0,23845.0,33956.0,15056.0,17437.0,32207.0,9427.0,39686.5,14614.0,9051.0,34177.0,13220.0,25153.5,9000.0,44056.25,24830.333333333332,29012.0,388489.0,72477.0,39823.0,175097.0,97579.0,13608.0,97358.0,242545.5,15351.0,19272.0,102376.0,17559.0,14511.0,13304.0,9745.0,52255.0,10230.0,14786.0,18179.0,17130.0,27988.0,20817.0,30321.0,254914.0,20396.0,12356.0,32065.25,10780.0,261345.0,63627.0,24599.0,13840.0,30192.0,40426.0,24630.5,225475.0,136257.0,18818.0,43608.0,11964.0,10752.0,11178.0,20174.0,42229.0,16874.0,170632.0,29364.055555555555,28263.0,39413.0,43901.0,95924.0,17511.0,11237.0,117216.0,40966.0,8834.0,10115.0,36904.5,23745.0,65803.0,13548.0,37012.0,10311.0,10905.0,62638.5,9361.0,28738.0,31351.5,50054.0,14078.0,17757.0,59963.0,10274.0,65056.0,124788.0,13866.0,10547.0,9310.0,66206.0,10267.0,46380.0,17099.0,23721.0,54463.333333333336,216806.0,25863.0,12701.0,12113.0,18692.0,13935.0,87517.0,126994.0,120475.0,22797.0,16555.0,24395.0,10780.0,9657.0,199593.0,20772.0,8867.0,25623.5,18598.0,117733.0,19626.0,83298.0,11935.0,19932.0,10170.0,57804.0,20254.0,10265.0,16026.0,56667.0,34503.666666666664,26613.0,22044.0,58577.8,97750.0,17051.6,184968.0,12071.0,14144.0,10493.0,12668.0,8749.0,21300.0,13721.0,35941.0,30730.0,12117.0,17412.0,52371.0,55412.0,59327.0,18625.0,67842.5,323250.0,11339.333333333334,13559.0,32038.5,20905.0,656226.0,34732.0,33945.0,17791.666666666668,9062.0,110253.0,267876.0,10798.0,14034.0,35303.0,20642.2,25158.5,14488.0,49887.0,34300.0,122194.0,85537.0,9054.0,9799.0,11014.0,58613.0,748387.0,9657.0,26750.0,13087.0,44471.0,80346.0,34406.0,37900.0,18385.0,9341.0,77228.0,32426.0,54195.5,11876.0,74037.0,17861.0,55084.0,23761.714285714286,36815.0,8775.0,53985.0,26874.0,33234.0,74528.0,115715.0,8816.0,15203.0,23504.0,33305.0,41476.0,36670.0,9442.0,12654.0,201994.0,174793.0,30044.777777777777,31327.5,16353.5,9327.0,13799.0,15664.0,16830.0,27229.0,409282.0,122731.5,9395.0,20951.0,49615.0,8923.0,11290.0,13285.0,27724.0,76696.0,11278.333333333334,65465.0,30439.0,8787.0,11857.0,51556.0,56289.0,24227.0,29940.0,453851.0,13026.0,28980.0,56128.0,9519.0,13996.0,9097.0,13451.0,26456.0,12270.0,9088.0,21420.25,175521.0,60231.0,225335.0,57896.0,23549.0,34910.0,9989.0,567434.0,17137.0,47889.0,71733.0,10063.0,11917.0,725202.0,53193.0,12367.333333333334,13795.5,31580.0,9169.0,222166.0,10710.0,154975.0,18738.0,65011.0,37461.0,226694.0,39723.333333333336,33784.0,159311.0,29770.0,17203.0,12901.0,42803.28571428572,51563.0,24032.0,53908.26486486487,13851.0,10021.0,12506.0,14641.5,24596.0,3017737.0,46240.0,35431.0,50334.166666666664,21001.0,12973.0,43952.0,226498.0,10220.0,96955.0,17071.0,13805.0,11802.333333333334,360265.0,10157.0,32154.0,18126.0,10982.0,35815.0,16060.0,14177.0,10891.0,43477.0,23428.0,191483.0,15050.0,191564.0,25299.0,13196.0,53113.0,45690.5,10912.0,34793.8,15661.0,146472.0,17834.0,33352.5,126875.5,21753.0,43995.5,13740.0,9457.0,10729.0,59995.0,16997.0,29373.0,18995.0,13621.0,141695.0,48875.0,22675.0,18083.0,15728.0,149081.0,17808.0,12374.0,11236.0,177638.0,13375.0,50365.0,9328.0,9863.0,122389.0,36642.0,254627.0,19763.0,12735.0,55082.0,14487.0,128234.0,21812.0,12475.0,8720.0,22599.0,9534.0,12568.0,10059.0,77754.0,124543.0,44043.0,17713.0,15979.0,16899.0,24978.0,12038.0,315984.0,9097.0,10206.0,20251.0,10221.0,435697.0,21196.0,9968.0,68775.0,14874.0,26924.0,36511.0,23615.0,15945.0,129661.0,106772.0,50856.0,176204.0,83457.0,12987.5,20622.0,28737.333333333332,83038.0,93366.0,11844.0,11903.0,51201.0,159647.0,65118.0,28339.0,15193.666666666666,58934.0,300437.0,23890.0,17830.0,30414.0,33503.0,39016.0,23603.0,17083.0,50437.0,8592.0,165519.0,13065.0,54931.0,93108.0,10616.0,67931.5,141927.0,10469.0,27729.0,12749.0,27118.0,26451.0,122343.5,17797.0,63847.0,98953.0,569227.0,52766.0,39454.5,104602.0,12186.0,78371.0,37446.0,376256.0,10730.0,16890.0,13656.0,13691.0,27284.0,35893.0,16365.0,10718.0,19469.0,199441.0,171411.0,8695.0,25669.0,31729.0,110240.0,22996.4,9465.0,14643.0,14072.0,37962.0,16893.0,25785.0,21483.0,16405.0,80506.0,8713.0,37441.0,12092.0,8852.0,118908.0,15868.0,9198.0,76789.0,30101.0,8647.0,118829.0,10635.0,170692.0,76929.0,14523.0,17417.0,10694.0,9184.0,272098.0,10517.0,56065.0,21288.0,47857.0,16178.0,39866.0,20060.0,46730.0,23120.0,32457.0,8772.0,32741.0,9186.0,56240.0,182789.0,57202.0,314379.0,19656.0,56922.0,24382.0,35369.0,15028.0,9846.0,8838.0,250662.0,102897.0,22396.0,9471.0,12890.0,19660.0,10851.0,29331.0,24827.0,14786.0,15988.0,19090.0,36641.0,68418.0,18827.0,13416.5,17753.0,22024.0,17264.0,20347.0,21970.0,25936.0,17759.0,8726.0,25764.0,8518.0,32506.0,33534.0,40587.0,55378.0,12560.0,36594.0,47945.25,18596.0,9568.0,47669.0,72740.0,20843.0,60668.0,16595.0,10818.0,14554.0,87827.0,10400.0,46816.0,28948.0,76309.0,27035.0,8513.0,70790.0,11350.5,20575.0,12817.0,26033.5,15086.0,158528.0,185375.0,165133.0,31524.0,20004.5,59555.0,10875.0,31788.0,9147.0,9301.0,12945.0,18308.0,11851.0,30897.0,36883.0,36331.0,197877.0,13678.0,40196.0,107913.33333333333,10387.0,18055.0,15478.0,13017.0,55651.0,122944.0,21905.0,12847.0,15719.0,93361.0,48039.0,10787.0,15424.0,12057.0,47450.6,65143.0,18139.0,147735.0,35212.0,13737.0,17073.0,81492.0,19529.0,27652.0,69796.0,9033.0,13163.0,37114.0,9866.0,8648.0,130340.0,9889.0,9994.0,9818.0,39380.0,29458.0,9526.0,11959.0],\"type\":\"choropleth\"}],                        {\"template\":{\"data\":{\"histogram2dcontour\":[{\"type\":\"histogram2dcontour\",\"colorbar\":{\"outlinewidth\":0,\"ticks\":\"\"},\"colorscale\":[[0.0,\"#0d0887\"],[0.1111111111111111,\"#46039f\"],[0.2222222222222222,\"#7201a8\"],[0.3333333333333333,\"#9c179e\"],[0.4444444444444444,\"#bd3786\"],[0.5555555555555556,\"#d8576b\"],[0.6666666666666666,\"#ed7953\"],[0.7777777777777778,\"#fb9f3a\"],[0.8888888888888888,\"#fdca26\"],[1.0,\"#f0f921\"]]}],\"choropleth\":[{\"type\":\"choropleth\",\"colorbar\":{\"outlinewidth\":0,\"ticks\":\"\"}}],\"histogram2d\":[{\"type\":\"histogram2d\",\"colorbar\":{\"outlinewidth\":0,\"ticks\":\"\"},\"colorscale\":[[0.0,\"#0d0887\"],[0.1111111111111111,\"#46039f\"],[0.2222222222222222,\"#7201a8\"],[0.3333333333333333,\"#9c179e\"],[0.4444444444444444,\"#bd3786\"],[0.5555555555555556,\"#d8576b\"],[0.6666666666666666,\"#ed7953\"],[0.7777777777777778,\"#fb9f3a\"],[0.8888888888888888,\"#fdca26\"],[1.0,\"#f0f921\"]]}],\"heatmap\":[{\"type\":\"heatmap\",\"colorbar\":{\"outlinewidth\":0,\"ticks\":\"\"},\"colorscale\":[[0.0,\"#0d0887\"],[0.1111111111111111,\"#46039f\"],[0.2222222222222222,\"#7201a8\"],[0.3333333333333333,\"#9c179e\"],[0.4444444444444444,\"#bd3786\"],[0.5555555555555556,\"#d8576b\"],[0.6666666666666666,\"#ed7953\"],[0.7777777777777778,\"#fb9f3a\"],[0.8888888888888888,\"#fdca26\"],[1.0,\"#f0f921\"]]}],\"heatmapgl\":[{\"type\":\"heatmapgl\",\"colorbar\":{\"outlinewidth\":0,\"ticks\":\"\"},\"colorscale\":[[0.0,\"#0d0887\"],[0.1111111111111111,\"#46039f\"],[0.2222222222222222,\"#7201a8\"],[0.3333333333333333,\"#9c179e\"],[0.4444444444444444,\"#bd3786\"],[0.5555555555555556,\"#d8576b\"],[0.6666666666666666,\"#ed7953\"],[0.7777777777777778,\"#fb9f3a\"],[0.8888888888888888,\"#fdca26\"],[1.0,\"#f0f921\"]]}],\"contourcarpet\":[{\"type\":\"contourcarpet\",\"colorbar\":{\"outlinewidth\":0,\"ticks\":\"\"}}],\"contour\":[{\"type\":\"contour\",\"colorbar\":{\"outlinewidth\":0,\"ticks\":\"\"},\"colorscale\":[[0.0,\"#0d0887\"],[0.1111111111111111,\"#46039f\"],[0.2222222222222222,\"#7201a8\"],[0.3333333333333333,\"#9c179e\"],[0.4444444444444444,\"#bd3786\"],[0.5555555555555556,\"#d8576b\"],[0.6666666666666666,\"#ed7953\"],[0.7777777777777778,\"#fb9f3a\"],[0.8888888888888888,\"#fdca26\"],[1.0,\"#f0f921\"]]}],\"surface\":[{\"type\":\"surface\",\"colorbar\":{\"outlinewidth\":0,\"ticks\":\"\"},\"colorscale\":[[0.0,\"#0d0887\"],[0.1111111111111111,\"#46039f\"],[0.2222222222222222,\"#7201a8\"],[0.3333333333333333,\"#9c179e\"],[0.4444444444444444,\"#bd3786\"],[0.5555555555555556,\"#d8576b\"],[0.6666666666666666,\"#ed7953\"],[0.7777777777777778,\"#fb9f3a\"],[0.8888888888888888,\"#fdca26\"],[1.0,\"#f0f921\"]]}],\"mesh3d\":[{\"type\":\"mesh3d\",\"colorbar\":{\"outlinewidth\":0,\"ticks\":\"\"}}],\"scatter\":[{\"fillpattern\":{\"fillmode\":\"overlay\",\"size\":10,\"solidity\":0.2},\"type\":\"scatter\"}],\"parcoords\":[{\"type\":\"parcoords\",\"line\":{\"colorbar\":{\"outlinewidth\":0,\"ticks\":\"\"}}}],\"scatterpolargl\":[{\"type\":\"scatterpolargl\",\"marker\":{\"colorbar\":{\"outlinewidth\":0,\"ticks\":\"\"}}}],\"bar\":[{\"error_x\":{\"color\":\"#2a3f5f\"},\"error_y\":{\"color\":\"#2a3f5f\"},\"marker\":{\"line\":{\"color\":\"#E5ECF6\",\"width\":0.5},\"pattern\":{\"fillmode\":\"overlay\",\"size\":10,\"solidity\":0.2}},\"type\":\"bar\"}],\"scattergeo\":[{\"type\":\"scattergeo\",\"marker\":{\"colorbar\":{\"outlinewidth\":0,\"ticks\":\"\"}}}],\"scatterpolar\":[{\"type\":\"scatterpolar\",\"marker\":{\"colorbar\":{\"outlinewidth\":0,\"ticks\":\"\"}}}],\"histogram\":[{\"marker\":{\"pattern\":{\"fillmode\":\"overlay\",\"size\":10,\"solidity\":0.2}},\"type\":\"histogram\"}],\"scattergl\":[{\"type\":\"scattergl\",\"marker\":{\"colorbar\":{\"outlinewidth\":0,\"ticks\":\"\"}}}],\"scatter3d\":[{\"type\":\"scatter3d\",\"line\":{\"colorbar\":{\"outlinewidth\":0,\"ticks\":\"\"}},\"marker\":{\"colorbar\":{\"outlinewidth\":0,\"ticks\":\"\"}}}],\"scattermapbox\":[{\"type\":\"scattermapbox\",\"marker\":{\"colorbar\":{\"outlinewidth\":0,\"ticks\":\"\"}}}],\"scatterternary\":[{\"type\":\"scatterternary\",\"marker\":{\"colorbar\":{\"outlinewidth\":0,\"ticks\":\"\"}}}],\"scattercarpet\":[{\"type\":\"scattercarpet\",\"marker\":{\"colorbar\":{\"outlinewidth\":0,\"ticks\":\"\"}}}],\"carpet\":[{\"aaxis\":{\"endlinecolor\":\"#2a3f5f\",\"gridcolor\":\"white\",\"linecolor\":\"white\",\"minorgridcolor\":\"white\",\"startlinecolor\":\"#2a3f5f\"},\"baxis\":{\"endlinecolor\":\"#2a3f5f\",\"gridcolor\":\"white\",\"linecolor\":\"white\",\"minorgridcolor\":\"white\",\"startlinecolor\":\"#2a3f5f\"},\"type\":\"carpet\"}],\"table\":[{\"cells\":{\"fill\":{\"color\":\"#EBF0F8\"},\"line\":{\"color\":\"white\"}},\"header\":{\"fill\":{\"color\":\"#C8D4E3\"},\"line\":{\"color\":\"white\"}},\"type\":\"table\"}],\"barpolar\":[{\"marker\":{\"line\":{\"color\":\"#E5ECF6\",\"width\":0.5},\"pattern\":{\"fillmode\":\"overlay\",\"size\":10,\"solidity\":0.2}},\"type\":\"barpolar\"}],\"pie\":[{\"automargin\":true,\"type\":\"pie\"}]},\"layout\":{\"autotypenumbers\":\"strict\",\"colorway\":[\"#636efa\",\"#EF553B\",\"#00cc96\",\"#ab63fa\",\"#FFA15A\",\"#19d3f3\",\"#FF6692\",\"#B6E880\",\"#FF97FF\",\"#FECB52\"],\"font\":{\"color\":\"#2a3f5f\"},\"hovermode\":\"closest\",\"hoverlabel\":{\"align\":\"left\"},\"paper_bgcolor\":\"white\",\"plot_bgcolor\":\"#E5ECF6\",\"polar\":{\"bgcolor\":\"#E5ECF6\",\"angularaxis\":{\"gridcolor\":\"white\",\"linecolor\":\"white\",\"ticks\":\"\"},\"radialaxis\":{\"gridcolor\":\"white\",\"linecolor\":\"white\",\"ticks\":\"\"}},\"ternary\":{\"bgcolor\":\"#E5ECF6\",\"aaxis\":{\"gridcolor\":\"white\",\"linecolor\":\"white\",\"ticks\":\"\"},\"baxis\":{\"gridcolor\":\"white\",\"linecolor\":\"white\",\"ticks\":\"\"},\"caxis\":{\"gridcolor\":\"white\",\"linecolor\":\"white\",\"ticks\":\"\"}},\"coloraxis\":{\"colorbar\":{\"outlinewidth\":0,\"ticks\":\"\"}},\"colorscale\":{\"sequential\":[[0.0,\"#0d0887\"],[0.1111111111111111,\"#46039f\"],[0.2222222222222222,\"#7201a8\"],[0.3333333333333333,\"#9c179e\"],[0.4444444444444444,\"#bd3786\"],[0.5555555555555556,\"#d8576b\"],[0.6666666666666666,\"#ed7953\"],[0.7777777777777778,\"#fb9f3a\"],[0.8888888888888888,\"#fdca26\"],[1.0,\"#f0f921\"]],\"sequentialminus\":[[0.0,\"#0d0887\"],[0.1111111111111111,\"#46039f\"],[0.2222222222222222,\"#7201a8\"],[0.3333333333333333,\"#9c179e\"],[0.4444444444444444,\"#bd3786\"],[0.5555555555555556,\"#d8576b\"],[0.6666666666666666,\"#ed7953\"],[0.7777777777777778,\"#fb9f3a\"],[0.8888888888888888,\"#fdca26\"],[1.0,\"#f0f921\"]],\"diverging\":[[0,\"#8e0152\"],[0.1,\"#c51b7d\"],[0.2,\"#de77ae\"],[0.3,\"#f1b6da\"],[0.4,\"#fde0ef\"],[0.5,\"#f7f7f7\"],[0.6,\"#e6f5d0\"],[0.7,\"#b8e186\"],[0.8,\"#7fbc41\"],[0.9,\"#4d9221\"],[1,\"#276419\"]]},\"xaxis\":{\"gridcolor\":\"white\",\"linecolor\":\"white\",\"ticks\":\"\",\"title\":{\"standoff\":15},\"zerolinecolor\":\"white\",\"automargin\":true,\"zerolinewidth\":2},\"yaxis\":{\"gridcolor\":\"white\",\"linecolor\":\"white\",\"ticks\":\"\",\"title\":{\"standoff\":15},\"zerolinecolor\":\"white\",\"automargin\":true,\"zerolinewidth\":2},\"scene\":{\"xaxis\":{\"backgroundcolor\":\"#E5ECF6\",\"gridcolor\":\"white\",\"linecolor\":\"white\",\"showbackground\":true,\"ticks\":\"\",\"zerolinecolor\":\"white\",\"gridwidth\":2},\"yaxis\":{\"backgroundcolor\":\"#E5ECF6\",\"gridcolor\":\"white\",\"linecolor\":\"white\",\"showbackground\":true,\"ticks\":\"\",\"zerolinecolor\":\"white\",\"gridwidth\":2},\"zaxis\":{\"backgroundcolor\":\"#E5ECF6\",\"gridcolor\":\"white\",\"linecolor\":\"white\",\"showbackground\":true,\"ticks\":\"\",\"zerolinecolor\":\"white\",\"gridwidth\":2}},\"shapedefaults\":{\"line\":{\"color\":\"#2a3f5f\"}},\"annotationdefaults\":{\"arrowcolor\":\"#2a3f5f\",\"arrowhead\":0,\"arrowwidth\":1},\"geo\":{\"bgcolor\":\"white\",\"landcolor\":\"#E5ECF6\",\"subunitcolor\":\"white\",\"showland\":true,\"showlakes\":true,\"lakecolor\":\"white\"},\"title\":{\"x\":0.05},\"mapbox\":{\"style\":\"light\"}}},\"geo\":{\"domain\":{\"x\":[0.0,1.0],\"y\":[0.0,1.0]},\"center\":{},\"projection\":{\"type\":\"equirectangular\"},\"showframe\":false},\"coloraxis\":{\"colorbar\":{\"title\":{\"text\":\"rating\"}},\"colorscale\":[[0.0,\"#440154\"],[0.1111111111111111,\"#482878\"],[0.2222222222222222,\"#3e4989\"],[0.3333333333333333,\"#31688e\"],[0.4444444444444444,\"#26828e\"],[0.5555555555555556,\"#1f9e89\"],[0.6666666666666666,\"#35b779\"],[0.7777777777777778,\"#6ece58\"],[0.8888888888888888,\"#b5de2b\"],[1.0,\"#fde725\"]],\"cmin\":1,\"cmax\":100000},\"legend\":{\"tracegroupgap\":0},\"title\":{\"text\":\"Average Ratings by Country\"}},                        {\"responsive\": true}                    ).then(function(){\n",
              "                            \n",
              "var gd = document.getElementById('de49bc08-0249-48e0-9b15-d146688c9432');\n",
              "var x = new MutationObserver(function (mutations, observer) {{\n",
              "        var display = window.getComputedStyle(gd).display;\n",
              "        if (!display || display === 'none') {{\n",
              "            console.log([gd, 'removed!']);\n",
              "            Plotly.purge(gd);\n",
              "            observer.disconnect();\n",
              "        }}\n",
              "}});\n",
              "\n",
              "// Listen for the removal of the full notebook cells\n",
              "var notebookContainer = gd.closest('#notebook-container');\n",
              "if (notebookContainer) {{\n",
              "    x.observe(notebookContainer, {childList: true});\n",
              "}}\n",
              "\n",
              "// Listen for the clearing of the current output cell\n",
              "var outputEl = gd.closest('.output');\n",
              "if (outputEl) {{\n",
              "    x.observe(outputEl, {childList: true});\n",
              "}}\n",
              "\n",
              "                        })                };                            </script>        </div>\n",
              "</body>\n",
              "</html>"
            ]
          },
          "metadata": {}
        }
      ]
    }
  ]
}